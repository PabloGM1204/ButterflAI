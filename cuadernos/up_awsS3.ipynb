{
 "cells": [
  {
   "cell_type": "markdown",
   "metadata": {},
   "source": [
    "# Subida de los datasets a AWS S3\n",
    "\n",
    "Hemos decidido subir el dataset a AWS para poder tenerlo guardado ahi ya que son datasets de imágenes y ocupan mucho en disco, para ello hemos creado este cuaderno explicativo de como es tanto la subida como la descarga de los datasets."
   ]
  },
  {
   "cell_type": "markdown",
   "metadata": {},
   "source": [
    "## Instalaciones\n",
    "\n",
    "Tenemos que tener instalado kaggle y boto3 en nuestro ordenador para poder acceder a **Kaggle** y poder descargar los datasets y **boto3** para configurar las claves para subir los datos a S3."
   ]
  },
  {
   "cell_type": "code",
   "execution_count": null,
   "metadata": {
    "vscode": {
     "languageId": "plaintext"
    }
   },
   "outputs": [],
   "source": [
    "pip install kaggle boto3"
   ]
  },
  {
   "cell_type": "markdown",
   "metadata": {},
   "source": [
    "## Imports\n",
    "\n",
    "Importamos las siguientes librerías para poder hacer uso de la API de kaggle y hacer uso de las claves para AWS."
   ]
  },
  {
   "cell_type": "code",
   "execution_count": null,
   "metadata": {
    "vscode": {
     "languageId": "plaintext"
    }
   },
   "outputs": [],
   "source": [
    "from kaggle.api.kaggle_api_extended import KaggleApi\n",
    "import boto3\n",
    "import os"
   ]
  },
  {
   "cell_type": "markdown",
   "metadata": {},
   "source": [
    "## Código"
   ]
  },
  {
   "cell_type": "markdown",
   "metadata": {},
   "source": [
    "Función de descarga de los dataset, usando la API de kaggle mas las crendenciales nuestras de kaggle nos descarga los modelos usando `api.dataset_download_files()`, le hemos pueso `unzip=True` para que los descomprima al descargarlos y hacerlo mas sencillo."
   ]
  },
  {
   "cell_type": "code",
   "execution_count": null,
   "metadata": {
    "vscode": {
     "languageId": "plaintext"
    }
   },
   "outputs": [],
   "source": [
    "def download_dataset(dataset, output_folder):\n",
    "    \"\"\"\n",
    "    Descarga un dataset de Kaggle y lo descomprime en la carpeta indicada.\n",
    "    \"\"\"\n",
    "    api = KaggleApi()\n",
    "    api.authenticate()\n",
    "    print(f\"Descargando dataset {dataset} en {output_folder}...\")\n",
    "    api.dataset_download_files(dataset, path=output_folder, unzip=True)\n",
    "    print(\"Descarga completada.\")"
   ]
  },
  {
   "cell_type": "markdown",
   "metadata": {},
   "source": [
    "Este segundo método lo usamos para subir los dataset de uno en uno a nuestro *bucket* de AWS, **importante las keys** "
   ]
  },
  {
   "cell_type": "code",
   "execution_count": null,
   "metadata": {
    "vscode": {
     "languageId": "plaintext"
    }
   },
   "outputs": [],
   "source": [
    "def upload_directory(directory_path, bucket, s3_prefix=\"\"):\n",
    "    \"\"\"\n",
    "    Recorre el directorio indicado y sube todos sus archivos a S3,\n",
    "    manteniendo la estructura de carpetas.\n",
    "    \"\"\"\n",
    "    aws_id = ''\n",
    "    aws_key = ''\n",
    "    aws_token = ''\n",
    "    region = 'us-east-1'\n",
    "\n",
    "    # Deja que boto3 use el perfil default de AWS (configurado en ~/.aws/credentials)\n",
    "    s3_client = boto3.client('s3', aws_access_key_id=aws_id, aws_secret_access_key=aws_key,aws_session_token=aws_token,region_name=region)\n",
    "    print(f\"Subiendo archivos de {directory_path} a s3://{bucket}/{s3_prefix}...\")\n",
    "    for root, dirs, files in os.walk(directory_path):\n",
    "        for file in files:\n",
    "            local_path = os.path.join(root, file)\n",
    "            relative_path = os.path.relpath(local_path, directory_path)\n",
    "            s3_path = os.path.join(s3_prefix, relative_path)\n",
    "            print(f\"Subiendo {local_path} a s3://{bucket}/{s3_path}...\")\n",
    "            s3_client.upload_file(local_path, bucket, s3_path)\n",
    "    print(\"Subida a S3 completada.\")"
   ]
  },
  {
   "cell_type": "markdown",
   "metadata": {},
   "source": [
    "Esta ya es la parte final en la que tenemos un diccionario con los dataset y sus carpetas de detino locales, despues la variable del nombre del *bucket* en nuestro **S3** y ya por ultimo el bucle donde iteramos, descargamos el dataset y seguidamente lo subimos."
   ]
  },
  {
   "cell_type": "code",
   "execution_count": null,
   "metadata": {
    "vscode": {
     "languageId": "plaintext"
    }
   },
   "outputs": [],
   "source": [
    "# Diccionario con los datasets y sus carpetas de destino locales\n",
    "datasets = {\n",
    "    \"gpiosenka/butterfly-images40-species\": \"butterfly-images40-species\",\n",
    "    \"veeralakrishna/butterfly-dataset\": \"butterfly-dataset\",\n",
    "    \"phucthaiv02/butterfly-image-classification\": \"butterfly-image-classification\"\n",
    "}\n",
    "    \n",
    "bucket_name = \"dataset-tfm-pgm\"  # Usa solo el nombre del bucket, no el ARN\n",
    "\n",
    "# Itera sobre cada dataset para descargarlo y luego subirlo a S3\n",
    "for dataset, folder in datasets.items():\n",
    "    download_dataset(dataset, folder)\n",
    "    upload_directory(folder, bucket_name, s3_prefix=folder)"
   ]
  }
 ],
 "metadata": {
  "language_info": {
   "name": "python"
  }
 },
 "nbformat": 4,
 "nbformat_minor": 2
}
