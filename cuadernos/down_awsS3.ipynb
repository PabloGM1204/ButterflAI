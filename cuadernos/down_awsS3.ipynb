{
 "cells": [
  {
   "cell_type": "markdown",
   "metadata": {},
   "source": [
    "# Descarga de los dataset de AWS S3"
   ]
  },
  {
   "cell_type": "markdown",
   "metadata": {},
   "source": [
    "Como ya teniamos la libreria instalada de la subida de los dataset no la incluimos."
   ]
  },
  {
   "cell_type": "markdown",
   "metadata": {},
   "source": [
    "## Imports\n",
    "\n",
    "Usamos **boto3** para configurar las API keys de AWS y asi poder acceder a ella y descargar los datasets."
   ]
  },
  {
   "cell_type": "code",
   "execution_count": null,
   "metadata": {
    "vscode": {
     "languageId": "plaintext"
    }
   },
   "outputs": [],
   "source": [
    "import boto3\n",
    "import os"
   ]
  },
  {
   "cell_type": "markdown",
   "metadata": {},
   "source": [
    "## Código"
   ]
  },
  {
   "cell_type": "markdown",
   "metadata": {},
   "source": [
    "Esta primera función nos sirve para poder descargar los datasets usando boto3 como comentamos antes y añadiendo la paginación ya que hay una gran cantidad de datos y por ello se ha creado la paginación, podiendo guardar todo en las carpetas."
   ]
  },
  {
   "cell_type": "code",
   "execution_count": null,
   "metadata": {
    "vscode": {
     "languageId": "plaintext"
    }
   },
   "outputs": [],
   "source": [
    "\n",
    "def download_directory(bucket, s3_prefix, local_dir):\n",
    "    \"\"\"\n",
    "    Descarga recursivamente todos los archivos de un prefijo específico de un bucket S3\n",
    "    y los guarda en un directorio local, manteniendo la estructura de carpetas.\n",
    "    \"\"\"\n",
    "    aws_id = ''\n",
    "    aws_key = ''\n",
    "    aws_token = ''\n",
    "    region = 'us-east-1'\n",
    "\n",
    "    s3 = boto3.client('s3', aws_access_key_id=aws_id, aws_secret_access_key=aws_key,aws_session_token=aws_token,region_name=region)\n",
    "    paginator = s3.get_paginator('list_objects_v2')\n",
    "    \n",
    "    # Paginar para listar todos los objetos bajo el prefijo\n",
    "    for page in paginator.paginate(Bucket=bucket, Prefix=s3_prefix):\n",
    "        if 'Contents' in page:\n",
    "            for obj in page['Contents']:\n",
    "                s3_key = obj['Key']\n",
    "                # Calcula la ruta local eliminando el prefijo del objeto\n",
    "                relative_path = os.path.relpath(s3_key, s3_prefix)\n",
    "                local_path = os.path.join(local_dir, relative_path)\n",
    "                \n",
    "                # Crear los directorios necesarios\n",
    "                os.makedirs(os.path.dirname(local_path), exist_ok=True)\n",
    "                \n",
    "                print(f\"Descargando {s3_key} a {local_path}...\")\n",
    "                s3.download_file(bucket, s3_key, local_path)\n",
    "    \n",
    "    print(\"Descarga completada.\")"
   ]
  },
  {
   "cell_type": "markdown",
   "metadata": {},
   "source": [
    "Esta ultima parte en la que decimos cual es el nombre del bucket, el prefijo es la carpeta a descargar y el directorio donde se va a descargar todo haciendo uso de la función anterior."
   ]
  },
  {
   "cell_type": "code",
   "execution_count": null,
   "metadata": {
    "vscode": {
     "languageId": "plaintext"
    }
   },
   "outputs": [],
   "source": [
    "bucket_name = \"dataset-tfm-pgm\"  # Nombre de tu bucket\n",
    "s3_prefix = \"butterfly-images40-species\"  # Por ejemplo, la carpeta que deseas descargar\n",
    "local_directory = \"datos_descargados/butterfly-images40-species\"  # Directorio local destino\n",
    "    \n",
    "download_directory(bucket_name, s3_prefix, local_directory)\n"
   ]
  }
 ],
 "metadata": {
  "language_info": {
   "name": "python"
  }
 },
 "nbformat": 4,
 "nbformat_minor": 2
}
