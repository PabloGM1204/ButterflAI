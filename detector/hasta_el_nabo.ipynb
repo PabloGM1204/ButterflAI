{
 "cells": [
  {
   "cell_type": "code",
   "execution_count": 15,
   "metadata": {},
   "outputs": [
    {
     "name": "stdout",
     "output_type": "stream",
     "text": [
      "2.6.0+cpu\n",
      "False\n",
      "0\n"
     ]
    }
   ],
   "source": [
    "import torch\n",
    "print(torch.__version__)  # Verifica la versión de PyTorch\n",
    "print(torch.cuda.is_available())  # True si detecta la GPU\n",
    "print(torch.cuda.device_count())  # Número de GPUs disponibles\n",
    "#print(torch.cuda.get_device_name(0))  # Nombre de la GPU\n",
    "#print(torch.cuda.current_device())  # Dispositivo actual"
   ]
  },
  {
   "cell_type": "code",
   "execution_count": 5,
   "metadata": {},
   "outputs": [
    {
     "name": "stdout",
     "output_type": "stream",
     "text": [
      "Ultralytics 8.3.76  Python-3.10.0 torch-2.6.0+cpu CPU (11th Gen Intel Core(TM) i5-11400F 2.60GHz)\n",
      "\u001b[34m\u001b[1mengine\\trainer: \u001b[0mtask=detect, mode=train, model=yolov8n.pt, data=C:\\Users\\jairo\\Desktop\\IA\\TFM_Mariposas\\detector\\data.yaml, epochs=50, time=None, patience=100, batch=8, imgsz=640, save=True, save_period=-1, cache=False, device=None, workers=8, project=C:/Users/jairo/Desktop/IA/TFM_Mariposas/detector/modelos, name=yolo_mariposas2, exist_ok=False, pretrained=True, optimizer=auto, verbose=True, seed=0, deterministic=True, single_cls=False, rect=False, cos_lr=False, close_mosaic=10, resume=False, amp=True, fraction=1.0, profile=False, freeze=None, multi_scale=False, overlap_mask=True, mask_ratio=4, dropout=0.0, val=True, split=val, save_json=False, save_hybrid=False, conf=None, iou=0.7, max_det=300, half=False, dnn=False, plots=True, source=None, vid_stride=1, stream_buffer=False, visualize=False, augment=False, agnostic_nms=False, classes=None, retina_masks=False, embed=None, show=False, save_frames=False, save_txt=False, save_conf=False, save_crop=False, show_labels=True, show_conf=True, show_boxes=True, line_width=None, format=torchscript, keras=False, optimize=False, int8=False, dynamic=False, simplify=True, opset=None, workspace=None, nms=False, lr0=0.01, lrf=0.01, momentum=0.937, weight_decay=0.0005, warmup_epochs=3.0, warmup_momentum=0.8, warmup_bias_lr=0.1, box=7.5, cls=0.5, dfl=1.5, pose=12.0, kobj=1.0, nbs=64, hsv_h=0.015, hsv_s=0.7, hsv_v=0.4, degrees=0.0, translate=0.1, scale=0.5, shear=0.0, perspective=0.0, flipud=0.0, fliplr=0.5, bgr=0.0, mosaic=1.0, mixup=0.0, copy_paste=0.0, copy_paste_mode=flip, auto_augment=randaugment, erasing=0.4, crop_fraction=1.0, cfg=None, tracker=botsort.yaml, save_dir=C:\\Users\\jairo\\Desktop\\IA\\TFM_Mariposas\\detector\\modelos\\yolo_mariposas2\n",
      "Overriding model.yaml nc=80 with nc=1\n",
      "\n",
      "                   from  n    params  module                                       arguments                     \n",
      "  0                  -1  1       464  ultralytics.nn.modules.conv.Conv             [3, 16, 3, 2]                 \n",
      "  1                  -1  1      4672  ultralytics.nn.modules.conv.Conv             [16, 32, 3, 2]                \n",
      "  2                  -1  1      7360  ultralytics.nn.modules.block.C2f             [32, 32, 1, True]             \n",
      "  3                  -1  1     18560  ultralytics.nn.modules.conv.Conv             [32, 64, 3, 2]                \n",
      "  4                  -1  2     49664  ultralytics.nn.modules.block.C2f             [64, 64, 2, True]             \n",
      "  5                  -1  1     73984  ultralytics.nn.modules.conv.Conv             [64, 128, 3, 2]               \n",
      "  6                  -1  2    197632  ultralytics.nn.modules.block.C2f             [128, 128, 2, True]           \n",
      "  7                  -1  1    295424  ultralytics.nn.modules.conv.Conv             [128, 256, 3, 2]              \n",
      "  8                  -1  1    460288  ultralytics.nn.modules.block.C2f             [256, 256, 1, True]           \n",
      "  9                  -1  1    164608  ultralytics.nn.modules.block.SPPF            [256, 256, 5]                 \n",
      " 10                  -1  1         0  torch.nn.modules.upsampling.Upsample         [None, 2, 'nearest']          \n",
      " 11             [-1, 6]  1         0  ultralytics.nn.modules.conv.Concat           [1]                           \n",
      " 12                  -1  1    148224  ultralytics.nn.modules.block.C2f             [384, 128, 1]                 \n",
      " 13                  -1  1         0  torch.nn.modules.upsampling.Upsample         [None, 2, 'nearest']          \n",
      " 14             [-1, 4]  1         0  ultralytics.nn.modules.conv.Concat           [1]                           \n",
      " 15                  -1  1     37248  ultralytics.nn.modules.block.C2f             [192, 64, 1]                  \n",
      " 16                  -1  1     36992  ultralytics.nn.modules.conv.Conv             [64, 64, 3, 2]                \n",
      " 17            [-1, 12]  1         0  ultralytics.nn.modules.conv.Concat           [1]                           \n",
      " 18                  -1  1    123648  ultralytics.nn.modules.block.C2f             [192, 128, 1]                 \n",
      " 19                  -1  1    147712  ultralytics.nn.modules.conv.Conv             [128, 128, 3, 2]              \n",
      " 20             [-1, 9]  1         0  ultralytics.nn.modules.conv.Concat           [1]                           \n",
      " 21                  -1  1    493056  ultralytics.nn.modules.block.C2f             [384, 256, 1]                 \n",
      " 22        [15, 18, 21]  1    751507  ultralytics.nn.modules.head.Detect           [1, [64, 128, 256]]           \n",
      "Model summary: 129 layers, 3,011,043 parameters, 3,011,027 gradients, 8.2 GFLOPs\n",
      "\n",
      "Transferred 319/355 items from pretrained weights\n",
      "\u001b[34m\u001b[1mTensorBoard: \u001b[0mStart with 'tensorboard --logdir C:\\Users\\jairo\\Desktop\\IA\\TFM_Mariposas\\detector\\modelos\\yolo_mariposas2', view at http://localhost:6006/\n",
      "Freezing layer 'model.22.dfl.conv.weight'\n"
     ]
    },
    {
     "name": "stderr",
     "output_type": "stream",
     "text": [
      "\u001b[34m\u001b[1mtrain: \u001b[0mScanning C:\\Users\\jairo\\Desktop\\IA\\TFM_Mariposas\\detector\\datasets\\labels\\train.cache... 2207 images, 0 backgrounds, 0 corrupt: 100%|██████████| 2207/2207 [00:00<?, ?it/s]"
     ]
    },
    {
     "name": "stdout",
     "output_type": "stream",
     "text": [
      "\u001b[34m\u001b[1mtrain: \u001b[0mWARNING  C:\\Users\\jairo\\Desktop\\IA\\TFM_Mariposas\\detector\\datasets\\images\\train\\013_1739899141112.jpg: 1 duplicate labels removed\n",
      "\u001b[34m\u001b[1mtrain: \u001b[0mWARNING  C:\\Users\\jairo\\Desktop\\IA\\TFM_Mariposas\\detector\\datasets\\images\\train\\090_1739898782913.jpg: 1 duplicate labels removed\n"
     ]
    },
    {
     "name": "stderr",
     "output_type": "stream",
     "text": [
      "\n",
      "\u001b[34m\u001b[1mval: \u001b[0mScanning C:\\Users\\jairo\\Desktop\\IA\\TFM_Mariposas\\detector\\datasets\\labels\\val.cache... 350 images, 0 backgrounds, 0 corrupt: 100%|██████████| 350/350 [00:00<?, ?it/s]\n"
     ]
    },
    {
     "name": "stdout",
     "output_type": "stream",
     "text": [
      "Plotting labels to C:\\Users\\jairo\\Desktop\\IA\\TFM_Mariposas\\detector\\modelos\\yolo_mariposas2\\labels.jpg... \n",
      "\u001b[34m\u001b[1moptimizer:\u001b[0m 'optimizer=auto' found, ignoring 'lr0=0.01' and 'momentum=0.937' and determining best 'optimizer', 'lr0' and 'momentum' automatically... \n",
      "\u001b[34m\u001b[1moptimizer:\u001b[0m AdamW(lr=0.002, momentum=0.9) with parameter groups 57 weight(decay=0.0), 64 weight(decay=0.0005), 63 bias(decay=0.0)\n",
      "\u001b[34m\u001b[1mTensorBoard: \u001b[0mmodel graph visualization added \n",
      "Image sizes 640 train, 640 val\n",
      "Using 0 dataloader workers\n",
      "Logging results to \u001b[1mC:\\Users\\jairo\\Desktop\\IA\\TFM_Mariposas\\detector\\modelos\\yolo_mariposas2\u001b[0m\n",
      "Starting training for 50 epochs...\n",
      "\n",
      "      Epoch    GPU_mem   box_loss   cls_loss   dfl_loss  Instances       Size\n"
     ]
    },
    {
     "name": "stderr",
     "output_type": "stream",
     "text": [
      "       1/50         0G     0.3684      1.003      1.016         21        640: 100%|██████████| 276/276 [07:31<00:00,  1.64s/it]\n",
      "                 Class     Images  Instances      Box(P          R      mAP50  mAP50-95): 100%|██████████| 22/22 [00:29<00:00,  1.32s/it]"
     ]
    },
    {
     "name": "stdout",
     "output_type": "stream",
     "text": [
      "                   all        350        432       0.78       0.78      0.824      0.706\n"
     ]
    },
    {
     "name": "stderr",
     "output_type": "stream",
     "text": [
      "\n"
     ]
    },
    {
     "name": "stdout",
     "output_type": "stream",
     "text": [
      "\n",
      "      Epoch    GPU_mem   box_loss   cls_loss   dfl_loss  Instances       Size\n"
     ]
    },
    {
     "name": "stderr",
     "output_type": "stream",
     "text": [
      "       2/50         0G     0.3155     0.5681     0.9727         30        640: 100%|██████████| 276/276 [07:28<00:00,  1.63s/it]\n",
      "                 Class     Images  Instances      Box(P          R      mAP50  mAP50-95): 100%|██████████| 22/22 [00:26<00:00,  1.22s/it]"
     ]
    },
    {
     "name": "stdout",
     "output_type": "stream",
     "text": [
      "                   all        350        432      0.964       0.87      0.907      0.814\n"
     ]
    },
    {
     "name": "stderr",
     "output_type": "stream",
     "text": [
      "\n"
     ]
    },
    {
     "name": "stdout",
     "output_type": "stream",
     "text": [
      "\n",
      "      Epoch    GPU_mem   box_loss   cls_loss   dfl_loss  Instances       Size\n"
     ]
    },
    {
     "name": "stderr",
     "output_type": "stream",
     "text": [
      "       3/50         0G     0.3086     0.4801     0.9635         29        640: 100%|██████████| 276/276 [07:26<00:00,  1.62s/it]\n",
      "                 Class     Images  Instances      Box(P          R      mAP50  mAP50-95): 100%|██████████| 22/22 [00:26<00:00,  1.20s/it]"
     ]
    },
    {
     "name": "stdout",
     "output_type": "stream",
     "text": [
      "                   all        350        432      0.962      0.812      0.896      0.836\n"
     ]
    },
    {
     "name": "stderr",
     "output_type": "stream",
     "text": [
      "\n"
     ]
    },
    {
     "name": "stdout",
     "output_type": "stream",
     "text": [
      "\n",
      "      Epoch    GPU_mem   box_loss   cls_loss   dfl_loss  Instances       Size\n"
     ]
    },
    {
     "name": "stderr",
     "output_type": "stream",
     "text": [
      "       4/50         0G     0.2745     0.4026     0.9507         18        640: 100%|██████████| 276/276 [07:23<00:00,  1.61s/it]\n",
      "                 Class     Images  Instances      Box(P          R      mAP50  mAP50-95): 100%|██████████| 22/22 [00:26<00:00,  1.19s/it]"
     ]
    },
    {
     "name": "stdout",
     "output_type": "stream",
     "text": [
      "                   all        350        432      0.959      0.877       0.93      0.863\n"
     ]
    },
    {
     "name": "stderr",
     "output_type": "stream",
     "text": [
      "\n"
     ]
    },
    {
     "name": "stdout",
     "output_type": "stream",
     "text": [
      "\n",
      "      Epoch    GPU_mem   box_loss   cls_loss   dfl_loss  Instances       Size\n"
     ]
    },
    {
     "name": "stderr",
     "output_type": "stream",
     "text": [
      "       5/50         0G     0.2539     0.3795     0.9398         21        640: 100%|██████████| 276/276 [07:47<00:00,  1.69s/it]\n",
      "                 Class     Images  Instances      Box(P          R      mAP50  mAP50-95): 100%|██████████| 22/22 [00:27<00:00,  1.23s/it]"
     ]
    },
    {
     "name": "stdout",
     "output_type": "stream",
     "text": [
      "                   all        350        432      0.959      0.867      0.927      0.868\n"
     ]
    },
    {
     "name": "stderr",
     "output_type": "stream",
     "text": [
      "\n"
     ]
    },
    {
     "name": "stdout",
     "output_type": "stream",
     "text": [
      "\n",
      "      Epoch    GPU_mem   box_loss   cls_loss   dfl_loss  Instances       Size\n"
     ]
    },
    {
     "name": "stderr",
     "output_type": "stream",
     "text": [
      "       6/50         0G     0.2481       0.35     0.9358         27        640: 100%|██████████| 276/276 [07:32<00:00,  1.64s/it]\n",
      "                 Class     Images  Instances      Box(P          R      mAP50  mAP50-95): 100%|██████████| 22/22 [00:26<00:00,  1.22s/it]"
     ]
    },
    {
     "name": "stdout",
     "output_type": "stream",
     "text": [
      "                   all        350        432      0.951      0.902      0.937      0.886\n"
     ]
    },
    {
     "name": "stderr",
     "output_type": "stream",
     "text": [
      "\n"
     ]
    },
    {
     "name": "stdout",
     "output_type": "stream",
     "text": [
      "\n",
      "      Epoch    GPU_mem   box_loss   cls_loss   dfl_loss  Instances       Size\n"
     ]
    },
    {
     "name": "stderr",
     "output_type": "stream",
     "text": [
      "       7/50         0G     0.2398      0.339     0.9283         19        640: 100%|██████████| 276/276 [07:33<00:00,  1.64s/it]\n",
      "                 Class     Images  Instances      Box(P          R      mAP50  mAP50-95): 100%|██████████| 22/22 [00:26<00:00,  1.23s/it]"
     ]
    },
    {
     "name": "stdout",
     "output_type": "stream",
     "text": [
      "                   all        350        432      0.965      0.885      0.929      0.881\n"
     ]
    },
    {
     "name": "stderr",
     "output_type": "stream",
     "text": [
      "\n"
     ]
    },
    {
     "name": "stdout",
     "output_type": "stream",
     "text": [
      "\n",
      "      Epoch    GPU_mem   box_loss   cls_loss   dfl_loss  Instances       Size\n"
     ]
    },
    {
     "name": "stderr",
     "output_type": "stream",
     "text": [
      "       8/50         0G     0.2181     0.3197     0.9261         16        640: 100%|██████████| 276/276 [07:34<00:00,  1.65s/it]\n",
      "                 Class     Images  Instances      Box(P          R      mAP50  mAP50-95): 100%|██████████| 22/22 [00:27<00:00,  1.23s/it]"
     ]
    },
    {
     "name": "stdout",
     "output_type": "stream",
     "text": [
      "                   all        350        432      0.968      0.882      0.923      0.888\n"
     ]
    },
    {
     "name": "stderr",
     "output_type": "stream",
     "text": [
      "\n"
     ]
    },
    {
     "name": "stdout",
     "output_type": "stream",
     "text": [
      "\n",
      "      Epoch    GPU_mem   box_loss   cls_loss   dfl_loss  Instances       Size\n"
     ]
    },
    {
     "name": "stderr",
     "output_type": "stream",
     "text": [
      "       9/50         0G     0.2195     0.3143     0.9218         25        640: 100%|██████████| 276/276 [07:35<00:00,  1.65s/it]\n",
      "                 Class     Images  Instances      Box(P          R      mAP50  mAP50-95): 100%|██████████| 22/22 [00:26<00:00,  1.23s/it]"
     ]
    },
    {
     "name": "stdout",
     "output_type": "stream",
     "text": [
      "                   all        350        432      0.971      0.891      0.942      0.906\n"
     ]
    },
    {
     "name": "stderr",
     "output_type": "stream",
     "text": [
      "\n"
     ]
    },
    {
     "name": "stdout",
     "output_type": "stream",
     "text": [
      "\n",
      "      Epoch    GPU_mem   box_loss   cls_loss   dfl_loss  Instances       Size\n"
     ]
    },
    {
     "name": "stderr",
     "output_type": "stream",
     "text": [
      "      10/50         0G     0.2176     0.3027     0.9198         30        640: 100%|██████████| 276/276 [07:33<00:00,  1.64s/it]\n",
      "                 Class     Images  Instances      Box(P          R      mAP50  mAP50-95): 100%|██████████| 22/22 [00:27<00:00,  1.23s/it]"
     ]
    },
    {
     "name": "stdout",
     "output_type": "stream",
     "text": [
      "                   all        350        432      0.946      0.919      0.938      0.897\n"
     ]
    },
    {
     "name": "stderr",
     "output_type": "stream",
     "text": [
      "\n"
     ]
    },
    {
     "name": "stdout",
     "output_type": "stream",
     "text": [
      "\n",
      "      Epoch    GPU_mem   box_loss   cls_loss   dfl_loss  Instances       Size\n"
     ]
    },
    {
     "name": "stderr",
     "output_type": "stream",
     "text": [
      "      11/50         0G     0.2049     0.2909     0.9132         18        640: 100%|██████████| 276/276 [07:34<00:00,  1.65s/it]\n",
      "                 Class     Images  Instances      Box(P          R      mAP50  mAP50-95): 100%|██████████| 22/22 [00:26<00:00,  1.23s/it]"
     ]
    },
    {
     "name": "stdout",
     "output_type": "stream",
     "text": [
      "                   all        350        432       0.96      0.891      0.935      0.908\n"
     ]
    },
    {
     "name": "stderr",
     "output_type": "stream",
     "text": [
      "\n"
     ]
    },
    {
     "name": "stdout",
     "output_type": "stream",
     "text": [
      "\n",
      "      Epoch    GPU_mem   box_loss   cls_loss   dfl_loss  Instances       Size\n"
     ]
    },
    {
     "name": "stderr",
     "output_type": "stream",
     "text": [
      "      12/50         0G     0.1984     0.2817     0.9107         17        640: 100%|██████████| 276/276 [07:34<00:00,  1.65s/it]\n",
      "                 Class     Images  Instances      Box(P          R      mAP50  mAP50-95): 100%|██████████| 22/22 [00:26<00:00,  1.22s/it]"
     ]
    },
    {
     "name": "stdout",
     "output_type": "stream",
     "text": [
      "                   all        350        432       0.97      0.901      0.946      0.918\n"
     ]
    },
    {
     "name": "stderr",
     "output_type": "stream",
     "text": [
      "\n"
     ]
    },
    {
     "name": "stdout",
     "output_type": "stream",
     "text": [
      "\n",
      "      Epoch    GPU_mem   box_loss   cls_loss   dfl_loss  Instances       Size\n"
     ]
    },
    {
     "name": "stderr",
     "output_type": "stream",
     "text": [
      "      13/50         0G     0.1944     0.2737     0.9116         19        640: 100%|██████████| 276/276 [07:32<00:00,  1.64s/it]\n",
      "                 Class     Images  Instances      Box(P          R      mAP50  mAP50-95): 100%|██████████| 22/22 [00:26<00:00,  1.22s/it]"
     ]
    },
    {
     "name": "stdout",
     "output_type": "stream",
     "text": [
      "                   all        350        432      0.946      0.903      0.942      0.907\n"
     ]
    },
    {
     "name": "stderr",
     "output_type": "stream",
     "text": [
      "\n"
     ]
    },
    {
     "name": "stdout",
     "output_type": "stream",
     "text": [
      "\n",
      "      Epoch    GPU_mem   box_loss   cls_loss   dfl_loss  Instances       Size\n"
     ]
    },
    {
     "name": "stderr",
     "output_type": "stream",
     "text": [
      "      14/50         0G     0.1913      0.271     0.9077         23        640: 100%|██████████| 276/276 [07:32<00:00,  1.64s/it]\n",
      "                 Class     Images  Instances      Box(P          R      mAP50  mAP50-95): 100%|██████████| 22/22 [00:26<00:00,  1.22s/it]"
     ]
    },
    {
     "name": "stdout",
     "output_type": "stream",
     "text": [
      "                   all        350        432       0.96      0.888      0.941      0.906\n"
     ]
    },
    {
     "name": "stderr",
     "output_type": "stream",
     "text": [
      "\n"
     ]
    },
    {
     "name": "stdout",
     "output_type": "stream",
     "text": [
      "\n",
      "      Epoch    GPU_mem   box_loss   cls_loss   dfl_loss  Instances       Size\n"
     ]
    },
    {
     "name": "stderr",
     "output_type": "stream",
     "text": [
      "      15/50         0G     0.1872     0.2655     0.9086         24        640: 100%|██████████| 276/276 [07:33<00:00,  1.64s/it]\n",
      "                 Class     Images  Instances      Box(P          R      mAP50  mAP50-95): 100%|██████████| 22/22 [00:26<00:00,  1.23s/it]"
     ]
    },
    {
     "name": "stdout",
     "output_type": "stream",
     "text": [
      "                   all        350        432      0.969      0.919      0.952      0.923\n"
     ]
    },
    {
     "name": "stderr",
     "output_type": "stream",
     "text": [
      "\n"
     ]
    },
    {
     "name": "stdout",
     "output_type": "stream",
     "text": [
      "\n",
      "      Epoch    GPU_mem   box_loss   cls_loss   dfl_loss  Instances       Size\n"
     ]
    },
    {
     "name": "stderr",
     "output_type": "stream",
     "text": [
      "      16/50         0G     0.1807      0.253     0.9077         27        640: 100%|██████████| 276/276 [07:34<00:00,  1.65s/it]\n",
      "                 Class     Images  Instances      Box(P          R      mAP50  mAP50-95): 100%|██████████| 22/22 [00:26<00:00,  1.22s/it]"
     ]
    },
    {
     "name": "stdout",
     "output_type": "stream",
     "text": [
      "                   all        350        432      0.959      0.924      0.947      0.893\n"
     ]
    },
    {
     "name": "stderr",
     "output_type": "stream",
     "text": [
      "\n"
     ]
    },
    {
     "name": "stdout",
     "output_type": "stream",
     "text": [
      "\n",
      "      Epoch    GPU_mem   box_loss   cls_loss   dfl_loss  Instances       Size\n"
     ]
    },
    {
     "name": "stderr",
     "output_type": "stream",
     "text": [
      "      17/50         0G     0.1787     0.2538     0.9062         15        640: 100%|██████████| 276/276 [07:35<00:00,  1.65s/it]\n",
      "                 Class     Images  Instances      Box(P          R      mAP50  mAP50-95): 100%|██████████| 22/22 [00:27<00:00,  1.23s/it]"
     ]
    },
    {
     "name": "stdout",
     "output_type": "stream",
     "text": [
      "                   all        350        432      0.961      0.898      0.949      0.915\n"
     ]
    },
    {
     "name": "stderr",
     "output_type": "stream",
     "text": [
      "\n"
     ]
    },
    {
     "name": "stdout",
     "output_type": "stream",
     "text": [
      "\n",
      "      Epoch    GPU_mem   box_loss   cls_loss   dfl_loss  Instances       Size\n"
     ]
    },
    {
     "name": "stderr",
     "output_type": "stream",
     "text": [
      "      18/50         0G     0.1816     0.2567     0.9027         21        640: 100%|██████████| 276/276 [07:33<00:00,  1.64s/it]\n",
      "                 Class     Images  Instances      Box(P          R      mAP50  mAP50-95): 100%|██████████| 22/22 [00:27<00:00,  1.23s/it]"
     ]
    },
    {
     "name": "stdout",
     "output_type": "stream",
     "text": [
      "                   all        350        432       0.97      0.921      0.954      0.923\n"
     ]
    },
    {
     "name": "stderr",
     "output_type": "stream",
     "text": [
      "\n"
     ]
    },
    {
     "name": "stdout",
     "output_type": "stream",
     "text": [
      "\n",
      "      Epoch    GPU_mem   box_loss   cls_loss   dfl_loss  Instances       Size\n"
     ]
    },
    {
     "name": "stderr",
     "output_type": "stream",
     "text": [
      "      19/50         0G     0.1747     0.2447     0.9067         20        640: 100%|██████████| 276/276 [07:32<00:00,  1.64s/it]\n",
      "                 Class     Images  Instances      Box(P          R      mAP50  mAP50-95): 100%|██████████| 22/22 [00:26<00:00,  1.22s/it]"
     ]
    },
    {
     "name": "stdout",
     "output_type": "stream",
     "text": [
      "                   all        350        432      0.975      0.914      0.944      0.914\n"
     ]
    },
    {
     "name": "stderr",
     "output_type": "stream",
     "text": [
      "\n"
     ]
    },
    {
     "name": "stdout",
     "output_type": "stream",
     "text": [
      "\n",
      "      Epoch    GPU_mem   box_loss   cls_loss   dfl_loss  Instances       Size\n"
     ]
    },
    {
     "name": "stderr",
     "output_type": "stream",
     "text": [
      "      20/50         0G     0.1694     0.2416     0.8979         17        640: 100%|██████████| 276/276 [07:33<00:00,  1.64s/it]\n",
      "                 Class     Images  Instances      Box(P          R      mAP50  mAP50-95): 100%|██████████| 22/22 [00:26<00:00,  1.23s/it]"
     ]
    },
    {
     "name": "stdout",
     "output_type": "stream",
     "text": [
      "                   all        350        432      0.973      0.914      0.961       0.94\n"
     ]
    },
    {
     "name": "stderr",
     "output_type": "stream",
     "text": [
      "\n"
     ]
    },
    {
     "name": "stdout",
     "output_type": "stream",
     "text": [
      "\n",
      "      Epoch    GPU_mem   box_loss   cls_loss   dfl_loss  Instances       Size\n"
     ]
    },
    {
     "name": "stderr",
     "output_type": "stream",
     "text": [
      "      21/50         0G     0.1653     0.2304     0.8963         21        640: 100%|██████████| 276/276 [07:34<00:00,  1.65s/it]\n",
      "                 Class     Images  Instances      Box(P          R      mAP50  mAP50-95): 100%|██████████| 22/22 [00:26<00:00,  1.22s/it]"
     ]
    },
    {
     "name": "stdout",
     "output_type": "stream",
     "text": [
      "                   all        350        432      0.968      0.924      0.958      0.927\n"
     ]
    },
    {
     "name": "stderr",
     "output_type": "stream",
     "text": [
      "\n"
     ]
    },
    {
     "name": "stdout",
     "output_type": "stream",
     "text": [
      "\n",
      "      Epoch    GPU_mem   box_loss   cls_loss   dfl_loss  Instances       Size\n"
     ]
    },
    {
     "name": "stderr",
     "output_type": "stream",
     "text": [
      "      22/50         0G     0.1675     0.2349     0.8976         26        640: 100%|██████████| 276/276 [07:34<00:00,  1.65s/it]\n",
      "                 Class     Images  Instances      Box(P          R      mAP50  mAP50-95): 100%|██████████| 22/22 [00:26<00:00,  1.22s/it]"
     ]
    },
    {
     "name": "stdout",
     "output_type": "stream",
     "text": [
      "                   all        350        432      0.973      0.912      0.952      0.924\n"
     ]
    },
    {
     "name": "stderr",
     "output_type": "stream",
     "text": [
      "\n"
     ]
    },
    {
     "name": "stdout",
     "output_type": "stream",
     "text": [
      "\n",
      "      Epoch    GPU_mem   box_loss   cls_loss   dfl_loss  Instances       Size\n"
     ]
    },
    {
     "name": "stderr",
     "output_type": "stream",
     "text": [
      "      23/50         0G     0.1589     0.2229     0.8995         20        640: 100%|██████████| 276/276 [07:34<00:00,  1.65s/it]\n",
      "                 Class     Images  Instances      Box(P          R      mAP50  mAP50-95): 100%|██████████| 22/22 [00:27<00:00,  1.23s/it]"
     ]
    },
    {
     "name": "stdout",
     "output_type": "stream",
     "text": [
      "                   all        350        432      0.967      0.921      0.952      0.928\n"
     ]
    },
    {
     "name": "stderr",
     "output_type": "stream",
     "text": [
      "\n"
     ]
    },
    {
     "name": "stdout",
     "output_type": "stream",
     "text": [
      "\n",
      "      Epoch    GPU_mem   box_loss   cls_loss   dfl_loss  Instances       Size\n"
     ]
    },
    {
     "name": "stderr",
     "output_type": "stream",
     "text": [
      "      24/50         0G     0.1541     0.2198     0.8965         24        640: 100%|██████████| 276/276 [07:37<00:00,  1.66s/it]\n",
      "                 Class     Images  Instances      Box(P          R      mAP50  mAP50-95): 100%|██████████| 22/22 [00:27<00:00,  1.23s/it]"
     ]
    },
    {
     "name": "stdout",
     "output_type": "stream",
     "text": [
      "                   all        350        432      0.959      0.926      0.952      0.929\n"
     ]
    },
    {
     "name": "stderr",
     "output_type": "stream",
     "text": [
      "\n"
     ]
    },
    {
     "name": "stdout",
     "output_type": "stream",
     "text": [
      "\n",
      "      Epoch    GPU_mem   box_loss   cls_loss   dfl_loss  Instances       Size\n"
     ]
    },
    {
     "name": "stderr",
     "output_type": "stream",
     "text": [
      "      25/50         0G     0.1541     0.2209     0.8964         20        640: 100%|██████████| 276/276 [07:35<00:00,  1.65s/it]\n",
      "                 Class     Images  Instances      Box(P          R      mAP50  mAP50-95): 100%|██████████| 22/22 [00:27<00:00,  1.23s/it]"
     ]
    },
    {
     "name": "stdout",
     "output_type": "stream",
     "text": [
      "                   all        350        432      0.983      0.889      0.952      0.927\n"
     ]
    },
    {
     "name": "stderr",
     "output_type": "stream",
     "text": [
      "\n"
     ]
    },
    {
     "name": "stdout",
     "output_type": "stream",
     "text": [
      "\n",
      "      Epoch    GPU_mem   box_loss   cls_loss   dfl_loss  Instances       Size\n"
     ]
    },
    {
     "name": "stderr",
     "output_type": "stream",
     "text": [
      "      26/50         0G     0.1534      0.222      0.896         23        640: 100%|██████████| 276/276 [07:36<00:00,  1.66s/it]\n",
      "                 Class     Images  Instances      Box(P          R      mAP50  mAP50-95): 100%|██████████| 22/22 [00:27<00:00,  1.24s/it]"
     ]
    },
    {
     "name": "stdout",
     "output_type": "stream",
     "text": [
      "                   all        350        432      0.968      0.921      0.954      0.935\n"
     ]
    },
    {
     "name": "stderr",
     "output_type": "stream",
     "text": [
      "\n"
     ]
    },
    {
     "name": "stdout",
     "output_type": "stream",
     "text": [
      "\n",
      "      Epoch    GPU_mem   box_loss   cls_loss   dfl_loss  Instances       Size\n"
     ]
    },
    {
     "name": "stderr",
     "output_type": "stream",
     "text": [
      "      27/50         0G     0.1532     0.2215     0.8969         26        640: 100%|██████████| 276/276 [3:22:20<00:00, 43.99s/it]     \n",
      "                 Class     Images  Instances      Box(P          R      mAP50  mAP50-95): 100%|██████████| 22/22 [00:28<00:00,  1.30s/it]"
     ]
    },
    {
     "name": "stdout",
     "output_type": "stream",
     "text": [
      "                   all        350        432       0.99      0.912      0.952      0.934\n"
     ]
    },
    {
     "name": "stderr",
     "output_type": "stream",
     "text": [
      "\n"
     ]
    },
    {
     "name": "stdout",
     "output_type": "stream",
     "text": [
      "\n",
      "      Epoch    GPU_mem   box_loss   cls_loss   dfl_loss  Instances       Size\n"
     ]
    },
    {
     "name": "stderr",
     "output_type": "stream",
     "text": [
      "      28/50         0G     0.1443     0.2149     0.8926         27        640: 100%|██████████| 276/276 [07:52<00:00,  1.71s/it]\n",
      "                 Class     Images  Instances      Box(P          R      mAP50  mAP50-95): 100%|██████████| 22/22 [00:27<00:00,  1.26s/it]"
     ]
    },
    {
     "name": "stdout",
     "output_type": "stream",
     "text": [
      "                   all        350        432      0.983      0.919      0.959      0.937\n"
     ]
    },
    {
     "name": "stderr",
     "output_type": "stream",
     "text": [
      "\n"
     ]
    },
    {
     "name": "stdout",
     "output_type": "stream",
     "text": [
      "\n",
      "      Epoch    GPU_mem   box_loss   cls_loss   dfl_loss  Instances       Size\n"
     ]
    },
    {
     "name": "stderr",
     "output_type": "stream",
     "text": [
      "      29/50         0G     0.1439     0.2074       0.89         18        640: 100%|██████████| 276/276 [08:07<00:00,  1.77s/it]\n",
      "                 Class     Images  Instances      Box(P          R      mAP50  mAP50-95): 100%|██████████| 22/22 [00:28<00:00,  1.31s/it]"
     ]
    },
    {
     "name": "stdout",
     "output_type": "stream",
     "text": [
      "                   all        350        432      0.957      0.925      0.956      0.937\n"
     ]
    },
    {
     "name": "stderr",
     "output_type": "stream",
     "text": [
      "\n"
     ]
    },
    {
     "name": "stdout",
     "output_type": "stream",
     "text": [
      "\n",
      "      Epoch    GPU_mem   box_loss   cls_loss   dfl_loss  Instances       Size\n"
     ]
    },
    {
     "name": "stderr",
     "output_type": "stream",
     "text": [
      "      30/50         0G     0.1428     0.2053     0.8905         20        640: 100%|██████████| 276/276 [08:03<00:00,  1.75s/it]\n",
      "                 Class     Images  Instances      Box(P          R      mAP50  mAP50-95): 100%|██████████| 22/22 [00:32<00:00,  1.48s/it]"
     ]
    },
    {
     "name": "stdout",
     "output_type": "stream",
     "text": [
      "                   all        350        432      0.978      0.923      0.956      0.933\n"
     ]
    },
    {
     "name": "stderr",
     "output_type": "stream",
     "text": [
      "\n"
     ]
    },
    {
     "name": "stdout",
     "output_type": "stream",
     "text": [
      "\n",
      "      Epoch    GPU_mem   box_loss   cls_loss   dfl_loss  Instances       Size\n"
     ]
    },
    {
     "name": "stderr",
     "output_type": "stream",
     "text": [
      "      31/50         0G     0.1415     0.2084     0.8904         19        640: 100%|██████████| 276/276 [07:41<00:00,  1.67s/it]\n",
      "                 Class     Images  Instances      Box(P          R      mAP50  mAP50-95): 100%|██████████| 22/22 [00:26<00:00,  1.20s/it]"
     ]
    },
    {
     "name": "stdout",
     "output_type": "stream",
     "text": [
      "                   all        350        432      0.957      0.932      0.953      0.931\n"
     ]
    },
    {
     "name": "stderr",
     "output_type": "stream",
     "text": [
      "\n"
     ]
    },
    {
     "name": "stdout",
     "output_type": "stream",
     "text": [
      "\n",
      "      Epoch    GPU_mem   box_loss   cls_loss   dfl_loss  Instances       Size\n"
     ]
    },
    {
     "name": "stderr",
     "output_type": "stream",
     "text": [
      "      32/50         0G     0.1407     0.1989     0.8901         19        640: 100%|██████████| 276/276 [07:57<00:00,  1.73s/it]\n",
      "                 Class     Images  Instances      Box(P          R      mAP50  mAP50-95): 100%|██████████| 22/22 [00:29<00:00,  1.32s/it]"
     ]
    },
    {
     "name": "stdout",
     "output_type": "stream",
     "text": [
      "                   all        350        432      0.975      0.924      0.959      0.937\n"
     ]
    },
    {
     "name": "stderr",
     "output_type": "stream",
     "text": [
      "\n"
     ]
    },
    {
     "name": "stdout",
     "output_type": "stream",
     "text": [
      "\n",
      "      Epoch    GPU_mem   box_loss   cls_loss   dfl_loss  Instances       Size\n"
     ]
    },
    {
     "name": "stderr",
     "output_type": "stream",
     "text": [
      "      33/50         0G     0.1369     0.2007     0.8944         24        640: 100%|██████████| 276/276 [08:14<00:00,  1.79s/it]\n",
      "                 Class     Images  Instances      Box(P          R      mAP50  mAP50-95): 100%|██████████| 22/22 [00:27<00:00,  1.25s/it]"
     ]
    },
    {
     "name": "stdout",
     "output_type": "stream",
     "text": [
      "                   all        350        432      0.971      0.927      0.957      0.936\n"
     ]
    },
    {
     "name": "stderr",
     "output_type": "stream",
     "text": [
      "\n"
     ]
    },
    {
     "name": "stdout",
     "output_type": "stream",
     "text": [
      "\n",
      "      Epoch    GPU_mem   box_loss   cls_loss   dfl_loss  Instances       Size\n"
     ]
    },
    {
     "name": "stderr",
     "output_type": "stream",
     "text": [
      "      34/50         0G     0.1383     0.2002     0.8937         19        640: 100%|██████████| 276/276 [07:25<00:00,  1.61s/it]\n",
      "                 Class     Images  Instances      Box(P          R      mAP50  mAP50-95): 100%|██████████| 22/22 [00:26<00:00,  1.19s/it]"
     ]
    },
    {
     "name": "stdout",
     "output_type": "stream",
     "text": [
      "                   all        350        432      0.988       0.93      0.958      0.926\n"
     ]
    },
    {
     "name": "stderr",
     "output_type": "stream",
     "text": [
      "\n"
     ]
    },
    {
     "name": "stdout",
     "output_type": "stream",
     "text": [
      "\n",
      "      Epoch    GPU_mem   box_loss   cls_loss   dfl_loss  Instances       Size\n"
     ]
    },
    {
     "name": "stderr",
     "output_type": "stream",
     "text": [
      "      35/50         0G     0.1335     0.1962     0.8858         20        640: 100%|██████████| 276/276 [07:17<00:00,  1.59s/it]\n",
      "                 Class     Images  Instances      Box(P          R      mAP50  mAP50-95): 100%|██████████| 22/22 [00:26<00:00,  1.19s/it]"
     ]
    },
    {
     "name": "stdout",
     "output_type": "stream",
     "text": [
      "                   all        350        432      0.984      0.921      0.962       0.94\n"
     ]
    },
    {
     "name": "stderr",
     "output_type": "stream",
     "text": [
      "\n"
     ]
    },
    {
     "name": "stdout",
     "output_type": "stream",
     "text": [
      "\n",
      "      Epoch    GPU_mem   box_loss   cls_loss   dfl_loss  Instances       Size\n"
     ]
    },
    {
     "name": "stderr",
     "output_type": "stream",
     "text": [
      "      36/50         0G      0.129     0.1949     0.8902         24        640: 100%|██████████| 276/276 [07:18<00:00,  1.59s/it]\n",
      "                 Class     Images  Instances      Box(P          R      mAP50  mAP50-95): 100%|██████████| 22/22 [00:26<00:00,  1.18s/it]"
     ]
    },
    {
     "name": "stdout",
     "output_type": "stream",
     "text": [
      "                   all        350        432       0.99       0.92      0.965      0.944\n"
     ]
    },
    {
     "name": "stderr",
     "output_type": "stream",
     "text": [
      "\n"
     ]
    },
    {
     "name": "stdout",
     "output_type": "stream",
     "text": [
      "\n",
      "      Epoch    GPU_mem   box_loss   cls_loss   dfl_loss  Instances       Size\n"
     ]
    },
    {
     "name": "stderr",
     "output_type": "stream",
     "text": [
      "      37/50         0G     0.1294     0.1881     0.8913         22        640: 100%|██████████| 276/276 [07:17<00:00,  1.59s/it]\n",
      "                 Class     Images  Instances      Box(P          R      mAP50  mAP50-95): 100%|██████████| 22/22 [00:26<00:00,  1.19s/it]"
     ]
    },
    {
     "name": "stdout",
     "output_type": "stream",
     "text": [
      "                   all        350        432      0.985      0.928       0.96      0.943\n"
     ]
    },
    {
     "name": "stderr",
     "output_type": "stream",
     "text": [
      "\n"
     ]
    },
    {
     "name": "stdout",
     "output_type": "stream",
     "text": [
      "\n",
      "      Epoch    GPU_mem   box_loss   cls_loss   dfl_loss  Instances       Size\n"
     ]
    },
    {
     "name": "stderr",
     "output_type": "stream",
     "text": [
      "      38/50         0G     0.1293     0.1864     0.8898         24        640: 100%|██████████| 276/276 [07:51<00:00,  1.71s/it]\n",
      "                 Class     Images  Instances      Box(P          R      mAP50  mAP50-95): 100%|██████████| 22/22 [00:25<00:00,  1.18s/it]"
     ]
    },
    {
     "name": "stdout",
     "output_type": "stream",
     "text": [
      "                   all        350        432      0.986      0.926      0.958      0.941\n"
     ]
    },
    {
     "name": "stderr",
     "output_type": "stream",
     "text": [
      "\n"
     ]
    },
    {
     "name": "stdout",
     "output_type": "stream",
     "text": [
      "\n",
      "      Epoch    GPU_mem   box_loss   cls_loss   dfl_loss  Instances       Size\n"
     ]
    },
    {
     "name": "stderr",
     "output_type": "stream",
     "text": [
      "      39/50         0G     0.1213     0.1813     0.8882         23        640: 100%|██████████| 276/276 [07:20<00:00,  1.60s/it]\n",
      "                 Class     Images  Instances      Box(P          R      mAP50  mAP50-95): 100%|██████████| 22/22 [00:26<00:00,  1.19s/it]"
     ]
    },
    {
     "name": "stdout",
     "output_type": "stream",
     "text": [
      "                   all        350        432      0.988       0.93      0.968      0.949\n"
     ]
    },
    {
     "name": "stderr",
     "output_type": "stream",
     "text": [
      "\n"
     ]
    },
    {
     "name": "stdout",
     "output_type": "stream",
     "text": [
      "\n",
      "      Epoch    GPU_mem   box_loss   cls_loss   dfl_loss  Instances       Size\n"
     ]
    },
    {
     "name": "stderr",
     "output_type": "stream",
     "text": [
      "      40/50         0G     0.1184     0.1793     0.8876         25        640: 100%|██████████| 276/276 [07:33<00:00,  1.64s/it]\n",
      "                 Class     Images  Instances      Box(P          R      mAP50  mAP50-95): 100%|██████████| 22/22 [00:27<00:00,  1.24s/it]"
     ]
    },
    {
     "name": "stdout",
     "output_type": "stream",
     "text": [
      "                   all        350        432      0.992      0.931      0.969      0.949\n"
     ]
    },
    {
     "name": "stderr",
     "output_type": "stream",
     "text": [
      "\n"
     ]
    },
    {
     "name": "stdout",
     "output_type": "stream",
     "text": [
      "Closing dataloader mosaic\n",
      "\n",
      "      Epoch    GPU_mem   box_loss   cls_loss   dfl_loss  Instances       Size\n"
     ]
    },
    {
     "name": "stderr",
     "output_type": "stream",
     "text": [
      "      41/50         0G     0.1243      0.199     0.8823         10        640: 100%|██████████| 276/276 [07:43<00:00,  1.68s/it]\n",
      "                 Class     Images  Instances      Box(P          R      mAP50  mAP50-95): 100%|██████████| 22/22 [00:26<00:00,  1.20s/it]"
     ]
    },
    {
     "name": "stdout",
     "output_type": "stream",
     "text": [
      "                   all        350        432      0.985      0.924      0.956      0.939\n"
     ]
    },
    {
     "name": "stderr",
     "output_type": "stream",
     "text": [
      "\n"
     ]
    },
    {
     "name": "stdout",
     "output_type": "stream",
     "text": [
      "\n",
      "      Epoch    GPU_mem   box_loss   cls_loss   dfl_loss  Instances       Size\n"
     ]
    },
    {
     "name": "stderr",
     "output_type": "stream",
     "text": [
      "      42/50         0G     0.1205      0.181     0.8799         11        640: 100%|██████████| 276/276 [07:12<00:00,  1.57s/it]\n",
      "                 Class     Images  Instances      Box(P          R      mAP50  mAP50-95): 100%|██████████| 22/22 [00:24<00:00,  1.13s/it]"
     ]
    },
    {
     "name": "stdout",
     "output_type": "stream",
     "text": [
      "                   all        350        432      0.981      0.933      0.958      0.945\n"
     ]
    },
    {
     "name": "stderr",
     "output_type": "stream",
     "text": [
      "\n"
     ]
    },
    {
     "name": "stdout",
     "output_type": "stream",
     "text": [
      "\n",
      "      Epoch    GPU_mem   box_loss   cls_loss   dfl_loss  Instances       Size\n"
     ]
    },
    {
     "name": "stderr",
     "output_type": "stream",
     "text": [
      "      43/50         0G     0.1217     0.1729     0.8877         11        640: 100%|██████████| 276/276 [07:05<00:00,  1.54s/it]\n",
      "                 Class     Images  Instances      Box(P          R      mAP50  mAP50-95): 100%|██████████| 22/22 [00:25<00:00,  1.17s/it]"
     ]
    },
    {
     "name": "stdout",
     "output_type": "stream",
     "text": [
      "                   all        350        432      0.986      0.928       0.96      0.946\n"
     ]
    },
    {
     "name": "stderr",
     "output_type": "stream",
     "text": [
      "\n"
     ]
    },
    {
     "name": "stdout",
     "output_type": "stream",
     "text": [
      "\n",
      "      Epoch    GPU_mem   box_loss   cls_loss   dfl_loss  Instances       Size\n"
     ]
    },
    {
     "name": "stderr",
     "output_type": "stream",
     "text": [
      "      44/50         0G     0.1191     0.1685     0.8801          8        640: 100%|██████████| 276/276 [07:10<00:00,  1.56s/it]\n",
      "                 Class     Images  Instances      Box(P          R      mAP50  mAP50-95): 100%|██████████| 22/22 [00:25<00:00,  1.18s/it]"
     ]
    },
    {
     "name": "stdout",
     "output_type": "stream",
     "text": [
      "                   all        350        432      0.989      0.928      0.961      0.946\n"
     ]
    },
    {
     "name": "stderr",
     "output_type": "stream",
     "text": [
      "\n"
     ]
    },
    {
     "name": "stdout",
     "output_type": "stream",
     "text": [
      "\n",
      "      Epoch    GPU_mem   box_loss   cls_loss   dfl_loss  Instances       Size\n"
     ]
    },
    {
     "name": "stderr",
     "output_type": "stream",
     "text": [
      "      45/50         0G       0.11     0.1734     0.8765          8        640: 100%|██████████| 276/276 [07:10<00:00,  1.56s/it]\n",
      "                 Class     Images  Instances      Box(P          R      mAP50  mAP50-95): 100%|██████████| 22/22 [00:25<00:00,  1.18s/it]"
     ]
    },
    {
     "name": "stdout",
     "output_type": "stream",
     "text": [
      "                   all        350        432      0.982      0.933      0.964      0.951\n"
     ]
    },
    {
     "name": "stderr",
     "output_type": "stream",
     "text": [
      "\n"
     ]
    },
    {
     "name": "stdout",
     "output_type": "stream",
     "text": [
      "\n",
      "      Epoch    GPU_mem   box_loss   cls_loss   dfl_loss  Instances       Size\n"
     ]
    },
    {
     "name": "stderr",
     "output_type": "stream",
     "text": [
      "      46/50         0G     0.1058     0.1524     0.8779          7        640: 100%|██████████| 276/276 [07:10<00:00,  1.56s/it]\n",
      "                 Class     Images  Instances      Box(P          R      mAP50  mAP50-95): 100%|██████████| 22/22 [00:25<00:00,  1.18s/it]"
     ]
    },
    {
     "name": "stdout",
     "output_type": "stream",
     "text": [
      "                   all        350        432      0.989      0.931      0.964      0.951\n"
     ]
    },
    {
     "name": "stderr",
     "output_type": "stream",
     "text": [
      "\n"
     ]
    },
    {
     "name": "stdout",
     "output_type": "stream",
     "text": [
      "\n",
      "      Epoch    GPU_mem   box_loss   cls_loss   dfl_loss  Instances       Size\n"
     ]
    },
    {
     "name": "stderr",
     "output_type": "stream",
     "text": [
      "      47/50         0G     0.1017     0.1583     0.8742          8        640: 100%|██████████| 276/276 [07:17<00:00,  1.59s/it]\n",
      "                 Class     Images  Instances      Box(P          R      mAP50  mAP50-95): 100%|██████████| 22/22 [00:25<00:00,  1.18s/it]"
     ]
    },
    {
     "name": "stdout",
     "output_type": "stream",
     "text": [
      "                   all        350        432       0.98      0.931      0.965      0.954\n"
     ]
    },
    {
     "name": "stderr",
     "output_type": "stream",
     "text": [
      "\n"
     ]
    },
    {
     "name": "stdout",
     "output_type": "stream",
     "text": [
      "\n",
      "      Epoch    GPU_mem   box_loss   cls_loss   dfl_loss  Instances       Size\n"
     ]
    },
    {
     "name": "stderr",
     "output_type": "stream",
     "text": [
      "      48/50         0G    0.09566     0.1488     0.8703         10        640: 100%|██████████| 276/276 [07:09<00:00,  1.55s/it]\n",
      "                 Class     Images  Instances      Box(P          R      mAP50  mAP50-95): 100%|██████████| 22/22 [00:25<00:00,  1.17s/it]"
     ]
    },
    {
     "name": "stdout",
     "output_type": "stream",
     "text": [
      "                   all        350        432      0.988      0.929      0.965      0.952\n"
     ]
    },
    {
     "name": "stderr",
     "output_type": "stream",
     "text": [
      "\n"
     ]
    },
    {
     "name": "stdout",
     "output_type": "stream",
     "text": [
      "\n",
      "      Epoch    GPU_mem   box_loss   cls_loss   dfl_loss  Instances       Size\n"
     ]
    },
    {
     "name": "stderr",
     "output_type": "stream",
     "text": [
      "      49/50         0G    0.09489     0.1364     0.8651         11        640: 100%|██████████| 276/276 [07:07<00:00,  1.55s/it]\n",
      "                 Class     Images  Instances      Box(P          R      mAP50  mAP50-95): 100%|██████████| 22/22 [00:25<00:00,  1.17s/it]"
     ]
    },
    {
     "name": "stdout",
     "output_type": "stream",
     "text": [
      "                   all        350        432      0.994      0.928      0.964      0.954\n"
     ]
    },
    {
     "name": "stderr",
     "output_type": "stream",
     "text": [
      "\n"
     ]
    },
    {
     "name": "stdout",
     "output_type": "stream",
     "text": [
      "\n",
      "      Epoch    GPU_mem   box_loss   cls_loss   dfl_loss  Instances       Size\n"
     ]
    },
    {
     "name": "stderr",
     "output_type": "stream",
     "text": [
      "      50/50         0G    0.09197     0.1364     0.8638          8        640: 100%|██████████| 276/276 [07:13<00:00,  1.57s/it]\n",
      "                 Class     Images  Instances      Box(P          R      mAP50  mAP50-95): 100%|██████████| 22/22 [00:25<00:00,  1.18s/it]"
     ]
    },
    {
     "name": "stdout",
     "output_type": "stream",
     "text": [
      "                   all        350        432      0.989      0.931      0.967      0.956\n"
     ]
    },
    {
     "name": "stderr",
     "output_type": "stream",
     "text": [
      "\n"
     ]
    },
    {
     "name": "stdout",
     "output_type": "stream",
     "text": [
      "\n",
      "50 epochs completed in 9.903 hours.\n",
      "Optimizer stripped from C:\\Users\\jairo\\Desktop\\IA\\TFM_Mariposas\\detector\\modelos\\yolo_mariposas2\\weights\\last.pt, 6.2MB\n",
      "Optimizer stripped from C:\\Users\\jairo\\Desktop\\IA\\TFM_Mariposas\\detector\\modelos\\yolo_mariposas2\\weights\\best.pt, 6.2MB\n",
      "\n",
      "Validating C:\\Users\\jairo\\Desktop\\IA\\TFM_Mariposas\\detector\\modelos\\yolo_mariposas2\\weights\\best.pt...\n",
      "Ultralytics 8.3.76  Python-3.10.0 torch-2.6.0+cpu CPU (11th Gen Intel Core(TM) i5-11400F 2.60GHz)\n",
      "Model summary (fused): 72 layers, 3,005,843 parameters, 0 gradients, 8.1 GFLOPs\n"
     ]
    },
    {
     "name": "stderr",
     "output_type": "stream",
     "text": [
      "                 Class     Images  Instances      Box(P          R      mAP50  mAP50-95): 100%|██████████| 22/22 [00:21<00:00,  1.03it/s]\n"
     ]
    },
    {
     "name": "stdout",
     "output_type": "stream",
     "text": [
      "                   all        350        432      0.989      0.931      0.967      0.956\n",
      "Speed: 1.4ms preprocess, 54.5ms inference, 0.0ms loss, 0.3ms postprocess per image\n",
      "Results saved to \u001b[1mC:\\Users\\jairo\\Desktop\\IA\\TFM_Mariposas\\detector\\modelos\\yolo_mariposas2\u001b[0m\n"
     ]
    },
    {
     "data": {
      "text/plain": [
       "ultralytics.utils.metrics.DetMetrics object with attributes:\n",
       "\n",
       "ap_class_index: array([0])\n",
       "box: ultralytics.utils.metrics.Metric object\n",
       "confusion_matrix: <ultralytics.utils.metrics.ConfusionMatrix object at 0x000002A509147040>\n",
       "curves: ['Precision-Recall(B)', 'F1-Confidence(B)', 'Precision-Confidence(B)', 'Recall-Confidence(B)']\n",
       "curves_results: [[array([          0,    0.001001,    0.002002,    0.003003,    0.004004,    0.005005,    0.006006,    0.007007,    0.008008,    0.009009,     0.01001,    0.011011,    0.012012,    0.013013,    0.014014,    0.015015,    0.016016,    0.017017,    0.018018,    0.019019,     0.02002,    0.021021,    0.022022,    0.023023,\n",
       "          0.024024,    0.025025,    0.026026,    0.027027,    0.028028,    0.029029,     0.03003,    0.031031,    0.032032,    0.033033,    0.034034,    0.035035,    0.036036,    0.037037,    0.038038,    0.039039,     0.04004,    0.041041,    0.042042,    0.043043,    0.044044,    0.045045,    0.046046,    0.047047,\n",
       "          0.048048,    0.049049,     0.05005,    0.051051,    0.052052,    0.053053,    0.054054,    0.055055,    0.056056,    0.057057,    0.058058,    0.059059,     0.06006,    0.061061,    0.062062,    0.063063,    0.064064,    0.065065,    0.066066,    0.067067,    0.068068,    0.069069,     0.07007,    0.071071,\n",
       "          0.072072,    0.073073,    0.074074,    0.075075,    0.076076,    0.077077,    0.078078,    0.079079,     0.08008,    0.081081,    0.082082,    0.083083,    0.084084,    0.085085,    0.086086,    0.087087,    0.088088,    0.089089,     0.09009,    0.091091,    0.092092,    0.093093,    0.094094,    0.095095,\n",
       "          0.096096,    0.097097,    0.098098,    0.099099,      0.1001,      0.1011,      0.1021,      0.1031,      0.1041,     0.10511,     0.10611,     0.10711,     0.10811,     0.10911,     0.11011,     0.11111,     0.11211,     0.11311,     0.11411,     0.11512,     0.11612,     0.11712,     0.11812,     0.11912,\n",
       "           0.12012,     0.12112,     0.12212,     0.12312,     0.12412,     0.12513,     0.12613,     0.12713,     0.12813,     0.12913,     0.13013,     0.13113,     0.13213,     0.13313,     0.13413,     0.13514,     0.13614,     0.13714,     0.13814,     0.13914,     0.14014,     0.14114,     0.14214,     0.14314,\n",
       "           0.14414,     0.14515,     0.14615,     0.14715,     0.14815,     0.14915,     0.15015,     0.15115,     0.15215,     0.15315,     0.15415,     0.15516,     0.15616,     0.15716,     0.15816,     0.15916,     0.16016,     0.16116,     0.16216,     0.16316,     0.16416,     0.16517,     0.16617,     0.16717,\n",
       "           0.16817,     0.16917,     0.17017,     0.17117,     0.17217,     0.17317,     0.17417,     0.17518,     0.17618,     0.17718,     0.17818,     0.17918,     0.18018,     0.18118,     0.18218,     0.18318,     0.18418,     0.18519,     0.18619,     0.18719,     0.18819,     0.18919,     0.19019,     0.19119,\n",
       "           0.19219,     0.19319,     0.19419,      0.1952,      0.1962,      0.1972,      0.1982,      0.1992,      0.2002,      0.2012,      0.2022,      0.2032,      0.2042,     0.20521,     0.20621,     0.20721,     0.20821,     0.20921,     0.21021,     0.21121,     0.21221,     0.21321,     0.21421,     0.21522,\n",
       "           0.21622,     0.21722,     0.21822,     0.21922,     0.22022,     0.22122,     0.22222,     0.22322,     0.22422,     0.22523,     0.22623,     0.22723,     0.22823,     0.22923,     0.23023,     0.23123,     0.23223,     0.23323,     0.23423,     0.23524,     0.23624,     0.23724,     0.23824,     0.23924,\n",
       "           0.24024,     0.24124,     0.24224,     0.24324,     0.24424,     0.24525,     0.24625,     0.24725,     0.24825,     0.24925,     0.25025,     0.25125,     0.25225,     0.25325,     0.25425,     0.25526,     0.25626,     0.25726,     0.25826,     0.25926,     0.26026,     0.26126,     0.26226,     0.26326,\n",
       "           0.26426,     0.26527,     0.26627,     0.26727,     0.26827,     0.26927,     0.27027,     0.27127,     0.27227,     0.27327,     0.27427,     0.27528,     0.27628,     0.27728,     0.27828,     0.27928,     0.28028,     0.28128,     0.28228,     0.28328,     0.28428,     0.28529,     0.28629,     0.28729,\n",
       "           0.28829,     0.28929,     0.29029,     0.29129,     0.29229,     0.29329,     0.29429,      0.2953,      0.2963,      0.2973,      0.2983,      0.2993,      0.3003,      0.3013,      0.3023,      0.3033,      0.3043,     0.30531,     0.30631,     0.30731,     0.30831,     0.30931,     0.31031,     0.31131,\n",
       "           0.31231,     0.31331,     0.31431,     0.31532,     0.31632,     0.31732,     0.31832,     0.31932,     0.32032,     0.32132,     0.32232,     0.32332,     0.32432,     0.32533,     0.32633,     0.32733,     0.32833,     0.32933,     0.33033,     0.33133,     0.33233,     0.33333,     0.33433,     0.33534,\n",
       "           0.33634,     0.33734,     0.33834,     0.33934,     0.34034,     0.34134,     0.34234,     0.34334,     0.34434,     0.34535,     0.34635,     0.34735,     0.34835,     0.34935,     0.35035,     0.35135,     0.35235,     0.35335,     0.35435,     0.35536,     0.35636,     0.35736,     0.35836,     0.35936,\n",
       "           0.36036,     0.36136,     0.36236,     0.36336,     0.36436,     0.36537,     0.36637,     0.36737,     0.36837,     0.36937,     0.37037,     0.37137,     0.37237,     0.37337,     0.37437,     0.37538,     0.37638,     0.37738,     0.37838,     0.37938,     0.38038,     0.38138,     0.38238,     0.38338,\n",
       "           0.38438,     0.38539,     0.38639,     0.38739,     0.38839,     0.38939,     0.39039,     0.39139,     0.39239,     0.39339,     0.39439,      0.3954,      0.3964,      0.3974,      0.3984,      0.3994,      0.4004,      0.4014,      0.4024,      0.4034,      0.4044,     0.40541,     0.40641,     0.40741,\n",
       "           0.40841,     0.40941,     0.41041,     0.41141,     0.41241,     0.41341,     0.41441,     0.41542,     0.41642,     0.41742,     0.41842,     0.41942,     0.42042,     0.42142,     0.42242,     0.42342,     0.42442,     0.42543,     0.42643,     0.42743,     0.42843,     0.42943,     0.43043,     0.43143,\n",
       "           0.43243,     0.43343,     0.43443,     0.43544,     0.43644,     0.43744,     0.43844,     0.43944,     0.44044,     0.44144,     0.44244,     0.44344,     0.44444,     0.44545,     0.44645,     0.44745,     0.44845,     0.44945,     0.45045,     0.45145,     0.45245,     0.45345,     0.45445,     0.45546,\n",
       "           0.45646,     0.45746,     0.45846,     0.45946,     0.46046,     0.46146,     0.46246,     0.46346,     0.46446,     0.46547,     0.46647,     0.46747,     0.46847,     0.46947,     0.47047,     0.47147,     0.47247,     0.47347,     0.47447,     0.47548,     0.47648,     0.47748,     0.47848,     0.47948,\n",
       "           0.48048,     0.48148,     0.48248,     0.48348,     0.48448,     0.48549,     0.48649,     0.48749,     0.48849,     0.48949,     0.49049,     0.49149,     0.49249,     0.49349,     0.49449,      0.4955,      0.4965,      0.4975,      0.4985,      0.4995,      0.5005,      0.5015,      0.5025,      0.5035,\n",
       "            0.5045,     0.50551,     0.50651,     0.50751,     0.50851,     0.50951,     0.51051,     0.51151,     0.51251,     0.51351,     0.51451,     0.51552,     0.51652,     0.51752,     0.51852,     0.51952,     0.52052,     0.52152,     0.52252,     0.52352,     0.52452,     0.52553,     0.52653,     0.52753,\n",
       "           0.52853,     0.52953,     0.53053,     0.53153,     0.53253,     0.53353,     0.53453,     0.53554,     0.53654,     0.53754,     0.53854,     0.53954,     0.54054,     0.54154,     0.54254,     0.54354,     0.54454,     0.54555,     0.54655,     0.54755,     0.54855,     0.54955,     0.55055,     0.55155,\n",
       "           0.55255,     0.55355,     0.55455,     0.55556,     0.55656,     0.55756,     0.55856,     0.55956,     0.56056,     0.56156,     0.56256,     0.56356,     0.56456,     0.56557,     0.56657,     0.56757,     0.56857,     0.56957,     0.57057,     0.57157,     0.57257,     0.57357,     0.57457,     0.57558,\n",
       "           0.57658,     0.57758,     0.57858,     0.57958,     0.58058,     0.58158,     0.58258,     0.58358,     0.58458,     0.58559,     0.58659,     0.58759,     0.58859,     0.58959,     0.59059,     0.59159,     0.59259,     0.59359,     0.59459,      0.5956,      0.5966,      0.5976,      0.5986,      0.5996,\n",
       "            0.6006,      0.6016,      0.6026,      0.6036,      0.6046,     0.60561,     0.60661,     0.60761,     0.60861,     0.60961,     0.61061,     0.61161,     0.61261,     0.61361,     0.61461,     0.61562,     0.61662,     0.61762,     0.61862,     0.61962,     0.62062,     0.62162,     0.62262,     0.62362,\n",
       "           0.62462,     0.62563,     0.62663,     0.62763,     0.62863,     0.62963,     0.63063,     0.63163,     0.63263,     0.63363,     0.63463,     0.63564,     0.63664,     0.63764,     0.63864,     0.63964,     0.64064,     0.64164,     0.64264,     0.64364,     0.64464,     0.64565,     0.64665,     0.64765,\n",
       "           0.64865,     0.64965,     0.65065,     0.65165,     0.65265,     0.65365,     0.65465,     0.65566,     0.65666,     0.65766,     0.65866,     0.65966,     0.66066,     0.66166,     0.66266,     0.66366,     0.66466,     0.66567,     0.66667,     0.66767,     0.66867,     0.66967,     0.67067,     0.67167,\n",
       "           0.67267,     0.67367,     0.67467,     0.67568,     0.67668,     0.67768,     0.67868,     0.67968,     0.68068,     0.68168,     0.68268,     0.68368,     0.68468,     0.68569,     0.68669,     0.68769,     0.68869,     0.68969,     0.69069,     0.69169,     0.69269,     0.69369,     0.69469,      0.6957,\n",
       "            0.6967,      0.6977,      0.6987,      0.6997,      0.7007,      0.7017,      0.7027,      0.7037,      0.7047,     0.70571,     0.70671,     0.70771,     0.70871,     0.70971,     0.71071,     0.71171,     0.71271,     0.71371,     0.71471,     0.71572,     0.71672,     0.71772,     0.71872,     0.71972,\n",
       "           0.72072,     0.72172,     0.72272,     0.72372,     0.72472,     0.72573,     0.72673,     0.72773,     0.72873,     0.72973,     0.73073,     0.73173,     0.73273,     0.73373,     0.73473,     0.73574,     0.73674,     0.73774,     0.73874,     0.73974,     0.74074,     0.74174,     0.74274,     0.74374,\n",
       "           0.74474,     0.74575,     0.74675,     0.74775,     0.74875,     0.74975,     0.75075,     0.75175,     0.75275,     0.75375,     0.75475,     0.75576,     0.75676,     0.75776,     0.75876,     0.75976,     0.76076,     0.76176,     0.76276,     0.76376,     0.76476,     0.76577,     0.76677,     0.76777,\n",
       "           0.76877,     0.76977,     0.77077,     0.77177,     0.77277,     0.77377,     0.77477,     0.77578,     0.77678,     0.77778,     0.77878,     0.77978,     0.78078,     0.78178,     0.78278,     0.78378,     0.78478,     0.78579,     0.78679,     0.78779,     0.78879,     0.78979,     0.79079,     0.79179,\n",
       "           0.79279,     0.79379,     0.79479,      0.7958,      0.7968,      0.7978,      0.7988,      0.7998,      0.8008,      0.8018,      0.8028,      0.8038,      0.8048,     0.80581,     0.80681,     0.80781,     0.80881,     0.80981,     0.81081,     0.81181,     0.81281,     0.81381,     0.81481,     0.81582,\n",
       "           0.81682,     0.81782,     0.81882,     0.81982,     0.82082,     0.82182,     0.82282,     0.82382,     0.82482,     0.82583,     0.82683,     0.82783,     0.82883,     0.82983,     0.83083,     0.83183,     0.83283,     0.83383,     0.83483,     0.83584,     0.83684,     0.83784,     0.83884,     0.83984,\n",
       "           0.84084,     0.84184,     0.84284,     0.84384,     0.84484,     0.84585,     0.84685,     0.84785,     0.84885,     0.84985,     0.85085,     0.85185,     0.85285,     0.85385,     0.85485,     0.85586,     0.85686,     0.85786,     0.85886,     0.85986,     0.86086,     0.86186,     0.86286,     0.86386,\n",
       "           0.86486,     0.86587,     0.86687,     0.86787,     0.86887,     0.86987,     0.87087,     0.87187,     0.87287,     0.87387,     0.87487,     0.87588,     0.87688,     0.87788,     0.87888,     0.87988,     0.88088,     0.88188,     0.88288,     0.88388,     0.88488,     0.88589,     0.88689,     0.88789,\n",
       "           0.88889,     0.88989,     0.89089,     0.89189,     0.89289,     0.89389,     0.89489,      0.8959,      0.8969,      0.8979,      0.8989,      0.8999,      0.9009,      0.9019,      0.9029,      0.9039,      0.9049,     0.90591,     0.90691,     0.90791,     0.90891,     0.90991,     0.91091,     0.91191,\n",
       "           0.91291,     0.91391,     0.91491,     0.91592,     0.91692,     0.91792,     0.91892,     0.91992,     0.92092,     0.92192,     0.92292,     0.92392,     0.92492,     0.92593,     0.92693,     0.92793,     0.92893,     0.92993,     0.93093,     0.93193,     0.93293,     0.93393,     0.93493,     0.93594,\n",
       "           0.93694,     0.93794,     0.93894,     0.93994,     0.94094,     0.94194,     0.94294,     0.94394,     0.94494,     0.94595,     0.94695,     0.94795,     0.94895,     0.94995,     0.95095,     0.95195,     0.95295,     0.95395,     0.95495,     0.95596,     0.95696,     0.95796,     0.95896,     0.95996,\n",
       "           0.96096,     0.96196,     0.96296,     0.96396,     0.96496,     0.96597,     0.96697,     0.96797,     0.96897,     0.96997,     0.97097,     0.97197,     0.97297,     0.97397,     0.97497,     0.97598,     0.97698,     0.97798,     0.97898,     0.97998,     0.98098,     0.98198,     0.98298,     0.98398,\n",
       "           0.98498,     0.98599,     0.98699,     0.98799,     0.98899,     0.98999,     0.99099,     0.99199,     0.99299,     0.99399,     0.99499,       0.996,       0.997,       0.998,       0.999,           1]), array([[          1,           1,           1,           1,           1,           1,           1,           1,           1,           1,           1,           1,           1,           1,           1,           1,           1,           1,           1,           1,           1,           1,           1,\n",
       "                  1,           1,           1,           1,           1,           1,           1,           1,           1,           1,           1,           1,           1,           1,           1,           1,           1,           1,           1,           1,           1,           1,           1,\n",
       "                  1,           1,           1,           1,           1,           1,           1,           1,           1,           1,           1,           1,           1,           1,           1,           1,           1,           1,           1,           1,           1,           1,           1,\n",
       "                  1,           1,           1,           1,           1,           1,           1,           1,           1,           1,           1,           1,           1,           1,           1,           1,           1,           1,           1,           1,           1,           1,           1,\n",
       "                  1,           1,           1,           1,           1,           1,           1,           1,           1,           1,           1,           1,           1,           1,           1,           1,           1,           1,           1,           1,           1,           1,           1,\n",
       "                  1,           1,           1,           1,           1,           1,           1,           1,           1,           1,           1,           1,           1,           1,           1,           1,           1,           1,           1,           1,           1,           1,           1,\n",
       "                  1,           1,           1,           1,           1,           1,           1,           1,           1,           1,           1,           1,           1,           1,           1,           1,           1,           1,           1,           1,           1,           1,           1,\n",
       "                  1,           1,           1,           1,           1,           1,           1,           1,           1,           1,           1,           1,           1,           1,           1,           1,           1,           1,           1,           1,           1,           1,           1,\n",
       "                  1,           1,           1,           1,           1,           1,           1,           1,           1,           1,           1,           1,           1,           1,           1,           1,           1,           1,           1,           1,           1,           1,           1,\n",
       "                  1,           1,           1,           1,           1,           1,           1,           1,           1,           1,           1,           1,           1,           1,           1,           1,           1,           1,           1,           1,           1,           1,           1,\n",
       "                  1,           1,           1,           1,           1,           1,           1,           1,           1,           1,           1,           1,           1,           1,           1,           1,           1,           1,           1,           1,           1,           1,           1,\n",
       "                  1,           1,           1,           1,           1,           1,           1,           1,           1,           1,           1,           1,           1,           1,           1,           1,           1,           1,           1,           1,           1,           1,           1,\n",
       "                  1,           1,           1,           1,           1,           1,           1,           1,           1,           1,           1,           1,           1,           1,           1,           1,           1,           1,           1,           1,           1,           1,           1,\n",
       "                  1,           1,           1,           1,           1,           1,           1,           1,           1,           1,           1,           1,           1,           1,           1,           1,           1,           1,           1,           1,           1,           1,           1,\n",
       "                  1,           1,           1,           1,           1,           1,           1,           1,           1,           1,           1,           1,           1,           1,           1,           1,           1,           1,           1,           1,           1,           1,           1,\n",
       "                  1,           1,           1,           1,           1,           1,           1,           1,           1,           1,           1,           1,           1,           1,           1,           1,           1,           1,           1,           1,           1,           1,           1,\n",
       "                  1,           1,           1,           1,           1,           1,           1,           1,           1,           1,           1,           1,           1,           1,           1,           1,           1,           1,           1,           1,           1,           1,           1,\n",
       "                  1,           1,           1,           1,           1,           1,           1,           1,           1,           1,           1,           1,           1,           1,           1,           1,           1,           1,           1,           1,           1,           1,           1,\n",
       "                  1,           1,           1,           1,           1,           1,           1,           1,           1,           1,           1,           1,           1,           1,           1,           1,           1,           1,           1,           1,           1,           1,           1,\n",
       "                  1,           1,           1,           1,           1,           1,           1,           1,           1,           1,           1,           1,           1,           1,           1,           1,           1,           1,           1,           1,           1,           1,           1,\n",
       "                  1,           1,           1,           1,           1,           1,           1,           1,           1,           1,           1,           1,           1,           1,           1,           1,           1,           1,           1,           1,           1,           1,           1,\n",
       "                  1,           1,           1,           1,           1,           1,           1,           1,           1,           1,           1,           1,           1,           1,           1,           1,           1,           1,           1,           1,           1,           1,           1,\n",
       "                  1,           1,           1,           1,           1,           1,           1,           1,           1,           1,           1,           1,           1,           1,           1,           1,           1,           1,           1,           1,           1,           1,           1,\n",
       "                  1,           1,           1,           1,           1,           1,           1,           1,           1,           1,           1,           1,           1,           1,           1,           1,           1,           1,           1,           1,           1,           1,           1,\n",
       "                  1,           1,           1,           1,           1,           1,           1,           1,           1,           1,           1,           1,           1,           1,           1,           1,           1,           1,           1,           1,           1,           1,           1,\n",
       "                  1,           1,           1,           1,           1,           1,           1,           1,           1,           1,           1,           1,           1,           1,           1,           1,           1,           1,           1,           1,           1,           1,           1,\n",
       "                  1,           1,           1,           1,           1,           1,           1,           1,           1,           1,           1,           1,           1,           1,           1,           1,           1,           1,           1,           1,           1,           1,           1,\n",
       "                  1,           1,           1,           1,           1,           1,           1,           1,           1,           1,           1,           1,           1,           1,           1,           1,           1,           1,           1,           1,           1,           1,           1,\n",
       "                  1,           1,           1,           1,           1,           1,           1,           1,           1,           1,           1,           1,           1,           1,           1,           1,           1,           1,           1,           1,           1,           1,           1,\n",
       "                  1,           1,           1,           1,           1,           1,           1,           1,           1,           1,           1,           1,           1,           1,           1,           1,           1,           1,           1,           1,           1,           1,           1,\n",
       "                  1,           1,           1,           1,           1,           1,           1,           1,           1,           1,           1,           1,           1,           1,           1,           1,           1,           1,           1,           1,           1,           1,           1,\n",
       "                  1,           1,           1,           1,           1,           1,           1,           1,           1,           1,           1,           1,           1,           1,           1,           1,           1,           1,           1,           1,           1,           1,           1,\n",
       "                  1,           1,           1,           1,           1,           1,           1,           1,           1,           1,           1,           1,           1,           1,           1,           1,           1,           1,           1,           1,           1,           1,           1,\n",
       "                  1,           1,           1,           1,           1,           1,           1,           1,           1,           1,           1,           1,           1,           1,           1,           1,           1,           1,           1,           1,           1,           1,           1,\n",
       "                  1,           1,           1,           1,           1,           1,           1,           1,           1,           1,           1,           1,           1,           1,           1,           1,           1,           1,           1,           1,           1,           1,           1,\n",
       "                  1,           1,           1,           1,           1,           1,           1,           1,           1,           1,           1,           1,           1,           1,           1,           1,           1,           1,           1,           1,           1,           1,           1,\n",
       "                  1,           1,           1,           1,           1,           1,           1,           1,           1,           1,           1,           1,           1,           1,           1,           1,           1,           1,           1,           1,           1,           1,           1,\n",
       "                  1,           1,           1,           1,           1,           1,           1,           1,           1,           1,           1,           1,           1,           1,           1,           1,           1,           1,           1,           1,           1,           1,           1,\n",
       "                  1,           1,           1,           1,           1,           1,           1,           1,           1,           1,           1,           1,           1,           1,           1,           1,           1,           1,           1,     0.99744,     0.99744,     0.99744,     0.99744,\n",
       "            0.99744,     0.99744,     0.99744,     0.99499,     0.99499,     0.99499,     0.99499,     0.99499,     0.99499,     0.99499,     0.99499,     0.99499,     0.99499,     0.99499,     0.99499,     0.99499,     0.99499,     0.99499,     0.99499,     0.99499,     0.99499,     0.99499,     0.99257,\n",
       "            0.99257,     0.99257,     0.99257,     0.99257,     0.99257,     0.99257,     0.99257,     0.99257,     0.99015,     0.99015,     0.98054,     0.98054,     0.97115,     0.97115,     0.97115,     0.95981,     0.95981,     0.95981,     0.95981,     0.95765,     0.95765,     0.95765,     0.84472,\n",
       "            0.84472,      0.7911,      0.7911,     0.78695,     0.78695,     0.78695,     0.76172,     0.74648,     0.73125,     0.71601,     0.70078,     0.68555,     0.67031,     0.65508,     0.63984,     0.62461,     0.60937,     0.59414,     0.57891,     0.56367,     0.54844,      0.5332,     0.51797,\n",
       "            0.50273,      0.4875,     0.47226,     0.45703,      0.4418,     0.42656,     0.41133,     0.39609,     0.38086,     0.36562,     0.35039,     0.33516,     0.31992,     0.30469,     0.28945,     0.27422,     0.25898,     0.24375,     0.22852,     0.21328,     0.19805,     0.18281,     0.16758,\n",
       "            0.15234,     0.13711,     0.12187,     0.10664,    0.091406,    0.076172,    0.060937,    0.045703,    0.030469,    0.015234,           0]]), 'Recall', 'Precision'], [array([          0,    0.001001,    0.002002,    0.003003,    0.004004,    0.005005,    0.006006,    0.007007,    0.008008,    0.009009,     0.01001,    0.011011,    0.012012,    0.013013,    0.014014,    0.015015,    0.016016,    0.017017,    0.018018,    0.019019,     0.02002,    0.021021,    0.022022,    0.023023,\n",
       "          0.024024,    0.025025,    0.026026,    0.027027,    0.028028,    0.029029,     0.03003,    0.031031,    0.032032,    0.033033,    0.034034,    0.035035,    0.036036,    0.037037,    0.038038,    0.039039,     0.04004,    0.041041,    0.042042,    0.043043,    0.044044,    0.045045,    0.046046,    0.047047,\n",
       "          0.048048,    0.049049,     0.05005,    0.051051,    0.052052,    0.053053,    0.054054,    0.055055,    0.056056,    0.057057,    0.058058,    0.059059,     0.06006,    0.061061,    0.062062,    0.063063,    0.064064,    0.065065,    0.066066,    0.067067,    0.068068,    0.069069,     0.07007,    0.071071,\n",
       "          0.072072,    0.073073,    0.074074,    0.075075,    0.076076,    0.077077,    0.078078,    0.079079,     0.08008,    0.081081,    0.082082,    0.083083,    0.084084,    0.085085,    0.086086,    0.087087,    0.088088,    0.089089,     0.09009,    0.091091,    0.092092,    0.093093,    0.094094,    0.095095,\n",
       "          0.096096,    0.097097,    0.098098,    0.099099,      0.1001,      0.1011,      0.1021,      0.1031,      0.1041,     0.10511,     0.10611,     0.10711,     0.10811,     0.10911,     0.11011,     0.11111,     0.11211,     0.11311,     0.11411,     0.11512,     0.11612,     0.11712,     0.11812,     0.11912,\n",
       "           0.12012,     0.12112,     0.12212,     0.12312,     0.12412,     0.12513,     0.12613,     0.12713,     0.12813,     0.12913,     0.13013,     0.13113,     0.13213,     0.13313,     0.13413,     0.13514,     0.13614,     0.13714,     0.13814,     0.13914,     0.14014,     0.14114,     0.14214,     0.14314,\n",
       "           0.14414,     0.14515,     0.14615,     0.14715,     0.14815,     0.14915,     0.15015,     0.15115,     0.15215,     0.15315,     0.15415,     0.15516,     0.15616,     0.15716,     0.15816,     0.15916,     0.16016,     0.16116,     0.16216,     0.16316,     0.16416,     0.16517,     0.16617,     0.16717,\n",
       "           0.16817,     0.16917,     0.17017,     0.17117,     0.17217,     0.17317,     0.17417,     0.17518,     0.17618,     0.17718,     0.17818,     0.17918,     0.18018,     0.18118,     0.18218,     0.18318,     0.18418,     0.18519,     0.18619,     0.18719,     0.18819,     0.18919,     0.19019,     0.19119,\n",
       "           0.19219,     0.19319,     0.19419,      0.1952,      0.1962,      0.1972,      0.1982,      0.1992,      0.2002,      0.2012,      0.2022,      0.2032,      0.2042,     0.20521,     0.20621,     0.20721,     0.20821,     0.20921,     0.21021,     0.21121,     0.21221,     0.21321,     0.21421,     0.21522,\n",
       "           0.21622,     0.21722,     0.21822,     0.21922,     0.22022,     0.22122,     0.22222,     0.22322,     0.22422,     0.22523,     0.22623,     0.22723,     0.22823,     0.22923,     0.23023,     0.23123,     0.23223,     0.23323,     0.23423,     0.23524,     0.23624,     0.23724,     0.23824,     0.23924,\n",
       "           0.24024,     0.24124,     0.24224,     0.24324,     0.24424,     0.24525,     0.24625,     0.24725,     0.24825,     0.24925,     0.25025,     0.25125,     0.25225,     0.25325,     0.25425,     0.25526,     0.25626,     0.25726,     0.25826,     0.25926,     0.26026,     0.26126,     0.26226,     0.26326,\n",
       "           0.26426,     0.26527,     0.26627,     0.26727,     0.26827,     0.26927,     0.27027,     0.27127,     0.27227,     0.27327,     0.27427,     0.27528,     0.27628,     0.27728,     0.27828,     0.27928,     0.28028,     0.28128,     0.28228,     0.28328,     0.28428,     0.28529,     0.28629,     0.28729,\n",
       "           0.28829,     0.28929,     0.29029,     0.29129,     0.29229,     0.29329,     0.29429,      0.2953,      0.2963,      0.2973,      0.2983,      0.2993,      0.3003,      0.3013,      0.3023,      0.3033,      0.3043,     0.30531,     0.30631,     0.30731,     0.30831,     0.30931,     0.31031,     0.31131,\n",
       "           0.31231,     0.31331,     0.31431,     0.31532,     0.31632,     0.31732,     0.31832,     0.31932,     0.32032,     0.32132,     0.32232,     0.32332,     0.32432,     0.32533,     0.32633,     0.32733,     0.32833,     0.32933,     0.33033,     0.33133,     0.33233,     0.33333,     0.33433,     0.33534,\n",
       "           0.33634,     0.33734,     0.33834,     0.33934,     0.34034,     0.34134,     0.34234,     0.34334,     0.34434,     0.34535,     0.34635,     0.34735,     0.34835,     0.34935,     0.35035,     0.35135,     0.35235,     0.35335,     0.35435,     0.35536,     0.35636,     0.35736,     0.35836,     0.35936,\n",
       "           0.36036,     0.36136,     0.36236,     0.36336,     0.36436,     0.36537,     0.36637,     0.36737,     0.36837,     0.36937,     0.37037,     0.37137,     0.37237,     0.37337,     0.37437,     0.37538,     0.37638,     0.37738,     0.37838,     0.37938,     0.38038,     0.38138,     0.38238,     0.38338,\n",
       "           0.38438,     0.38539,     0.38639,     0.38739,     0.38839,     0.38939,     0.39039,     0.39139,     0.39239,     0.39339,     0.39439,      0.3954,      0.3964,      0.3974,      0.3984,      0.3994,      0.4004,      0.4014,      0.4024,      0.4034,      0.4044,     0.40541,     0.40641,     0.40741,\n",
       "           0.40841,     0.40941,     0.41041,     0.41141,     0.41241,     0.41341,     0.41441,     0.41542,     0.41642,     0.41742,     0.41842,     0.41942,     0.42042,     0.42142,     0.42242,     0.42342,     0.42442,     0.42543,     0.42643,     0.42743,     0.42843,     0.42943,     0.43043,     0.43143,\n",
       "           0.43243,     0.43343,     0.43443,     0.43544,     0.43644,     0.43744,     0.43844,     0.43944,     0.44044,     0.44144,     0.44244,     0.44344,     0.44444,     0.44545,     0.44645,     0.44745,     0.44845,     0.44945,     0.45045,     0.45145,     0.45245,     0.45345,     0.45445,     0.45546,\n",
       "           0.45646,     0.45746,     0.45846,     0.45946,     0.46046,     0.46146,     0.46246,     0.46346,     0.46446,     0.46547,     0.46647,     0.46747,     0.46847,     0.46947,     0.47047,     0.47147,     0.47247,     0.47347,     0.47447,     0.47548,     0.47648,     0.47748,     0.47848,     0.47948,\n",
       "           0.48048,     0.48148,     0.48248,     0.48348,     0.48448,     0.48549,     0.48649,     0.48749,     0.48849,     0.48949,     0.49049,     0.49149,     0.49249,     0.49349,     0.49449,      0.4955,      0.4965,      0.4975,      0.4985,      0.4995,      0.5005,      0.5015,      0.5025,      0.5035,\n",
       "            0.5045,     0.50551,     0.50651,     0.50751,     0.50851,     0.50951,     0.51051,     0.51151,     0.51251,     0.51351,     0.51451,     0.51552,     0.51652,     0.51752,     0.51852,     0.51952,     0.52052,     0.52152,     0.52252,     0.52352,     0.52452,     0.52553,     0.52653,     0.52753,\n",
       "           0.52853,     0.52953,     0.53053,     0.53153,     0.53253,     0.53353,     0.53453,     0.53554,     0.53654,     0.53754,     0.53854,     0.53954,     0.54054,     0.54154,     0.54254,     0.54354,     0.54454,     0.54555,     0.54655,     0.54755,     0.54855,     0.54955,     0.55055,     0.55155,\n",
       "           0.55255,     0.55355,     0.55455,     0.55556,     0.55656,     0.55756,     0.55856,     0.55956,     0.56056,     0.56156,     0.56256,     0.56356,     0.56456,     0.56557,     0.56657,     0.56757,     0.56857,     0.56957,     0.57057,     0.57157,     0.57257,     0.57357,     0.57457,     0.57558,\n",
       "           0.57658,     0.57758,     0.57858,     0.57958,     0.58058,     0.58158,     0.58258,     0.58358,     0.58458,     0.58559,     0.58659,     0.58759,     0.58859,     0.58959,     0.59059,     0.59159,     0.59259,     0.59359,     0.59459,      0.5956,      0.5966,      0.5976,      0.5986,      0.5996,\n",
       "            0.6006,      0.6016,      0.6026,      0.6036,      0.6046,     0.60561,     0.60661,     0.60761,     0.60861,     0.60961,     0.61061,     0.61161,     0.61261,     0.61361,     0.61461,     0.61562,     0.61662,     0.61762,     0.61862,     0.61962,     0.62062,     0.62162,     0.62262,     0.62362,\n",
       "           0.62462,     0.62563,     0.62663,     0.62763,     0.62863,     0.62963,     0.63063,     0.63163,     0.63263,     0.63363,     0.63463,     0.63564,     0.63664,     0.63764,     0.63864,     0.63964,     0.64064,     0.64164,     0.64264,     0.64364,     0.64464,     0.64565,     0.64665,     0.64765,\n",
       "           0.64865,     0.64965,     0.65065,     0.65165,     0.65265,     0.65365,     0.65465,     0.65566,     0.65666,     0.65766,     0.65866,     0.65966,     0.66066,     0.66166,     0.66266,     0.66366,     0.66466,     0.66567,     0.66667,     0.66767,     0.66867,     0.66967,     0.67067,     0.67167,\n",
       "           0.67267,     0.67367,     0.67467,     0.67568,     0.67668,     0.67768,     0.67868,     0.67968,     0.68068,     0.68168,     0.68268,     0.68368,     0.68468,     0.68569,     0.68669,     0.68769,     0.68869,     0.68969,     0.69069,     0.69169,     0.69269,     0.69369,     0.69469,      0.6957,\n",
       "            0.6967,      0.6977,      0.6987,      0.6997,      0.7007,      0.7017,      0.7027,      0.7037,      0.7047,     0.70571,     0.70671,     0.70771,     0.70871,     0.70971,     0.71071,     0.71171,     0.71271,     0.71371,     0.71471,     0.71572,     0.71672,     0.71772,     0.71872,     0.71972,\n",
       "           0.72072,     0.72172,     0.72272,     0.72372,     0.72472,     0.72573,     0.72673,     0.72773,     0.72873,     0.72973,     0.73073,     0.73173,     0.73273,     0.73373,     0.73473,     0.73574,     0.73674,     0.73774,     0.73874,     0.73974,     0.74074,     0.74174,     0.74274,     0.74374,\n",
       "           0.74474,     0.74575,     0.74675,     0.74775,     0.74875,     0.74975,     0.75075,     0.75175,     0.75275,     0.75375,     0.75475,     0.75576,     0.75676,     0.75776,     0.75876,     0.75976,     0.76076,     0.76176,     0.76276,     0.76376,     0.76476,     0.76577,     0.76677,     0.76777,\n",
       "           0.76877,     0.76977,     0.77077,     0.77177,     0.77277,     0.77377,     0.77477,     0.77578,     0.77678,     0.77778,     0.77878,     0.77978,     0.78078,     0.78178,     0.78278,     0.78378,     0.78478,     0.78579,     0.78679,     0.78779,     0.78879,     0.78979,     0.79079,     0.79179,\n",
       "           0.79279,     0.79379,     0.79479,      0.7958,      0.7968,      0.7978,      0.7988,      0.7998,      0.8008,      0.8018,      0.8028,      0.8038,      0.8048,     0.80581,     0.80681,     0.80781,     0.80881,     0.80981,     0.81081,     0.81181,     0.81281,     0.81381,     0.81481,     0.81582,\n",
       "           0.81682,     0.81782,     0.81882,     0.81982,     0.82082,     0.82182,     0.82282,     0.82382,     0.82482,     0.82583,     0.82683,     0.82783,     0.82883,     0.82983,     0.83083,     0.83183,     0.83283,     0.83383,     0.83483,     0.83584,     0.83684,     0.83784,     0.83884,     0.83984,\n",
       "           0.84084,     0.84184,     0.84284,     0.84384,     0.84484,     0.84585,     0.84685,     0.84785,     0.84885,     0.84985,     0.85085,     0.85185,     0.85285,     0.85385,     0.85485,     0.85586,     0.85686,     0.85786,     0.85886,     0.85986,     0.86086,     0.86186,     0.86286,     0.86386,\n",
       "           0.86486,     0.86587,     0.86687,     0.86787,     0.86887,     0.86987,     0.87087,     0.87187,     0.87287,     0.87387,     0.87487,     0.87588,     0.87688,     0.87788,     0.87888,     0.87988,     0.88088,     0.88188,     0.88288,     0.88388,     0.88488,     0.88589,     0.88689,     0.88789,\n",
       "           0.88889,     0.88989,     0.89089,     0.89189,     0.89289,     0.89389,     0.89489,      0.8959,      0.8969,      0.8979,      0.8989,      0.8999,      0.9009,      0.9019,      0.9029,      0.9039,      0.9049,     0.90591,     0.90691,     0.90791,     0.90891,     0.90991,     0.91091,     0.91191,\n",
       "           0.91291,     0.91391,     0.91491,     0.91592,     0.91692,     0.91792,     0.91892,     0.91992,     0.92092,     0.92192,     0.92292,     0.92392,     0.92492,     0.92593,     0.92693,     0.92793,     0.92893,     0.92993,     0.93093,     0.93193,     0.93293,     0.93393,     0.93493,     0.93594,\n",
       "           0.93694,     0.93794,     0.93894,     0.93994,     0.94094,     0.94194,     0.94294,     0.94394,     0.94494,     0.94595,     0.94695,     0.94795,     0.94895,     0.94995,     0.95095,     0.95195,     0.95295,     0.95395,     0.95495,     0.95596,     0.95696,     0.95796,     0.95896,     0.95996,\n",
       "           0.96096,     0.96196,     0.96296,     0.96396,     0.96496,     0.96597,     0.96697,     0.96797,     0.96897,     0.96997,     0.97097,     0.97197,     0.97297,     0.97397,     0.97497,     0.97598,     0.97698,     0.97798,     0.97898,     0.97998,     0.98098,     0.98198,     0.98298,     0.98398,\n",
       "           0.98498,     0.98599,     0.98699,     0.98799,     0.98899,     0.98999,     0.99099,     0.99199,     0.99299,     0.99399,     0.99499,       0.996,       0.997,       0.998,       0.999,           1]), array([[    0.85328,     0.85328,     0.88744,      0.9017,     0.91549,     0.92302,     0.92836,     0.92999,     0.93528,     0.93852,     0.94041,     0.94255,     0.94359,     0.94401,     0.94441,     0.94475,     0.94509,     0.94545,     0.94625,     0.94722,     0.94778,     0.94803,     0.94829,\n",
       "            0.94855,      0.9488,     0.94904,     0.94927,      0.9495,     0.94974,     0.94964,     0.94933,     0.94903,     0.94873,      0.9487,     0.94887,     0.94905,     0.94922,      0.9494,     0.94958,     0.94957,     0.94901,     0.94847,     0.94837,     0.94827,     0.94816,     0.94806,\n",
       "            0.94796,     0.94785,     0.94775,     0.94765,     0.94754,     0.94744,     0.94734,     0.94725,     0.94726,     0.94728,      0.9473,     0.94731,     0.94733,     0.94735,     0.94737,     0.94738,      0.9474,     0.94742,     0.94743,     0.94745,     0.94747,     0.94748,      0.9475,\n",
       "            0.94752,     0.94753,     0.94755,     0.94757,     0.94759,      0.9476,     0.94762,     0.94764,     0.94765,     0.94767,     0.94769,      0.9477,     0.94772,     0.94774,     0.94775,     0.94777,     0.94779,     0.94781,     0.94782,     0.94784,     0.94786,     0.94787,     0.94789,\n",
       "            0.94791,     0.94792,     0.94794,     0.94796,     0.94797,     0.94799,     0.94801,     0.94803,     0.94804,     0.94806,     0.94808,     0.94809,     0.94811,     0.94813,     0.94814,     0.94816,     0.94818,     0.94819,     0.94821,     0.94823,     0.94824,     0.94826,     0.94828,\n",
       "             0.9483,     0.94831,     0.94833,     0.94835,     0.94839,     0.94846,     0.94853,     0.94861,     0.94868,     0.94875,     0.94883,      0.9489,     0.94897,     0.94905,     0.94912,     0.94919,     0.94927,     0.94934,     0.94941,     0.94948,     0.94953,     0.94957,     0.94962,\n",
       "            0.94966,     0.94971,     0.94975,      0.9498,     0.94985,     0.94989,     0.94994,     0.94998,     0.95003,     0.95007,     0.95012,     0.95016,     0.95021,     0.95025,      0.9503,     0.95035,     0.95039,     0.95044,     0.95048,     0.95053,     0.95057,     0.95149,     0.95187,\n",
       "            0.95205,     0.95224,     0.95242,     0.95261,     0.95279,     0.95281,     0.95279,     0.95276,     0.95274,     0.95271,     0.95269,     0.95267,     0.95264,     0.95262,     0.95259,     0.95257,     0.95254,     0.95252,      0.9525,     0.95247,     0.95245,     0.95242,      0.9524,\n",
       "            0.95238,     0.95235,     0.95233,      0.9523,     0.95228,     0.95225,     0.95223,     0.95221,     0.95218,     0.95216,     0.95213,     0.95211,     0.95209,     0.95206,     0.95204,     0.95201,     0.95199,     0.95196,     0.95194,     0.95192,     0.95189,     0.95187,     0.95184,\n",
       "            0.95182,     0.95179,     0.95177,     0.95175,     0.95172,      0.9517,     0.95167,     0.95165,     0.95163,      0.9516,     0.95161,     0.95164,     0.95166,     0.95169,     0.95172,     0.95174,     0.95177,     0.95179,     0.95182,     0.95185,     0.95187,      0.9519,     0.95192,\n",
       "            0.95195,     0.95198,       0.952,     0.95203,     0.95205,     0.95208,     0.95211,     0.95213,     0.95216,     0.95218,     0.95221,     0.95224,     0.95226,     0.95229,     0.95231,     0.95234,     0.95237,     0.95239,     0.95242,     0.95244,     0.95247,      0.9525,     0.95252,\n",
       "            0.95255,     0.95257,      0.9526,     0.95263,     0.95265,     0.95268,      0.9527,     0.95274,     0.95278,     0.95283,     0.95288,     0.95292,     0.95297,     0.95301,     0.95306,      0.9531,     0.95315,      0.9532,     0.95324,     0.95329,     0.95333,     0.95338,     0.95343,\n",
       "            0.95347,     0.95352,     0.95356,     0.95361,     0.95366,      0.9537,     0.95375,     0.95379,     0.95384,     0.95404,     0.95428,     0.95452,     0.95476,     0.95498,     0.95507,     0.95516,     0.95525,     0.95534,     0.95543,     0.95552,     0.95561,      0.9557,     0.95579,\n",
       "            0.95588,     0.95597,     0.95606,      0.9561,     0.95607,     0.95605,     0.95602,       0.956,     0.95598,     0.95595,     0.95593,      0.9559,     0.95588,     0.95585,     0.95583,     0.95581,     0.95578,     0.95576,     0.95573,     0.95571,     0.95568,     0.95566,     0.95564,\n",
       "            0.95561,     0.95559,     0.95556,     0.95554,     0.95551,     0.95549,     0.95547,     0.95544,     0.95542,     0.95539,     0.95537,     0.95534,     0.95532,      0.9553,     0.95527,     0.95525,     0.95522,      0.9552,     0.95517,     0.95515,     0.95513,      0.9551,     0.95508,\n",
       "            0.95505,     0.95503,       0.955,     0.95498,     0.95496,     0.95493,     0.95491,     0.95488,     0.95488,      0.9549,     0.95492,     0.95494,     0.95496,     0.95499,     0.95501,     0.95503,     0.95505,     0.95507,     0.95509,     0.95512,     0.95514,     0.95516,     0.95518,\n",
       "             0.9552,     0.95522,     0.95524,     0.95527,     0.95529,     0.95531,     0.95533,     0.95535,     0.95537,      0.9554,     0.95542,     0.95544,     0.95546,     0.95548,      0.9555,     0.95552,     0.95555,     0.95557,     0.95559,     0.95561,     0.95563,     0.95565,     0.95567,\n",
       "             0.9557,     0.95572,     0.95574,     0.95576,     0.95578,      0.9558,     0.95582,     0.95585,     0.95587,     0.95589,     0.95591,     0.95593,     0.95595,     0.95598,       0.956,     0.95601,     0.95602,     0.95603,     0.95604,     0.95605,     0.95606,     0.95606,     0.95607,\n",
       "            0.95608,     0.95609,      0.9561,     0.95611,     0.95612,     0.95613,     0.95614,     0.95614,     0.95615,     0.95616,     0.95617,     0.95618,     0.95619,      0.9562,     0.95621,     0.95622,     0.95623,     0.95623,     0.95624,     0.95625,     0.95626,     0.95627,     0.95628,\n",
       "            0.95629,      0.9563,     0.95631,     0.95631,     0.95632,     0.95633,     0.95634,     0.95635,     0.95636,     0.95637,     0.95638,     0.95639,      0.9564,      0.9564,     0.95641,     0.95642,     0.95643,     0.95644,     0.95645,     0.95646,     0.95647,     0.95648,     0.95648,\n",
       "            0.95649,      0.9565,     0.95651,     0.95652,     0.95653,     0.95654,     0.95655,     0.95656,     0.95657,     0.95657,     0.95658,     0.95659,      0.9566,     0.95661,     0.95662,     0.95663,     0.95664,     0.95665,     0.95665,     0.95666,     0.95667,     0.95668,     0.95669,\n",
       "             0.9567,     0.95671,     0.95672,     0.95673,     0.95674,     0.95674,     0.95675,     0.95676,     0.95677,     0.95678,     0.95679,      0.9568,     0.95681,     0.95682,     0.95682,     0.95683,     0.95684,     0.95685,     0.95686,     0.95687,     0.95688,     0.95689,      0.9569,\n",
       "            0.95691,     0.95691,     0.95692,     0.95693,     0.95694,     0.95695,     0.95696,     0.95697,     0.95698,     0.95699,     0.95699,       0.957,     0.95701,     0.95702,     0.95703,     0.95704,     0.95705,     0.95706,     0.95707,     0.95707,     0.95708,     0.95709,      0.9571,\n",
       "            0.95711,     0.95712,     0.95713,     0.95714,     0.95715,     0.95716,     0.95718,     0.95719,     0.95721,     0.95722,     0.95724,     0.95725,     0.95727,     0.95728,      0.9573,     0.95731,     0.95733,     0.95734,     0.95736,     0.95737,     0.95739,      0.9574,     0.95742,\n",
       "            0.95743,     0.95745,     0.95746,     0.95748,     0.95749,     0.95751,     0.95752,     0.95754,     0.95755,     0.95757,     0.95758,      0.9576,     0.95761,     0.95763,     0.95764,     0.95766,     0.95767,     0.95769,      0.9577,     0.95772,     0.95773,     0.95775,     0.95776,\n",
       "            0.95778,     0.95779,     0.95781,     0.95782,     0.95784,     0.95785,     0.95786,     0.95788,     0.95789,     0.95791,     0.95792,     0.95794,     0.95795,     0.95797,     0.95798,       0.958,     0.95801,     0.95803,     0.95804,     0.95806,     0.95807,     0.95809,      0.9581,\n",
       "            0.95812,     0.95813,     0.95815,     0.95816,     0.95818,     0.95819,     0.95821,     0.95822,     0.95824,     0.95825,     0.95827,     0.95828,     0.95829,      0.9583,     0.95832,     0.95833,     0.95834,     0.95835,     0.95836,     0.95837,     0.95838,     0.95839,      0.9584,\n",
       "            0.95841,     0.95842,     0.95844,     0.95845,     0.95846,     0.95847,     0.95848,     0.95849,      0.9585,     0.95851,     0.95852,     0.95853,     0.95855,     0.95856,     0.95857,     0.95858,     0.95859,      0.9586,     0.95861,     0.95862,     0.95863,     0.95864,     0.95865,\n",
       "            0.95867,     0.95868,     0.95869,      0.9587,     0.95871,     0.95872,     0.95873,     0.95874,     0.95875,     0.95876,     0.95877,     0.95879,      0.9588,     0.95881,     0.95882,     0.95883,     0.95884,     0.95885,     0.95886,     0.95887,     0.95888,      0.9589,     0.95891,\n",
       "            0.95892,     0.95893,     0.95894,     0.95895,     0.95896,     0.95897,     0.95898,     0.95899,       0.959,     0.95902,     0.95903,     0.95904,     0.95905,     0.95906,     0.95907,     0.95908,     0.95909,      0.9591,     0.95911,     0.95912,     0.95914,     0.95915,     0.95916,\n",
       "            0.95917,     0.95918,     0.95919,      0.9592,     0.95921,     0.95922,     0.95923,     0.95924,     0.95926,     0.95927,     0.95928,     0.95929,      0.9593,     0.95931,     0.95932,     0.95933,     0.95934,     0.95935,     0.95936,     0.95938,     0.95939,      0.9594,     0.95941,\n",
       "            0.95942,     0.95932,     0.95895,     0.95858,     0.95821,     0.95833,     0.95848,     0.95863,     0.95879,     0.95894,     0.95909,     0.95924,     0.95929,     0.95921,     0.95912,     0.95903,     0.95894,     0.95886,     0.95877,     0.95868,      0.9586,     0.95851,     0.95842,\n",
       "            0.95834,     0.95825,     0.95816,     0.95807,     0.95792,     0.95777,     0.95761,     0.95746,     0.95731,     0.95716,     0.95701,     0.95685,     0.95554,     0.95549,     0.95544,     0.95539,     0.95534,     0.95529,     0.95524,     0.95519,     0.95514,     0.95509,     0.95504,\n",
       "            0.95499,     0.95494,     0.95489,     0.95484,     0.95479,     0.95474,     0.95469,     0.95464,     0.95459,     0.95454,     0.95449,     0.95444,     0.95439,     0.95434,     0.95442,     0.95456,      0.9547,     0.95483,     0.95497,     0.95511,     0.95525,     0.95538,     0.95514,\n",
       "            0.95421,      0.9541,       0.954,      0.9539,     0.95379,     0.95369,     0.95359,     0.95348,     0.95338,     0.95328,     0.95317,     0.95307,     0.95297,     0.95261,     0.95222,     0.95183,     0.95151,     0.95122,     0.95094,     0.95066,     0.95039,      0.9502,        0.95,\n",
       "            0.94981,     0.94962,     0.94943,     0.94923,     0.94907,     0.94892,     0.94878,     0.94863,     0.94849,     0.94834,     0.94819,     0.94805,      0.9479,     0.94776,     0.94762,     0.94749,     0.94735,     0.94721,     0.94707,     0.94693,     0.94679,     0.94665,     0.94651,\n",
       "            0.94637,     0.94622,     0.94608,     0.94594,     0.94579,     0.94565,     0.94551,     0.94536,     0.94539,     0.94549,     0.94559,     0.94569,     0.94579,     0.94588,     0.94598,     0.94608,     0.94618,     0.94628,     0.94637,     0.94647,     0.94627,     0.94606,     0.94586,\n",
       "            0.94566,     0.94546,     0.94525,     0.94508,     0.94493,     0.94478,     0.94463,     0.94447,     0.94432,     0.94417,     0.94402,     0.94264,     0.94283,     0.94301,      0.9432,     0.94338,     0.94357,     0.94375,     0.94244,     0.94114,     0.94104,     0.94093,     0.94082,\n",
       "            0.94072,     0.94061,      0.9405,     0.94039,     0.94029,     0.94018,     0.94007,     0.93996,     0.93962,     0.93851,     0.93821,     0.93792,     0.93762,     0.93732,     0.93707,     0.93682,     0.93658,     0.93634,     0.93609,     0.93592,     0.93582,     0.93572,     0.93563,\n",
       "            0.93553,     0.93543,     0.93533,     0.93524,     0.93514,     0.93504,     0.93495,     0.93485,     0.93475,     0.93466,     0.93441,     0.93415,     0.93389,     0.93363,     0.93338,      0.9307,     0.93041,     0.93012,     0.92983,     0.92954,     0.92893,     0.92793,     0.92728,\n",
       "            0.92667,     0.92633,     0.92598,     0.92564,     0.92463,     0.92231,     0.92173,     0.92119,      0.9207,     0.92021,     0.91767,     0.91677,     0.91616,     0.91493,     0.91399,     0.91323,     0.91238,     0.90978,     0.90815,     0.90727,     0.90663,     0.90598,     0.90532,\n",
       "            0.90473,     0.90422,     0.90372,     0.90245,     0.90042,     0.89968,     0.89864,     0.89742,     0.89469,     0.89214,     0.89171,     0.89128,     0.89064,     0.88887,     0.88795,     0.88375,     0.88217,     0.87989,     0.87672,     0.87552,      0.8729,     0.87173,     0.87092,\n",
       "            0.86757,     0.86448,      0.8632,     0.85773,      0.8545,     0.85066,     0.84675,     0.84434,     0.83903,     0.83125,     0.81961,     0.80927,     0.80334,     0.79986,     0.79508,     0.76925,     0.74976,     0.71955,     0.69086,     0.65222,     0.61195,     0.56835,     0.49628,\n",
       "            0.43676,     0.37393,     0.23157,     0.09937,     0.04695,           0,           0,           0,           0,           0,           0]]), 'Confidence', 'F1'], [array([          0,    0.001001,    0.002002,    0.003003,    0.004004,    0.005005,    0.006006,    0.007007,    0.008008,    0.009009,     0.01001,    0.011011,    0.012012,    0.013013,    0.014014,    0.015015,    0.016016,    0.017017,    0.018018,    0.019019,     0.02002,    0.021021,    0.022022,    0.023023,\n",
       "          0.024024,    0.025025,    0.026026,    0.027027,    0.028028,    0.029029,     0.03003,    0.031031,    0.032032,    0.033033,    0.034034,    0.035035,    0.036036,    0.037037,    0.038038,    0.039039,     0.04004,    0.041041,    0.042042,    0.043043,    0.044044,    0.045045,    0.046046,    0.047047,\n",
       "          0.048048,    0.049049,     0.05005,    0.051051,    0.052052,    0.053053,    0.054054,    0.055055,    0.056056,    0.057057,    0.058058,    0.059059,     0.06006,    0.061061,    0.062062,    0.063063,    0.064064,    0.065065,    0.066066,    0.067067,    0.068068,    0.069069,     0.07007,    0.071071,\n",
       "          0.072072,    0.073073,    0.074074,    0.075075,    0.076076,    0.077077,    0.078078,    0.079079,     0.08008,    0.081081,    0.082082,    0.083083,    0.084084,    0.085085,    0.086086,    0.087087,    0.088088,    0.089089,     0.09009,    0.091091,    0.092092,    0.093093,    0.094094,    0.095095,\n",
       "          0.096096,    0.097097,    0.098098,    0.099099,      0.1001,      0.1011,      0.1021,      0.1031,      0.1041,     0.10511,     0.10611,     0.10711,     0.10811,     0.10911,     0.11011,     0.11111,     0.11211,     0.11311,     0.11411,     0.11512,     0.11612,     0.11712,     0.11812,     0.11912,\n",
       "           0.12012,     0.12112,     0.12212,     0.12312,     0.12412,     0.12513,     0.12613,     0.12713,     0.12813,     0.12913,     0.13013,     0.13113,     0.13213,     0.13313,     0.13413,     0.13514,     0.13614,     0.13714,     0.13814,     0.13914,     0.14014,     0.14114,     0.14214,     0.14314,\n",
       "           0.14414,     0.14515,     0.14615,     0.14715,     0.14815,     0.14915,     0.15015,     0.15115,     0.15215,     0.15315,     0.15415,     0.15516,     0.15616,     0.15716,     0.15816,     0.15916,     0.16016,     0.16116,     0.16216,     0.16316,     0.16416,     0.16517,     0.16617,     0.16717,\n",
       "           0.16817,     0.16917,     0.17017,     0.17117,     0.17217,     0.17317,     0.17417,     0.17518,     0.17618,     0.17718,     0.17818,     0.17918,     0.18018,     0.18118,     0.18218,     0.18318,     0.18418,     0.18519,     0.18619,     0.18719,     0.18819,     0.18919,     0.19019,     0.19119,\n",
       "           0.19219,     0.19319,     0.19419,      0.1952,      0.1962,      0.1972,      0.1982,      0.1992,      0.2002,      0.2012,      0.2022,      0.2032,      0.2042,     0.20521,     0.20621,     0.20721,     0.20821,     0.20921,     0.21021,     0.21121,     0.21221,     0.21321,     0.21421,     0.21522,\n",
       "           0.21622,     0.21722,     0.21822,     0.21922,     0.22022,     0.22122,     0.22222,     0.22322,     0.22422,     0.22523,     0.22623,     0.22723,     0.22823,     0.22923,     0.23023,     0.23123,     0.23223,     0.23323,     0.23423,     0.23524,     0.23624,     0.23724,     0.23824,     0.23924,\n",
       "           0.24024,     0.24124,     0.24224,     0.24324,     0.24424,     0.24525,     0.24625,     0.24725,     0.24825,     0.24925,     0.25025,     0.25125,     0.25225,     0.25325,     0.25425,     0.25526,     0.25626,     0.25726,     0.25826,     0.25926,     0.26026,     0.26126,     0.26226,     0.26326,\n",
       "           0.26426,     0.26527,     0.26627,     0.26727,     0.26827,     0.26927,     0.27027,     0.27127,     0.27227,     0.27327,     0.27427,     0.27528,     0.27628,     0.27728,     0.27828,     0.27928,     0.28028,     0.28128,     0.28228,     0.28328,     0.28428,     0.28529,     0.28629,     0.28729,\n",
       "           0.28829,     0.28929,     0.29029,     0.29129,     0.29229,     0.29329,     0.29429,      0.2953,      0.2963,      0.2973,      0.2983,      0.2993,      0.3003,      0.3013,      0.3023,      0.3033,      0.3043,     0.30531,     0.30631,     0.30731,     0.30831,     0.30931,     0.31031,     0.31131,\n",
       "           0.31231,     0.31331,     0.31431,     0.31532,     0.31632,     0.31732,     0.31832,     0.31932,     0.32032,     0.32132,     0.32232,     0.32332,     0.32432,     0.32533,     0.32633,     0.32733,     0.32833,     0.32933,     0.33033,     0.33133,     0.33233,     0.33333,     0.33433,     0.33534,\n",
       "           0.33634,     0.33734,     0.33834,     0.33934,     0.34034,     0.34134,     0.34234,     0.34334,     0.34434,     0.34535,     0.34635,     0.34735,     0.34835,     0.34935,     0.35035,     0.35135,     0.35235,     0.35335,     0.35435,     0.35536,     0.35636,     0.35736,     0.35836,     0.35936,\n",
       "           0.36036,     0.36136,     0.36236,     0.36336,     0.36436,     0.36537,     0.36637,     0.36737,     0.36837,     0.36937,     0.37037,     0.37137,     0.37237,     0.37337,     0.37437,     0.37538,     0.37638,     0.37738,     0.37838,     0.37938,     0.38038,     0.38138,     0.38238,     0.38338,\n",
       "           0.38438,     0.38539,     0.38639,     0.38739,     0.38839,     0.38939,     0.39039,     0.39139,     0.39239,     0.39339,     0.39439,      0.3954,      0.3964,      0.3974,      0.3984,      0.3994,      0.4004,      0.4014,      0.4024,      0.4034,      0.4044,     0.40541,     0.40641,     0.40741,\n",
       "           0.40841,     0.40941,     0.41041,     0.41141,     0.41241,     0.41341,     0.41441,     0.41542,     0.41642,     0.41742,     0.41842,     0.41942,     0.42042,     0.42142,     0.42242,     0.42342,     0.42442,     0.42543,     0.42643,     0.42743,     0.42843,     0.42943,     0.43043,     0.43143,\n",
       "           0.43243,     0.43343,     0.43443,     0.43544,     0.43644,     0.43744,     0.43844,     0.43944,     0.44044,     0.44144,     0.44244,     0.44344,     0.44444,     0.44545,     0.44645,     0.44745,     0.44845,     0.44945,     0.45045,     0.45145,     0.45245,     0.45345,     0.45445,     0.45546,\n",
       "           0.45646,     0.45746,     0.45846,     0.45946,     0.46046,     0.46146,     0.46246,     0.46346,     0.46446,     0.46547,     0.46647,     0.46747,     0.46847,     0.46947,     0.47047,     0.47147,     0.47247,     0.47347,     0.47447,     0.47548,     0.47648,     0.47748,     0.47848,     0.47948,\n",
       "           0.48048,     0.48148,     0.48248,     0.48348,     0.48448,     0.48549,     0.48649,     0.48749,     0.48849,     0.48949,     0.49049,     0.49149,     0.49249,     0.49349,     0.49449,      0.4955,      0.4965,      0.4975,      0.4985,      0.4995,      0.5005,      0.5015,      0.5025,      0.5035,\n",
       "            0.5045,     0.50551,     0.50651,     0.50751,     0.50851,     0.50951,     0.51051,     0.51151,     0.51251,     0.51351,     0.51451,     0.51552,     0.51652,     0.51752,     0.51852,     0.51952,     0.52052,     0.52152,     0.52252,     0.52352,     0.52452,     0.52553,     0.52653,     0.52753,\n",
       "           0.52853,     0.52953,     0.53053,     0.53153,     0.53253,     0.53353,     0.53453,     0.53554,     0.53654,     0.53754,     0.53854,     0.53954,     0.54054,     0.54154,     0.54254,     0.54354,     0.54454,     0.54555,     0.54655,     0.54755,     0.54855,     0.54955,     0.55055,     0.55155,\n",
       "           0.55255,     0.55355,     0.55455,     0.55556,     0.55656,     0.55756,     0.55856,     0.55956,     0.56056,     0.56156,     0.56256,     0.56356,     0.56456,     0.56557,     0.56657,     0.56757,     0.56857,     0.56957,     0.57057,     0.57157,     0.57257,     0.57357,     0.57457,     0.57558,\n",
       "           0.57658,     0.57758,     0.57858,     0.57958,     0.58058,     0.58158,     0.58258,     0.58358,     0.58458,     0.58559,     0.58659,     0.58759,     0.58859,     0.58959,     0.59059,     0.59159,     0.59259,     0.59359,     0.59459,      0.5956,      0.5966,      0.5976,      0.5986,      0.5996,\n",
       "            0.6006,      0.6016,      0.6026,      0.6036,      0.6046,     0.60561,     0.60661,     0.60761,     0.60861,     0.60961,     0.61061,     0.61161,     0.61261,     0.61361,     0.61461,     0.61562,     0.61662,     0.61762,     0.61862,     0.61962,     0.62062,     0.62162,     0.62262,     0.62362,\n",
       "           0.62462,     0.62563,     0.62663,     0.62763,     0.62863,     0.62963,     0.63063,     0.63163,     0.63263,     0.63363,     0.63463,     0.63564,     0.63664,     0.63764,     0.63864,     0.63964,     0.64064,     0.64164,     0.64264,     0.64364,     0.64464,     0.64565,     0.64665,     0.64765,\n",
       "           0.64865,     0.64965,     0.65065,     0.65165,     0.65265,     0.65365,     0.65465,     0.65566,     0.65666,     0.65766,     0.65866,     0.65966,     0.66066,     0.66166,     0.66266,     0.66366,     0.66466,     0.66567,     0.66667,     0.66767,     0.66867,     0.66967,     0.67067,     0.67167,\n",
       "           0.67267,     0.67367,     0.67467,     0.67568,     0.67668,     0.67768,     0.67868,     0.67968,     0.68068,     0.68168,     0.68268,     0.68368,     0.68468,     0.68569,     0.68669,     0.68769,     0.68869,     0.68969,     0.69069,     0.69169,     0.69269,     0.69369,     0.69469,      0.6957,\n",
       "            0.6967,      0.6977,      0.6987,      0.6997,      0.7007,      0.7017,      0.7027,      0.7037,      0.7047,     0.70571,     0.70671,     0.70771,     0.70871,     0.70971,     0.71071,     0.71171,     0.71271,     0.71371,     0.71471,     0.71572,     0.71672,     0.71772,     0.71872,     0.71972,\n",
       "           0.72072,     0.72172,     0.72272,     0.72372,     0.72472,     0.72573,     0.72673,     0.72773,     0.72873,     0.72973,     0.73073,     0.73173,     0.73273,     0.73373,     0.73473,     0.73574,     0.73674,     0.73774,     0.73874,     0.73974,     0.74074,     0.74174,     0.74274,     0.74374,\n",
       "           0.74474,     0.74575,     0.74675,     0.74775,     0.74875,     0.74975,     0.75075,     0.75175,     0.75275,     0.75375,     0.75475,     0.75576,     0.75676,     0.75776,     0.75876,     0.75976,     0.76076,     0.76176,     0.76276,     0.76376,     0.76476,     0.76577,     0.76677,     0.76777,\n",
       "           0.76877,     0.76977,     0.77077,     0.77177,     0.77277,     0.77377,     0.77477,     0.77578,     0.77678,     0.77778,     0.77878,     0.77978,     0.78078,     0.78178,     0.78278,     0.78378,     0.78478,     0.78579,     0.78679,     0.78779,     0.78879,     0.78979,     0.79079,     0.79179,\n",
       "           0.79279,     0.79379,     0.79479,      0.7958,      0.7968,      0.7978,      0.7988,      0.7998,      0.8008,      0.8018,      0.8028,      0.8038,      0.8048,     0.80581,     0.80681,     0.80781,     0.80881,     0.80981,     0.81081,     0.81181,     0.81281,     0.81381,     0.81481,     0.81582,\n",
       "           0.81682,     0.81782,     0.81882,     0.81982,     0.82082,     0.82182,     0.82282,     0.82382,     0.82482,     0.82583,     0.82683,     0.82783,     0.82883,     0.82983,     0.83083,     0.83183,     0.83283,     0.83383,     0.83483,     0.83584,     0.83684,     0.83784,     0.83884,     0.83984,\n",
       "           0.84084,     0.84184,     0.84284,     0.84384,     0.84484,     0.84585,     0.84685,     0.84785,     0.84885,     0.84985,     0.85085,     0.85185,     0.85285,     0.85385,     0.85485,     0.85586,     0.85686,     0.85786,     0.85886,     0.85986,     0.86086,     0.86186,     0.86286,     0.86386,\n",
       "           0.86486,     0.86587,     0.86687,     0.86787,     0.86887,     0.86987,     0.87087,     0.87187,     0.87287,     0.87387,     0.87487,     0.87588,     0.87688,     0.87788,     0.87888,     0.87988,     0.88088,     0.88188,     0.88288,     0.88388,     0.88488,     0.88589,     0.88689,     0.88789,\n",
       "           0.88889,     0.88989,     0.89089,     0.89189,     0.89289,     0.89389,     0.89489,      0.8959,      0.8969,      0.8979,      0.8989,      0.8999,      0.9009,      0.9019,      0.9029,      0.9039,      0.9049,     0.90591,     0.90691,     0.90791,     0.90891,     0.90991,     0.91091,     0.91191,\n",
       "           0.91291,     0.91391,     0.91491,     0.91592,     0.91692,     0.91792,     0.91892,     0.91992,     0.92092,     0.92192,     0.92292,     0.92392,     0.92492,     0.92593,     0.92693,     0.92793,     0.92893,     0.92993,     0.93093,     0.93193,     0.93293,     0.93393,     0.93493,     0.93594,\n",
       "           0.93694,     0.93794,     0.93894,     0.93994,     0.94094,     0.94194,     0.94294,     0.94394,     0.94494,     0.94595,     0.94695,     0.94795,     0.94895,     0.94995,     0.95095,     0.95195,     0.95295,     0.95395,     0.95495,     0.95596,     0.95696,     0.95796,     0.95896,     0.95996,\n",
       "           0.96096,     0.96196,     0.96296,     0.96396,     0.96496,     0.96597,     0.96697,     0.96797,     0.96897,     0.96997,     0.97097,     0.97197,     0.97297,     0.97397,     0.97497,     0.97598,     0.97698,     0.97798,     0.97898,     0.97998,     0.98098,     0.98198,     0.98298,     0.98398,\n",
       "           0.98498,     0.98599,     0.98699,     0.98799,     0.98899,     0.98999,     0.99099,     0.99199,     0.99299,     0.99399,     0.99499,       0.996,       0.997,       0.998,       0.999,           1]), array([[    0.77505,     0.77505,     0.83693,      0.8646,     0.89031,     0.90468,     0.91499,     0.91816,     0.92854,     0.93495,      0.9387,     0.94298,     0.94505,      0.9459,      0.9467,     0.94739,     0.94807,      0.9488,     0.95041,     0.95236,     0.95349,     0.95401,     0.95454,\n",
       "            0.95507,     0.95557,     0.95605,     0.95652,       0.957,     0.95747,     0.95763,     0.95761,     0.95758,     0.95756,     0.95775,     0.95811,     0.95847,     0.95883,     0.95918,     0.95954,      0.9598,     0.95976,     0.95972,     0.95971,      0.9597,     0.95969,     0.95968,\n",
       "            0.95968,     0.95967,     0.95966,     0.95965,     0.95964,     0.95964,     0.95963,     0.95962,     0.95966,     0.95969,     0.95973,     0.95976,      0.9598,     0.95983,     0.95987,      0.9599,     0.95994,     0.95997,     0.96001,     0.96004,     0.96008,     0.96011,     0.96015,\n",
       "            0.96018,     0.96021,     0.96025,     0.96028,     0.96032,     0.96035,     0.96039,     0.96042,     0.96046,     0.96049,     0.96053,     0.96056,      0.9606,     0.96063,     0.96067,      0.9607,     0.96074,     0.96077,     0.96081,     0.96084,     0.96088,     0.96091,     0.96094,\n",
       "            0.96098,     0.96101,     0.96105,     0.96108,     0.96112,     0.96115,     0.96119,     0.96122,     0.96126,     0.96129,     0.96133,     0.96136,      0.9614,     0.96143,     0.96147,      0.9615,     0.96154,     0.96157,     0.96161,     0.96164,     0.96167,     0.96171,     0.96174,\n",
       "            0.96178,     0.96181,     0.96185,     0.96188,     0.96196,     0.96211,     0.96227,     0.96242,     0.96257,     0.96272,     0.96287,     0.96302,     0.96317,     0.96333,     0.96348,     0.96363,     0.96378,     0.96393,     0.96408,     0.96422,     0.96432,     0.96441,      0.9645,\n",
       "             0.9646,     0.96469,     0.96479,     0.96488,     0.96497,     0.96507,     0.96516,     0.96525,     0.96535,     0.96544,     0.96554,     0.96563,     0.96572,     0.96582,     0.96591,     0.96601,      0.9661,     0.96619,     0.96629,     0.96638,     0.96647,     0.96838,     0.96915,\n",
       "            0.96954,     0.96992,     0.97031,     0.97069,     0.97108,     0.97115,     0.97115,     0.97115,     0.97115,     0.97115,     0.97115,     0.97114,     0.97114,     0.97114,     0.97114,     0.97114,     0.97114,     0.97114,     0.97114,     0.97113,     0.97113,     0.97113,     0.97113,\n",
       "            0.97113,     0.97113,     0.97113,     0.97112,     0.97112,     0.97112,     0.97112,     0.97112,     0.97112,     0.97112,     0.97111,     0.97111,     0.97111,     0.97111,     0.97111,     0.97111,     0.97111,     0.97111,      0.9711,      0.9711,      0.9711,      0.9711,      0.9711,\n",
       "             0.9711,      0.9711,     0.97109,     0.97109,     0.97109,     0.97109,     0.97109,     0.97109,     0.97109,     0.97108,     0.97112,     0.97118,     0.97123,     0.97128,     0.97134,     0.97139,     0.97145,      0.9715,     0.97156,     0.97161,     0.97166,     0.97172,     0.97177,\n",
       "            0.97183,     0.97188,     0.97193,     0.97199,     0.97204,      0.9721,     0.97215,     0.97221,     0.97226,     0.97231,     0.97237,     0.97242,     0.97248,     0.97253,     0.97258,     0.97264,     0.97269,     0.97275,      0.9728,     0.97286,     0.97291,     0.97296,     0.97302,\n",
       "            0.97307,     0.97313,     0.97318,     0.97324,     0.97329,     0.97334,      0.9734,     0.97347,     0.97356,     0.97366,     0.97376,     0.97385,     0.97395,     0.97404,     0.97414,     0.97424,     0.97433,     0.97443,     0.97452,     0.97462,     0.97472,     0.97481,     0.97491,\n",
       "              0.975,      0.9751,      0.9752,     0.97529,     0.97539,     0.97548,     0.97558,     0.97568,     0.97577,      0.9762,      0.9767,      0.9772,      0.9777,     0.97817,     0.97836,     0.97855,     0.97874,     0.97893,     0.97912,      0.9793,     0.97949,     0.97968,     0.97987,\n",
       "            0.98006,     0.98025,     0.98044,     0.98053,     0.98053,     0.98053,     0.98053,     0.98053,     0.98053,     0.98053,     0.98053,     0.98053,     0.98053,     0.98053,     0.98052,     0.98052,     0.98052,     0.98052,     0.98052,     0.98052,     0.98052,     0.98052,     0.98052,\n",
       "            0.98052,     0.98052,     0.98051,     0.98051,     0.98051,     0.98051,     0.98051,     0.98051,     0.98051,     0.98051,     0.98051,     0.98051,     0.98051,      0.9805,      0.9805,      0.9805,      0.9805,      0.9805,      0.9805,      0.9805,      0.9805,      0.9805,      0.9805,\n",
       "            0.98049,     0.98049,     0.98049,     0.98049,     0.98049,     0.98049,     0.98049,     0.98049,     0.98051,     0.98055,      0.9806,     0.98064,     0.98069,     0.98073,     0.98078,     0.98083,     0.98087,     0.98092,     0.98096,     0.98101,     0.98105,      0.9811,     0.98114,\n",
       "            0.98119,     0.98123,     0.98128,     0.98132,     0.98137,     0.98142,     0.98146,     0.98151,     0.98155,      0.9816,     0.98164,     0.98169,     0.98173,     0.98178,     0.98182,     0.98187,     0.98191,     0.98196,     0.98201,     0.98205,      0.9821,     0.98214,     0.98219,\n",
       "            0.98223,     0.98228,     0.98232,     0.98237,     0.98241,     0.98246,      0.9825,     0.98255,      0.9826,     0.98264,     0.98269,     0.98273,     0.98278,     0.98282,     0.98287,      0.9829,     0.98292,     0.98293,     0.98295,     0.98297,     0.98299,     0.98301,     0.98303,\n",
       "            0.98305,     0.98307,     0.98309,     0.98311,     0.98312,     0.98314,     0.98316,     0.98318,      0.9832,     0.98322,     0.98324,     0.98326,     0.98328,     0.98329,     0.98331,     0.98333,     0.98335,     0.98337,     0.98339,     0.98341,     0.98343,     0.98345,     0.98346,\n",
       "            0.98348,      0.9835,     0.98352,     0.98354,     0.98356,     0.98358,      0.9836,     0.98362,     0.98364,     0.98365,     0.98367,     0.98369,     0.98371,     0.98373,     0.98375,     0.98377,     0.98379,     0.98381,     0.98382,     0.98384,     0.98386,     0.98388,      0.9839,\n",
       "            0.98392,     0.98394,     0.98396,     0.98398,     0.98399,     0.98401,     0.98403,     0.98405,     0.98407,     0.98409,     0.98411,     0.98413,     0.98415,     0.98417,     0.98418,      0.9842,     0.98422,     0.98424,     0.98426,     0.98428,      0.9843,     0.98432,     0.98434,\n",
       "            0.98435,     0.98437,     0.98439,     0.98441,     0.98443,     0.98445,     0.98447,     0.98449,     0.98451,     0.98453,     0.98454,     0.98456,     0.98458,      0.9846,     0.98462,     0.98464,     0.98466,     0.98468,      0.9847,     0.98471,     0.98473,     0.98475,     0.98477,\n",
       "            0.98479,     0.98481,     0.98483,     0.98485,     0.98487,     0.98488,      0.9849,     0.98492,     0.98494,     0.98496,     0.98498,       0.985,     0.98502,     0.98504,     0.98506,     0.98507,     0.98509,     0.98511,     0.98513,     0.98515,     0.98517,     0.98519,     0.98521,\n",
       "            0.98523,     0.98524,     0.98526,     0.98528,     0.98531,     0.98534,     0.98537,      0.9854,     0.98543,     0.98546,      0.9855,     0.98553,     0.98556,     0.98559,     0.98562,     0.98565,     0.98569,     0.98572,     0.98575,     0.98578,     0.98581,     0.98584,     0.98588,\n",
       "            0.98591,     0.98594,     0.98597,       0.986,     0.98603,     0.98607,      0.9861,     0.98613,     0.98616,     0.98619,     0.98622,     0.98626,     0.98629,     0.98632,     0.98635,     0.98638,     0.98641,     0.98645,     0.98648,     0.98651,     0.98654,     0.98657,      0.9866,\n",
       "            0.98664,     0.98667,      0.9867,     0.98673,     0.98676,     0.98679,     0.98683,     0.98686,     0.98689,     0.98692,     0.98695,     0.98698,     0.98702,     0.98705,     0.98708,     0.98711,     0.98714,     0.98717,     0.98721,     0.98724,     0.98727,      0.9873,     0.98733,\n",
       "            0.98736,      0.9874,     0.98743,     0.98746,     0.98749,     0.98752,     0.98755,     0.98759,     0.98762,     0.98765,     0.98768,     0.98771,     0.98774,     0.98776,     0.98778,     0.98781,     0.98783,     0.98785,     0.98788,      0.9879,     0.98792,     0.98795,     0.98797,\n",
       "            0.98799,     0.98801,     0.98804,     0.98806,     0.98808,     0.98811,     0.98813,     0.98815,     0.98818,      0.9882,     0.98822,     0.98825,     0.98827,     0.98829,     0.98832,     0.98834,     0.98836,     0.98839,     0.98841,     0.98843,     0.98846,     0.98848,      0.9885,\n",
       "            0.98853,     0.98855,     0.98857,      0.9886,     0.98862,     0.98864,     0.98867,     0.98869,     0.98871,     0.98874,     0.98876,     0.98878,     0.98881,     0.98883,     0.98885,     0.98888,      0.9889,     0.98892,     0.98895,     0.98897,     0.98899,     0.98901,     0.98904,\n",
       "            0.98906,     0.98908,     0.98911,     0.98913,     0.98915,     0.98918,      0.9892,     0.98922,     0.98925,     0.98927,     0.98929,     0.98932,     0.98934,     0.98936,     0.98939,     0.98941,     0.98943,     0.98946,     0.98948,      0.9895,     0.98953,     0.98955,     0.98957,\n",
       "             0.9896,     0.98962,     0.98964,     0.98967,     0.98969,     0.98971,     0.98974,     0.98976,     0.98978,     0.98981,     0.98983,     0.98985,     0.98988,      0.9899,     0.98992,     0.98995,     0.98997,     0.98999,     0.99001,     0.99004,     0.99006,     0.99008,     0.99011,\n",
       "            0.99013,     0.99015,     0.99014,     0.99013,     0.99012,     0.99043,     0.99076,     0.99108,     0.99141,     0.99174,     0.99206,     0.99239,     0.99257,     0.99257,     0.99257,     0.99257,     0.99257,     0.99257,     0.99257,     0.99256,     0.99256,     0.99256,     0.99256,\n",
       "            0.99256,     0.99256,     0.99256,     0.99256,     0.99255,     0.99255,     0.99255,     0.99255,     0.99254,     0.99254,     0.99254,     0.99254,     0.99252,     0.99252,     0.99252,     0.99252,     0.99252,     0.99251,     0.99251,     0.99251,     0.99251,     0.99251,     0.99251,\n",
       "            0.99251,     0.99251,     0.99251,     0.99251,     0.99251,     0.99251,     0.99251,      0.9925,      0.9925,      0.9925,      0.9925,      0.9925,      0.9925,      0.9925,     0.99271,       0.993,      0.9933,      0.9936,      0.9939,     0.99419,     0.99449,     0.99479,     0.99498,\n",
       "            0.99497,     0.99497,     0.99497,     0.99497,     0.99497,     0.99497,     0.99497,     0.99497,     0.99497,     0.99497,     0.99496,     0.99496,     0.99496,     0.99496,     0.99495,     0.99495,     0.99495,     0.99494,     0.99494,     0.99494,     0.99494,     0.99493,     0.99493,\n",
       "            0.99493,     0.99493,     0.99493,     0.99492,     0.99492,     0.99492,     0.99492,     0.99492,     0.99492,     0.99492,     0.99491,     0.99491,     0.99491,     0.99491,     0.99491,     0.99491,     0.99491,      0.9949,      0.9949,      0.9949,      0.9949,      0.9949,      0.9949,\n",
       "             0.9949,     0.99489,     0.99489,     0.99489,     0.99489,     0.99489,     0.99489,     0.99489,     0.99504,     0.99526,     0.99547,     0.99569,     0.99591,     0.99613,     0.99635,     0.99657,     0.99678,       0.997,     0.99722,     0.99744,     0.99743,     0.99743,     0.99743,\n",
       "            0.99743,     0.99743,     0.99743,     0.99743,     0.99743,     0.99743,     0.99743,     0.99743,     0.99742,     0.99742,     0.99742,     0.99748,      0.9979,     0.99831,     0.99873,     0.99914,     0.99956,     0.99997,           1,           1,           1,           1,           1,\n",
       "                  1,           1,           1,           1,           1,           1,           1,           1,           1,           1,           1,           1,           1,           1,           1,           1,           1,           1,           1,           1,           1,           1,           1,\n",
       "                  1,           1,           1,           1,           1,           1,           1,           1,           1,           1,           1,           1,           1,           1,           1,           1,           1,           1,           1,           1,           1,           1,           1,\n",
       "                  1,           1,           1,           1,           1,           1,           1,           1,           1,           1,           1,           1,           1,           1,           1,           1,           1,           1,           1,           1,           1,           1,           1,\n",
       "                  1,           1,           1,           1,           1,           1,           1,           1,           1,           1,           1,           1,           1,           1,           1,           1,           1,           1,           1,           1,           1,           1,           1,\n",
       "                  1,           1,           1,           1,           1,           1,           1,           1,           1,           1,           1,           1,           1,           1,           1,           1,           1,           1,           1,           1,           1,           1,           1,\n",
       "                  1,           1,           1,           1,           1,           1,           1,           1,           1,           1,           1]]), 'Confidence', 'Precision'], [array([          0,    0.001001,    0.002002,    0.003003,    0.004004,    0.005005,    0.006006,    0.007007,    0.008008,    0.009009,     0.01001,    0.011011,    0.012012,    0.013013,    0.014014,    0.015015,    0.016016,    0.017017,    0.018018,    0.019019,     0.02002,    0.021021,    0.022022,    0.023023,\n",
       "          0.024024,    0.025025,    0.026026,    0.027027,    0.028028,    0.029029,     0.03003,    0.031031,    0.032032,    0.033033,    0.034034,    0.035035,    0.036036,    0.037037,    0.038038,    0.039039,     0.04004,    0.041041,    0.042042,    0.043043,    0.044044,    0.045045,    0.046046,    0.047047,\n",
       "          0.048048,    0.049049,     0.05005,    0.051051,    0.052052,    0.053053,    0.054054,    0.055055,    0.056056,    0.057057,    0.058058,    0.059059,     0.06006,    0.061061,    0.062062,    0.063063,    0.064064,    0.065065,    0.066066,    0.067067,    0.068068,    0.069069,     0.07007,    0.071071,\n",
       "          0.072072,    0.073073,    0.074074,    0.075075,    0.076076,    0.077077,    0.078078,    0.079079,     0.08008,    0.081081,    0.082082,    0.083083,    0.084084,    0.085085,    0.086086,    0.087087,    0.088088,    0.089089,     0.09009,    0.091091,    0.092092,    0.093093,    0.094094,    0.095095,\n",
       "          0.096096,    0.097097,    0.098098,    0.099099,      0.1001,      0.1011,      0.1021,      0.1031,      0.1041,     0.10511,     0.10611,     0.10711,     0.10811,     0.10911,     0.11011,     0.11111,     0.11211,     0.11311,     0.11411,     0.11512,     0.11612,     0.11712,     0.11812,     0.11912,\n",
       "           0.12012,     0.12112,     0.12212,     0.12312,     0.12412,     0.12513,     0.12613,     0.12713,     0.12813,     0.12913,     0.13013,     0.13113,     0.13213,     0.13313,     0.13413,     0.13514,     0.13614,     0.13714,     0.13814,     0.13914,     0.14014,     0.14114,     0.14214,     0.14314,\n",
       "           0.14414,     0.14515,     0.14615,     0.14715,     0.14815,     0.14915,     0.15015,     0.15115,     0.15215,     0.15315,     0.15415,     0.15516,     0.15616,     0.15716,     0.15816,     0.15916,     0.16016,     0.16116,     0.16216,     0.16316,     0.16416,     0.16517,     0.16617,     0.16717,\n",
       "           0.16817,     0.16917,     0.17017,     0.17117,     0.17217,     0.17317,     0.17417,     0.17518,     0.17618,     0.17718,     0.17818,     0.17918,     0.18018,     0.18118,     0.18218,     0.18318,     0.18418,     0.18519,     0.18619,     0.18719,     0.18819,     0.18919,     0.19019,     0.19119,\n",
       "           0.19219,     0.19319,     0.19419,      0.1952,      0.1962,      0.1972,      0.1982,      0.1992,      0.2002,      0.2012,      0.2022,      0.2032,      0.2042,     0.20521,     0.20621,     0.20721,     0.20821,     0.20921,     0.21021,     0.21121,     0.21221,     0.21321,     0.21421,     0.21522,\n",
       "           0.21622,     0.21722,     0.21822,     0.21922,     0.22022,     0.22122,     0.22222,     0.22322,     0.22422,     0.22523,     0.22623,     0.22723,     0.22823,     0.22923,     0.23023,     0.23123,     0.23223,     0.23323,     0.23423,     0.23524,     0.23624,     0.23724,     0.23824,     0.23924,\n",
       "           0.24024,     0.24124,     0.24224,     0.24324,     0.24424,     0.24525,     0.24625,     0.24725,     0.24825,     0.24925,     0.25025,     0.25125,     0.25225,     0.25325,     0.25425,     0.25526,     0.25626,     0.25726,     0.25826,     0.25926,     0.26026,     0.26126,     0.26226,     0.26326,\n",
       "           0.26426,     0.26527,     0.26627,     0.26727,     0.26827,     0.26927,     0.27027,     0.27127,     0.27227,     0.27327,     0.27427,     0.27528,     0.27628,     0.27728,     0.27828,     0.27928,     0.28028,     0.28128,     0.28228,     0.28328,     0.28428,     0.28529,     0.28629,     0.28729,\n",
       "           0.28829,     0.28929,     0.29029,     0.29129,     0.29229,     0.29329,     0.29429,      0.2953,      0.2963,      0.2973,      0.2983,      0.2993,      0.3003,      0.3013,      0.3023,      0.3033,      0.3043,     0.30531,     0.30631,     0.30731,     0.30831,     0.30931,     0.31031,     0.31131,\n",
       "           0.31231,     0.31331,     0.31431,     0.31532,     0.31632,     0.31732,     0.31832,     0.31932,     0.32032,     0.32132,     0.32232,     0.32332,     0.32432,     0.32533,     0.32633,     0.32733,     0.32833,     0.32933,     0.33033,     0.33133,     0.33233,     0.33333,     0.33433,     0.33534,\n",
       "           0.33634,     0.33734,     0.33834,     0.33934,     0.34034,     0.34134,     0.34234,     0.34334,     0.34434,     0.34535,     0.34635,     0.34735,     0.34835,     0.34935,     0.35035,     0.35135,     0.35235,     0.35335,     0.35435,     0.35536,     0.35636,     0.35736,     0.35836,     0.35936,\n",
       "           0.36036,     0.36136,     0.36236,     0.36336,     0.36436,     0.36537,     0.36637,     0.36737,     0.36837,     0.36937,     0.37037,     0.37137,     0.37237,     0.37337,     0.37437,     0.37538,     0.37638,     0.37738,     0.37838,     0.37938,     0.38038,     0.38138,     0.38238,     0.38338,\n",
       "           0.38438,     0.38539,     0.38639,     0.38739,     0.38839,     0.38939,     0.39039,     0.39139,     0.39239,     0.39339,     0.39439,      0.3954,      0.3964,      0.3974,      0.3984,      0.3994,      0.4004,      0.4014,      0.4024,      0.4034,      0.4044,     0.40541,     0.40641,     0.40741,\n",
       "           0.40841,     0.40941,     0.41041,     0.41141,     0.41241,     0.41341,     0.41441,     0.41542,     0.41642,     0.41742,     0.41842,     0.41942,     0.42042,     0.42142,     0.42242,     0.42342,     0.42442,     0.42543,     0.42643,     0.42743,     0.42843,     0.42943,     0.43043,     0.43143,\n",
       "           0.43243,     0.43343,     0.43443,     0.43544,     0.43644,     0.43744,     0.43844,     0.43944,     0.44044,     0.44144,     0.44244,     0.44344,     0.44444,     0.44545,     0.44645,     0.44745,     0.44845,     0.44945,     0.45045,     0.45145,     0.45245,     0.45345,     0.45445,     0.45546,\n",
       "           0.45646,     0.45746,     0.45846,     0.45946,     0.46046,     0.46146,     0.46246,     0.46346,     0.46446,     0.46547,     0.46647,     0.46747,     0.46847,     0.46947,     0.47047,     0.47147,     0.47247,     0.47347,     0.47447,     0.47548,     0.47648,     0.47748,     0.47848,     0.47948,\n",
       "           0.48048,     0.48148,     0.48248,     0.48348,     0.48448,     0.48549,     0.48649,     0.48749,     0.48849,     0.48949,     0.49049,     0.49149,     0.49249,     0.49349,     0.49449,      0.4955,      0.4965,      0.4975,      0.4985,      0.4995,      0.5005,      0.5015,      0.5025,      0.5035,\n",
       "            0.5045,     0.50551,     0.50651,     0.50751,     0.50851,     0.50951,     0.51051,     0.51151,     0.51251,     0.51351,     0.51451,     0.51552,     0.51652,     0.51752,     0.51852,     0.51952,     0.52052,     0.52152,     0.52252,     0.52352,     0.52452,     0.52553,     0.52653,     0.52753,\n",
       "           0.52853,     0.52953,     0.53053,     0.53153,     0.53253,     0.53353,     0.53453,     0.53554,     0.53654,     0.53754,     0.53854,     0.53954,     0.54054,     0.54154,     0.54254,     0.54354,     0.54454,     0.54555,     0.54655,     0.54755,     0.54855,     0.54955,     0.55055,     0.55155,\n",
       "           0.55255,     0.55355,     0.55455,     0.55556,     0.55656,     0.55756,     0.55856,     0.55956,     0.56056,     0.56156,     0.56256,     0.56356,     0.56456,     0.56557,     0.56657,     0.56757,     0.56857,     0.56957,     0.57057,     0.57157,     0.57257,     0.57357,     0.57457,     0.57558,\n",
       "           0.57658,     0.57758,     0.57858,     0.57958,     0.58058,     0.58158,     0.58258,     0.58358,     0.58458,     0.58559,     0.58659,     0.58759,     0.58859,     0.58959,     0.59059,     0.59159,     0.59259,     0.59359,     0.59459,      0.5956,      0.5966,      0.5976,      0.5986,      0.5996,\n",
       "            0.6006,      0.6016,      0.6026,      0.6036,      0.6046,     0.60561,     0.60661,     0.60761,     0.60861,     0.60961,     0.61061,     0.61161,     0.61261,     0.61361,     0.61461,     0.61562,     0.61662,     0.61762,     0.61862,     0.61962,     0.62062,     0.62162,     0.62262,     0.62362,\n",
       "           0.62462,     0.62563,     0.62663,     0.62763,     0.62863,     0.62963,     0.63063,     0.63163,     0.63263,     0.63363,     0.63463,     0.63564,     0.63664,     0.63764,     0.63864,     0.63964,     0.64064,     0.64164,     0.64264,     0.64364,     0.64464,     0.64565,     0.64665,     0.64765,\n",
       "           0.64865,     0.64965,     0.65065,     0.65165,     0.65265,     0.65365,     0.65465,     0.65566,     0.65666,     0.65766,     0.65866,     0.65966,     0.66066,     0.66166,     0.66266,     0.66366,     0.66466,     0.66567,     0.66667,     0.66767,     0.66867,     0.66967,     0.67067,     0.67167,\n",
       "           0.67267,     0.67367,     0.67467,     0.67568,     0.67668,     0.67768,     0.67868,     0.67968,     0.68068,     0.68168,     0.68268,     0.68368,     0.68468,     0.68569,     0.68669,     0.68769,     0.68869,     0.68969,     0.69069,     0.69169,     0.69269,     0.69369,     0.69469,      0.6957,\n",
       "            0.6967,      0.6977,      0.6987,      0.6997,      0.7007,      0.7017,      0.7027,      0.7037,      0.7047,     0.70571,     0.70671,     0.70771,     0.70871,     0.70971,     0.71071,     0.71171,     0.71271,     0.71371,     0.71471,     0.71572,     0.71672,     0.71772,     0.71872,     0.71972,\n",
       "           0.72072,     0.72172,     0.72272,     0.72372,     0.72472,     0.72573,     0.72673,     0.72773,     0.72873,     0.72973,     0.73073,     0.73173,     0.73273,     0.73373,     0.73473,     0.73574,     0.73674,     0.73774,     0.73874,     0.73974,     0.74074,     0.74174,     0.74274,     0.74374,\n",
       "           0.74474,     0.74575,     0.74675,     0.74775,     0.74875,     0.74975,     0.75075,     0.75175,     0.75275,     0.75375,     0.75475,     0.75576,     0.75676,     0.75776,     0.75876,     0.75976,     0.76076,     0.76176,     0.76276,     0.76376,     0.76476,     0.76577,     0.76677,     0.76777,\n",
       "           0.76877,     0.76977,     0.77077,     0.77177,     0.77277,     0.77377,     0.77477,     0.77578,     0.77678,     0.77778,     0.77878,     0.77978,     0.78078,     0.78178,     0.78278,     0.78378,     0.78478,     0.78579,     0.78679,     0.78779,     0.78879,     0.78979,     0.79079,     0.79179,\n",
       "           0.79279,     0.79379,     0.79479,      0.7958,      0.7968,      0.7978,      0.7988,      0.7998,      0.8008,      0.8018,      0.8028,      0.8038,      0.8048,     0.80581,     0.80681,     0.80781,     0.80881,     0.80981,     0.81081,     0.81181,     0.81281,     0.81381,     0.81481,     0.81582,\n",
       "           0.81682,     0.81782,     0.81882,     0.81982,     0.82082,     0.82182,     0.82282,     0.82382,     0.82482,     0.82583,     0.82683,     0.82783,     0.82883,     0.82983,     0.83083,     0.83183,     0.83283,     0.83383,     0.83483,     0.83584,     0.83684,     0.83784,     0.83884,     0.83984,\n",
       "           0.84084,     0.84184,     0.84284,     0.84384,     0.84484,     0.84585,     0.84685,     0.84785,     0.84885,     0.84985,     0.85085,     0.85185,     0.85285,     0.85385,     0.85485,     0.85586,     0.85686,     0.85786,     0.85886,     0.85986,     0.86086,     0.86186,     0.86286,     0.86386,\n",
       "           0.86486,     0.86587,     0.86687,     0.86787,     0.86887,     0.86987,     0.87087,     0.87187,     0.87287,     0.87387,     0.87487,     0.87588,     0.87688,     0.87788,     0.87888,     0.87988,     0.88088,     0.88188,     0.88288,     0.88388,     0.88488,     0.88589,     0.88689,     0.88789,\n",
       "           0.88889,     0.88989,     0.89089,     0.89189,     0.89289,     0.89389,     0.89489,      0.8959,      0.8969,      0.8979,      0.8989,      0.8999,      0.9009,      0.9019,      0.9029,      0.9039,      0.9049,     0.90591,     0.90691,     0.90791,     0.90891,     0.90991,     0.91091,     0.91191,\n",
       "           0.91291,     0.91391,     0.91491,     0.91592,     0.91692,     0.91792,     0.91892,     0.91992,     0.92092,     0.92192,     0.92292,     0.92392,     0.92492,     0.92593,     0.92693,     0.92793,     0.92893,     0.92993,     0.93093,     0.93193,     0.93293,     0.93393,     0.93493,     0.93594,\n",
       "           0.93694,     0.93794,     0.93894,     0.93994,     0.94094,     0.94194,     0.94294,     0.94394,     0.94494,     0.94595,     0.94695,     0.94795,     0.94895,     0.94995,     0.95095,     0.95195,     0.95295,     0.95395,     0.95495,     0.95596,     0.95696,     0.95796,     0.95896,     0.95996,\n",
       "           0.96096,     0.96196,     0.96296,     0.96396,     0.96496,     0.96597,     0.96697,     0.96797,     0.96897,     0.96997,     0.97097,     0.97197,     0.97297,     0.97397,     0.97497,     0.97598,     0.97698,     0.97798,     0.97898,     0.97998,     0.98098,     0.98198,     0.98298,     0.98398,\n",
       "           0.98498,     0.98599,     0.98699,     0.98799,     0.98899,     0.98999,     0.99099,     0.99199,     0.99299,     0.99399,     0.99499,       0.996,       0.997,       0.998,       0.999,           1]), array([[    0.94907,     0.94907,     0.94444,     0.94213,     0.94213,     0.94213,     0.94213,     0.94213,     0.94213,     0.94213,     0.94213,     0.94213,     0.94213,     0.94213,     0.94213,     0.94213,     0.94213,     0.94213,     0.94213,     0.94213,     0.94213,     0.94213,     0.94213,\n",
       "            0.94213,     0.94213,     0.94213,     0.94213,     0.94213,     0.94213,     0.94177,      0.9412,     0.94063,     0.94006,     0.93981,     0.93981,     0.93981,     0.93981,     0.93981,     0.93981,     0.93956,      0.9385,     0.93749,      0.9373,      0.9371,     0.93691,     0.93672,\n",
       "            0.93652,     0.93633,     0.93613,     0.93594,     0.93575,     0.93555,     0.93536,     0.93519,     0.93519,     0.93519,     0.93519,     0.93519,     0.93519,     0.93519,     0.93519,     0.93519,     0.93519,     0.93519,     0.93519,     0.93519,     0.93519,     0.93519,     0.93519,\n",
       "            0.93519,     0.93519,     0.93519,     0.93519,     0.93519,     0.93519,     0.93519,     0.93519,     0.93519,     0.93519,     0.93519,     0.93519,     0.93519,     0.93519,     0.93519,     0.93519,     0.93519,     0.93519,     0.93519,     0.93519,     0.93519,     0.93519,     0.93519,\n",
       "            0.93519,     0.93519,     0.93519,     0.93519,     0.93519,     0.93519,     0.93519,     0.93519,     0.93519,     0.93519,     0.93519,     0.93519,     0.93519,     0.93519,     0.93519,     0.93519,     0.93519,     0.93519,     0.93519,     0.93519,     0.93519,     0.93519,     0.93519,\n",
       "            0.93519,     0.93519,     0.93519,     0.93519,     0.93519,     0.93519,     0.93519,     0.93519,     0.93519,     0.93519,     0.93519,     0.93519,     0.93519,     0.93519,     0.93519,     0.93519,     0.93519,     0.93519,     0.93519,     0.93519,     0.93519,     0.93519,     0.93519,\n",
       "            0.93519,     0.93519,     0.93519,     0.93519,     0.93519,     0.93519,     0.93519,     0.93519,     0.93519,     0.93519,     0.93519,     0.93519,     0.93519,     0.93519,     0.93519,     0.93519,     0.93519,     0.93519,     0.93519,     0.93519,     0.93519,     0.93519,     0.93519,\n",
       "            0.93519,     0.93519,     0.93519,     0.93519,     0.93519,     0.93515,      0.9351,     0.93506,     0.93501,     0.93497,     0.93492,     0.93488,     0.93483,     0.93479,     0.93474,      0.9347,     0.93465,     0.93461,     0.93456,     0.93451,     0.93447,     0.93442,     0.93438,\n",
       "            0.93433,     0.93429,     0.93424,      0.9342,     0.93415,     0.93411,     0.93406,     0.93402,     0.93397,     0.93393,     0.93388,     0.93384,     0.93379,     0.93374,      0.9337,     0.93365,     0.93361,     0.93356,     0.93352,     0.93347,     0.93343,     0.93338,     0.93334,\n",
       "            0.93329,     0.93325,      0.9332,     0.93316,     0.93311,     0.93307,     0.93302,     0.93297,     0.93293,     0.93288,     0.93287,     0.93287,     0.93287,     0.93287,     0.93287,     0.93287,     0.93287,     0.93287,     0.93287,     0.93287,     0.93287,     0.93287,     0.93287,\n",
       "            0.93287,     0.93287,     0.93287,     0.93287,     0.93287,     0.93287,     0.93287,     0.93287,     0.93287,     0.93287,     0.93287,     0.93287,     0.93287,     0.93287,     0.93287,     0.93287,     0.93287,     0.93287,     0.93287,     0.93287,     0.93287,     0.93287,     0.93287,\n",
       "            0.93287,     0.93287,     0.93287,     0.93287,     0.93287,     0.93287,     0.93287,     0.93287,     0.93287,     0.93287,     0.93287,     0.93287,     0.93287,     0.93287,     0.93287,     0.93287,     0.93287,     0.93287,     0.93287,     0.93287,     0.93287,     0.93287,     0.93287,\n",
       "            0.93287,     0.93287,     0.93287,     0.93287,     0.93287,     0.93287,     0.93287,     0.93287,     0.93287,     0.93287,     0.93287,     0.93287,     0.93287,     0.93287,     0.93287,     0.93287,     0.93287,     0.93287,     0.93287,     0.93287,     0.93287,     0.93287,     0.93287,\n",
       "            0.93287,     0.93287,     0.93287,     0.93285,      0.9328,     0.93276,     0.93271,     0.93267,     0.93262,     0.93258,     0.93253,     0.93249,     0.93244,     0.93239,     0.93235,      0.9323,     0.93226,     0.93221,     0.93217,     0.93212,     0.93208,     0.93203,     0.93199,\n",
       "            0.93194,      0.9319,     0.93185,     0.93181,     0.93176,     0.93171,     0.93167,     0.93162,     0.93158,     0.93153,     0.93149,     0.93144,      0.9314,     0.93135,     0.93131,     0.93126,     0.93122,     0.93117,     0.93113,     0.93108,     0.93103,     0.93099,     0.93094,\n",
       "             0.9309,     0.93085,     0.93081,     0.93076,     0.93072,     0.93067,     0.93063,     0.93058,     0.93056,     0.93056,     0.93056,     0.93056,     0.93056,     0.93056,     0.93056,     0.93056,     0.93056,     0.93056,     0.93056,     0.93056,     0.93056,     0.93056,     0.93056,\n",
       "            0.93056,     0.93056,     0.93056,     0.93056,     0.93056,     0.93056,     0.93056,     0.93056,     0.93056,     0.93056,     0.93056,     0.93056,     0.93056,     0.93056,     0.93056,     0.93056,     0.93056,     0.93056,     0.93056,     0.93056,     0.93056,     0.93056,     0.93056,\n",
       "            0.93056,     0.93056,     0.93056,     0.93056,     0.93056,     0.93056,     0.93056,     0.93056,     0.93056,     0.93056,     0.93056,     0.93056,     0.93056,     0.93056,     0.93056,     0.93056,     0.93056,     0.93056,     0.93056,     0.93056,     0.93056,     0.93056,     0.93056,\n",
       "            0.93056,     0.93056,     0.93056,     0.93056,     0.93056,     0.93056,     0.93056,     0.93056,     0.93056,     0.93056,     0.93056,     0.93056,     0.93056,     0.93056,     0.93056,     0.93056,     0.93056,     0.93056,     0.93056,     0.93056,     0.93056,     0.93056,     0.93056,\n",
       "            0.93056,     0.93056,     0.93056,     0.93056,     0.93056,     0.93056,     0.93056,     0.93056,     0.93056,     0.93056,     0.93056,     0.93056,     0.93056,     0.93056,     0.93056,     0.93056,     0.93056,     0.93056,     0.93056,     0.93056,     0.93056,     0.93056,     0.93056,\n",
       "            0.93056,     0.93056,     0.93056,     0.93056,     0.93056,     0.93056,     0.93056,     0.93056,     0.93056,     0.93056,     0.93056,     0.93056,     0.93056,     0.93056,     0.93056,     0.93056,     0.93056,     0.93056,     0.93056,     0.93056,     0.93056,     0.93056,     0.93056,\n",
       "            0.93056,     0.93056,     0.93056,     0.93056,     0.93056,     0.93056,     0.93056,     0.93056,     0.93056,     0.93056,     0.93056,     0.93056,     0.93056,     0.93056,     0.93056,     0.93056,     0.93056,     0.93056,     0.93056,     0.93056,     0.93056,     0.93056,     0.93056,\n",
       "            0.93056,     0.93056,     0.93056,     0.93056,     0.93056,     0.93056,     0.93056,     0.93056,     0.93056,     0.93056,     0.93056,     0.93056,     0.93056,     0.93056,     0.93056,     0.93056,     0.93056,     0.93056,     0.93056,     0.93056,     0.93056,     0.93056,     0.93056,\n",
       "            0.93056,     0.93056,     0.93056,     0.93056,     0.93056,     0.93056,     0.93056,     0.93056,     0.93056,     0.93056,     0.93056,     0.93056,     0.93056,     0.93056,     0.93056,     0.93056,     0.93056,     0.93056,     0.93056,     0.93056,     0.93056,     0.93056,     0.93056,\n",
       "            0.93056,     0.93056,     0.93056,     0.93056,     0.93056,     0.93056,     0.93056,     0.93056,     0.93056,     0.93056,     0.93056,     0.93056,     0.93056,     0.93056,     0.93056,     0.93056,     0.93056,     0.93056,     0.93056,     0.93056,     0.93056,     0.93056,     0.93056,\n",
       "            0.93056,     0.93056,     0.93056,     0.93056,     0.93056,     0.93056,     0.93056,     0.93056,     0.93056,     0.93056,     0.93056,     0.93056,     0.93056,     0.93056,     0.93056,     0.93056,     0.93056,     0.93056,     0.93056,     0.93056,     0.93056,     0.93056,     0.93056,\n",
       "            0.93056,     0.93056,     0.93056,     0.93056,     0.93056,     0.93056,     0.93056,     0.93056,     0.93056,     0.93056,     0.93056,     0.93056,     0.93056,     0.93056,     0.93056,     0.93056,     0.93056,     0.93056,     0.93056,     0.93056,     0.93056,     0.93056,     0.93056,\n",
       "            0.93056,     0.93056,     0.93056,     0.93056,     0.93056,     0.93056,     0.93056,     0.93056,     0.93056,     0.93056,     0.93056,     0.93056,     0.93056,     0.93056,     0.93056,     0.93056,     0.93056,     0.93056,     0.93056,     0.93056,     0.93056,     0.93056,     0.93056,\n",
       "            0.93056,     0.93056,     0.93056,     0.93056,     0.93056,     0.93056,     0.93056,     0.93056,     0.93056,     0.93056,     0.93056,     0.93056,     0.93056,     0.93056,     0.93056,     0.93056,     0.93056,     0.93056,     0.93056,     0.93056,     0.93056,     0.93056,     0.93056,\n",
       "            0.93056,     0.93056,     0.93056,     0.93056,     0.93056,     0.93056,     0.93056,     0.93056,     0.93056,     0.93056,     0.93056,     0.93056,     0.93056,     0.93056,     0.93056,     0.93056,     0.93056,     0.93056,     0.93056,     0.93056,     0.93056,     0.93056,     0.93056,\n",
       "            0.93056,     0.93056,     0.93056,     0.93056,     0.93056,     0.93056,     0.93056,     0.93056,     0.93056,     0.93056,     0.93056,     0.93056,     0.93056,     0.93056,     0.93056,     0.93056,     0.93056,     0.93056,     0.93056,     0.93056,     0.93056,     0.93056,     0.93056,\n",
       "            0.93056,     0.93036,     0.92967,     0.92898,     0.92829,     0.92824,     0.92824,     0.92824,     0.92824,     0.92824,     0.92824,     0.92824,     0.92817,     0.92801,     0.92785,     0.92769,     0.92752,     0.92736,      0.9272,     0.92704,     0.92688,     0.92672,     0.92656,\n",
       "            0.92639,     0.92623,     0.92607,      0.9259,     0.92562,     0.92534,     0.92505,     0.92477,     0.92449,     0.92421,     0.92393,     0.92365,     0.92122,     0.92113,     0.92104,     0.92094,     0.92085,     0.92076,     0.92067,     0.92057,     0.92048,     0.92039,      0.9203,\n",
       "            0.92021,     0.92011,     0.92002,     0.91993,     0.91984,     0.91975,     0.91965,     0.91956,     0.91947,     0.91938,     0.91929,     0.91919,      0.9191,     0.91901,     0.91898,     0.91898,     0.91898,     0.91898,     0.91898,     0.91898,     0.91898,     0.91898,     0.91837,\n",
       "            0.91665,     0.91646,     0.91627,     0.91608,     0.91589,      0.9157,     0.91551,     0.91532,     0.91513,     0.91494,     0.91475,     0.91456,     0.91437,     0.91372,     0.91301,     0.91229,      0.9117,     0.91118,     0.91066,     0.91015,     0.90966,     0.90931,     0.90896,\n",
       "            0.90861,     0.90826,     0.90791,     0.90756,     0.90726,     0.90699,     0.90673,     0.90646,      0.9062,     0.90593,     0.90567,      0.9054,     0.90514,     0.90488,     0.90463,     0.90438,     0.90413,     0.90387,     0.90362,     0.90337,     0.90312,     0.90287,     0.90261,\n",
       "            0.90235,     0.90209,     0.90183,     0.90157,     0.90132,     0.90106,      0.9008,     0.90054,     0.90046,     0.90046,     0.90046,     0.90046,     0.90046,     0.90046,     0.90046,     0.90046,     0.90046,     0.90046,     0.90046,     0.90046,     0.90009,     0.89973,     0.89936,\n",
       "              0.899,     0.89863,     0.89826,     0.89796,     0.89769,     0.89741,     0.89714,     0.89686,     0.89659,     0.89631,     0.89604,     0.89352,     0.89352,     0.89352,     0.89352,     0.89352,     0.89352,     0.89352,     0.89114,     0.88883,     0.88864,     0.88845,     0.88826,\n",
       "            0.88807,     0.88788,     0.88768,     0.88749,      0.8873,     0.88711,     0.88692,     0.88673,     0.88611,     0.88415,     0.88362,     0.88309,     0.88256,     0.88203,     0.88158,     0.88115,     0.88072,     0.88029,     0.87986,     0.87955,     0.87938,     0.87921,     0.87904,\n",
       "            0.87887,      0.8787,     0.87852,     0.87835,     0.87818,     0.87801,     0.87784,     0.87767,      0.8775,     0.87733,     0.87689,     0.87644,     0.87598,     0.87553,     0.87508,     0.87038,     0.86987,     0.86936,     0.86886,     0.86836,     0.86729,     0.86554,     0.86442,\n",
       "            0.86336,     0.86276,     0.86217,     0.86157,     0.85983,     0.85581,     0.85483,     0.85389,     0.85305,     0.85222,     0.84787,     0.84634,     0.84529,      0.8432,      0.8416,     0.84032,     0.83888,     0.83449,     0.83176,     0.83028,      0.8292,     0.82811,     0.82702,\n",
       "            0.82603,     0.82519,     0.82435,     0.82225,     0.81887,     0.81765,     0.81594,     0.81393,     0.80945,     0.80528,     0.80458,     0.80389,     0.80284,     0.79997,     0.79848,     0.79171,     0.78918,     0.78555,      0.7805,      0.7786,     0.77446,     0.77263,     0.77135,\n",
       "            0.76611,     0.76131,     0.75932,      0.7509,     0.74596,     0.74013,     0.73424,     0.73061,      0.7227,     0.71123,     0.69436,     0.67965,     0.67132,     0.66647,     0.65987,     0.62502,     0.59969,     0.56195,     0.52772,     0.48393,     0.44087,     0.39699,     0.33004,\n",
       "             0.2794,     0.22996,     0.13095,    0.052282,    0.024039,           0,           0,           0,           0,           0,           0]]), 'Confidence', 'Recall']]\n",
       "fitness: np.float64(0.9572817085300778)\n",
       "keys: ['metrics/precision(B)', 'metrics/recall(B)', 'metrics/mAP50(B)', 'metrics/mAP50-95(B)']\n",
       "maps: array([    0.95618])\n",
       "names: {0: 'butterfly'}\n",
       "plot: True\n",
       "results_dict: {'metrics/precision(B)': np.float64(0.9894335021152926), 'metrics/recall(B)': np.float64(0.9305555555555556), 'metrics/mAP50(B)': np.float64(0.9671565893751047), 'metrics/mAP50-95(B)': np.float64(0.956184499547297), 'fitness': np.float64(0.9572817085300778)}\n",
       "save_dir: WindowsPath('C:/Users/jairo/Desktop/IA/TFM_Mariposas/detector/modelos/yolo_mariposas2')\n",
       "speed: {'preprocess': 1.436496571384071, 'inference': 54.49072571429757, 'loss': 0.00011399995336042983, 'postprocess': 0.29208771429174313}\n",
       "task: 'detect'"
      ]
     },
     "execution_count": 5,
     "metadata": {},
     "output_type": "execute_result"
    }
   ],
   "source": [
    "from ultralytics import YOLO\n",
    "\n",
    "# Cargar modelo YOLOv8 preentrenado\n",
    "model = YOLO(\"yolov8n.pt\")  # Usa el modelo Nano (rápido y ligero)\n",
    "\n",
    "# Entrenar el modelo con tu dataset\n",
    "model.train(\n",
    "    data=r\"C:\\Users\\jairo\\Desktop\\IA\\TFM_Mariposas\\detector\\data.yaml\",  # Ruta al archivo de configuración\n",
    "    epochs=50,  # Número de épocas (ajusta según necesidad)\n",
    "    imgsz=640,  # Tamaño de la imagen (puedes probar con 416 o 640)\n",
    "    batch=8,  # Tamaño del batch (ajústalo según la RAM de tu GPU)\n",
    "    project=r\"C:/Users/jairo/Desktop/IA/TFM_Mariposas/detector/modelos\",  # Carpeta personalizada\n",
    "    name=\"yolo_mariposas\",  # Nombre del experimento\n",
    ")"
   ]
  },
  {
   "cell_type": "code",
   "execution_count": 13,
   "metadata": {},
   "outputs": [
    {
     "name": "stdout",
     "output_type": "stream",
     "text": [
      "\n",
      "0: 448x640 (no detections), 45.2ms\n",
      "Speed: 2.4ms preprocess, 45.2ms inference, 0.5ms postprocess per image at shape (1, 3, 448, 640)\n"
     ]
    }
   ],
   "source": [
    "from ultralytics import YOLO\n",
    "import cv2\n",
    "\n",
    "# Cargar el modelo entrenado\n",
    "# model = YOLO(r\"C:/Users/jairo/Desktop/IA/TFM_Mariposas/detector/modelos/yolo_mariposas/weights/best.pt\")\n",
    "\n",
    "# Ruta de la imagen a probar\n",
    "image_path = r\"C:/Users/jairo/Desktop/IA/TFM_Mariposas/detector/datasets/test/test_002.jpg\"\n",
    "\n",
    "image = cv2.imread(image_path)  # Cargar la imagen\n",
    "\n",
    "# Realizar la predicción\n",
    "results = model(image)\n",
    "\n",
    "# Mostrar la imagen con las detecciones\n",
    "for result in results:\n",
    "    result.show()\n"
   ]
  }
 ],
 "metadata": {
  "kernelspec": {
   "display_name": "venv",
   "language": "python",
   "name": "python3"
  },
  "language_info": {
   "codemirror_mode": {
    "name": "ipython",
    "version": 3
   },
   "file_extension": ".py",
   "mimetype": "text/x-python",
   "name": "python",
   "nbconvert_exporter": "python",
   "pygments_lexer": "ipython3",
   "version": "3.10.0"
  }
 },
 "nbformat": 4,
 "nbformat_minor": 2
}
