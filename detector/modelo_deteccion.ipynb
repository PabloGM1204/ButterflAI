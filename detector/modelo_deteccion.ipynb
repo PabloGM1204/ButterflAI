{
 "cells": [
  {
   "cell_type": "markdown",
   "metadata": {},
   "source": [
    "# Cuaderno de fine-tunning al modelo de YOLO v8\n",
    "\n",
    "En este cuaderno hacemos fine-tunning al modelo de YOLO v8 para poder detectar mariposas, ya que por defecto el modelo de YOLO es capaz de detectar 80 tipos de objetos (libros, telefonos, etc) pero no es capaz de detectar mariposas, para ello hacemos fine-tunning que consiste en entrenar el modelo ya funcional con las imagenes de la nueva clase que queremos detectar que en nuestro caso es *butterfly*.\n",
    "\n",
    "* El modelo de YOLO esta creado con **PyTorch** por lo que una vez creado el modelo y probado tendremos que pasarlo a **TensorFlowLite** para poder usarlo en el movil.\n",
    "* El dataset de entrenamiento consiste en la union del dataset de las mariposas a las cuales usando **Roboflow** creamos el conjunto de datos necesario ya que necesitan estar en un formato en concreto para poder hacer el *fine-tunning*. Intentamos no usar **Roboflow** ya que queriamos hacerlo todo desde nuestros ordenadores, pero no nos iba muy bien ya que tampoco tenemos grandes GPUs para usar un modelo de detección que nos diera la imagen con la caja de la detección mas los datos de la detección en un `.txt`, lo probamos a hacer con el modelo de YOLO ya que aunque no detecte la mariposa en si detecta otra cosa pero hacia la caja medianamente bien, pero a la hora de entrar no fueron los mejores resultados, por lo que apostamos por usar la página de **Roboflow** que usando el plan gratuito nos permitio darle 1000 imagenes de mariposas y la página usando el modelo de *Dino* que nos dio las fotos y el archivos de `.txt` con el formato que necesitabamos.\n",
    "* Al entrenar el modelo con solo las imagenes de mariposas funcionaba bien el resultado pero no era capaz de distinguir una mariposa de una botella, por ello decidimos añadir 200 imágenes de objetos randon sin tener un *label* para que sea capaz de diferenciar entre aquello que es mariposa y aquello que no."
   ]
  },
  {
   "cell_type": "markdown",
   "metadata": {},
   "source": [
    "## Preparación del cuaderno\n",
    "\n",
    "Para hacer esto de la forma mas eficiente y rapida hemos usados nuestros ordenadores personales que tienen un gráfica aparte por lo que a la hora de enterar seran mas rapidos.\n",
    "\n",
    "Para hacer que el entrenamiento use la GPU necesitamos instalar CUDA en nuestro ordenador."
   ]
  },
  {
   "cell_type": "code",
   "execution_count": 1,
   "metadata": {},
   "outputs": [
    {
     "name": "stdout",
     "output_type": "stream",
     "text": [
      "Usando el dispositivo: cuda\n"
     ]
    }
   ],
   "source": [
    "from ultralytics import YOLO\n",
    "import torch\n",
    "\n",
    "# Verificar si hay una GPU disponible\n",
    "device = 'cuda' if torch.cuda.is_available() else 'cpu'\n",
    "print(f\"Usando el dispositivo: {device}\")\n"
   ]
  },
  {
   "cell_type": "markdown",
   "metadata": {},
   "source": [
    "Una vez sabemos que estamos usando *CUDA* que se refiere a que estamos usando la gráfica vemos las versiones que tenemos."
   ]
  },
  {
   "cell_type": "code",
   "execution_count": null,
   "metadata": {},
   "outputs": [
    {
     "name": "stdout",
     "output_type": "stream",
     "text": [
      "2.6.0+cu118\n",
      "True\n",
      "11.8\n",
      "Usando el dispositivo: cuda\n",
      "El modelo está en el dispositivo: cuda:0\n"
     ]
    }
   ],
   "source": [
    "print(torch.__version__)\n",
    "print(torch.cuda.is_available())\n",
    "print(torch.version.cuda)\n",
    "\n",
    "# Verificar si CUDA está disponible\n",
    "device = torch.device(\"cuda\" if torch.cuda.is_available() else \"cpu\")\n",
    "print(f\"Usando el dispositivo: {device}\")\n",
    "\n",
    "# Cargar modelo YOLOv8 preentrenado y moverlo a la GPU si está disponible\n",
    "model = YOLO(\"yolov8n.pt\").to(device)\n",
    "\n",
    "# Verificar que el modelo está en el dispositivo correcto\n",
    "print(f\"El modelo está en el dispositivo: {next(model.parameters()).device}\")"
   ]
  },
  {
   "cell_type": "markdown",
   "metadata": {},
   "source": [
    "## Entrenamiento\n",
    "\n",
    "Una vez comprobado que todo esta como queremos, es decir, usando la GPU para entrenar y el modelo de *yolov8n* empezamos con el entrenamiento."
   ]
  },
  {
   "cell_type": "code",
   "execution_count": null,
   "metadata": {},
   "outputs": [
    {
     "name": "stdout",
     "output_type": "stream",
     "text": [
      "Downloading https://github.com/ultralytics/assets/releases/download/v8.3.0/yolov8n.pt to 'yolov8n.pt'...\n"
     ]
    },
    {
     "name": "stderr",
     "output_type": "stream",
     "text": [
      "100%|██████████| 6.25M/6.25M [00:00<00:00, 24.2MB/s]\n"
     ]
    },
    {
     "name": "stdout",
     "output_type": "stream",
     "text": [
      "New https://pypi.org/project/ultralytics/8.3.78 available  Update with 'pip install -U ultralytics'\n",
      "Ultralytics 8.3.76  Python-3.11.0 torch-2.6.0+cu118 CUDA:0 (NVIDIA GeForce GTX 1050, 2048MiB)\n",
      "\u001b[34m\u001b[1mengine\\trainer: \u001b[0mtask=detect, mode=train, model=yolov8n.pt, data=modificado_copy/data.yaml, epochs=50, time=None, patience=10, batch=8, imgsz=640, save=True, save_period=-1, cache=False, device=0, workers=8, project=butterfly_detection, name=yolov8_butterfly, exist_ok=False, pretrained=True, optimizer=auto, verbose=True, seed=0, deterministic=True, single_cls=False, rect=False, cos_lr=True, close_mosaic=10, resume=False, amp=True, fraction=1.0, profile=False, freeze=10, multi_scale=False, overlap_mask=True, mask_ratio=4, dropout=0.0, val=True, split=val, save_json=False, save_hybrid=False, conf=None, iou=0.7, max_det=300, half=True, dnn=False, plots=True, source=None, vid_stride=1, stream_buffer=False, visualize=False, augment=True, agnostic_nms=False, classes=None, retina_masks=False, embed=None, show=False, save_frames=False, save_txt=False, save_conf=False, save_crop=False, show_labels=True, show_conf=True, show_boxes=True, line_width=None, format=torchscript, keras=False, optimize=False, int8=False, dynamic=False, simplify=True, opset=None, workspace=None, nms=False, lr0=0.0001, lrf=0.01, momentum=0.937, weight_decay=0.0005, warmup_epochs=3.0, warmup_momentum=0.8, warmup_bias_lr=0.1, box=7.5, cls=0.5, dfl=1.5, pose=12.0, kobj=1.0, nbs=64, hsv_h=0.015, hsv_s=0.7, hsv_v=0.4, degrees=0.0, translate=0.1, scale=0.5, shear=0.0, perspective=0.0, flipud=0.0, fliplr=0.5, bgr=0.0, mosaic=1.0, mixup=0.0, copy_paste=0.0, copy_paste_mode=flip, auto_augment=randaugment, erasing=0.4, crop_fraction=1.0, cfg=None, tracker=botsort.yaml, save_dir=butterfly_detection\\yolov8_butterfly\n",
      "Overriding model.yaml nc=80 with nc=1\n",
      "\n",
      "                   from  n    params  module                                       arguments                     \n",
      "  0                  -1  1       464  ultralytics.nn.modules.conv.Conv             [3, 16, 3, 2]                 \n",
      "  1                  -1  1      4672  ultralytics.nn.modules.conv.Conv             [16, 32, 3, 2]                \n",
      "  2                  -1  1      7360  ultralytics.nn.modules.block.C2f             [32, 32, 1, True]             \n",
      "  3                  -1  1     18560  ultralytics.nn.modules.conv.Conv             [32, 64, 3, 2]                \n",
      "  4                  -1  2     49664  ultralytics.nn.modules.block.C2f             [64, 64, 2, True]             \n",
      "  5                  -1  1     73984  ultralytics.nn.modules.conv.Conv             [64, 128, 3, 2]               \n",
      "  6                  -1  2    197632  ultralytics.nn.modules.block.C2f             [128, 128, 2, True]           \n",
      "  7                  -1  1    295424  ultralytics.nn.modules.conv.Conv             [128, 256, 3, 2]              \n",
      "  8                  -1  1    460288  ultralytics.nn.modules.block.C2f             [256, 256, 1, True]           \n",
      "  9                  -1  1    164608  ultralytics.nn.modules.block.SPPF            [256, 256, 5]                 \n",
      " 10                  -1  1         0  torch.nn.modules.upsampling.Upsample         [None, 2, 'nearest']          \n",
      " 11             [-1, 6]  1         0  ultralytics.nn.modules.conv.Concat           [1]                           \n",
      " 12                  -1  1    148224  ultralytics.nn.modules.block.C2f             [384, 128, 1]                 \n",
      " 13                  -1  1         0  torch.nn.modules.upsampling.Upsample         [None, 2, 'nearest']          \n",
      " 14             [-1, 4]  1         0  ultralytics.nn.modules.conv.Concat           [1]                           \n",
      " 15                  -1  1     37248  ultralytics.nn.modules.block.C2f             [192, 64, 1]                  \n",
      " 16                  -1  1     36992  ultralytics.nn.modules.conv.Conv             [64, 64, 3, 2]                \n",
      " 17            [-1, 12]  1         0  ultralytics.nn.modules.conv.Concat           [1]                           \n",
      " 18                  -1  1    123648  ultralytics.nn.modules.block.C2f             [192, 128, 1]                 \n",
      " 19                  -1  1    147712  ultralytics.nn.modules.conv.Conv             [128, 128, 3, 2]              \n",
      " 20             [-1, 9]  1         0  ultralytics.nn.modules.conv.Concat           [1]                           \n",
      " 21                  -1  1    493056  ultralytics.nn.modules.block.C2f             [384, 256, 1]                 \n",
      " 22        [15, 18, 21]  1    751507  ultralytics.nn.modules.head.Detect           [1, [64, 128, 256]]           \n",
      "Model summary: 129 layers, 3,011,043 parameters, 3,011,027 gradients, 8.2 GFLOPs\n",
      "\n",
      "Transferred 319/355 items from pretrained weights\n",
      "Freezing layer 'model.0.conv.weight'\n",
      "Freezing layer 'model.0.bn.weight'\n",
      "Freezing layer 'model.0.bn.bias'\n",
      "Freezing layer 'model.1.conv.weight'\n",
      "Freezing layer 'model.1.bn.weight'\n",
      "Freezing layer 'model.1.bn.bias'\n",
      "Freezing layer 'model.2.cv1.conv.weight'\n",
      "Freezing layer 'model.2.cv1.bn.weight'\n",
      "Freezing layer 'model.2.cv1.bn.bias'\n",
      "Freezing layer 'model.2.cv2.conv.weight'\n",
      "Freezing layer 'model.2.cv2.bn.weight'\n",
      "Freezing layer 'model.2.cv2.bn.bias'\n",
      "Freezing layer 'model.2.m.0.cv1.conv.weight'\n",
      "Freezing layer 'model.2.m.0.cv1.bn.weight'\n",
      "Freezing layer 'model.2.m.0.cv1.bn.bias'\n",
      "Freezing layer 'model.2.m.0.cv2.conv.weight'\n",
      "Freezing layer 'model.2.m.0.cv2.bn.weight'\n",
      "Freezing layer 'model.2.m.0.cv2.bn.bias'\n",
      "Freezing layer 'model.3.conv.weight'\n",
      "Freezing layer 'model.3.bn.weight'\n",
      "Freezing layer 'model.3.bn.bias'\n",
      "Freezing layer 'model.4.cv1.conv.weight'\n",
      "Freezing layer 'model.4.cv1.bn.weight'\n",
      "Freezing layer 'model.4.cv1.bn.bias'\n",
      "Freezing layer 'model.4.cv2.conv.weight'\n",
      "Freezing layer 'model.4.cv2.bn.weight'\n",
      "Freezing layer 'model.4.cv2.bn.bias'\n",
      "Freezing layer 'model.4.m.0.cv1.conv.weight'\n",
      "Freezing layer 'model.4.m.0.cv1.bn.weight'\n",
      "Freezing layer 'model.4.m.0.cv1.bn.bias'\n",
      "Freezing layer 'model.4.m.0.cv2.conv.weight'\n",
      "Freezing layer 'model.4.m.0.cv2.bn.weight'\n",
      "Freezing layer 'model.4.m.0.cv2.bn.bias'\n",
      "Freezing layer 'model.4.m.1.cv1.conv.weight'\n",
      "Freezing layer 'model.4.m.1.cv1.bn.weight'\n",
      "Freezing layer 'model.4.m.1.cv1.bn.bias'\n",
      "Freezing layer 'model.4.m.1.cv2.conv.weight'\n",
      "Freezing layer 'model.4.m.1.cv2.bn.weight'\n",
      "Freezing layer 'model.4.m.1.cv2.bn.bias'\n",
      "Freezing layer 'model.5.conv.weight'\n",
      "Freezing layer 'model.5.bn.weight'\n",
      "Freezing layer 'model.5.bn.bias'\n",
      "Freezing layer 'model.6.cv1.conv.weight'\n",
      "Freezing layer 'model.6.cv1.bn.weight'\n",
      "Freezing layer 'model.6.cv1.bn.bias'\n",
      "Freezing layer 'model.6.cv2.conv.weight'\n",
      "Freezing layer 'model.6.cv2.bn.weight'\n",
      "Freezing layer 'model.6.cv2.bn.bias'\n",
      "Freezing layer 'model.6.m.0.cv1.conv.weight'\n",
      "Freezing layer 'model.6.m.0.cv1.bn.weight'\n",
      "Freezing layer 'model.6.m.0.cv1.bn.bias'\n",
      "Freezing layer 'model.6.m.0.cv2.conv.weight'\n",
      "Freezing layer 'model.6.m.0.cv2.bn.weight'\n",
      "Freezing layer 'model.6.m.0.cv2.bn.bias'\n",
      "Freezing layer 'model.6.m.1.cv1.conv.weight'\n",
      "Freezing layer 'model.6.m.1.cv1.bn.weight'\n",
      "Freezing layer 'model.6.m.1.cv1.bn.bias'\n",
      "Freezing layer 'model.6.m.1.cv2.conv.weight'\n",
      "Freezing layer 'model.6.m.1.cv2.bn.weight'\n",
      "Freezing layer 'model.6.m.1.cv2.bn.bias'\n",
      "Freezing layer 'model.7.conv.weight'\n",
      "Freezing layer 'model.7.bn.weight'\n",
      "Freezing layer 'model.7.bn.bias'\n",
      "Freezing layer 'model.8.cv1.conv.weight'\n",
      "Freezing layer 'model.8.cv1.bn.weight'\n",
      "Freezing layer 'model.8.cv1.bn.bias'\n",
      "Freezing layer 'model.8.cv2.conv.weight'\n",
      "Freezing layer 'model.8.cv2.bn.weight'\n",
      "Freezing layer 'model.8.cv2.bn.bias'\n",
      "Freezing layer 'model.8.m.0.cv1.conv.weight'\n",
      "Freezing layer 'model.8.m.0.cv1.bn.weight'\n",
      "Freezing layer 'model.8.m.0.cv1.bn.bias'\n",
      "Freezing layer 'model.8.m.0.cv2.conv.weight'\n",
      "Freezing layer 'model.8.m.0.cv2.bn.weight'\n",
      "Freezing layer 'model.8.m.0.cv2.bn.bias'\n",
      "Freezing layer 'model.9.cv1.conv.weight'\n",
      "Freezing layer 'model.9.cv1.bn.weight'\n",
      "Freezing layer 'model.9.cv1.bn.bias'\n",
      "Freezing layer 'model.9.cv2.conv.weight'\n",
      "Freezing layer 'model.9.cv2.bn.weight'\n",
      "Freezing layer 'model.9.cv2.bn.bias'\n",
      "Freezing layer 'model.22.dfl.conv.weight'\n",
      "\u001b[34m\u001b[1mAMP: \u001b[0mrunning Automatic Mixed Precision (AMP) checks...\n",
      "Downloading https://github.com/ultralytics/assets/releases/download/v8.3.0/yolo11n.pt to 'yolo11n.pt'...\n"
     ]
    },
    {
     "name": "stderr",
     "output_type": "stream",
     "text": [
      "100%|██████████| 5.35M/5.35M [00:00<00:00, 17.9MB/s]\n"
     ]
    },
    {
     "name": "stdout",
     "output_type": "stream",
     "text": [
      "\u001b[34m\u001b[1mAMP: \u001b[0mchecks passed \n"
     ]
    },
    {
     "name": "stderr",
     "output_type": "stream",
     "text": [
      "\u001b[34m\u001b[1mtrain: \u001b[0mScanning D:\\TFM\\Codigo\\modificado_copy\\train\\labels... 800 images, 251 backgrounds, 0 corrupt: 100%|██████████| 1000/1000 [00:02<00:00, 472.06it/s]\n"
     ]
    },
    {
     "name": "stdout",
     "output_type": "stream",
     "text": [
      "\u001b[34m\u001b[1mtrain: \u001b[0mNew cache created: D:\\TFM\\Codigo\\modificado_copy\\train\\labels.cache\n"
     ]
    },
    {
     "name": "stderr",
     "output_type": "stream",
     "text": [
      "\u001b[34m\u001b[1mval: \u001b[0mScanning D:\\TFM\\Codigo\\modificado_copy\\valid\\labels... 200 images, 14 backgrounds, 0 corrupt: 100%|██████████| 200/200 [00:01<00:00, 103.40it/s]"
     ]
    },
    {
     "name": "stdout",
     "output_type": "stream",
     "text": [
      "\u001b[34m\u001b[1mval: \u001b[0mNew cache created: D:\\TFM\\Codigo\\modificado_copy\\valid\\labels.cache\n"
     ]
    },
    {
     "name": "stderr",
     "output_type": "stream",
     "text": [
      "\n"
     ]
    },
    {
     "name": "stdout",
     "output_type": "stream",
     "text": [
      "Plotting labels to butterfly_detection\\yolov8_butterfly\\labels.jpg... \n",
      "\u001b[34m\u001b[1moptimizer:\u001b[0m 'optimizer=auto' found, ignoring 'lr0=0.0001' and 'momentum=0.937' and determining best 'optimizer', 'lr0' and 'momentum' automatically... \n",
      "\u001b[34m\u001b[1moptimizer:\u001b[0m AdamW(lr=0.002, momentum=0.9) with parameter groups 57 weight(decay=0.0), 64 weight(decay=0.0005), 63 bias(decay=0.0)\n",
      "Image sizes 640 train, 640 val\n",
      "Using 8 dataloader workers\n",
      "Logging results to \u001b[1mbutterfly_detection\\yolov8_butterfly\u001b[0m\n",
      "Starting training for 50 epochs...\n",
      "\n",
      "      Epoch    GPU_mem   box_loss   cls_loss   dfl_loss  Instances       Size\n"
     ]
    },
    {
     "name": "stderr",
     "output_type": "stream",
     "text": [
      "       1/50     0.686G     0.7712      1.594      1.421         16        640: 100%|██████████| 125/125 [00:48<00:00,  2.56it/s]\n",
      "                 Class     Images  Instances      Box(P          R      mAP50  mAP50-95): 100%|██████████| 13/13 [00:04<00:00,  2.98it/s]\n"
     ]
    },
    {
     "name": "stdout",
     "output_type": "stream",
     "text": [
      "                   all        200        186      0.901      0.981      0.931      0.685\n",
      "\n",
      "      Epoch    GPU_mem   box_loss   cls_loss   dfl_loss  Instances       Size\n"
     ]
    },
    {
     "name": "stderr",
     "output_type": "stream",
     "text": [
      "       2/50     0.555G     0.7769      1.086      1.403         16        640: 100%|██████████| 125/125 [00:26<00:00,  4.79it/s]\n",
      "                 Class     Images  Instances      Box(P          R      mAP50  mAP50-95): 100%|██████████| 13/13 [00:03<00:00,  4.19it/s]"
     ]
    },
    {
     "name": "stdout",
     "output_type": "stream",
     "text": [
      "                   all        200        186      0.914      0.984      0.931      0.718\n"
     ]
    },
    {
     "name": "stderr",
     "output_type": "stream",
     "text": [
      "\n"
     ]
    },
    {
     "name": "stdout",
     "output_type": "stream",
     "text": [
      "\n",
      "      Epoch    GPU_mem   box_loss   cls_loss   dfl_loss  Instances       Size\n"
     ]
    },
    {
     "name": "stderr",
     "output_type": "stream",
     "text": [
      "       3/50     0.557G     0.7969     0.9483      1.418         14        640: 100%|██████████| 125/125 [00:25<00:00,  4.81it/s]\n",
      "                 Class     Images  Instances      Box(P          R      mAP50  mAP50-95): 100%|██████████| 13/13 [00:03<00:00,  4.24it/s]"
     ]
    },
    {
     "name": "stdout",
     "output_type": "stream",
     "text": [
      "                   all        200        186      0.859       0.95      0.939      0.723\n"
     ]
    },
    {
     "name": "stderr",
     "output_type": "stream",
     "text": [
      "\n"
     ]
    },
    {
     "name": "stdout",
     "output_type": "stream",
     "text": [
      "\n",
      "      Epoch    GPU_mem   box_loss   cls_loss   dfl_loss  Instances       Size\n"
     ]
    },
    {
     "name": "stderr",
     "output_type": "stream",
     "text": [
      "       4/50     0.557G     0.7777      0.817      1.405         23        640: 100%|██████████| 125/125 [00:26<00:00,  4.81it/s]\n",
      "                 Class     Images  Instances      Box(P          R      mAP50  mAP50-95): 100%|██████████| 13/13 [00:03<00:00,  4.24it/s]"
     ]
    },
    {
     "name": "stdout",
     "output_type": "stream",
     "text": [
      "                   all        200        186      0.881      0.973      0.937      0.717\n"
     ]
    },
    {
     "name": "stderr",
     "output_type": "stream",
     "text": [
      "\n"
     ]
    },
    {
     "name": "stdout",
     "output_type": "stream",
     "text": [
      "\n",
      "      Epoch    GPU_mem   box_loss   cls_loss   dfl_loss  Instances       Size\n"
     ]
    },
    {
     "name": "stderr",
     "output_type": "stream",
     "text": [
      "       5/50     0.557G     0.7511     0.7349      1.379         21        640: 100%|██████████| 125/125 [00:26<00:00,  4.80it/s]\n",
      "                 Class     Images  Instances      Box(P          R      mAP50  mAP50-95): 100%|██████████| 13/13 [00:03<00:00,  4.17it/s]"
     ]
    },
    {
     "name": "stdout",
     "output_type": "stream",
     "text": [
      "                   all        200        186        0.8      0.905      0.925      0.711\n"
     ]
    },
    {
     "name": "stderr",
     "output_type": "stream",
     "text": [
      "\n"
     ]
    },
    {
     "name": "stdout",
     "output_type": "stream",
     "text": [
      "\n",
      "      Epoch    GPU_mem   box_loss   cls_loss   dfl_loss  Instances       Size\n"
     ]
    },
    {
     "name": "stderr",
     "output_type": "stream",
     "text": [
      "       6/50     0.557G      0.782     0.7113      1.398         21        640: 100%|██████████| 125/125 [00:26<00:00,  4.73it/s]\n",
      "                 Class     Images  Instances      Box(P          R      mAP50  mAP50-95): 100%|██████████| 13/13 [00:03<00:00,  4.10it/s]"
     ]
    },
    {
     "name": "stdout",
     "output_type": "stream",
     "text": [
      "                   all        200        186      0.919      0.995      0.942      0.753\n"
     ]
    },
    {
     "name": "stderr",
     "output_type": "stream",
     "text": [
      "\n"
     ]
    },
    {
     "name": "stdout",
     "output_type": "stream",
     "text": [
      "\n",
      "      Epoch    GPU_mem   box_loss   cls_loss   dfl_loss  Instances       Size\n"
     ]
    },
    {
     "name": "stderr",
     "output_type": "stream",
     "text": [
      "       7/50     0.557G     0.7151     0.6712      1.341         18        640: 100%|██████████| 125/125 [00:26<00:00,  4.65it/s]\n",
      "                 Class     Images  Instances      Box(P          R      mAP50  mAP50-95): 100%|██████████| 13/13 [00:03<00:00,  4.07it/s]"
     ]
    },
    {
     "name": "stdout",
     "output_type": "stream",
     "text": [
      "                   all        200        186       0.92      0.995      0.943      0.749\n"
     ]
    },
    {
     "name": "stderr",
     "output_type": "stream",
     "text": [
      "\n"
     ]
    },
    {
     "name": "stdout",
     "output_type": "stream",
     "text": [
      "\n",
      "      Epoch    GPU_mem   box_loss   cls_loss   dfl_loss  Instances       Size\n"
     ]
    },
    {
     "name": "stderr",
     "output_type": "stream",
     "text": [
      "       8/50     0.557G      0.716     0.6724      1.353         14        640: 100%|██████████| 125/125 [00:27<00:00,  4.58it/s]\n",
      "                 Class     Images  Instances      Box(P          R      mAP50  mAP50-95): 100%|██████████| 13/13 [00:03<00:00,  4.06it/s]"
     ]
    },
    {
     "name": "stdout",
     "output_type": "stream",
     "text": [
      "                   all        200        186      0.915      0.995      0.953      0.694\n"
     ]
    },
    {
     "name": "stderr",
     "output_type": "stream",
     "text": [
      "\n"
     ]
    },
    {
     "name": "stdout",
     "output_type": "stream",
     "text": [
      "\n",
      "      Epoch    GPU_mem   box_loss   cls_loss   dfl_loss  Instances       Size\n"
     ]
    },
    {
     "name": "stderr",
     "output_type": "stream",
     "text": [
      "       9/50     0.557G     0.6965     0.6436      1.326         13        640: 100%|██████████| 125/125 [00:27<00:00,  4.54it/s]\n",
      "                 Class     Images  Instances      Box(P          R      mAP50  mAP50-95): 100%|██████████| 13/13 [00:03<00:00,  4.02it/s]"
     ]
    },
    {
     "name": "stdout",
     "output_type": "stream",
     "text": [
      "                   all        200        186      0.917      0.989      0.961      0.773\n"
     ]
    },
    {
     "name": "stderr",
     "output_type": "stream",
     "text": [
      "\n"
     ]
    },
    {
     "name": "stdout",
     "output_type": "stream",
     "text": [
      "\n",
      "      Epoch    GPU_mem   box_loss   cls_loss   dfl_loss  Instances       Size\n"
     ]
    },
    {
     "name": "stderr",
     "output_type": "stream",
     "text": [
      "      10/50     0.555G     0.6832     0.6286      1.335         19        640: 100%|██████████| 125/125 [00:27<00:00,  4.50it/s]\n",
      "                 Class     Images  Instances      Box(P          R      mAP50  mAP50-95): 100%|██████████| 13/13 [00:03<00:00,  4.00it/s]"
     ]
    },
    {
     "name": "stdout",
     "output_type": "stream",
     "text": [
      "                   all        200        186      0.896      0.978       0.96      0.746\n"
     ]
    },
    {
     "name": "stderr",
     "output_type": "stream",
     "text": [
      "\n"
     ]
    },
    {
     "name": "stdout",
     "output_type": "stream",
     "text": [
      "\n",
      "      Epoch    GPU_mem   box_loss   cls_loss   dfl_loss  Instances       Size\n"
     ]
    },
    {
     "name": "stderr",
     "output_type": "stream",
     "text": [
      "      11/50     0.557G     0.6735     0.6131      1.319         16        640: 100%|██████████| 125/125 [00:27<00:00,  4.47it/s]\n",
      "                 Class     Images  Instances      Box(P          R      mAP50  mAP50-95): 100%|██████████| 13/13 [00:03<00:00,  4.02it/s]"
     ]
    },
    {
     "name": "stdout",
     "output_type": "stream",
     "text": [
      "                   all        200        186      0.915       0.99       0.95      0.768\n"
     ]
    },
    {
     "name": "stderr",
     "output_type": "stream",
     "text": [
      "\n"
     ]
    },
    {
     "name": "stdout",
     "output_type": "stream",
     "text": [
      "\n",
      "      Epoch    GPU_mem   box_loss   cls_loss   dfl_loss  Instances       Size\n"
     ]
    },
    {
     "name": "stderr",
     "output_type": "stream",
     "text": [
      "      12/50     0.557G     0.6557      0.599      1.305         17        640: 100%|██████████| 125/125 [00:27<00:00,  4.49it/s]\n",
      "                 Class     Images  Instances      Box(P          R      mAP50  mAP50-95): 100%|██████████| 13/13 [00:03<00:00,  3.98it/s]"
     ]
    },
    {
     "name": "stdout",
     "output_type": "stream",
     "text": [
      "                   all        200        186      0.923      0.995      0.959       0.76\n"
     ]
    },
    {
     "name": "stderr",
     "output_type": "stream",
     "text": [
      "\n"
     ]
    },
    {
     "name": "stdout",
     "output_type": "stream",
     "text": [
      "\n",
      "      Epoch    GPU_mem   box_loss   cls_loss   dfl_loss  Instances       Size\n"
     ]
    },
    {
     "name": "stderr",
     "output_type": "stream",
     "text": [
      "      13/50     0.555G     0.6475      0.585       1.31         17        640: 100%|██████████| 125/125 [00:27<00:00,  4.48it/s]\n",
      "                 Class     Images  Instances      Box(P          R      mAP50  mAP50-95): 100%|██████████| 13/13 [00:03<00:00,  3.96it/s]"
     ]
    },
    {
     "name": "stdout",
     "output_type": "stream",
     "text": [
      "                   all        200        186      0.924      0.995       0.97      0.785\n"
     ]
    },
    {
     "name": "stderr",
     "output_type": "stream",
     "text": [
      "\n"
     ]
    },
    {
     "name": "stdout",
     "output_type": "stream",
     "text": [
      "\n",
      "      Epoch    GPU_mem   box_loss   cls_loss   dfl_loss  Instances       Size\n"
     ]
    },
    {
     "name": "stderr",
     "output_type": "stream",
     "text": [
      "      14/50     0.557G     0.6276     0.5779      1.288         15        640: 100%|██████████| 125/125 [00:27<00:00,  4.47it/s]\n",
      "                 Class     Images  Instances      Box(P          R      mAP50  mAP50-95): 100%|██████████| 13/13 [00:03<00:00,  4.04it/s]"
     ]
    },
    {
     "name": "stdout",
     "output_type": "stream",
     "text": [
      "                   all        200        186       0.92      0.994      0.955       0.78\n"
     ]
    },
    {
     "name": "stderr",
     "output_type": "stream",
     "text": [
      "\n"
     ]
    },
    {
     "name": "stdout",
     "output_type": "stream",
     "text": [
      "\n",
      "      Epoch    GPU_mem   box_loss   cls_loss   dfl_loss  Instances       Size\n"
     ]
    },
    {
     "name": "stderr",
     "output_type": "stream",
     "text": [
      "      15/50     0.555G     0.6575     0.5973      1.304         24        640: 100%|██████████| 125/125 [00:28<00:00,  4.46it/s]\n",
      "                 Class     Images  Instances      Box(P          R      mAP50  mAP50-95): 100%|██████████| 13/13 [00:03<00:00,  4.04it/s]"
     ]
    },
    {
     "name": "stdout",
     "output_type": "stream",
     "text": [
      "                   all        200        186       0.92      0.995      0.957       0.78\n"
     ]
    },
    {
     "name": "stderr",
     "output_type": "stream",
     "text": [
      "\n"
     ]
    },
    {
     "name": "stdout",
     "output_type": "stream",
     "text": [
      "\n",
      "      Epoch    GPU_mem   box_loss   cls_loss   dfl_loss  Instances       Size\n"
     ]
    },
    {
     "name": "stderr",
     "output_type": "stream",
     "text": [
      "      16/50     0.557G     0.6315     0.5634      1.285         17        640: 100%|██████████| 125/125 [00:28<00:00,  4.44it/s]\n",
      "                 Class     Images  Instances      Box(P          R      mAP50  mAP50-95): 100%|██████████| 13/13 [00:03<00:00,  4.02it/s]"
     ]
    },
    {
     "name": "stdout",
     "output_type": "stream",
     "text": [
      "                   all        200        186       0.92      0.995      0.956      0.781\n"
     ]
    },
    {
     "name": "stderr",
     "output_type": "stream",
     "text": [
      "\n"
     ]
    },
    {
     "name": "stdout",
     "output_type": "stream",
     "text": [
      "\n",
      "      Epoch    GPU_mem   box_loss   cls_loss   dfl_loss  Instances       Size\n"
     ]
    },
    {
     "name": "stderr",
     "output_type": "stream",
     "text": [
      "      17/50     0.557G     0.6184     0.5695      1.289         19        640: 100%|██████████| 125/125 [00:28<00:00,  4.45it/s]\n",
      "                 Class     Images  Instances      Box(P          R      mAP50  mAP50-95): 100%|██████████| 13/13 [00:03<00:00,  4.00it/s]"
     ]
    },
    {
     "name": "stdout",
     "output_type": "stream",
     "text": [
      "                   all        200        186      0.924      0.995      0.954      0.786\n"
     ]
    },
    {
     "name": "stderr",
     "output_type": "stream",
     "text": [
      "\n"
     ]
    },
    {
     "name": "stdout",
     "output_type": "stream",
     "text": [
      "\n",
      "      Epoch    GPU_mem   box_loss   cls_loss   dfl_loss  Instances       Size\n"
     ]
    },
    {
     "name": "stderr",
     "output_type": "stream",
     "text": [
      "      18/50     0.555G     0.6066     0.5526      1.266         13        640: 100%|██████████| 125/125 [00:28<00:00,  4.45it/s]\n",
      "                 Class     Images  Instances      Box(P          R      mAP50  mAP50-95): 100%|██████████| 13/13 [00:03<00:00,  3.97it/s]"
     ]
    },
    {
     "name": "stdout",
     "output_type": "stream",
     "text": [
      "                   all        200        186       0.92      0.995      0.952      0.778\n"
     ]
    },
    {
     "name": "stderr",
     "output_type": "stream",
     "text": [
      "\n"
     ]
    },
    {
     "name": "stdout",
     "output_type": "stream",
     "text": [
      "\n",
      "      Epoch    GPU_mem   box_loss   cls_loss   dfl_loss  Instances       Size\n"
     ]
    },
    {
     "name": "stderr",
     "output_type": "stream",
     "text": [
      "      19/50     0.555G     0.6093     0.5431      1.281         10        640: 100%|██████████| 125/125 [00:28<00:00,  4.45it/s]\n",
      "                 Class     Images  Instances      Box(P          R      mAP50  mAP50-95): 100%|██████████| 13/13 [00:03<00:00,  4.00it/s]"
     ]
    },
    {
     "name": "stdout",
     "output_type": "stream",
     "text": [
      "                   all        200        186      0.925      0.993      0.957      0.782\n"
     ]
    },
    {
     "name": "stderr",
     "output_type": "stream",
     "text": [
      "\n"
     ]
    },
    {
     "name": "stdout",
     "output_type": "stream",
     "text": [
      "\n",
      "      Epoch    GPU_mem   box_loss   cls_loss   dfl_loss  Instances       Size\n"
     ]
    },
    {
     "name": "stderr",
     "output_type": "stream",
     "text": [
      "      20/50     0.557G     0.6006     0.5478      1.266         18        640: 100%|██████████| 125/125 [00:28<00:00,  4.46it/s]\n",
      "                 Class     Images  Instances      Box(P          R      mAP50  mAP50-95): 100%|██████████| 13/13 [00:03<00:00,  3.98it/s]"
     ]
    },
    {
     "name": "stdout",
     "output_type": "stream",
     "text": [
      "                   all        200        186      0.915      0.995      0.968      0.775\n"
     ]
    },
    {
     "name": "stderr",
     "output_type": "stream",
     "text": [
      "\n"
     ]
    },
    {
     "name": "stdout",
     "output_type": "stream",
     "text": [
      "\n",
      "      Epoch    GPU_mem   box_loss   cls_loss   dfl_loss  Instances       Size\n"
     ]
    },
    {
     "name": "stderr",
     "output_type": "stream",
     "text": [
      "      21/50     0.557G     0.5942     0.5372      1.264         18        640: 100%|██████████| 125/125 [00:28<00:00,  4.44it/s]\n",
      "                 Class     Images  Instances      Box(P          R      mAP50  mAP50-95): 100%|██████████| 13/13 [00:03<00:00,  4.02it/s]"
     ]
    },
    {
     "name": "stdout",
     "output_type": "stream",
     "text": [
      "                   all        200        186       0.92      0.995      0.958      0.777\n"
     ]
    },
    {
     "name": "stderr",
     "output_type": "stream",
     "text": [
      "\n"
     ]
    },
    {
     "name": "stdout",
     "output_type": "stream",
     "text": [
      "\n",
      "      Epoch    GPU_mem   box_loss   cls_loss   dfl_loss  Instances       Size\n"
     ]
    },
    {
     "name": "stderr",
     "output_type": "stream",
     "text": [
      "      22/50     0.557G     0.5739     0.5182      1.262         19        640: 100%|██████████| 125/125 [00:27<00:00,  4.46it/s]\n",
      "                 Class     Images  Instances      Box(P          R      mAP50  mAP50-95): 100%|██████████| 13/13 [00:03<00:00,  3.96it/s]"
     ]
    },
    {
     "name": "stdout",
     "output_type": "stream",
     "text": [
      "                   all        200        186       0.92      0.995      0.968      0.785\n"
     ]
    },
    {
     "name": "stderr",
     "output_type": "stream",
     "text": [
      "\n"
     ]
    },
    {
     "name": "stdout",
     "output_type": "stream",
     "text": [
      "\n",
      "      Epoch    GPU_mem   box_loss   cls_loss   dfl_loss  Instances       Size\n"
     ]
    },
    {
     "name": "stderr",
     "output_type": "stream",
     "text": [
      "      23/50     0.557G     0.5994      0.546      1.272         17        640: 100%|██████████| 125/125 [00:27<00:00,  4.48it/s]\n",
      "                 Class     Images  Instances      Box(P          R      mAP50  mAP50-95): 100%|██████████| 13/13 [00:03<00:00,  4.02it/s]"
     ]
    },
    {
     "name": "stdout",
     "output_type": "stream",
     "text": [
      "                   all        200        186      0.919      0.995      0.954      0.786\n"
     ]
    },
    {
     "name": "stderr",
     "output_type": "stream",
     "text": [
      "\n"
     ]
    },
    {
     "name": "stdout",
     "output_type": "stream",
     "text": [
      "\n",
      "      Epoch    GPU_mem   box_loss   cls_loss   dfl_loss  Instances       Size\n"
     ]
    },
    {
     "name": "stderr",
     "output_type": "stream",
     "text": [
      "      24/50     0.557G      0.565     0.5037      1.257         13        640: 100%|██████████| 125/125 [00:28<00:00,  4.46it/s]\n",
      "                 Class     Images  Instances      Box(P          R      mAP50  mAP50-95): 100%|██████████| 13/13 [00:03<00:00,  4.02it/s]"
     ]
    },
    {
     "name": "stdout",
     "output_type": "stream",
     "text": [
      "                   all        200        186      0.924      0.995      0.959       0.79\n"
     ]
    },
    {
     "name": "stderr",
     "output_type": "stream",
     "text": [
      "\n"
     ]
    },
    {
     "name": "stdout",
     "output_type": "stream",
     "text": [
      "\n",
      "      Epoch    GPU_mem   box_loss   cls_loss   dfl_loss  Instances       Size\n"
     ]
    },
    {
     "name": "stderr",
     "output_type": "stream",
     "text": [
      "      25/50     0.555G     0.5651     0.5092      1.248         15        640: 100%|██████████| 125/125 [00:28<00:00,  4.43it/s]\n",
      "                 Class     Images  Instances      Box(P          R      mAP50  mAP50-95): 100%|██████████| 13/13 [00:03<00:00,  3.95it/s]"
     ]
    },
    {
     "name": "stdout",
     "output_type": "stream",
     "text": [
      "                   all        200        186      0.911      0.995      0.963      0.798\n"
     ]
    },
    {
     "name": "stderr",
     "output_type": "stream",
     "text": [
      "\n"
     ]
    },
    {
     "name": "stdout",
     "output_type": "stream",
     "text": [
      "\n",
      "      Epoch    GPU_mem   box_loss   cls_loss   dfl_loss  Instances       Size\n"
     ]
    },
    {
     "name": "stderr",
     "output_type": "stream",
     "text": [
      "      26/50     0.557G     0.5768     0.5193      1.256         13        640: 100%|██████████| 125/125 [00:28<00:00,  4.39it/s]\n",
      "                 Class     Images  Instances      Box(P          R      mAP50  mAP50-95): 100%|██████████| 13/13 [00:03<00:00,  3.93it/s]"
     ]
    },
    {
     "name": "stdout",
     "output_type": "stream",
     "text": [
      "                   all        200        186      0.915      0.995      0.971      0.799\n"
     ]
    },
    {
     "name": "stderr",
     "output_type": "stream",
     "text": [
      "\n"
     ]
    },
    {
     "name": "stdout",
     "output_type": "stream",
     "text": [
      "\n",
      "      Epoch    GPU_mem   box_loss   cls_loss   dfl_loss  Instances       Size\n"
     ]
    },
    {
     "name": "stderr",
     "output_type": "stream",
     "text": [
      "      27/50     0.557G     0.5483     0.5056      1.236         23        640: 100%|██████████| 125/125 [00:28<00:00,  4.42it/s]\n",
      "                 Class     Images  Instances      Box(P          R      mAP50  mAP50-95): 100%|██████████| 13/13 [00:03<00:00,  3.97it/s]"
     ]
    },
    {
     "name": "stdout",
     "output_type": "stream",
     "text": [
      "                   all        200        186        0.9      0.989      0.948      0.782\n"
     ]
    },
    {
     "name": "stderr",
     "output_type": "stream",
     "text": [
      "\n"
     ]
    },
    {
     "name": "stdout",
     "output_type": "stream",
     "text": [
      "\n",
      "      Epoch    GPU_mem   box_loss   cls_loss   dfl_loss  Instances       Size\n"
     ]
    },
    {
     "name": "stderr",
     "output_type": "stream",
     "text": [
      "      28/50     0.557G      0.542     0.4868      1.238         22        640: 100%|██████████| 125/125 [00:28<00:00,  4.40it/s]\n",
      "                 Class     Images  Instances      Box(P          R      mAP50  mAP50-95): 100%|██████████| 13/13 [00:03<00:00,  3.86it/s]"
     ]
    },
    {
     "name": "stdout",
     "output_type": "stream",
     "text": [
      "                   all        200        186      0.923      0.995      0.956        0.8\n"
     ]
    },
    {
     "name": "stderr",
     "output_type": "stream",
     "text": [
      "\n"
     ]
    },
    {
     "name": "stdout",
     "output_type": "stream",
     "text": [
      "\n",
      "      Epoch    GPU_mem   box_loss   cls_loss   dfl_loss  Instances       Size\n"
     ]
    },
    {
     "name": "stderr",
     "output_type": "stream",
     "text": [
      "      29/50     0.557G     0.5606     0.5163      1.249         17        640: 100%|██████████| 125/125 [00:29<00:00,  4.27it/s]\n",
      "                 Class     Images  Instances      Box(P          R      mAP50  mAP50-95): 100%|██████████| 13/13 [00:03<00:00,  3.78it/s]"
     ]
    },
    {
     "name": "stdout",
     "output_type": "stream",
     "text": [
      "                   all        200        186      0.925      0.995      0.962      0.796\n"
     ]
    },
    {
     "name": "stderr",
     "output_type": "stream",
     "text": [
      "\n"
     ]
    },
    {
     "name": "stdout",
     "output_type": "stream",
     "text": [
      "\n",
      "      Epoch    GPU_mem   box_loss   cls_loss   dfl_loss  Instances       Size\n"
     ]
    },
    {
     "name": "stderr",
     "output_type": "stream",
     "text": [
      "      30/50     0.557G     0.5225     0.4909      1.218         14        640: 100%|██████████| 125/125 [00:28<00:00,  4.41it/s]\n",
      "                 Class     Images  Instances      Box(P          R      mAP50  mAP50-95): 100%|██████████| 13/13 [00:03<00:00,  3.98it/s]"
     ]
    },
    {
     "name": "stdout",
     "output_type": "stream",
     "text": [
      "                   all        200        186      0.916      0.995      0.961      0.801\n"
     ]
    },
    {
     "name": "stderr",
     "output_type": "stream",
     "text": [
      "\n"
     ]
    },
    {
     "name": "stdout",
     "output_type": "stream",
     "text": [
      "\n",
      "      Epoch    GPU_mem   box_loss   cls_loss   dfl_loss  Instances       Size\n"
     ]
    },
    {
     "name": "stderr",
     "output_type": "stream",
     "text": [
      "      31/50     0.557G      0.516     0.4757      1.202         15        640: 100%|██████████| 125/125 [00:27<00:00,  4.47it/s]\n",
      "                 Class     Images  Instances      Box(P          R      mAP50  mAP50-95): 100%|██████████| 13/13 [00:03<00:00,  4.06it/s]"
     ]
    },
    {
     "name": "stdout",
     "output_type": "stream",
     "text": [
      "                   all        200        186      0.915      0.995      0.961      0.792\n"
     ]
    },
    {
     "name": "stderr",
     "output_type": "stream",
     "text": [
      "\n"
     ]
    },
    {
     "name": "stdout",
     "output_type": "stream",
     "text": [
      "\n",
      "      Epoch    GPU_mem   box_loss   cls_loss   dfl_loss  Instances       Size\n"
     ]
    },
    {
     "name": "stderr",
     "output_type": "stream",
     "text": [
      "      32/50     0.557G     0.5296     0.4767      1.221         18        640: 100%|██████████| 125/125 [00:27<00:00,  4.48it/s]\n",
      "                 Class     Images  Instances      Box(P          R      mAP50  mAP50-95): 100%|██████████| 13/13 [00:03<00:00,  3.96it/s]"
     ]
    },
    {
     "name": "stdout",
     "output_type": "stream",
     "text": [
      "                   all        200        186      0.925      0.993      0.965      0.799\n"
     ]
    },
    {
     "name": "stderr",
     "output_type": "stream",
     "text": [
      "\n"
     ]
    },
    {
     "name": "stdout",
     "output_type": "stream",
     "text": [
      "\n",
      "      Epoch    GPU_mem   box_loss   cls_loss   dfl_loss  Instances       Size\n"
     ]
    },
    {
     "name": "stderr",
     "output_type": "stream",
     "text": [
      "      33/50     0.555G     0.5258     0.4764      1.214         22        640: 100%|██████████| 125/125 [00:28<00:00,  4.46it/s]\n",
      "                 Class     Images  Instances      Box(P          R      mAP50  mAP50-95): 100%|██████████| 13/13 [00:03<00:00,  4.06it/s]"
     ]
    },
    {
     "name": "stdout",
     "output_type": "stream",
     "text": [
      "                   all        200        186      0.916      0.995      0.961      0.796\n"
     ]
    },
    {
     "name": "stderr",
     "output_type": "stream",
     "text": [
      "\n"
     ]
    },
    {
     "name": "stdout",
     "output_type": "stream",
     "text": [
      "\n",
      "      Epoch    GPU_mem   box_loss   cls_loss   dfl_loss  Instances       Size\n"
     ]
    },
    {
     "name": "stderr",
     "output_type": "stream",
     "text": [
      "      34/50     0.555G     0.5214     0.4659      1.217         20        640: 100%|██████████| 125/125 [00:27<00:00,  4.46it/s]\n",
      "                 Class     Images  Instances      Box(P          R      mAP50  mAP50-95): 100%|██████████| 13/13 [00:03<00:00,  4.03it/s]"
     ]
    },
    {
     "name": "stdout",
     "output_type": "stream",
     "text": [
      "                   all        200        186       0.91      0.995      0.958      0.797\n"
     ]
    },
    {
     "name": "stderr",
     "output_type": "stream",
     "text": [
      "\n"
     ]
    },
    {
     "name": "stdout",
     "output_type": "stream",
     "text": [
      "\n",
      "      Epoch    GPU_mem   box_loss   cls_loss   dfl_loss  Instances       Size\n"
     ]
    },
    {
     "name": "stderr",
     "output_type": "stream",
     "text": [
      "      35/50     0.555G     0.5033     0.4687      1.192         23        640: 100%|██████████| 125/125 [00:27<00:00,  4.47it/s]\n",
      "                 Class     Images  Instances      Box(P          R      mAP50  mAP50-95): 100%|██████████| 13/13 [00:03<00:00,  3.98it/s]"
     ]
    },
    {
     "name": "stdout",
     "output_type": "stream",
     "text": [
      "                   all        200        186      0.929      0.989      0.963      0.804\n"
     ]
    },
    {
     "name": "stderr",
     "output_type": "stream",
     "text": [
      "\n"
     ]
    },
    {
     "name": "stdout",
     "output_type": "stream",
     "text": [
      "\n",
      "      Epoch    GPU_mem   box_loss   cls_loss   dfl_loss  Instances       Size\n"
     ]
    },
    {
     "name": "stderr",
     "output_type": "stream",
     "text": [
      "      36/50     0.557G     0.4785     0.4536      1.195         16        640: 100%|██████████| 125/125 [00:27<00:00,  4.47it/s]\n",
      "                 Class     Images  Instances      Box(P          R      mAP50  mAP50-95): 100%|██████████| 13/13 [00:03<00:00,  4.05it/s]"
     ]
    },
    {
     "name": "stdout",
     "output_type": "stream",
     "text": [
      "                   all        200        186      0.915      0.995      0.964      0.802\n"
     ]
    },
    {
     "name": "stderr",
     "output_type": "stream",
     "text": [
      "\n"
     ]
    },
    {
     "name": "stdout",
     "output_type": "stream",
     "text": [
      "\n",
      "      Epoch    GPU_mem   box_loss   cls_loss   dfl_loss  Instances       Size\n"
     ]
    },
    {
     "name": "stderr",
     "output_type": "stream",
     "text": [
      "      37/50     0.555G     0.5023     0.4782      1.208         16        640: 100%|██████████| 125/125 [00:27<00:00,  4.49it/s]\n",
      "                 Class     Images  Instances      Box(P          R      mAP50  mAP50-95): 100%|██████████| 13/13 [00:03<00:00,  3.94it/s]"
     ]
    },
    {
     "name": "stdout",
     "output_type": "stream",
     "text": [
      "                   all        200        186       0.92      0.995      0.963      0.809\n"
     ]
    },
    {
     "name": "stderr",
     "output_type": "stream",
     "text": [
      "\n"
     ]
    },
    {
     "name": "stdout",
     "output_type": "stream",
     "text": [
      "\n",
      "      Epoch    GPU_mem   box_loss   cls_loss   dfl_loss  Instances       Size\n"
     ]
    },
    {
     "name": "stderr",
     "output_type": "stream",
     "text": [
      "      38/50     0.557G     0.4813     0.4361      1.189         16        640: 100%|██████████| 125/125 [00:28<00:00,  4.45it/s]\n",
      "                 Class     Images  Instances      Box(P          R      mAP50  mAP50-95): 100%|██████████| 13/13 [00:03<00:00,  3.99it/s]"
     ]
    },
    {
     "name": "stdout",
     "output_type": "stream",
     "text": [
      "                   all        200        186      0.918      0.995      0.964      0.808\n"
     ]
    },
    {
     "name": "stderr",
     "output_type": "stream",
     "text": [
      "\n"
     ]
    },
    {
     "name": "stdout",
     "output_type": "stream",
     "text": [
      "\n",
      "      Epoch    GPU_mem   box_loss   cls_loss   dfl_loss  Instances       Size\n"
     ]
    },
    {
     "name": "stderr",
     "output_type": "stream",
     "text": [
      "      39/50     0.557G     0.4706     0.4616      1.187         23        640: 100%|██████████| 125/125 [00:27<00:00,  4.48it/s]\n",
      "                 Class     Images  Instances      Box(P          R      mAP50  mAP50-95): 100%|██████████| 13/13 [00:03<00:00,  4.00it/s]"
     ]
    },
    {
     "name": "stdout",
     "output_type": "stream",
     "text": [
      "                   all        200        186      0.915      0.995      0.972      0.814\n"
     ]
    },
    {
     "name": "stderr",
     "output_type": "stream",
     "text": [
      "\n"
     ]
    },
    {
     "name": "stdout",
     "output_type": "stream",
     "text": [
      "\n",
      "      Epoch    GPU_mem   box_loss   cls_loss   dfl_loss  Instances       Size\n"
     ]
    },
    {
     "name": "stderr",
     "output_type": "stream",
     "text": [
      "      40/50     0.555G     0.4739     0.4466       1.18         16        640: 100%|██████████| 125/125 [00:27<00:00,  4.48it/s]\n",
      "                 Class     Images  Instances      Box(P          R      mAP50  mAP50-95): 100%|██████████| 13/13 [00:03<00:00,  3.99it/s]"
     ]
    },
    {
     "name": "stdout",
     "output_type": "stream",
     "text": [
      "                   all        200        186      0.909      0.995      0.968      0.811\n"
     ]
    },
    {
     "name": "stderr",
     "output_type": "stream",
     "text": [
      "\n"
     ]
    },
    {
     "name": "stdout",
     "output_type": "stream",
     "text": [
      "Closing dataloader mosaic\n",
      "\n",
      "      Epoch    GPU_mem   box_loss   cls_loss   dfl_loss  Instances       Size\n"
     ]
    },
    {
     "name": "stderr",
     "output_type": "stream",
     "text": [
      "      41/50     0.553G      0.382     0.4071       1.26          6        640: 100%|██████████| 125/125 [00:26<00:00,  4.76it/s]\n",
      "                 Class     Images  Instances      Box(P          R      mAP50  mAP50-95): 100%|██████████| 13/13 [00:03<00:00,  4.18it/s]"
     ]
    },
    {
     "name": "stdout",
     "output_type": "stream",
     "text": [
      "                   all        200        186      0.916      0.995       0.97      0.806\n"
     ]
    },
    {
     "name": "stderr",
     "output_type": "stream",
     "text": [
      "\n"
     ]
    },
    {
     "name": "stdout",
     "output_type": "stream",
     "text": [
      "\n",
      "      Epoch    GPU_mem   box_loss   cls_loss   dfl_loss  Instances       Size\n"
     ]
    },
    {
     "name": "stderr",
     "output_type": "stream",
     "text": [
      "      42/50     0.553G     0.3301     0.3475        1.2          6        640: 100%|██████████| 125/125 [00:26<00:00,  4.71it/s]\n",
      "                 Class     Images  Instances      Box(P          R      mAP50  mAP50-95): 100%|██████████| 13/13 [00:03<00:00,  4.04it/s]"
     ]
    },
    {
     "name": "stdout",
     "output_type": "stream",
     "text": [
      "                   all        200        186       0.92      0.995      0.972      0.813\n"
     ]
    },
    {
     "name": "stderr",
     "output_type": "stream",
     "text": [
      "\n"
     ]
    },
    {
     "name": "stdout",
     "output_type": "stream",
     "text": [
      "\n",
      "      Epoch    GPU_mem   box_loss   cls_loss   dfl_loss  Instances       Size\n"
     ]
    },
    {
     "name": "stderr",
     "output_type": "stream",
     "text": [
      "      43/50     0.553G     0.3227     0.3369      1.211          3        640: 100%|██████████| 125/125 [00:27<00:00,  4.61it/s]\n",
      "                 Class     Images  Instances      Box(P          R      mAP50  mAP50-95): 100%|██████████| 13/13 [00:03<00:00,  4.15it/s]"
     ]
    },
    {
     "name": "stdout",
     "output_type": "stream",
     "text": [
      "                   all        200        186       0.92      0.995      0.972      0.821\n"
     ]
    },
    {
     "name": "stderr",
     "output_type": "stream",
     "text": [
      "\n"
     ]
    },
    {
     "name": "stdout",
     "output_type": "stream",
     "text": [
      "\n",
      "      Epoch    GPU_mem   box_loss   cls_loss   dfl_loss  Instances       Size\n"
     ]
    },
    {
     "name": "stderr",
     "output_type": "stream",
     "text": [
      "      44/50     0.555G     0.3393     0.3513      1.222          4        640: 100%|██████████| 125/125 [00:27<00:00,  4.55it/s]\n",
      "                 Class     Images  Instances      Box(P          R      mAP50  mAP50-95): 100%|██████████| 13/13 [00:03<00:00,  4.00it/s]"
     ]
    },
    {
     "name": "stdout",
     "output_type": "stream",
     "text": [
      "                   all        200        186      0.925      0.995      0.971      0.826\n"
     ]
    },
    {
     "name": "stderr",
     "output_type": "stream",
     "text": [
      "\n"
     ]
    },
    {
     "name": "stdout",
     "output_type": "stream",
     "text": [
      "\n",
      "      Epoch    GPU_mem   box_loss   cls_loss   dfl_loss  Instances       Size\n"
     ]
    },
    {
     "name": "stderr",
     "output_type": "stream",
     "text": [
      "      45/50     0.555G     0.3044     0.3373      1.186          7        640: 100%|██████████| 125/125 [00:27<00:00,  4.52it/s]\n",
      "                 Class     Images  Instances      Box(P          R      mAP50  mAP50-95): 100%|██████████| 13/13 [00:03<00:00,  4.02it/s]"
     ]
    },
    {
     "name": "stdout",
     "output_type": "stream",
     "text": [
      "                   all        200        186      0.924      0.995      0.972      0.822\n"
     ]
    },
    {
     "name": "stderr",
     "output_type": "stream",
     "text": [
      "\n"
     ]
    },
    {
     "name": "stdout",
     "output_type": "stream",
     "text": [
      "\n",
      "      Epoch    GPU_mem   box_loss   cls_loss   dfl_loss  Instances       Size\n"
     ]
    },
    {
     "name": "stderr",
     "output_type": "stream",
     "text": [
      "      46/50     0.553G     0.3286     0.3391      1.214          6        640: 100%|██████████| 125/125 [00:27<00:00,  4.51it/s]\n",
      "                 Class     Images  Instances      Box(P          R      mAP50  mAP50-95): 100%|██████████| 13/13 [00:03<00:00,  4.01it/s]"
     ]
    },
    {
     "name": "stdout",
     "output_type": "stream",
     "text": [
      "                   all        200        186      0.925      0.995      0.971      0.818\n"
     ]
    },
    {
     "name": "stderr",
     "output_type": "stream",
     "text": [
      "\n"
     ]
    },
    {
     "name": "stdout",
     "output_type": "stream",
     "text": [
      "\n",
      "      Epoch    GPU_mem   box_loss   cls_loss   dfl_loss  Instances       Size\n"
     ]
    },
    {
     "name": "stderr",
     "output_type": "stream",
     "text": [
      "      47/50     0.555G     0.3398     0.3561      1.211          8        640: 100%|██████████| 125/125 [00:27<00:00,  4.52it/s]\n",
      "                 Class     Images  Instances      Box(P          R      mAP50  mAP50-95): 100%|██████████| 13/13 [00:03<00:00,  4.00it/s]"
     ]
    },
    {
     "name": "stdout",
     "output_type": "stream",
     "text": [
      "                   all        200        186      0.925      0.994      0.971      0.823\n"
     ]
    },
    {
     "name": "stderr",
     "output_type": "stream",
     "text": [
      "\n"
     ]
    },
    {
     "name": "stdout",
     "output_type": "stream",
     "text": [
      "\n",
      "      Epoch    GPU_mem   box_loss   cls_loss   dfl_loss  Instances       Size\n"
     ]
    },
    {
     "name": "stderr",
     "output_type": "stream",
     "text": [
      "      48/50     0.555G     0.3162     0.3382      1.177          4        640: 100%|██████████| 125/125 [00:27<00:00,  4.51it/s]\n",
      "                 Class     Images  Instances      Box(P          R      mAP50  mAP50-95): 100%|██████████| 13/13 [00:03<00:00,  4.00it/s]"
     ]
    },
    {
     "name": "stdout",
     "output_type": "stream",
     "text": [
      "                   all        200        186      0.925      0.995      0.973      0.824\n"
     ]
    },
    {
     "name": "stderr",
     "output_type": "stream",
     "text": [
      "\n"
     ]
    },
    {
     "name": "stdout",
     "output_type": "stream",
     "text": [
      "\n",
      "      Epoch    GPU_mem   box_loss   cls_loss   dfl_loss  Instances       Size\n"
     ]
    },
    {
     "name": "stderr",
     "output_type": "stream",
     "text": [
      "      49/50     0.553G     0.3097      0.324      1.176          7        640: 100%|██████████| 125/125 [00:27<00:00,  4.50it/s]\n",
      "                 Class     Images  Instances      Box(P          R      mAP50  mAP50-95): 100%|██████████| 13/13 [00:03<00:00,  4.02it/s]"
     ]
    },
    {
     "name": "stdout",
     "output_type": "stream",
     "text": [
      "                   all        200        186      0.925      0.995      0.974      0.822\n"
     ]
    },
    {
     "name": "stderr",
     "output_type": "stream",
     "text": [
      "\n"
     ]
    },
    {
     "name": "stdout",
     "output_type": "stream",
     "text": [
      "\n",
      "      Epoch    GPU_mem   box_loss   cls_loss   dfl_loss  Instances       Size\n"
     ]
    },
    {
     "name": "stderr",
     "output_type": "stream",
     "text": [
      "      50/50     0.555G     0.3258     0.3262      1.205          6        640: 100%|██████████| 125/125 [00:27<00:00,  4.51it/s]\n",
      "                 Class     Images  Instances      Box(P          R      mAP50  mAP50-95): 100%|██████████| 13/13 [00:03<00:00,  4.05it/s]"
     ]
    },
    {
     "name": "stdout",
     "output_type": "stream",
     "text": [
      "                   all        200        186      0.925      0.994      0.971      0.823\n"
     ]
    },
    {
     "name": "stderr",
     "output_type": "stream",
     "text": [
      "\n"
     ]
    },
    {
     "name": "stdout",
     "output_type": "stream",
     "text": [
      "\n",
      "50 epochs completed in 0.453 hours.\n",
      "Optimizer stripped from butterfly_detection\\yolov8_butterfly\\weights\\last.pt, 6.2MB\n",
      "Optimizer stripped from butterfly_detection\\yolov8_butterfly\\weights\\best.pt, 6.2MB\n",
      "\n",
      "Validating butterfly_detection\\yolov8_butterfly\\weights\\best.pt...\n",
      "Ultralytics 8.3.76  Python-3.11.0 torch-2.6.0+cu118 CUDA:0 (NVIDIA GeForce GTX 1050, 2048MiB)\n",
      "Model summary (fused): 72 layers, 3,005,843 parameters, 0 gradients, 8.1 GFLOPs\n"
     ]
    },
    {
     "name": "stderr",
     "output_type": "stream",
     "text": [
      "                 Class     Images  Instances      Box(P          R      mAP50  mAP50-95): 100%|██████████| 13/13 [00:07<00:00,  1.79it/s]\n"
     ]
    },
    {
     "name": "stdout",
     "output_type": "stream",
     "text": [
      "                   all        200        186      0.925      0.989      0.969      0.887\n",
      "Speed: 0.4ms preprocess, 29.7ms inference, 0.0ms loss, 1.2ms postprocess per image\n",
      "Results saved to \u001b[1mbutterfly_detection\\yolov8_butterfly\u001b[0m\n"
     ]
    },
    {
     "data": {
      "text/plain": [
       "ultralytics.utils.metrics.DetMetrics object with attributes:\n",
       "\n",
       "ap_class_index: array([0])\n",
       "box: ultralytics.utils.metrics.Metric object\n",
       "confusion_matrix: <ultralytics.utils.metrics.ConfusionMatrix object at 0x000002185F6DD4D0>\n",
       "curves: ['Precision-Recall(B)', 'F1-Confidence(B)', 'Precision-Confidence(B)', 'Recall-Confidence(B)']\n",
       "curves_results: [[array([          0,    0.001001,    0.002002,    0.003003,    0.004004,    0.005005,    0.006006,    0.007007,    0.008008,    0.009009,     0.01001,    0.011011,    0.012012,    0.013013,    0.014014,    0.015015,    0.016016,    0.017017,    0.018018,    0.019019,     0.02002,    0.021021,    0.022022,    0.023023,\n",
       "          0.024024,    0.025025,    0.026026,    0.027027,    0.028028,    0.029029,     0.03003,    0.031031,    0.032032,    0.033033,    0.034034,    0.035035,    0.036036,    0.037037,    0.038038,    0.039039,     0.04004,    0.041041,    0.042042,    0.043043,    0.044044,    0.045045,    0.046046,    0.047047,\n",
       "          0.048048,    0.049049,     0.05005,    0.051051,    0.052052,    0.053053,    0.054054,    0.055055,    0.056056,    0.057057,    0.058058,    0.059059,     0.06006,    0.061061,    0.062062,    0.063063,    0.064064,    0.065065,    0.066066,    0.067067,    0.068068,    0.069069,     0.07007,    0.071071,\n",
       "          0.072072,    0.073073,    0.074074,    0.075075,    0.076076,    0.077077,    0.078078,    0.079079,     0.08008,    0.081081,    0.082082,    0.083083,    0.084084,    0.085085,    0.086086,    0.087087,    0.088088,    0.089089,     0.09009,    0.091091,    0.092092,    0.093093,    0.094094,    0.095095,\n",
       "          0.096096,    0.097097,    0.098098,    0.099099,      0.1001,      0.1011,      0.1021,      0.1031,      0.1041,     0.10511,     0.10611,     0.10711,     0.10811,     0.10911,     0.11011,     0.11111,     0.11211,     0.11311,     0.11411,     0.11512,     0.11612,     0.11712,     0.11812,     0.11912,\n",
       "           0.12012,     0.12112,     0.12212,     0.12312,     0.12412,     0.12513,     0.12613,     0.12713,     0.12813,     0.12913,     0.13013,     0.13113,     0.13213,     0.13313,     0.13413,     0.13514,     0.13614,     0.13714,     0.13814,     0.13914,     0.14014,     0.14114,     0.14214,     0.14314,\n",
       "           0.14414,     0.14515,     0.14615,     0.14715,     0.14815,     0.14915,     0.15015,     0.15115,     0.15215,     0.15315,     0.15415,     0.15516,     0.15616,     0.15716,     0.15816,     0.15916,     0.16016,     0.16116,     0.16216,     0.16316,     0.16416,     0.16517,     0.16617,     0.16717,\n",
       "           0.16817,     0.16917,     0.17017,     0.17117,     0.17217,     0.17317,     0.17417,     0.17518,     0.17618,     0.17718,     0.17818,     0.17918,     0.18018,     0.18118,     0.18218,     0.18318,     0.18418,     0.18519,     0.18619,     0.18719,     0.18819,     0.18919,     0.19019,     0.19119,\n",
       "           0.19219,     0.19319,     0.19419,      0.1952,      0.1962,      0.1972,      0.1982,      0.1992,      0.2002,      0.2012,      0.2022,      0.2032,      0.2042,     0.20521,     0.20621,     0.20721,     0.20821,     0.20921,     0.21021,     0.21121,     0.21221,     0.21321,     0.21421,     0.21522,\n",
       "           0.21622,     0.21722,     0.21822,     0.21922,     0.22022,     0.22122,     0.22222,     0.22322,     0.22422,     0.22523,     0.22623,     0.22723,     0.22823,     0.22923,     0.23023,     0.23123,     0.23223,     0.23323,     0.23423,     0.23524,     0.23624,     0.23724,     0.23824,     0.23924,\n",
       "           0.24024,     0.24124,     0.24224,     0.24324,     0.24424,     0.24525,     0.24625,     0.24725,     0.24825,     0.24925,     0.25025,     0.25125,     0.25225,     0.25325,     0.25425,     0.25526,     0.25626,     0.25726,     0.25826,     0.25926,     0.26026,     0.26126,     0.26226,     0.26326,\n",
       "           0.26426,     0.26527,     0.26627,     0.26727,     0.26827,     0.26927,     0.27027,     0.27127,     0.27227,     0.27327,     0.27427,     0.27528,     0.27628,     0.27728,     0.27828,     0.27928,     0.28028,     0.28128,     0.28228,     0.28328,     0.28428,     0.28529,     0.28629,     0.28729,\n",
       "           0.28829,     0.28929,     0.29029,     0.29129,     0.29229,     0.29329,     0.29429,      0.2953,      0.2963,      0.2973,      0.2983,      0.2993,      0.3003,      0.3013,      0.3023,      0.3033,      0.3043,     0.30531,     0.30631,     0.30731,     0.30831,     0.30931,     0.31031,     0.31131,\n",
       "           0.31231,     0.31331,     0.31431,     0.31532,     0.31632,     0.31732,     0.31832,     0.31932,     0.32032,     0.32132,     0.32232,     0.32332,     0.32432,     0.32533,     0.32633,     0.32733,     0.32833,     0.32933,     0.33033,     0.33133,     0.33233,     0.33333,     0.33433,     0.33534,\n",
       "           0.33634,     0.33734,     0.33834,     0.33934,     0.34034,     0.34134,     0.34234,     0.34334,     0.34434,     0.34535,     0.34635,     0.34735,     0.34835,     0.34935,     0.35035,     0.35135,     0.35235,     0.35335,     0.35435,     0.35536,     0.35636,     0.35736,     0.35836,     0.35936,\n",
       "           0.36036,     0.36136,     0.36236,     0.36336,     0.36436,     0.36537,     0.36637,     0.36737,     0.36837,     0.36937,     0.37037,     0.37137,     0.37237,     0.37337,     0.37437,     0.37538,     0.37638,     0.37738,     0.37838,     0.37938,     0.38038,     0.38138,     0.38238,     0.38338,\n",
       "           0.38438,     0.38539,     0.38639,     0.38739,     0.38839,     0.38939,     0.39039,     0.39139,     0.39239,     0.39339,     0.39439,      0.3954,      0.3964,      0.3974,      0.3984,      0.3994,      0.4004,      0.4014,      0.4024,      0.4034,      0.4044,     0.40541,     0.40641,     0.40741,\n",
       "           0.40841,     0.40941,     0.41041,     0.41141,     0.41241,     0.41341,     0.41441,     0.41542,     0.41642,     0.41742,     0.41842,     0.41942,     0.42042,     0.42142,     0.42242,     0.42342,     0.42442,     0.42543,     0.42643,     0.42743,     0.42843,     0.42943,     0.43043,     0.43143,\n",
       "           0.43243,     0.43343,     0.43443,     0.43544,     0.43644,     0.43744,     0.43844,     0.43944,     0.44044,     0.44144,     0.44244,     0.44344,     0.44444,     0.44545,     0.44645,     0.44745,     0.44845,     0.44945,     0.45045,     0.45145,     0.45245,     0.45345,     0.45445,     0.45546,\n",
       "           0.45646,     0.45746,     0.45846,     0.45946,     0.46046,     0.46146,     0.46246,     0.46346,     0.46446,     0.46547,     0.46647,     0.46747,     0.46847,     0.46947,     0.47047,     0.47147,     0.47247,     0.47347,     0.47447,     0.47548,     0.47648,     0.47748,     0.47848,     0.47948,\n",
       "           0.48048,     0.48148,     0.48248,     0.48348,     0.48448,     0.48549,     0.48649,     0.48749,     0.48849,     0.48949,     0.49049,     0.49149,     0.49249,     0.49349,     0.49449,      0.4955,      0.4965,      0.4975,      0.4985,      0.4995,      0.5005,      0.5015,      0.5025,      0.5035,\n",
       "            0.5045,     0.50551,     0.50651,     0.50751,     0.50851,     0.50951,     0.51051,     0.51151,     0.51251,     0.51351,     0.51451,     0.51552,     0.51652,     0.51752,     0.51852,     0.51952,     0.52052,     0.52152,     0.52252,     0.52352,     0.52452,     0.52553,     0.52653,     0.52753,\n",
       "           0.52853,     0.52953,     0.53053,     0.53153,     0.53253,     0.53353,     0.53453,     0.53554,     0.53654,     0.53754,     0.53854,     0.53954,     0.54054,     0.54154,     0.54254,     0.54354,     0.54454,     0.54555,     0.54655,     0.54755,     0.54855,     0.54955,     0.55055,     0.55155,\n",
       "           0.55255,     0.55355,     0.55455,     0.55556,     0.55656,     0.55756,     0.55856,     0.55956,     0.56056,     0.56156,     0.56256,     0.56356,     0.56456,     0.56557,     0.56657,     0.56757,     0.56857,     0.56957,     0.57057,     0.57157,     0.57257,     0.57357,     0.57457,     0.57558,\n",
       "           0.57658,     0.57758,     0.57858,     0.57958,     0.58058,     0.58158,     0.58258,     0.58358,     0.58458,     0.58559,     0.58659,     0.58759,     0.58859,     0.58959,     0.59059,     0.59159,     0.59259,     0.59359,     0.59459,      0.5956,      0.5966,      0.5976,      0.5986,      0.5996,\n",
       "            0.6006,      0.6016,      0.6026,      0.6036,      0.6046,     0.60561,     0.60661,     0.60761,     0.60861,     0.60961,     0.61061,     0.61161,     0.61261,     0.61361,     0.61461,     0.61562,     0.61662,     0.61762,     0.61862,     0.61962,     0.62062,     0.62162,     0.62262,     0.62362,\n",
       "           0.62462,     0.62563,     0.62663,     0.62763,     0.62863,     0.62963,     0.63063,     0.63163,     0.63263,     0.63363,     0.63463,     0.63564,     0.63664,     0.63764,     0.63864,     0.63964,     0.64064,     0.64164,     0.64264,     0.64364,     0.64464,     0.64565,     0.64665,     0.64765,\n",
       "           0.64865,     0.64965,     0.65065,     0.65165,     0.65265,     0.65365,     0.65465,     0.65566,     0.65666,     0.65766,     0.65866,     0.65966,     0.66066,     0.66166,     0.66266,     0.66366,     0.66466,     0.66567,     0.66667,     0.66767,     0.66867,     0.66967,     0.67067,     0.67167,\n",
       "           0.67267,     0.67367,     0.67467,     0.67568,     0.67668,     0.67768,     0.67868,     0.67968,     0.68068,     0.68168,     0.68268,     0.68368,     0.68468,     0.68569,     0.68669,     0.68769,     0.68869,     0.68969,     0.69069,     0.69169,     0.69269,     0.69369,     0.69469,      0.6957,\n",
       "            0.6967,      0.6977,      0.6987,      0.6997,      0.7007,      0.7017,      0.7027,      0.7037,      0.7047,     0.70571,     0.70671,     0.70771,     0.70871,     0.70971,     0.71071,     0.71171,     0.71271,     0.71371,     0.71471,     0.71572,     0.71672,     0.71772,     0.71872,     0.71972,\n",
       "           0.72072,     0.72172,     0.72272,     0.72372,     0.72472,     0.72573,     0.72673,     0.72773,     0.72873,     0.72973,     0.73073,     0.73173,     0.73273,     0.73373,     0.73473,     0.73574,     0.73674,     0.73774,     0.73874,     0.73974,     0.74074,     0.74174,     0.74274,     0.74374,\n",
       "           0.74474,     0.74575,     0.74675,     0.74775,     0.74875,     0.74975,     0.75075,     0.75175,     0.75275,     0.75375,     0.75475,     0.75576,     0.75676,     0.75776,     0.75876,     0.75976,     0.76076,     0.76176,     0.76276,     0.76376,     0.76476,     0.76577,     0.76677,     0.76777,\n",
       "           0.76877,     0.76977,     0.77077,     0.77177,     0.77277,     0.77377,     0.77477,     0.77578,     0.77678,     0.77778,     0.77878,     0.77978,     0.78078,     0.78178,     0.78278,     0.78378,     0.78478,     0.78579,     0.78679,     0.78779,     0.78879,     0.78979,     0.79079,     0.79179,\n",
       "           0.79279,     0.79379,     0.79479,      0.7958,      0.7968,      0.7978,      0.7988,      0.7998,      0.8008,      0.8018,      0.8028,      0.8038,      0.8048,     0.80581,     0.80681,     0.80781,     0.80881,     0.80981,     0.81081,     0.81181,     0.81281,     0.81381,     0.81481,     0.81582,\n",
       "           0.81682,     0.81782,     0.81882,     0.81982,     0.82082,     0.82182,     0.82282,     0.82382,     0.82482,     0.82583,     0.82683,     0.82783,     0.82883,     0.82983,     0.83083,     0.83183,     0.83283,     0.83383,     0.83483,     0.83584,     0.83684,     0.83784,     0.83884,     0.83984,\n",
       "           0.84084,     0.84184,     0.84284,     0.84384,     0.84484,     0.84585,     0.84685,     0.84785,     0.84885,     0.84985,     0.85085,     0.85185,     0.85285,     0.85385,     0.85485,     0.85586,     0.85686,     0.85786,     0.85886,     0.85986,     0.86086,     0.86186,     0.86286,     0.86386,\n",
       "           0.86486,     0.86587,     0.86687,     0.86787,     0.86887,     0.86987,     0.87087,     0.87187,     0.87287,     0.87387,     0.87487,     0.87588,     0.87688,     0.87788,     0.87888,     0.87988,     0.88088,     0.88188,     0.88288,     0.88388,     0.88488,     0.88589,     0.88689,     0.88789,\n",
       "           0.88889,     0.88989,     0.89089,     0.89189,     0.89289,     0.89389,     0.89489,      0.8959,      0.8969,      0.8979,      0.8989,      0.8999,      0.9009,      0.9019,      0.9029,      0.9039,      0.9049,     0.90591,     0.90691,     0.90791,     0.90891,     0.90991,     0.91091,     0.91191,\n",
       "           0.91291,     0.91391,     0.91491,     0.91592,     0.91692,     0.91792,     0.91892,     0.91992,     0.92092,     0.92192,     0.92292,     0.92392,     0.92492,     0.92593,     0.92693,     0.92793,     0.92893,     0.92993,     0.93093,     0.93193,     0.93293,     0.93393,     0.93493,     0.93594,\n",
       "           0.93694,     0.93794,     0.93894,     0.93994,     0.94094,     0.94194,     0.94294,     0.94394,     0.94494,     0.94595,     0.94695,     0.94795,     0.94895,     0.94995,     0.95095,     0.95195,     0.95295,     0.95395,     0.95495,     0.95596,     0.95696,     0.95796,     0.95896,     0.95996,\n",
       "           0.96096,     0.96196,     0.96296,     0.96396,     0.96496,     0.96597,     0.96697,     0.96797,     0.96897,     0.96997,     0.97097,     0.97197,     0.97297,     0.97397,     0.97497,     0.97598,     0.97698,     0.97798,     0.97898,     0.97998,     0.98098,     0.98198,     0.98298,     0.98398,\n",
       "           0.98498,     0.98599,     0.98699,     0.98799,     0.98899,     0.98999,     0.99099,     0.99199,     0.99299,     0.99399,     0.99499,       0.996,       0.997,       0.998,       0.999,           1]), array([[          1,           1,           1,           1,           1,           1,           1,           1,           1,           1,           1,           1,           1,           1,           1,           1,           1,           1,           1,           1,           1,           1,           1,\n",
       "                  1,           1,           1,           1,           1,           1,           1,           1,           1,           1,           1,           1,           1,           1,           1,           1,           1,           1,           1,           1,           1,           1,           1,\n",
       "                  1,           1,           1,           1,           1,           1,           1,           1,           1,           1,           1,           1,           1,           1,           1,           1,           1,           1,           1,           1,           1,           1,           1,\n",
       "                  1,           1,           1,           1,           1,           1,           1,           1,           1,           1,           1,           1,           1,           1,           1,           1,           1,           1,           1,           1,           1,           1,           1,\n",
       "                  1,           1,           1,           1,           1,           1,           1,           1,           1,           1,           1,           1,           1,           1,           1,           1,           1,           1,           1,           1,           1,           1,           1,\n",
       "                  1,           1,           1,           1,           1,           1,           1,           1,           1,           1,           1,           1,           1,           1,           1,           1,           1,           1,           1,           1,           1,           1,           1,\n",
       "                  1,           1,           1,           1,           1,           1,           1,           1,           1,           1,           1,           1,           1,           1,           1,           1,           1,           1,           1,           1,           1,           1,           1,\n",
       "                  1,           1,           1,           1,           1,           1,           1,           1,           1,           1,           1,           1,           1,           1,           1,           1,           1,           1,           1,           1,           1,           1,           1,\n",
       "                  1,           1,           1,           1,           1,           1,           1,           1,           1,           1,           1,           1,           1,           1,           1,     0.98734,     0.98734,     0.98734,     0.98734,     0.98734,     0.98734,     0.98734,     0.98734,\n",
       "            0.98734,     0.98734,     0.98734,     0.98734,     0.98734,     0.98734,     0.98734,     0.98734,     0.98734,     0.98734,     0.98734,     0.98734,     0.98734,     0.98734,     0.98734,     0.98734,     0.98734,     0.98734,     0.98734,     0.98734,     0.98734,     0.98734,     0.98734,\n",
       "            0.98734,     0.98734,     0.98734,     0.98734,     0.98734,     0.98734,     0.98734,     0.98734,     0.98734,     0.98734,     0.98734,     0.98734,     0.98734,     0.98734,     0.98734,     0.98734,     0.98734,     0.98734,     0.98734,     0.98734,     0.98734,     0.98734,     0.98734,\n",
       "            0.98734,     0.98734,     0.98734,     0.98734,     0.98734,     0.98734,     0.98734,     0.98734,     0.98734,     0.98734,     0.98734,     0.98734,     0.98734,     0.98734,     0.98734,     0.98734,     0.98734,     0.98734,     0.98734,     0.98734,     0.98734,     0.98734,     0.98734,\n",
       "            0.98734,     0.98734,     0.98734,     0.98734,     0.98734,     0.98734,     0.98734,     0.98734,     0.98734,     0.98734,     0.98734,     0.98734,     0.98734,     0.98734,     0.98734,     0.98734,     0.98734,     0.98734,     0.98734,     0.98734,     0.98734,     0.98734,     0.98734,\n",
       "            0.98734,     0.98734,     0.98734,     0.98734,     0.98734,     0.98734,     0.98734,     0.98734,     0.98734,     0.98734,     0.98734,     0.98734,     0.98734,     0.98734,     0.98734,     0.98734,     0.98734,     0.98734,     0.98734,     0.98734,     0.98734,     0.98734,     0.98734,\n",
       "            0.98734,     0.98734,     0.98734,     0.98734,     0.98734,     0.98734,     0.98734,     0.98734,     0.98734,     0.98734,     0.98734,     0.98734,     0.98734,     0.98734,     0.98734,     0.98734,     0.98734,     0.98734,     0.98734,     0.98734,     0.98734,     0.98734,     0.98734,\n",
       "            0.98734,     0.98734,     0.98734,     0.98734,     0.98734,     0.98734,     0.98734,     0.98734,     0.98734,     0.98734,     0.98734,     0.98734,     0.98734,     0.98734,     0.98734,     0.98734,     0.98734,     0.98734,     0.98734,     0.98734,     0.98734,     0.98734,     0.98734,\n",
       "            0.98734,     0.98734,     0.98734,     0.98734,     0.98734,     0.98734,     0.98734,     0.98734,     0.98734,     0.98734,     0.98734,     0.98734,     0.98734,     0.98734,     0.98734,     0.98734,     0.98734,     0.98734,     0.98734,     0.98734,     0.98734,     0.98734,     0.98734,\n",
       "            0.98734,     0.98734,     0.98734,     0.98734,     0.98734,     0.98734,     0.98734,     0.98734,     0.98734,     0.98734,     0.98734,     0.98734,     0.98734,     0.98734,     0.98734,     0.98734,     0.98734,     0.98734,     0.98734,     0.98734,     0.98734,     0.98734,     0.98734,\n",
       "            0.98734,     0.98734,     0.98734,     0.98734,     0.98734,     0.97959,     0.97959,     0.97959,     0.97959,     0.97959,     0.97959,     0.97959,     0.97959,     0.97959,     0.97959,     0.97959,     0.97959,     0.97959,     0.97959,     0.97959,     0.97959,     0.97959,     0.97959,\n",
       "            0.97959,     0.97959,     0.97959,     0.97959,     0.97959,     0.97959,     0.97959,     0.97959,     0.97959,     0.97959,     0.97959,     0.97959,     0.97959,     0.97959,     0.97959,     0.97959,     0.97959,     0.97959,     0.97959,     0.97959,     0.97959,     0.97959,     0.97959,\n",
       "            0.97959,     0.97959,     0.97959,     0.97959,     0.97959,     0.97959,     0.97959,     0.97959,     0.97959,     0.97959,     0.97959,     0.97959,     0.97959,     0.97959,     0.97959,     0.97959,     0.97959,     0.97959,     0.97959,     0.97959,     0.97959,     0.97959,     0.97959,\n",
       "            0.97959,     0.97959,     0.97959,     0.97959,     0.97959,     0.97959,     0.97959,     0.97959,     0.97959,     0.97959,     0.97959,     0.97959,     0.97959,     0.97959,     0.97959,     0.97959,     0.97959,     0.97959,     0.97959,     0.97959,     0.97959,     0.97959,     0.97959,\n",
       "            0.97959,     0.97959,     0.97959,     0.97959,     0.97959,     0.97959,     0.97959,     0.97959,     0.97959,     0.97959,     0.97059,     0.97059,     0.97059,     0.97059,     0.97059,     0.97059,     0.97059,     0.97059,     0.97059,     0.97059,     0.97059,     0.97059,     0.97059,\n",
       "            0.97059,     0.97059,     0.97059,     0.96479,     0.96479,     0.96479,     0.96479,     0.96479,     0.96479,     0.96479,     0.96479,     0.96479,     0.96479,     0.96479,     0.96479,     0.96479,     0.96479,     0.96479,     0.96479,     0.96479,     0.96479,     0.96479,     0.96479,\n",
       "            0.96479,     0.96479,     0.96479,     0.96479,     0.96479,     0.96479,     0.96479,     0.96479,     0.96479,     0.96479,     0.96479,     0.96479,     0.96479,     0.96479,     0.96479,     0.96479,     0.96479,     0.96479,     0.96479,     0.96479,     0.96479,     0.96479,     0.96479,\n",
       "            0.96479,     0.96479,     0.96479,     0.96479,     0.96479,     0.96479,     0.96479,     0.96479,     0.96479,     0.96479,     0.96479,     0.96479,     0.96479,     0.96479,     0.96479,     0.96479,     0.96479,     0.96479,     0.96479,     0.96479,     0.96479,     0.96479,     0.96479,\n",
       "            0.96479,     0.96479,     0.96479,     0.96479,     0.96479,     0.96479,     0.96479,     0.96479,     0.96479,     0.96479,     0.96479,     0.96479,     0.96479,     0.96479,     0.96479,     0.96479,     0.96479,     0.96479,     0.96479,     0.96479,     0.96479,     0.96479,     0.96479,\n",
       "            0.96479,     0.96479,     0.96479,     0.96479,     0.96479,     0.96479,     0.96479,     0.96479,     0.96479,     0.96479,     0.96479,     0.96479,     0.96479,     0.96479,     0.96479,     0.96479,     0.96479,     0.96479,     0.96479,     0.96479,     0.96479,     0.96479,     0.96479,\n",
       "            0.96479,     0.96479,     0.96479,     0.96479,     0.96479,     0.96479,     0.96479,     0.96479,     0.96479,     0.96479,     0.96479,     0.96479,     0.96479,     0.96479,     0.96479,     0.96479,     0.96479,     0.96479,     0.96479,     0.96479,     0.96479,     0.96479,     0.96479,\n",
       "            0.96479,     0.96479,     0.96479,     0.96479,     0.96479,     0.96479,     0.96479,     0.96479,     0.96479,     0.96479,     0.96479,     0.96479,     0.96479,     0.96479,     0.96479,     0.96479,     0.96479,     0.96479,     0.96479,     0.96479,     0.96479,     0.96479,     0.96479,\n",
       "            0.96479,     0.96479,     0.96479,     0.96479,     0.96479,     0.96479,     0.96479,     0.96479,     0.96479,     0.96479,     0.96479,     0.96479,     0.96479,     0.96479,     0.96479,     0.96479,     0.96479,     0.96479,     0.96479,     0.96479,     0.96479,     0.96479,     0.96479,\n",
       "            0.96479,     0.96479,     0.96479,     0.96479,     0.96479,     0.96479,     0.96479,     0.96479,     0.96479,     0.96479,     0.96479,     0.96479,     0.96479,     0.96479,     0.96479,     0.96479,     0.96479,     0.96479,     0.96479,     0.96479,     0.96479,     0.96479,     0.96479,\n",
       "            0.95302,     0.95302,     0.95302,     0.95302,     0.95302,     0.95302,     0.95302,     0.95302,     0.95302,     0.95302,     0.95302,     0.95302,     0.95302,     0.95302,     0.95302,     0.95302,     0.95302,     0.95302,     0.95302,     0.95302,     0.95302,     0.95302,     0.95302,\n",
       "            0.95302,     0.95302,     0.95302,     0.95302,     0.95082,     0.95082,     0.95082,     0.95082,     0.95082,     0.95082,     0.95082,     0.95082,     0.95082,     0.95082,     0.95082,     0.95082,     0.95082,     0.95082,     0.95082,     0.95082,     0.95082,     0.95082,     0.95082,\n",
       "            0.95082,     0.95082,     0.95082,     0.95082,     0.95082,     0.95082,     0.95082,     0.95082,     0.95082,     0.95082,     0.95082,     0.95082,     0.95082,     0.95082,     0.95082,     0.95082,     0.95082,     0.95082,     0.95082,     0.95082,     0.95082,     0.95082,     0.95082,\n",
       "            0.95082,     0.95082,     0.95082,     0.95082,     0.95082,     0.95082,     0.95082,     0.95082,     0.95082,     0.95082,     0.95082,     0.95082,     0.95082,     0.95082,     0.95082,     0.95082,     0.95082,     0.95082,     0.95082,     0.95082,     0.95082,     0.95082,     0.95082,\n",
       "            0.95082,     0.95082,     0.95082,     0.95082,     0.95082,     0.95082,     0.95082,     0.95082,     0.95082,     0.95082,     0.95082,     0.95082,     0.95082,     0.95082,     0.95082,     0.95082,     0.95082,     0.95082,     0.95082,     0.95082,     0.95082,     0.95082,     0.95082,\n",
       "            0.95082,     0.95082,     0.95082,     0.95082,     0.95082,     0.95082,     0.95082,     0.95082,     0.95082,     0.95082,     0.95082,     0.95082,     0.95082,     0.95082,     0.95082,     0.95082,     0.95082,     0.95082,     0.95082,     0.95082,     0.95082,     0.95082,     0.95082,\n",
       "            0.95082,     0.95082,     0.95082,     0.95082,     0.95082,     0.95082,     0.95082,     0.95082,     0.95082,     0.95082,     0.95082,     0.95082,     0.95082,     0.95082,     0.95082,     0.95082,     0.95082,     0.95082,     0.95082,     0.95082,     0.95082,     0.95082,     0.95082,\n",
       "            0.95082,     0.95082,     0.95082,     0.95082,     0.95082,     0.95082,     0.95082,     0.95082,     0.95082,     0.95082,     0.95082,     0.95082,     0.95082,     0.95082,     0.95082,     0.95082,     0.95082,     0.95082,     0.95082,     0.95082,     0.95082,     0.95082,     0.95082,\n",
       "            0.95082,     0.95082,     0.95082,     0.95082,     0.95082,     0.95082,     0.95082,     0.95082,     0.95082,     0.95082,     0.95082,     0.95082,     0.95082,     0.95082,     0.95082,     0.94595,     0.94595,     0.94595,     0.94595,     0.94595,      0.9418,      0.9418,      0.9418,\n",
       "             0.9418,      0.9418,      0.9418,      0.9418,      0.9418,      0.9418,      0.9418,      0.9418,      0.9418,      0.9418,      0.9418,      0.9418,      0.9418,      0.9418,      0.9375,      0.9375,      0.9375,      0.9375,      0.9375,      0.9375,      0.9375,      0.9375,      0.9375,\n",
       "             0.9375,     0.93333,     0.93333,     0.93333,     0.93333,     0.93333,     0.93333,     0.93333,     0.93333,     0.93333,     0.93333,     0.93333,     0.92462,     0.92462,     0.92462,     0.92462,     0.92462,     0.92462,     0.92462,     0.92462,     0.92462,     0.92462,     0.92462,\n",
       "            0.89806,     0.89806,     0.89806,     0.89806,     0.89806,     0.61184,     0.61184,     0.61184,     0.61184,     0.61184,           0]]), 'Recall', 'Precision'], [array([          0,    0.001001,    0.002002,    0.003003,    0.004004,    0.005005,    0.006006,    0.007007,    0.008008,    0.009009,     0.01001,    0.011011,    0.012012,    0.013013,    0.014014,    0.015015,    0.016016,    0.017017,    0.018018,    0.019019,     0.02002,    0.021021,    0.022022,    0.023023,\n",
       "          0.024024,    0.025025,    0.026026,    0.027027,    0.028028,    0.029029,     0.03003,    0.031031,    0.032032,    0.033033,    0.034034,    0.035035,    0.036036,    0.037037,    0.038038,    0.039039,     0.04004,    0.041041,    0.042042,    0.043043,    0.044044,    0.045045,    0.046046,    0.047047,\n",
       "          0.048048,    0.049049,     0.05005,    0.051051,    0.052052,    0.053053,    0.054054,    0.055055,    0.056056,    0.057057,    0.058058,    0.059059,     0.06006,    0.061061,    0.062062,    0.063063,    0.064064,    0.065065,    0.066066,    0.067067,    0.068068,    0.069069,     0.07007,    0.071071,\n",
       "          0.072072,    0.073073,    0.074074,    0.075075,    0.076076,    0.077077,    0.078078,    0.079079,     0.08008,    0.081081,    0.082082,    0.083083,    0.084084,    0.085085,    0.086086,    0.087087,    0.088088,    0.089089,     0.09009,    0.091091,    0.092092,    0.093093,    0.094094,    0.095095,\n",
       "          0.096096,    0.097097,    0.098098,    0.099099,      0.1001,      0.1011,      0.1021,      0.1031,      0.1041,     0.10511,     0.10611,     0.10711,     0.10811,     0.10911,     0.11011,     0.11111,     0.11211,     0.11311,     0.11411,     0.11512,     0.11612,     0.11712,     0.11812,     0.11912,\n",
       "           0.12012,     0.12112,     0.12212,     0.12312,     0.12412,     0.12513,     0.12613,     0.12713,     0.12813,     0.12913,     0.13013,     0.13113,     0.13213,     0.13313,     0.13413,     0.13514,     0.13614,     0.13714,     0.13814,     0.13914,     0.14014,     0.14114,     0.14214,     0.14314,\n",
       "           0.14414,     0.14515,     0.14615,     0.14715,     0.14815,     0.14915,     0.15015,     0.15115,     0.15215,     0.15315,     0.15415,     0.15516,     0.15616,     0.15716,     0.15816,     0.15916,     0.16016,     0.16116,     0.16216,     0.16316,     0.16416,     0.16517,     0.16617,     0.16717,\n",
       "           0.16817,     0.16917,     0.17017,     0.17117,     0.17217,     0.17317,     0.17417,     0.17518,     0.17618,     0.17718,     0.17818,     0.17918,     0.18018,     0.18118,     0.18218,     0.18318,     0.18418,     0.18519,     0.18619,     0.18719,     0.18819,     0.18919,     0.19019,     0.19119,\n",
       "           0.19219,     0.19319,     0.19419,      0.1952,      0.1962,      0.1972,      0.1982,      0.1992,      0.2002,      0.2012,      0.2022,      0.2032,      0.2042,     0.20521,     0.20621,     0.20721,     0.20821,     0.20921,     0.21021,     0.21121,     0.21221,     0.21321,     0.21421,     0.21522,\n",
       "           0.21622,     0.21722,     0.21822,     0.21922,     0.22022,     0.22122,     0.22222,     0.22322,     0.22422,     0.22523,     0.22623,     0.22723,     0.22823,     0.22923,     0.23023,     0.23123,     0.23223,     0.23323,     0.23423,     0.23524,     0.23624,     0.23724,     0.23824,     0.23924,\n",
       "           0.24024,     0.24124,     0.24224,     0.24324,     0.24424,     0.24525,     0.24625,     0.24725,     0.24825,     0.24925,     0.25025,     0.25125,     0.25225,     0.25325,     0.25425,     0.25526,     0.25626,     0.25726,     0.25826,     0.25926,     0.26026,     0.26126,     0.26226,     0.26326,\n",
       "           0.26426,     0.26527,     0.26627,     0.26727,     0.26827,     0.26927,     0.27027,     0.27127,     0.27227,     0.27327,     0.27427,     0.27528,     0.27628,     0.27728,     0.27828,     0.27928,     0.28028,     0.28128,     0.28228,     0.28328,     0.28428,     0.28529,     0.28629,     0.28729,\n",
       "           0.28829,     0.28929,     0.29029,     0.29129,     0.29229,     0.29329,     0.29429,      0.2953,      0.2963,      0.2973,      0.2983,      0.2993,      0.3003,      0.3013,      0.3023,      0.3033,      0.3043,     0.30531,     0.30631,     0.30731,     0.30831,     0.30931,     0.31031,     0.31131,\n",
       "           0.31231,     0.31331,     0.31431,     0.31532,     0.31632,     0.31732,     0.31832,     0.31932,     0.32032,     0.32132,     0.32232,     0.32332,     0.32432,     0.32533,     0.32633,     0.32733,     0.32833,     0.32933,     0.33033,     0.33133,     0.33233,     0.33333,     0.33433,     0.33534,\n",
       "           0.33634,     0.33734,     0.33834,     0.33934,     0.34034,     0.34134,     0.34234,     0.34334,     0.34434,     0.34535,     0.34635,     0.34735,     0.34835,     0.34935,     0.35035,     0.35135,     0.35235,     0.35335,     0.35435,     0.35536,     0.35636,     0.35736,     0.35836,     0.35936,\n",
       "           0.36036,     0.36136,     0.36236,     0.36336,     0.36436,     0.36537,     0.36637,     0.36737,     0.36837,     0.36937,     0.37037,     0.37137,     0.37237,     0.37337,     0.37437,     0.37538,     0.37638,     0.37738,     0.37838,     0.37938,     0.38038,     0.38138,     0.38238,     0.38338,\n",
       "           0.38438,     0.38539,     0.38639,     0.38739,     0.38839,     0.38939,     0.39039,     0.39139,     0.39239,     0.39339,     0.39439,      0.3954,      0.3964,      0.3974,      0.3984,      0.3994,      0.4004,      0.4014,      0.4024,      0.4034,      0.4044,     0.40541,     0.40641,     0.40741,\n",
       "           0.40841,     0.40941,     0.41041,     0.41141,     0.41241,     0.41341,     0.41441,     0.41542,     0.41642,     0.41742,     0.41842,     0.41942,     0.42042,     0.42142,     0.42242,     0.42342,     0.42442,     0.42543,     0.42643,     0.42743,     0.42843,     0.42943,     0.43043,     0.43143,\n",
       "           0.43243,     0.43343,     0.43443,     0.43544,     0.43644,     0.43744,     0.43844,     0.43944,     0.44044,     0.44144,     0.44244,     0.44344,     0.44444,     0.44545,     0.44645,     0.44745,     0.44845,     0.44945,     0.45045,     0.45145,     0.45245,     0.45345,     0.45445,     0.45546,\n",
       "           0.45646,     0.45746,     0.45846,     0.45946,     0.46046,     0.46146,     0.46246,     0.46346,     0.46446,     0.46547,     0.46647,     0.46747,     0.46847,     0.46947,     0.47047,     0.47147,     0.47247,     0.47347,     0.47447,     0.47548,     0.47648,     0.47748,     0.47848,     0.47948,\n",
       "           0.48048,     0.48148,     0.48248,     0.48348,     0.48448,     0.48549,     0.48649,     0.48749,     0.48849,     0.48949,     0.49049,     0.49149,     0.49249,     0.49349,     0.49449,      0.4955,      0.4965,      0.4975,      0.4985,      0.4995,      0.5005,      0.5015,      0.5025,      0.5035,\n",
       "            0.5045,     0.50551,     0.50651,     0.50751,     0.50851,     0.50951,     0.51051,     0.51151,     0.51251,     0.51351,     0.51451,     0.51552,     0.51652,     0.51752,     0.51852,     0.51952,     0.52052,     0.52152,     0.52252,     0.52352,     0.52452,     0.52553,     0.52653,     0.52753,\n",
       "           0.52853,     0.52953,     0.53053,     0.53153,     0.53253,     0.53353,     0.53453,     0.53554,     0.53654,     0.53754,     0.53854,     0.53954,     0.54054,     0.54154,     0.54254,     0.54354,     0.54454,     0.54555,     0.54655,     0.54755,     0.54855,     0.54955,     0.55055,     0.55155,\n",
       "           0.55255,     0.55355,     0.55455,     0.55556,     0.55656,     0.55756,     0.55856,     0.55956,     0.56056,     0.56156,     0.56256,     0.56356,     0.56456,     0.56557,     0.56657,     0.56757,     0.56857,     0.56957,     0.57057,     0.57157,     0.57257,     0.57357,     0.57457,     0.57558,\n",
       "           0.57658,     0.57758,     0.57858,     0.57958,     0.58058,     0.58158,     0.58258,     0.58358,     0.58458,     0.58559,     0.58659,     0.58759,     0.58859,     0.58959,     0.59059,     0.59159,     0.59259,     0.59359,     0.59459,      0.5956,      0.5966,      0.5976,      0.5986,      0.5996,\n",
       "            0.6006,      0.6016,      0.6026,      0.6036,      0.6046,     0.60561,     0.60661,     0.60761,     0.60861,     0.60961,     0.61061,     0.61161,     0.61261,     0.61361,     0.61461,     0.61562,     0.61662,     0.61762,     0.61862,     0.61962,     0.62062,     0.62162,     0.62262,     0.62362,\n",
       "           0.62462,     0.62563,     0.62663,     0.62763,     0.62863,     0.62963,     0.63063,     0.63163,     0.63263,     0.63363,     0.63463,     0.63564,     0.63664,     0.63764,     0.63864,     0.63964,     0.64064,     0.64164,     0.64264,     0.64364,     0.64464,     0.64565,     0.64665,     0.64765,\n",
       "           0.64865,     0.64965,     0.65065,     0.65165,     0.65265,     0.65365,     0.65465,     0.65566,     0.65666,     0.65766,     0.65866,     0.65966,     0.66066,     0.66166,     0.66266,     0.66366,     0.66466,     0.66567,     0.66667,     0.66767,     0.66867,     0.66967,     0.67067,     0.67167,\n",
       "           0.67267,     0.67367,     0.67467,     0.67568,     0.67668,     0.67768,     0.67868,     0.67968,     0.68068,     0.68168,     0.68268,     0.68368,     0.68468,     0.68569,     0.68669,     0.68769,     0.68869,     0.68969,     0.69069,     0.69169,     0.69269,     0.69369,     0.69469,      0.6957,\n",
       "            0.6967,      0.6977,      0.6987,      0.6997,      0.7007,      0.7017,      0.7027,      0.7037,      0.7047,     0.70571,     0.70671,     0.70771,     0.70871,     0.70971,     0.71071,     0.71171,     0.71271,     0.71371,     0.71471,     0.71572,     0.71672,     0.71772,     0.71872,     0.71972,\n",
       "           0.72072,     0.72172,     0.72272,     0.72372,     0.72472,     0.72573,     0.72673,     0.72773,     0.72873,     0.72973,     0.73073,     0.73173,     0.73273,     0.73373,     0.73473,     0.73574,     0.73674,     0.73774,     0.73874,     0.73974,     0.74074,     0.74174,     0.74274,     0.74374,\n",
       "           0.74474,     0.74575,     0.74675,     0.74775,     0.74875,     0.74975,     0.75075,     0.75175,     0.75275,     0.75375,     0.75475,     0.75576,     0.75676,     0.75776,     0.75876,     0.75976,     0.76076,     0.76176,     0.76276,     0.76376,     0.76476,     0.76577,     0.76677,     0.76777,\n",
       "           0.76877,     0.76977,     0.77077,     0.77177,     0.77277,     0.77377,     0.77477,     0.77578,     0.77678,     0.77778,     0.77878,     0.77978,     0.78078,     0.78178,     0.78278,     0.78378,     0.78478,     0.78579,     0.78679,     0.78779,     0.78879,     0.78979,     0.79079,     0.79179,\n",
       "           0.79279,     0.79379,     0.79479,      0.7958,      0.7968,      0.7978,      0.7988,      0.7998,      0.8008,      0.8018,      0.8028,      0.8038,      0.8048,     0.80581,     0.80681,     0.80781,     0.80881,     0.80981,     0.81081,     0.81181,     0.81281,     0.81381,     0.81481,     0.81582,\n",
       "           0.81682,     0.81782,     0.81882,     0.81982,     0.82082,     0.82182,     0.82282,     0.82382,     0.82482,     0.82583,     0.82683,     0.82783,     0.82883,     0.82983,     0.83083,     0.83183,     0.83283,     0.83383,     0.83483,     0.83584,     0.83684,     0.83784,     0.83884,     0.83984,\n",
       "           0.84084,     0.84184,     0.84284,     0.84384,     0.84484,     0.84585,     0.84685,     0.84785,     0.84885,     0.84985,     0.85085,     0.85185,     0.85285,     0.85385,     0.85485,     0.85586,     0.85686,     0.85786,     0.85886,     0.85986,     0.86086,     0.86186,     0.86286,     0.86386,\n",
       "           0.86486,     0.86587,     0.86687,     0.86787,     0.86887,     0.86987,     0.87087,     0.87187,     0.87287,     0.87387,     0.87487,     0.87588,     0.87688,     0.87788,     0.87888,     0.87988,     0.88088,     0.88188,     0.88288,     0.88388,     0.88488,     0.88589,     0.88689,     0.88789,\n",
       "           0.88889,     0.88989,     0.89089,     0.89189,     0.89289,     0.89389,     0.89489,      0.8959,      0.8969,      0.8979,      0.8989,      0.8999,      0.9009,      0.9019,      0.9029,      0.9039,      0.9049,     0.90591,     0.90691,     0.90791,     0.90891,     0.90991,     0.91091,     0.91191,\n",
       "           0.91291,     0.91391,     0.91491,     0.91592,     0.91692,     0.91792,     0.91892,     0.91992,     0.92092,     0.92192,     0.92292,     0.92392,     0.92492,     0.92593,     0.92693,     0.92793,     0.92893,     0.92993,     0.93093,     0.93193,     0.93293,     0.93393,     0.93493,     0.93594,\n",
       "           0.93694,     0.93794,     0.93894,     0.93994,     0.94094,     0.94194,     0.94294,     0.94394,     0.94494,     0.94595,     0.94695,     0.94795,     0.94895,     0.94995,     0.95095,     0.95195,     0.95295,     0.95395,     0.95495,     0.95596,     0.95696,     0.95796,     0.95896,     0.95996,\n",
       "           0.96096,     0.96196,     0.96296,     0.96396,     0.96496,     0.96597,     0.96697,     0.96797,     0.96897,     0.96997,     0.97097,     0.97197,     0.97297,     0.97397,     0.97497,     0.97598,     0.97698,     0.97798,     0.97898,     0.97998,     0.98098,     0.98198,     0.98298,     0.98398,\n",
       "           0.98498,     0.98599,     0.98699,     0.98799,     0.98899,     0.98999,     0.99099,     0.99199,     0.99299,     0.99399,     0.99499,       0.996,       0.997,       0.998,       0.999,           1]), array([[    0.40479,     0.40479,      0.6583,     0.76918,     0.82401,     0.85176,     0.87171,     0.88573,     0.90034,     0.90278,     0.91055,     0.91611,     0.91967,     0.92371,     0.92488,     0.92815,     0.93002,     0.93066,     0.93129,     0.93193,      0.9345,     0.93501,     0.93551,\n",
       "            0.93602,     0.93653,     0.93684,     0.93706,     0.93727,     0.93748,     0.93769,      0.9379,     0.93811,     0.93832,     0.93853,     0.93874,     0.93895,      0.9392,     0.93952,     0.93983,     0.94015,     0.94046,     0.94077,     0.94109,      0.9414,     0.94156,     0.94168,\n",
       "            0.94179,     0.94191,     0.94202,     0.94213,     0.94225,     0.94236,     0.94248,     0.94259,      0.9427,     0.94282,     0.94293,     0.94304,     0.94316,     0.94327,     0.94339,      0.9435,     0.94361,     0.94373,     0.94384,     0.94375,     0.94357,     0.94339,      0.9432,\n",
       "            0.94302,     0.94283,     0.94265,     0.94246,     0.94228,     0.94209,     0.94191,     0.94172,     0.94154,     0.94135,     0.94118,     0.94139,      0.9416,      0.9418,     0.94201,     0.94222,     0.94242,     0.94263,     0.94283,     0.94304,     0.94325,     0.94345,     0.94363,\n",
       "            0.94376,      0.9439,     0.94403,     0.94416,     0.94429,     0.94442,     0.94455,     0.94468,     0.94481,     0.94494,     0.94507,      0.9452,     0.94534,     0.94547,      0.9456,     0.94573,     0.94586,     0.94599,     0.94608,     0.94616,     0.94624,     0.94631,     0.94639,\n",
       "            0.94647,     0.94655,     0.94663,     0.94671,     0.94679,     0.94686,     0.94694,     0.94702,      0.9471,     0.94718,     0.94726,     0.94734,     0.94741,     0.94749,     0.94757,     0.94765,     0.94773,     0.94781,     0.94789,     0.94796,     0.94804,     0.94812,      0.9482,\n",
       "            0.94828,     0.94836,     0.94843,     0.94847,     0.94848,      0.9485,     0.94851,     0.94853,     0.94855,     0.94856,     0.94858,      0.9486,     0.94861,     0.94863,     0.94865,     0.94866,     0.94868,     0.94869,     0.94871,     0.94873,     0.94874,     0.94876,     0.94878,\n",
       "            0.94879,     0.94881,     0.94883,     0.94884,     0.94886,     0.94887,     0.94889,     0.94891,     0.94892,     0.94894,     0.94896,     0.94897,     0.94899,       0.949,     0.94902,     0.94904,     0.94905,     0.94907,     0.94909,      0.9491,     0.94912,     0.94913,     0.94915,\n",
       "            0.94917,     0.94918,      0.9492,     0.94922,     0.94923,     0.94925,     0.94927,     0.94928,      0.9493,     0.94931,     0.94933,     0.94935,     0.94936,     0.94938,      0.9494,     0.94941,     0.94943,     0.94944,     0.94946,     0.94948,     0.94949,     0.94951,     0.94953,\n",
       "            0.94954,     0.94956,     0.94957,     0.94959,     0.94961,     0.94962,     0.94964,     0.94966,     0.94967,     0.94969,     0.94971,     0.94972,     0.94974,     0.94975,     0.94977,     0.94979,      0.9498,     0.94982,     0.94984,     0.94985,     0.94987,     0.94988,      0.9499,\n",
       "            0.94992,     0.94993,     0.94995,     0.94997,     0.94998,        0.95,     0.95001,     0.95003,     0.95005,     0.95006,     0.95008,      0.9501,     0.95011,     0.95013,     0.95014,     0.95016,     0.95018,     0.95019,     0.95021,     0.95023,     0.95024,     0.95026,     0.95027,\n",
       "            0.95029,     0.95031,     0.95032,     0.95034,     0.95036,     0.95037,     0.95039,      0.9504,     0.95042,     0.95044,     0.95045,     0.95047,     0.95049,      0.9505,     0.95052,     0.95054,     0.95055,     0.95057,     0.95058,      0.9506,     0.95062,     0.95063,     0.95065,\n",
       "            0.95067,     0.95068,      0.9507,     0.95071,     0.95073,     0.95075,     0.95076,     0.95078,      0.9508,     0.95081,     0.95083,     0.95084,     0.95086,     0.95088,     0.95089,     0.95093,     0.95103,     0.95113,     0.95123,     0.95133,     0.95143,     0.95153,     0.95163,\n",
       "            0.95173,     0.95183,     0.95193,     0.95203,     0.95213,     0.95223,     0.95233,     0.95243,     0.95253,     0.95263,     0.95273,     0.95283,     0.95293,     0.95303,     0.95313,     0.95323,     0.95333,     0.95339,     0.95342,     0.95345,     0.95349,     0.95352,     0.95355,\n",
       "            0.95358,     0.95362,     0.95365,     0.95368,     0.95371,     0.95375,     0.95378,     0.95381,     0.95384,     0.95387,     0.95391,     0.95394,     0.95397,       0.954,     0.95404,     0.95407,      0.9541,     0.95413,     0.95417,      0.9542,     0.95423,     0.95426,      0.9543,\n",
       "            0.95433,     0.95436,     0.95439,     0.95442,     0.95446,     0.95449,     0.95452,     0.95455,     0.95459,     0.95462,     0.95465,     0.95468,     0.95472,     0.95475,     0.95478,     0.95481,     0.95485,     0.95488,     0.95491,     0.95494,     0.95497,     0.95501,     0.95504,\n",
       "            0.95507,      0.9551,     0.95514,     0.95517,      0.9552,     0.95523,     0.95527,      0.9553,     0.95533,     0.95536,     0.95539,     0.95543,     0.95546,     0.95549,     0.95552,     0.95556,     0.95559,     0.95562,     0.95565,     0.95568,     0.95572,     0.95575,     0.95578,\n",
       "            0.95581,     0.95584,     0.95582,     0.95579,     0.95577,     0.95574,     0.95572,     0.95569,     0.95566,     0.95564,     0.95561,     0.95559,     0.95556,     0.95554,     0.95551,     0.95549,     0.95546,     0.95544,     0.95541,     0.95538,     0.95536,     0.95533,     0.95531,\n",
       "            0.95528,     0.95526,     0.95523,     0.95521,     0.95518,     0.95515,     0.95513,      0.9551,     0.95508,     0.95505,     0.95503,       0.955,     0.95498,     0.95495,     0.95493,      0.9549,     0.95487,     0.95485,     0.95482,      0.9548,     0.95477,     0.95475,     0.95472,\n",
       "             0.9547,     0.95467,     0.95465,     0.95462,     0.95459,     0.95457,     0.95454,     0.95452,     0.95449,     0.95447,     0.95444,     0.95442,     0.95439,     0.95436,     0.95434,     0.95431,     0.95429,     0.95426,     0.95424,     0.95421,     0.95419,     0.95416,     0.95413,\n",
       "            0.95411,     0.95408,     0.95406,     0.95403,     0.95401,     0.95398,     0.95396,     0.95393,      0.9539,     0.95388,     0.95385,     0.95383,      0.9538,     0.95378,     0.95375,     0.95373,      0.9537,     0.95368,     0.95365,     0.95362,      0.9536,     0.95357,     0.95355,\n",
       "            0.95352,      0.9535,     0.95347,     0.95345,     0.95342,     0.95339,     0.95337,     0.95334,     0.95332,     0.95329,     0.95327,     0.95324,     0.95322,     0.95319,     0.95316,     0.95314,      0.9531,     0.95305,     0.95299,     0.95294,     0.95289,     0.95284,     0.95278,\n",
       "            0.95273,     0.95268,     0.95263,     0.95257,     0.95252,     0.95247,     0.95241,     0.95236,     0.95231,     0.95226,      0.9522,     0.95215,      0.9521,     0.95204,     0.95199,     0.95194,     0.95189,     0.95183,     0.95178,     0.95173,     0.95167,     0.95162,     0.95157,\n",
       "            0.95152,     0.95146,     0.95141,     0.95136,      0.9513,     0.95125,      0.9512,     0.95115,     0.95109,     0.95104,     0.95099,     0.95093,     0.95088,     0.95083,     0.95077,     0.95072,     0.95067,     0.95062,     0.95056,     0.95051,     0.95046,      0.9504,     0.95062,\n",
       "            0.95092,     0.95122,     0.95152,     0.95182,     0.95212,     0.95242,     0.95272,     0.95293,     0.95304,     0.95316,     0.95327,     0.95338,     0.95349,      0.9536,     0.95371,     0.95383,     0.95394,     0.95405,     0.95416,     0.95427,     0.95438,     0.95449,     0.95461,\n",
       "            0.95472,     0.95483,     0.95494,     0.95505,     0.95516,     0.95527,     0.95538,     0.95533,     0.95529,     0.95525,      0.9552,     0.95516,     0.95512,     0.95507,     0.95503,     0.95498,     0.95494,      0.9549,     0.95485,     0.95481,     0.95476,     0.95472,     0.95468,\n",
       "            0.95463,     0.95459,     0.95454,      0.9545,     0.95446,     0.95441,     0.95437,     0.95432,     0.95428,     0.95424,     0.95419,     0.95415,      0.9541,     0.95406,     0.95402,     0.95397,     0.95393,     0.95388,     0.95384,      0.9538,     0.95375,     0.95371,     0.95366,\n",
       "            0.95362,     0.95358,     0.95353,     0.95349,     0.95344,      0.9534,     0.95335,     0.95331,     0.95327,     0.95322,     0.95318,     0.95313,     0.95309,     0.95305,       0.953,     0.95296,     0.95291,     0.95287,     0.95283,     0.95278,     0.95274,     0.95269,     0.95265,\n",
       "             0.9525,     0.95228,     0.95207,     0.95185,     0.95163,     0.95141,     0.95119,     0.95098,     0.95076,     0.95054,     0.95032,      0.9501,     0.94989,     0.95002,     0.95018,     0.95034,      0.9505,     0.95066,     0.95082,     0.95098,     0.95114,     0.95131,     0.95147,\n",
       "            0.95163,     0.95179,     0.95195,     0.95211,     0.95227,     0.95234,      0.9522,     0.95207,     0.95193,      0.9518,     0.95166,     0.95153,     0.95139,     0.95126,     0.95112,     0.95098,     0.95085,     0.95071,     0.95058,     0.95044,     0.95031,     0.95017,     0.95003,\n",
       "             0.9499,     0.94976,     0.94963,     0.94882,     0.94786,     0.94691,     0.94688,     0.94696,     0.94704,     0.94711,     0.94719,     0.94727,     0.94735,     0.94743,     0.94751,     0.94759,     0.94766,     0.94774,     0.94782,      0.9479,     0.94798,     0.94806,     0.94814,\n",
       "            0.94821,     0.94829,     0.94837,     0.94845,     0.94853,     0.94861,     0.94868,     0.94876,     0.94884,     0.94892,       0.949,     0.94908,     0.94915,     0.94923,     0.94931,     0.94883,     0.94811,     0.94739,     0.94667,     0.94498,     0.94352,     0.94299,     0.94247,\n",
       "            0.94194,     0.94141,     0.94088,     0.94198,     0.94056,     0.94161,     0.94265,     0.94297,     0.94276,     0.94255,     0.94234,     0.94213,     0.94192,     0.94171,      0.9415,     0.94129,     0.94108,     0.94087,     0.94066,     0.94044,     0.94023,     0.93694,     0.93651,\n",
       "            0.93609,     0.93566,     0.93524,     0.93481,     0.93435,     0.93349,     0.93264,     0.93178,     0.93049,     0.92898,     0.92784,     0.92683,     0.92582,     0.92501,     0.92425,     0.92349,     0.92273,     0.92187,       0.921,     0.92012,     0.91942,     0.91891,      0.9184,\n",
       "            0.91788,     0.91737,     0.91686,     0.91537,     0.91339,     0.91184,     0.90928,     0.90296,     0.89974,     0.89665,     0.89318,     0.89071,     0.88909,     0.88826,     0.88754,     0.88681,     0.88609,     0.88226,     0.88171,     0.88116,     0.88061,     0.88006,     0.87951,\n",
       "            0.87889,     0.87823,     0.87757,     0.87691,     0.87625,     0.86788,      0.8653,     0.86262,     0.86148,     0.86035,     0.85899,     0.85728,     0.85531,     0.85301,     0.85434,     0.85318,     0.85201,     0.85061,     0.84922,     0.84796,     0.84679,     0.84562,     0.84709,\n",
       "            0.84007,     0.83362,     0.83272,     0.83181,      0.8309,     0.83118,     0.83346,     0.83519,     0.83105,     0.82922,     0.82653,     0.81978,     0.81726,     0.81333,     0.80891,       0.807,     0.79783,     0.79372,     0.79177,     0.78847,     0.78172,     0.77467,     0.77099,\n",
       "            0.76828,     0.75642,     0.75226,     0.75021,     0.74853,     0.74407,     0.73796,     0.73653,      0.7351,     0.73081,     0.72201,     0.71559,     0.70573,     0.70199,     0.69372,     0.69064,     0.68606,     0.68242,     0.68006,      0.6758,     0.67045,     0.66723,     0.66027,\n",
       "            0.64873,     0.63141,       0.628,     0.62045,     0.61605,     0.61256,     0.59951,     0.59151,     0.58657,     0.58809,     0.57626,     0.57348,     0.56059,     0.55378,     0.53779,     0.53238,     0.52844,     0.50043,     0.48187,     0.47705,     0.47387,     0.46973,     0.45554,\n",
       "            0.44235,     0.42231,     0.41078,     0.40156,     0.39419,     0.37693,     0.37109,     0.36594,     0.35894,     0.35401,     0.33056,     0.33157,     0.32055,     0.30489,      0.2889,     0.27919,     0.25601,     0.24633,      0.2353,       0.231,     0.22098,     0.21177,      0.2058,\n",
       "            0.18496,     0.15827,     0.15515,     0.15202,      0.1488,     0.14502,     0.14122,     0.12879,     0.12074,     0.11858,     0.11641,     0.11423,     0.11205,      0.1076,     0.10265,      0.1008,    0.099376,    0.097953,    0.096528,    0.095101,    0.093671,    0.081994,    0.072171,\n",
       "           0.067037,    0.060002,    0.051032,    0.048937,    0.046837,    0.044732,    0.042623,    0.031527,    0.030705,    0.029883,     0.02906,    0.028236,    0.027412,    0.026586,    0.025761,    0.024934,    0.024107,    0.023279,    0.022451,    0.021621,    0.020306,    0.018643,    0.016978,\n",
       "           0.015309,    0.013638,    0.011964,           0,           0,           0,           0,           0,           0,           0,           0,           0,           0,           0,           0,           0,           0,           0,           0,           0,           0,           0,           0,\n",
       "                  0,           0,           0,           0,           0,           0,           0,           0,           0,           0,           0]]), 'Confidence', 'F1'], [array([          0,    0.001001,    0.002002,    0.003003,    0.004004,    0.005005,    0.006006,    0.007007,    0.008008,    0.009009,     0.01001,    0.011011,    0.012012,    0.013013,    0.014014,    0.015015,    0.016016,    0.017017,    0.018018,    0.019019,     0.02002,    0.021021,    0.022022,    0.023023,\n",
       "          0.024024,    0.025025,    0.026026,    0.027027,    0.028028,    0.029029,     0.03003,    0.031031,    0.032032,    0.033033,    0.034034,    0.035035,    0.036036,    0.037037,    0.038038,    0.039039,     0.04004,    0.041041,    0.042042,    0.043043,    0.044044,    0.045045,    0.046046,    0.047047,\n",
       "          0.048048,    0.049049,     0.05005,    0.051051,    0.052052,    0.053053,    0.054054,    0.055055,    0.056056,    0.057057,    0.058058,    0.059059,     0.06006,    0.061061,    0.062062,    0.063063,    0.064064,    0.065065,    0.066066,    0.067067,    0.068068,    0.069069,     0.07007,    0.071071,\n",
       "          0.072072,    0.073073,    0.074074,    0.075075,    0.076076,    0.077077,    0.078078,    0.079079,     0.08008,    0.081081,    0.082082,    0.083083,    0.084084,    0.085085,    0.086086,    0.087087,    0.088088,    0.089089,     0.09009,    0.091091,    0.092092,    0.093093,    0.094094,    0.095095,\n",
       "          0.096096,    0.097097,    0.098098,    0.099099,      0.1001,      0.1011,      0.1021,      0.1031,      0.1041,     0.10511,     0.10611,     0.10711,     0.10811,     0.10911,     0.11011,     0.11111,     0.11211,     0.11311,     0.11411,     0.11512,     0.11612,     0.11712,     0.11812,     0.11912,\n",
       "           0.12012,     0.12112,     0.12212,     0.12312,     0.12412,     0.12513,     0.12613,     0.12713,     0.12813,     0.12913,     0.13013,     0.13113,     0.13213,     0.13313,     0.13413,     0.13514,     0.13614,     0.13714,     0.13814,     0.13914,     0.14014,     0.14114,     0.14214,     0.14314,\n",
       "           0.14414,     0.14515,     0.14615,     0.14715,     0.14815,     0.14915,     0.15015,     0.15115,     0.15215,     0.15315,     0.15415,     0.15516,     0.15616,     0.15716,     0.15816,     0.15916,     0.16016,     0.16116,     0.16216,     0.16316,     0.16416,     0.16517,     0.16617,     0.16717,\n",
       "           0.16817,     0.16917,     0.17017,     0.17117,     0.17217,     0.17317,     0.17417,     0.17518,     0.17618,     0.17718,     0.17818,     0.17918,     0.18018,     0.18118,     0.18218,     0.18318,     0.18418,     0.18519,     0.18619,     0.18719,     0.18819,     0.18919,     0.19019,     0.19119,\n",
       "           0.19219,     0.19319,     0.19419,      0.1952,      0.1962,      0.1972,      0.1982,      0.1992,      0.2002,      0.2012,      0.2022,      0.2032,      0.2042,     0.20521,     0.20621,     0.20721,     0.20821,     0.20921,     0.21021,     0.21121,     0.21221,     0.21321,     0.21421,     0.21522,\n",
       "           0.21622,     0.21722,     0.21822,     0.21922,     0.22022,     0.22122,     0.22222,     0.22322,     0.22422,     0.22523,     0.22623,     0.22723,     0.22823,     0.22923,     0.23023,     0.23123,     0.23223,     0.23323,     0.23423,     0.23524,     0.23624,     0.23724,     0.23824,     0.23924,\n",
       "           0.24024,     0.24124,     0.24224,     0.24324,     0.24424,     0.24525,     0.24625,     0.24725,     0.24825,     0.24925,     0.25025,     0.25125,     0.25225,     0.25325,     0.25425,     0.25526,     0.25626,     0.25726,     0.25826,     0.25926,     0.26026,     0.26126,     0.26226,     0.26326,\n",
       "           0.26426,     0.26527,     0.26627,     0.26727,     0.26827,     0.26927,     0.27027,     0.27127,     0.27227,     0.27327,     0.27427,     0.27528,     0.27628,     0.27728,     0.27828,     0.27928,     0.28028,     0.28128,     0.28228,     0.28328,     0.28428,     0.28529,     0.28629,     0.28729,\n",
       "           0.28829,     0.28929,     0.29029,     0.29129,     0.29229,     0.29329,     0.29429,      0.2953,      0.2963,      0.2973,      0.2983,      0.2993,      0.3003,      0.3013,      0.3023,      0.3033,      0.3043,     0.30531,     0.30631,     0.30731,     0.30831,     0.30931,     0.31031,     0.31131,\n",
       "           0.31231,     0.31331,     0.31431,     0.31532,     0.31632,     0.31732,     0.31832,     0.31932,     0.32032,     0.32132,     0.32232,     0.32332,     0.32432,     0.32533,     0.32633,     0.32733,     0.32833,     0.32933,     0.33033,     0.33133,     0.33233,     0.33333,     0.33433,     0.33534,\n",
       "           0.33634,     0.33734,     0.33834,     0.33934,     0.34034,     0.34134,     0.34234,     0.34334,     0.34434,     0.34535,     0.34635,     0.34735,     0.34835,     0.34935,     0.35035,     0.35135,     0.35235,     0.35335,     0.35435,     0.35536,     0.35636,     0.35736,     0.35836,     0.35936,\n",
       "           0.36036,     0.36136,     0.36236,     0.36336,     0.36436,     0.36537,     0.36637,     0.36737,     0.36837,     0.36937,     0.37037,     0.37137,     0.37237,     0.37337,     0.37437,     0.37538,     0.37638,     0.37738,     0.37838,     0.37938,     0.38038,     0.38138,     0.38238,     0.38338,\n",
       "           0.38438,     0.38539,     0.38639,     0.38739,     0.38839,     0.38939,     0.39039,     0.39139,     0.39239,     0.39339,     0.39439,      0.3954,      0.3964,      0.3974,      0.3984,      0.3994,      0.4004,      0.4014,      0.4024,      0.4034,      0.4044,     0.40541,     0.40641,     0.40741,\n",
       "           0.40841,     0.40941,     0.41041,     0.41141,     0.41241,     0.41341,     0.41441,     0.41542,     0.41642,     0.41742,     0.41842,     0.41942,     0.42042,     0.42142,     0.42242,     0.42342,     0.42442,     0.42543,     0.42643,     0.42743,     0.42843,     0.42943,     0.43043,     0.43143,\n",
       "           0.43243,     0.43343,     0.43443,     0.43544,     0.43644,     0.43744,     0.43844,     0.43944,     0.44044,     0.44144,     0.44244,     0.44344,     0.44444,     0.44545,     0.44645,     0.44745,     0.44845,     0.44945,     0.45045,     0.45145,     0.45245,     0.45345,     0.45445,     0.45546,\n",
       "           0.45646,     0.45746,     0.45846,     0.45946,     0.46046,     0.46146,     0.46246,     0.46346,     0.46446,     0.46547,     0.46647,     0.46747,     0.46847,     0.46947,     0.47047,     0.47147,     0.47247,     0.47347,     0.47447,     0.47548,     0.47648,     0.47748,     0.47848,     0.47948,\n",
       "           0.48048,     0.48148,     0.48248,     0.48348,     0.48448,     0.48549,     0.48649,     0.48749,     0.48849,     0.48949,     0.49049,     0.49149,     0.49249,     0.49349,     0.49449,      0.4955,      0.4965,      0.4975,      0.4985,      0.4995,      0.5005,      0.5015,      0.5025,      0.5035,\n",
       "            0.5045,     0.50551,     0.50651,     0.50751,     0.50851,     0.50951,     0.51051,     0.51151,     0.51251,     0.51351,     0.51451,     0.51552,     0.51652,     0.51752,     0.51852,     0.51952,     0.52052,     0.52152,     0.52252,     0.52352,     0.52452,     0.52553,     0.52653,     0.52753,\n",
       "           0.52853,     0.52953,     0.53053,     0.53153,     0.53253,     0.53353,     0.53453,     0.53554,     0.53654,     0.53754,     0.53854,     0.53954,     0.54054,     0.54154,     0.54254,     0.54354,     0.54454,     0.54555,     0.54655,     0.54755,     0.54855,     0.54955,     0.55055,     0.55155,\n",
       "           0.55255,     0.55355,     0.55455,     0.55556,     0.55656,     0.55756,     0.55856,     0.55956,     0.56056,     0.56156,     0.56256,     0.56356,     0.56456,     0.56557,     0.56657,     0.56757,     0.56857,     0.56957,     0.57057,     0.57157,     0.57257,     0.57357,     0.57457,     0.57558,\n",
       "           0.57658,     0.57758,     0.57858,     0.57958,     0.58058,     0.58158,     0.58258,     0.58358,     0.58458,     0.58559,     0.58659,     0.58759,     0.58859,     0.58959,     0.59059,     0.59159,     0.59259,     0.59359,     0.59459,      0.5956,      0.5966,      0.5976,      0.5986,      0.5996,\n",
       "            0.6006,      0.6016,      0.6026,      0.6036,      0.6046,     0.60561,     0.60661,     0.60761,     0.60861,     0.60961,     0.61061,     0.61161,     0.61261,     0.61361,     0.61461,     0.61562,     0.61662,     0.61762,     0.61862,     0.61962,     0.62062,     0.62162,     0.62262,     0.62362,\n",
       "           0.62462,     0.62563,     0.62663,     0.62763,     0.62863,     0.62963,     0.63063,     0.63163,     0.63263,     0.63363,     0.63463,     0.63564,     0.63664,     0.63764,     0.63864,     0.63964,     0.64064,     0.64164,     0.64264,     0.64364,     0.64464,     0.64565,     0.64665,     0.64765,\n",
       "           0.64865,     0.64965,     0.65065,     0.65165,     0.65265,     0.65365,     0.65465,     0.65566,     0.65666,     0.65766,     0.65866,     0.65966,     0.66066,     0.66166,     0.66266,     0.66366,     0.66466,     0.66567,     0.66667,     0.66767,     0.66867,     0.66967,     0.67067,     0.67167,\n",
       "           0.67267,     0.67367,     0.67467,     0.67568,     0.67668,     0.67768,     0.67868,     0.67968,     0.68068,     0.68168,     0.68268,     0.68368,     0.68468,     0.68569,     0.68669,     0.68769,     0.68869,     0.68969,     0.69069,     0.69169,     0.69269,     0.69369,     0.69469,      0.6957,\n",
       "            0.6967,      0.6977,      0.6987,      0.6997,      0.7007,      0.7017,      0.7027,      0.7037,      0.7047,     0.70571,     0.70671,     0.70771,     0.70871,     0.70971,     0.71071,     0.71171,     0.71271,     0.71371,     0.71471,     0.71572,     0.71672,     0.71772,     0.71872,     0.71972,\n",
       "           0.72072,     0.72172,     0.72272,     0.72372,     0.72472,     0.72573,     0.72673,     0.72773,     0.72873,     0.72973,     0.73073,     0.73173,     0.73273,     0.73373,     0.73473,     0.73574,     0.73674,     0.73774,     0.73874,     0.73974,     0.74074,     0.74174,     0.74274,     0.74374,\n",
       "           0.74474,     0.74575,     0.74675,     0.74775,     0.74875,     0.74975,     0.75075,     0.75175,     0.75275,     0.75375,     0.75475,     0.75576,     0.75676,     0.75776,     0.75876,     0.75976,     0.76076,     0.76176,     0.76276,     0.76376,     0.76476,     0.76577,     0.76677,     0.76777,\n",
       "           0.76877,     0.76977,     0.77077,     0.77177,     0.77277,     0.77377,     0.77477,     0.77578,     0.77678,     0.77778,     0.77878,     0.77978,     0.78078,     0.78178,     0.78278,     0.78378,     0.78478,     0.78579,     0.78679,     0.78779,     0.78879,     0.78979,     0.79079,     0.79179,\n",
       "           0.79279,     0.79379,     0.79479,      0.7958,      0.7968,      0.7978,      0.7988,      0.7998,      0.8008,      0.8018,      0.8028,      0.8038,      0.8048,     0.80581,     0.80681,     0.80781,     0.80881,     0.80981,     0.81081,     0.81181,     0.81281,     0.81381,     0.81481,     0.81582,\n",
       "           0.81682,     0.81782,     0.81882,     0.81982,     0.82082,     0.82182,     0.82282,     0.82382,     0.82482,     0.82583,     0.82683,     0.82783,     0.82883,     0.82983,     0.83083,     0.83183,     0.83283,     0.83383,     0.83483,     0.83584,     0.83684,     0.83784,     0.83884,     0.83984,\n",
       "           0.84084,     0.84184,     0.84284,     0.84384,     0.84484,     0.84585,     0.84685,     0.84785,     0.84885,     0.84985,     0.85085,     0.85185,     0.85285,     0.85385,     0.85485,     0.85586,     0.85686,     0.85786,     0.85886,     0.85986,     0.86086,     0.86186,     0.86286,     0.86386,\n",
       "           0.86486,     0.86587,     0.86687,     0.86787,     0.86887,     0.86987,     0.87087,     0.87187,     0.87287,     0.87387,     0.87487,     0.87588,     0.87688,     0.87788,     0.87888,     0.87988,     0.88088,     0.88188,     0.88288,     0.88388,     0.88488,     0.88589,     0.88689,     0.88789,\n",
       "           0.88889,     0.88989,     0.89089,     0.89189,     0.89289,     0.89389,     0.89489,      0.8959,      0.8969,      0.8979,      0.8989,      0.8999,      0.9009,      0.9019,      0.9029,      0.9039,      0.9049,     0.90591,     0.90691,     0.90791,     0.90891,     0.90991,     0.91091,     0.91191,\n",
       "           0.91291,     0.91391,     0.91491,     0.91592,     0.91692,     0.91792,     0.91892,     0.91992,     0.92092,     0.92192,     0.92292,     0.92392,     0.92492,     0.92593,     0.92693,     0.92793,     0.92893,     0.92993,     0.93093,     0.93193,     0.93293,     0.93393,     0.93493,     0.93594,\n",
       "           0.93694,     0.93794,     0.93894,     0.93994,     0.94094,     0.94194,     0.94294,     0.94394,     0.94494,     0.94595,     0.94695,     0.94795,     0.94895,     0.94995,     0.95095,     0.95195,     0.95295,     0.95395,     0.95495,     0.95596,     0.95696,     0.95796,     0.95896,     0.95996,\n",
       "           0.96096,     0.96196,     0.96296,     0.96396,     0.96496,     0.96597,     0.96697,     0.96797,     0.96897,     0.96997,     0.97097,     0.97197,     0.97297,     0.97397,     0.97497,     0.97598,     0.97698,     0.97798,     0.97898,     0.97998,     0.98098,     0.98198,     0.98298,     0.98398,\n",
       "           0.98498,     0.98599,     0.98699,     0.98799,     0.98899,     0.98999,     0.99099,     0.99199,     0.99299,     0.99399,     0.99499,       0.996,       0.997,       0.998,       0.999,           1]), array([[    0.25375,     0.25375,     0.49064,     0.62705,     0.70336,     0.74478,     0.77583,     0.79833,     0.82238,     0.82646,     0.83958,     0.84908,     0.85521,     0.86224,     0.86428,     0.87001,      0.8733,     0.87442,     0.87554,     0.87666,     0.88123,     0.88213,     0.88304,\n",
       "            0.88394,     0.88484,     0.88541,     0.88579,     0.88616,     0.88654,     0.88692,      0.8873,     0.88767,     0.88805,     0.88843,      0.8888,     0.88918,     0.88963,     0.89019,     0.89076,     0.89133,     0.89189,     0.89246,     0.89302,     0.89359,     0.89388,     0.89408,\n",
       "            0.89429,     0.89449,      0.8947,     0.89491,     0.89511,     0.89532,     0.89552,     0.89573,     0.89593,     0.89614,     0.89635,     0.89655,     0.89676,     0.89696,     0.89717,     0.89737,     0.89758,     0.89779,     0.89799,     0.89804,       0.898,     0.89797,     0.89793,\n",
       "             0.8979,     0.89787,     0.89783,      0.8978,     0.89776,     0.89773,      0.8977,     0.89766,     0.89763,     0.89759,     0.89758,     0.89795,     0.89833,      0.8987,     0.89908,     0.89945,     0.89983,     0.90021,     0.90058,     0.90096,     0.90133,     0.90171,     0.90204,\n",
       "            0.90228,     0.90252,     0.90276,       0.903,     0.90324,     0.90348,     0.90372,     0.90396,      0.9042,     0.90444,     0.90468,     0.90492,     0.90516,      0.9054,     0.90564,     0.90588,     0.90612,     0.90635,     0.90652,     0.90666,     0.90681,     0.90695,      0.9071,\n",
       "            0.90724,     0.90739,     0.90753,     0.90768,     0.90782,     0.90796,     0.90811,     0.90825,      0.9084,     0.90854,     0.90869,     0.90883,     0.90898,     0.90912,     0.90927,     0.90941,     0.90956,      0.9097,     0.90984,     0.90999,     0.91013,     0.91028,     0.91042,\n",
       "            0.91057,     0.91071,     0.91086,     0.91091,     0.91094,     0.91097,       0.911,     0.91103,     0.91106,     0.91109,     0.91112,     0.91115,     0.91118,     0.91122,     0.91125,     0.91128,     0.91131,     0.91134,     0.91137,      0.9114,     0.91143,     0.91146,     0.91149,\n",
       "            0.91152,     0.91155,     0.91158,     0.91161,     0.91164,     0.91167,      0.9117,     0.91173,     0.91176,     0.91179,     0.91182,     0.91185,     0.91188,     0.91191,     0.91194,     0.91197,       0.912,     0.91203,     0.91206,     0.91209,     0.91212,     0.91215,     0.91218,\n",
       "            0.91221,     0.91224,     0.91227,      0.9123,     0.91233,     0.91236,     0.91239,     0.91242,     0.91245,     0.91248,     0.91251,     0.91254,     0.91257,      0.9126,     0.91263,     0.91266,     0.91269,     0.91272,     0.91275,     0.91278,     0.91281,     0.91284,     0.91287,\n",
       "             0.9129,     0.91293,     0.91296,     0.91299,     0.91302,     0.91305,     0.91308,     0.91311,     0.91314,     0.91317,      0.9132,     0.91323,     0.91326,     0.91329,     0.91332,     0.91335,     0.91338,     0.91341,     0.91344,     0.91347,      0.9135,     0.91353,     0.91356,\n",
       "            0.91359,     0.91362,     0.91365,     0.91368,     0.91371,     0.91374,     0.91377,      0.9138,     0.91384,     0.91387,      0.9139,     0.91393,     0.91396,     0.91399,     0.91402,     0.91405,     0.91408,     0.91411,     0.91414,     0.91417,      0.9142,     0.91423,     0.91426,\n",
       "            0.91429,     0.91432,     0.91435,     0.91438,     0.91441,     0.91444,     0.91447,      0.9145,     0.91453,     0.91456,     0.91459,     0.91462,     0.91465,     0.91468,     0.91471,     0.91474,     0.91477,      0.9148,     0.91483,     0.91486,     0.91489,     0.91492,     0.91495,\n",
       "            0.91498,     0.91501,     0.91504,     0.91507,      0.9151,     0.91513,     0.91516,     0.91519,     0.91522,     0.91525,     0.91528,     0.91531,     0.91534,     0.91537,      0.9154,     0.91547,     0.91566,     0.91585,     0.91603,     0.91622,      0.9164,     0.91659,     0.91677,\n",
       "            0.91696,     0.91715,     0.91733,     0.91752,      0.9177,     0.91789,     0.91808,     0.91826,     0.91845,     0.91863,     0.91882,       0.919,     0.91919,     0.91938,     0.91956,     0.91975,     0.91993,     0.92004,      0.9201,     0.92016,     0.92022,     0.92028,     0.92034,\n",
       "             0.9204,     0.92046,     0.92052,     0.92058,     0.92064,      0.9207,     0.92076,     0.92082,     0.92088,     0.92094,       0.921,     0.92106,     0.92113,     0.92119,     0.92125,     0.92131,     0.92137,     0.92143,     0.92149,     0.92155,     0.92161,     0.92167,     0.92173,\n",
       "            0.92179,     0.92185,     0.92191,     0.92197,     0.92203,     0.92209,     0.92215,     0.92221,     0.92227,     0.92233,     0.92239,     0.92245,     0.92251,     0.92257,     0.92263,     0.92269,     0.92276,     0.92282,     0.92288,     0.92294,       0.923,     0.92306,     0.92312,\n",
       "            0.92318,     0.92324,      0.9233,     0.92336,     0.92342,     0.92348,     0.92354,      0.9236,     0.92366,     0.92372,     0.92378,     0.92384,      0.9239,     0.92396,     0.92402,     0.92408,     0.92414,      0.9242,     0.92426,     0.92432,     0.92439,     0.92445,     0.92451,\n",
       "            0.92457,     0.92462,     0.92462,     0.92462,     0.92461,     0.92461,     0.92461,      0.9246,      0.9246,     0.92459,     0.92459,     0.92459,     0.92458,     0.92458,     0.92458,     0.92457,     0.92457,     0.92457,     0.92456,     0.92456,     0.92456,     0.92455,     0.92455,\n",
       "            0.92454,     0.92454,     0.92454,     0.92453,     0.92453,     0.92453,     0.92452,     0.92452,     0.92452,     0.92451,     0.92451,     0.92451,      0.9245,      0.9245,     0.92449,     0.92449,     0.92449,     0.92448,     0.92448,     0.92448,     0.92447,     0.92447,     0.92447,\n",
       "            0.92446,     0.92446,     0.92446,     0.92445,     0.92445,     0.92444,     0.92444,     0.92444,     0.92443,     0.92443,     0.92443,     0.92442,     0.92442,     0.92442,     0.92441,     0.92441,     0.92441,      0.9244,      0.9244,     0.92439,     0.92439,     0.92439,     0.92438,\n",
       "            0.92438,     0.92438,     0.92437,     0.92437,     0.92437,     0.92436,     0.92436,     0.92436,     0.92435,     0.92435,     0.92434,     0.92434,     0.92434,     0.92433,     0.92433,     0.92433,     0.92432,     0.92432,     0.92432,     0.92431,     0.92431,     0.92431,      0.9243,\n",
       "             0.9243,     0.92429,     0.92429,     0.92429,     0.92428,     0.92428,     0.92428,     0.92427,     0.92427,     0.92427,     0.92426,     0.92426,     0.92426,     0.92425,     0.92425,     0.92424,     0.92424,     0.92423,     0.92422,     0.92422,     0.92421,      0.9242,     0.92419,\n",
       "            0.92419,     0.92418,     0.92417,     0.92416,     0.92416,     0.92415,     0.92414,     0.92413,     0.92413,     0.92412,     0.92411,     0.92411,      0.9241,     0.92409,     0.92408,     0.92408,     0.92407,     0.92406,     0.92405,     0.92405,     0.92404,     0.92403,     0.92402,\n",
       "            0.92402,     0.92401,       0.924,     0.92399,     0.92399,     0.92398,     0.92397,     0.92396,     0.92396,     0.92395,     0.92394,     0.92393,     0.92393,     0.92392,     0.92391,      0.9239,      0.9239,     0.92389,     0.92388,     0.92387,     0.92387,     0.92386,      0.9243,\n",
       "            0.92486,     0.92543,       0.926,     0.92657,     0.92714,     0.92771,     0.92827,     0.92867,     0.92888,      0.9291,     0.92931,     0.92952,     0.92973,     0.92995,     0.93016,     0.93037,     0.93058,     0.93079,     0.93101,     0.93122,     0.93143,     0.93164,     0.93186,\n",
       "            0.93207,     0.93228,     0.93249,      0.9327,     0.93292,     0.93313,     0.93333,     0.93333,     0.93332,     0.93332,     0.93331,     0.93331,      0.9333,     0.93329,     0.93329,     0.93328,     0.93328,     0.93327,     0.93327,     0.93326,     0.93326,     0.93325,     0.93325,\n",
       "            0.93324,     0.93323,     0.93323,     0.93322,     0.93322,     0.93321,     0.93321,      0.9332,      0.9332,     0.93319,     0.93318,     0.93318,     0.93317,     0.93317,     0.93316,     0.93316,     0.93315,     0.93315,     0.93314,     0.93313,     0.93313,     0.93312,     0.93312,\n",
       "            0.93311,     0.93311,      0.9331,      0.9331,     0.93309,     0.93309,     0.93308,     0.93307,     0.93307,     0.93306,     0.93306,     0.93305,     0.93305,     0.93304,     0.93304,     0.93303,     0.93302,     0.93302,     0.93301,     0.93301,       0.933,       0.933,     0.93299,\n",
       "            0.93297,     0.93295,     0.93292,     0.93289,     0.93286,     0.93284,     0.93281,     0.93278,     0.93275,     0.93273,      0.9327,     0.93267,     0.93264,     0.93293,     0.93324,     0.93355,     0.93386,     0.93417,     0.93448,      0.9348,     0.93511,     0.93542,     0.93573,\n",
       "            0.93604,     0.93635,     0.93666,     0.93697,     0.93728,      0.9375,     0.93748,     0.93746,     0.93745,     0.93743,     0.93742,      0.9374,     0.93738,     0.93737,     0.93735,     0.93734,     0.93732,      0.9373,     0.93729,     0.93727,     0.93726,     0.93724,     0.93722,\n",
       "            0.93721,     0.93719,     0.93718,     0.93708,     0.93697,     0.93685,     0.93698,     0.93713,     0.93729,     0.93744,      0.9376,     0.93775,      0.9379,     0.93806,     0.93821,     0.93837,     0.93852,     0.93867,     0.93883,     0.93898,     0.93914,     0.93929,     0.93944,\n",
       "             0.9396,     0.93975,     0.93991,     0.94006,     0.94021,     0.94037,     0.94052,     0.94068,     0.94083,     0.94098,     0.94114,     0.94129,     0.94144,      0.9416,     0.94175,     0.94174,     0.94166,     0.94158,     0.94151,     0.94132,     0.94116,      0.9411,     0.94104,\n",
       "            0.94098,     0.94092,     0.94086,      0.9458,     0.94569,     0.94781,     0.94993,     0.95081,     0.95079,     0.95077,     0.95075,     0.95073,     0.95071,     0.95069,     0.95067,     0.95065,     0.95063,     0.95061,     0.95059,     0.95057,     0.95055,     0.95024,      0.9502,\n",
       "            0.95016,     0.95012,     0.95008,     0.95004,     0.94999,     0.94991,     0.94983,     0.94975,     0.94962,     0.94948,     0.94937,     0.94927,     0.94917,     0.94909,     0.94902,     0.94895,     0.94887,     0.94879,      0.9487,     0.94862,     0.94855,      0.9485,     0.94845,\n",
       "             0.9484,     0.94835,     0.94829,     0.94815,     0.94795,      0.9478,     0.94754,      0.9469,     0.94657,     0.94626,      0.9459,     0.94564,     0.94548,     0.94539,     0.94531,     0.94524,     0.94516,     0.94476,      0.9447,     0.94464,     0.94458,     0.94452,     0.94447,\n",
       "             0.9444,     0.94433,     0.94426,     0.94419,     0.94412,     0.94321,     0.94293,     0.94264,     0.94251,     0.94238,     0.94223,     0.94204,     0.94182,     0.94157,      0.9476,     0.94748,     0.94736,     0.94722,     0.94708,     0.94695,     0.94683,     0.94671,     0.95296,\n",
       "            0.95231,      0.9517,     0.95162,     0.95153,     0.95145,     0.95369,     0.95971,     0.96432,     0.96449,     0.96436,     0.96416,     0.96368,      0.9635,     0.96321,     0.96288,     0.96274,     0.96205,     0.96174,     0.96159,     0.96133,      0.9608,     0.96024,     0.95994,\n",
       "            0.95972,     0.95874,     0.95839,     0.95821,     0.95807,     0.95768,     0.95715,     0.95702,      0.9569,     0.95651,     0.95572,     0.96359,     0.96283,     0.96253,     0.96187,     0.96162,     0.96487,     0.97026,     0.97011,     0.96984,     0.97934,     0.97919,     0.97887,\n",
       "            0.97832,     0.97746,     0.97729,     0.97689,     0.97666,     0.97647,     0.97575,     0.97529,     0.97559,     0.98403,     0.98696,     0.98687,     0.98645,     0.98623,     0.98567,     0.98547,     0.98533,     0.98423,     0.98343,     0.98321,     0.98307,     0.98288,     0.98219,\n",
       "            0.98152,     0.98041,     0.97973,     0.97916,     0.97868,     0.97749,     0.97706,     0.97668,     0.97613,     0.97574,     0.97715,     0.99514,           1,           1,           1,           1,           1,           1,           1,           1,           1,           1,           1,\n",
       "                  1,           1,           1,           1,           1,           1,           1,           1,           1,           1,           1,           1,           1,           1,           1,           1,           1,           1,           1,           1,           1,           1,           1,\n",
       "                  1,           1,           1,           1,           1,           1,           1,           1,           1,           1,           1,           1,           1,           1,           1,           1,           1,           1,           1,           1,           1,           1,           1,\n",
       "                  1,           1,           1,           1,           1,           1,           1,           1,           1,           1,           1,           1,           1,           1,           1,           1,           1,           1,           1,           1,           1,           1,           1,\n",
       "                  1,           1,           1,           1,           1,           1,           1,           1,           1,           1,           1]]), 'Confidence', 'Precision'], [array([          0,    0.001001,    0.002002,    0.003003,    0.004004,    0.005005,    0.006006,    0.007007,    0.008008,    0.009009,     0.01001,    0.011011,    0.012012,    0.013013,    0.014014,    0.015015,    0.016016,    0.017017,    0.018018,    0.019019,     0.02002,    0.021021,    0.022022,    0.023023,\n",
       "          0.024024,    0.025025,    0.026026,    0.027027,    0.028028,    0.029029,     0.03003,    0.031031,    0.032032,    0.033033,    0.034034,    0.035035,    0.036036,    0.037037,    0.038038,    0.039039,     0.04004,    0.041041,    0.042042,    0.043043,    0.044044,    0.045045,    0.046046,    0.047047,\n",
       "          0.048048,    0.049049,     0.05005,    0.051051,    0.052052,    0.053053,    0.054054,    0.055055,    0.056056,    0.057057,    0.058058,    0.059059,     0.06006,    0.061061,    0.062062,    0.063063,    0.064064,    0.065065,    0.066066,    0.067067,    0.068068,    0.069069,     0.07007,    0.071071,\n",
       "          0.072072,    0.073073,    0.074074,    0.075075,    0.076076,    0.077077,    0.078078,    0.079079,     0.08008,    0.081081,    0.082082,    0.083083,    0.084084,    0.085085,    0.086086,    0.087087,    0.088088,    0.089089,     0.09009,    0.091091,    0.092092,    0.093093,    0.094094,    0.095095,\n",
       "          0.096096,    0.097097,    0.098098,    0.099099,      0.1001,      0.1011,      0.1021,      0.1031,      0.1041,     0.10511,     0.10611,     0.10711,     0.10811,     0.10911,     0.11011,     0.11111,     0.11211,     0.11311,     0.11411,     0.11512,     0.11612,     0.11712,     0.11812,     0.11912,\n",
       "           0.12012,     0.12112,     0.12212,     0.12312,     0.12412,     0.12513,     0.12613,     0.12713,     0.12813,     0.12913,     0.13013,     0.13113,     0.13213,     0.13313,     0.13413,     0.13514,     0.13614,     0.13714,     0.13814,     0.13914,     0.14014,     0.14114,     0.14214,     0.14314,\n",
       "           0.14414,     0.14515,     0.14615,     0.14715,     0.14815,     0.14915,     0.15015,     0.15115,     0.15215,     0.15315,     0.15415,     0.15516,     0.15616,     0.15716,     0.15816,     0.15916,     0.16016,     0.16116,     0.16216,     0.16316,     0.16416,     0.16517,     0.16617,     0.16717,\n",
       "           0.16817,     0.16917,     0.17017,     0.17117,     0.17217,     0.17317,     0.17417,     0.17518,     0.17618,     0.17718,     0.17818,     0.17918,     0.18018,     0.18118,     0.18218,     0.18318,     0.18418,     0.18519,     0.18619,     0.18719,     0.18819,     0.18919,     0.19019,     0.19119,\n",
       "           0.19219,     0.19319,     0.19419,      0.1952,      0.1962,      0.1972,      0.1982,      0.1992,      0.2002,      0.2012,      0.2022,      0.2032,      0.2042,     0.20521,     0.20621,     0.20721,     0.20821,     0.20921,     0.21021,     0.21121,     0.21221,     0.21321,     0.21421,     0.21522,\n",
       "           0.21622,     0.21722,     0.21822,     0.21922,     0.22022,     0.22122,     0.22222,     0.22322,     0.22422,     0.22523,     0.22623,     0.22723,     0.22823,     0.22923,     0.23023,     0.23123,     0.23223,     0.23323,     0.23423,     0.23524,     0.23624,     0.23724,     0.23824,     0.23924,\n",
       "           0.24024,     0.24124,     0.24224,     0.24324,     0.24424,     0.24525,     0.24625,     0.24725,     0.24825,     0.24925,     0.25025,     0.25125,     0.25225,     0.25325,     0.25425,     0.25526,     0.25626,     0.25726,     0.25826,     0.25926,     0.26026,     0.26126,     0.26226,     0.26326,\n",
       "           0.26426,     0.26527,     0.26627,     0.26727,     0.26827,     0.26927,     0.27027,     0.27127,     0.27227,     0.27327,     0.27427,     0.27528,     0.27628,     0.27728,     0.27828,     0.27928,     0.28028,     0.28128,     0.28228,     0.28328,     0.28428,     0.28529,     0.28629,     0.28729,\n",
       "           0.28829,     0.28929,     0.29029,     0.29129,     0.29229,     0.29329,     0.29429,      0.2953,      0.2963,      0.2973,      0.2983,      0.2993,      0.3003,      0.3013,      0.3023,      0.3033,      0.3043,     0.30531,     0.30631,     0.30731,     0.30831,     0.30931,     0.31031,     0.31131,\n",
       "           0.31231,     0.31331,     0.31431,     0.31532,     0.31632,     0.31732,     0.31832,     0.31932,     0.32032,     0.32132,     0.32232,     0.32332,     0.32432,     0.32533,     0.32633,     0.32733,     0.32833,     0.32933,     0.33033,     0.33133,     0.33233,     0.33333,     0.33433,     0.33534,\n",
       "           0.33634,     0.33734,     0.33834,     0.33934,     0.34034,     0.34134,     0.34234,     0.34334,     0.34434,     0.34535,     0.34635,     0.34735,     0.34835,     0.34935,     0.35035,     0.35135,     0.35235,     0.35335,     0.35435,     0.35536,     0.35636,     0.35736,     0.35836,     0.35936,\n",
       "           0.36036,     0.36136,     0.36236,     0.36336,     0.36436,     0.36537,     0.36637,     0.36737,     0.36837,     0.36937,     0.37037,     0.37137,     0.37237,     0.37337,     0.37437,     0.37538,     0.37638,     0.37738,     0.37838,     0.37938,     0.38038,     0.38138,     0.38238,     0.38338,\n",
       "           0.38438,     0.38539,     0.38639,     0.38739,     0.38839,     0.38939,     0.39039,     0.39139,     0.39239,     0.39339,     0.39439,      0.3954,      0.3964,      0.3974,      0.3984,      0.3994,      0.4004,      0.4014,      0.4024,      0.4034,      0.4044,     0.40541,     0.40641,     0.40741,\n",
       "           0.40841,     0.40941,     0.41041,     0.41141,     0.41241,     0.41341,     0.41441,     0.41542,     0.41642,     0.41742,     0.41842,     0.41942,     0.42042,     0.42142,     0.42242,     0.42342,     0.42442,     0.42543,     0.42643,     0.42743,     0.42843,     0.42943,     0.43043,     0.43143,\n",
       "           0.43243,     0.43343,     0.43443,     0.43544,     0.43644,     0.43744,     0.43844,     0.43944,     0.44044,     0.44144,     0.44244,     0.44344,     0.44444,     0.44545,     0.44645,     0.44745,     0.44845,     0.44945,     0.45045,     0.45145,     0.45245,     0.45345,     0.45445,     0.45546,\n",
       "           0.45646,     0.45746,     0.45846,     0.45946,     0.46046,     0.46146,     0.46246,     0.46346,     0.46446,     0.46547,     0.46647,     0.46747,     0.46847,     0.46947,     0.47047,     0.47147,     0.47247,     0.47347,     0.47447,     0.47548,     0.47648,     0.47748,     0.47848,     0.47948,\n",
       "           0.48048,     0.48148,     0.48248,     0.48348,     0.48448,     0.48549,     0.48649,     0.48749,     0.48849,     0.48949,     0.49049,     0.49149,     0.49249,     0.49349,     0.49449,      0.4955,      0.4965,      0.4975,      0.4985,      0.4995,      0.5005,      0.5015,      0.5025,      0.5035,\n",
       "            0.5045,     0.50551,     0.50651,     0.50751,     0.50851,     0.50951,     0.51051,     0.51151,     0.51251,     0.51351,     0.51451,     0.51552,     0.51652,     0.51752,     0.51852,     0.51952,     0.52052,     0.52152,     0.52252,     0.52352,     0.52452,     0.52553,     0.52653,     0.52753,\n",
       "           0.52853,     0.52953,     0.53053,     0.53153,     0.53253,     0.53353,     0.53453,     0.53554,     0.53654,     0.53754,     0.53854,     0.53954,     0.54054,     0.54154,     0.54254,     0.54354,     0.54454,     0.54555,     0.54655,     0.54755,     0.54855,     0.54955,     0.55055,     0.55155,\n",
       "           0.55255,     0.55355,     0.55455,     0.55556,     0.55656,     0.55756,     0.55856,     0.55956,     0.56056,     0.56156,     0.56256,     0.56356,     0.56456,     0.56557,     0.56657,     0.56757,     0.56857,     0.56957,     0.57057,     0.57157,     0.57257,     0.57357,     0.57457,     0.57558,\n",
       "           0.57658,     0.57758,     0.57858,     0.57958,     0.58058,     0.58158,     0.58258,     0.58358,     0.58458,     0.58559,     0.58659,     0.58759,     0.58859,     0.58959,     0.59059,     0.59159,     0.59259,     0.59359,     0.59459,      0.5956,      0.5966,      0.5976,      0.5986,      0.5996,\n",
       "            0.6006,      0.6016,      0.6026,      0.6036,      0.6046,     0.60561,     0.60661,     0.60761,     0.60861,     0.60961,     0.61061,     0.61161,     0.61261,     0.61361,     0.61461,     0.61562,     0.61662,     0.61762,     0.61862,     0.61962,     0.62062,     0.62162,     0.62262,     0.62362,\n",
       "           0.62462,     0.62563,     0.62663,     0.62763,     0.62863,     0.62963,     0.63063,     0.63163,     0.63263,     0.63363,     0.63463,     0.63564,     0.63664,     0.63764,     0.63864,     0.63964,     0.64064,     0.64164,     0.64264,     0.64364,     0.64464,     0.64565,     0.64665,     0.64765,\n",
       "           0.64865,     0.64965,     0.65065,     0.65165,     0.65265,     0.65365,     0.65465,     0.65566,     0.65666,     0.65766,     0.65866,     0.65966,     0.66066,     0.66166,     0.66266,     0.66366,     0.66466,     0.66567,     0.66667,     0.66767,     0.66867,     0.66967,     0.67067,     0.67167,\n",
       "           0.67267,     0.67367,     0.67467,     0.67568,     0.67668,     0.67768,     0.67868,     0.67968,     0.68068,     0.68168,     0.68268,     0.68368,     0.68468,     0.68569,     0.68669,     0.68769,     0.68869,     0.68969,     0.69069,     0.69169,     0.69269,     0.69369,     0.69469,      0.6957,\n",
       "            0.6967,      0.6977,      0.6987,      0.6997,      0.7007,      0.7017,      0.7027,      0.7037,      0.7047,     0.70571,     0.70671,     0.70771,     0.70871,     0.70971,     0.71071,     0.71171,     0.71271,     0.71371,     0.71471,     0.71572,     0.71672,     0.71772,     0.71872,     0.71972,\n",
       "           0.72072,     0.72172,     0.72272,     0.72372,     0.72472,     0.72573,     0.72673,     0.72773,     0.72873,     0.72973,     0.73073,     0.73173,     0.73273,     0.73373,     0.73473,     0.73574,     0.73674,     0.73774,     0.73874,     0.73974,     0.74074,     0.74174,     0.74274,     0.74374,\n",
       "           0.74474,     0.74575,     0.74675,     0.74775,     0.74875,     0.74975,     0.75075,     0.75175,     0.75275,     0.75375,     0.75475,     0.75576,     0.75676,     0.75776,     0.75876,     0.75976,     0.76076,     0.76176,     0.76276,     0.76376,     0.76476,     0.76577,     0.76677,     0.76777,\n",
       "           0.76877,     0.76977,     0.77077,     0.77177,     0.77277,     0.77377,     0.77477,     0.77578,     0.77678,     0.77778,     0.77878,     0.77978,     0.78078,     0.78178,     0.78278,     0.78378,     0.78478,     0.78579,     0.78679,     0.78779,     0.78879,     0.78979,     0.79079,     0.79179,\n",
       "           0.79279,     0.79379,     0.79479,      0.7958,      0.7968,      0.7978,      0.7988,      0.7998,      0.8008,      0.8018,      0.8028,      0.8038,      0.8048,     0.80581,     0.80681,     0.80781,     0.80881,     0.80981,     0.81081,     0.81181,     0.81281,     0.81381,     0.81481,     0.81582,\n",
       "           0.81682,     0.81782,     0.81882,     0.81982,     0.82082,     0.82182,     0.82282,     0.82382,     0.82482,     0.82583,     0.82683,     0.82783,     0.82883,     0.82983,     0.83083,     0.83183,     0.83283,     0.83383,     0.83483,     0.83584,     0.83684,     0.83784,     0.83884,     0.83984,\n",
       "           0.84084,     0.84184,     0.84284,     0.84384,     0.84484,     0.84585,     0.84685,     0.84785,     0.84885,     0.84985,     0.85085,     0.85185,     0.85285,     0.85385,     0.85485,     0.85586,     0.85686,     0.85786,     0.85886,     0.85986,     0.86086,     0.86186,     0.86286,     0.86386,\n",
       "           0.86486,     0.86587,     0.86687,     0.86787,     0.86887,     0.86987,     0.87087,     0.87187,     0.87287,     0.87387,     0.87487,     0.87588,     0.87688,     0.87788,     0.87888,     0.87988,     0.88088,     0.88188,     0.88288,     0.88388,     0.88488,     0.88589,     0.88689,     0.88789,\n",
       "           0.88889,     0.88989,     0.89089,     0.89189,     0.89289,     0.89389,     0.89489,      0.8959,      0.8969,      0.8979,      0.8989,      0.8999,      0.9009,      0.9019,      0.9029,      0.9039,      0.9049,     0.90591,     0.90691,     0.90791,     0.90891,     0.90991,     0.91091,     0.91191,\n",
       "           0.91291,     0.91391,     0.91491,     0.91592,     0.91692,     0.91792,     0.91892,     0.91992,     0.92092,     0.92192,     0.92292,     0.92392,     0.92492,     0.92593,     0.92693,     0.92793,     0.92893,     0.92993,     0.93093,     0.93193,     0.93293,     0.93393,     0.93493,     0.93594,\n",
       "           0.93694,     0.93794,     0.93894,     0.93994,     0.94094,     0.94194,     0.94294,     0.94394,     0.94494,     0.94595,     0.94695,     0.94795,     0.94895,     0.94995,     0.95095,     0.95195,     0.95295,     0.95395,     0.95495,     0.95596,     0.95696,     0.95796,     0.95896,     0.95996,\n",
       "           0.96096,     0.96196,     0.96296,     0.96396,     0.96496,     0.96597,     0.96697,     0.96797,     0.96897,     0.96997,     0.97097,     0.97197,     0.97297,     0.97397,     0.97497,     0.97598,     0.97698,     0.97798,     0.97898,     0.97998,     0.98098,     0.98198,     0.98298,     0.98398,\n",
       "           0.98498,     0.98599,     0.98699,     0.98799,     0.98899,     0.98999,     0.99099,     0.99199,     0.99299,     0.99399,     0.99499,       0.996,       0.997,       0.998,       0.999,           1]), array([[          1,           1,           1,     0.99462,     0.99462,     0.99462,     0.99462,     0.99462,     0.99462,     0.99462,     0.99462,     0.99462,     0.99462,     0.99462,     0.99462,     0.99462,     0.99462,     0.99462,     0.99462,     0.99462,     0.99462,     0.99462,     0.99462,\n",
       "            0.99462,     0.99462,     0.99462,     0.99462,     0.99462,     0.99462,     0.99462,     0.99462,     0.99462,     0.99462,     0.99462,     0.99462,     0.99462,     0.99462,     0.99462,     0.99462,     0.99462,     0.99462,     0.99462,     0.99462,     0.99462,     0.99462,     0.99462,\n",
       "            0.99462,     0.99462,     0.99462,     0.99462,     0.99462,     0.99462,     0.99462,     0.99462,     0.99462,     0.99462,     0.99462,     0.99462,     0.99462,     0.99462,     0.99462,     0.99462,     0.99462,     0.99462,     0.99462,     0.99438,     0.99401,     0.99364,     0.99327,\n",
       "            0.99291,     0.99254,     0.99217,      0.9918,     0.99144,     0.99107,      0.9907,     0.99034,     0.98997,      0.9896,     0.98925,     0.98925,     0.98925,     0.98925,     0.98925,     0.98925,     0.98925,     0.98925,     0.98925,     0.98925,     0.98925,     0.98925,     0.98925,\n",
       "            0.98925,     0.98925,     0.98925,     0.98925,     0.98925,     0.98925,     0.98925,     0.98925,     0.98925,     0.98925,     0.98925,     0.98925,     0.98925,     0.98925,     0.98925,     0.98925,     0.98925,     0.98925,     0.98925,     0.98925,     0.98925,     0.98925,     0.98925,\n",
       "            0.98925,     0.98925,     0.98925,     0.98925,     0.98925,     0.98925,     0.98925,     0.98925,     0.98925,     0.98925,     0.98925,     0.98925,     0.98925,     0.98925,     0.98925,     0.98925,     0.98925,     0.98925,     0.98925,     0.98925,     0.98925,     0.98925,     0.98925,\n",
       "            0.98925,     0.98925,     0.98925,     0.98925,     0.98925,     0.98925,     0.98925,     0.98925,     0.98925,     0.98925,     0.98925,     0.98925,     0.98925,     0.98925,     0.98925,     0.98925,     0.98925,     0.98925,     0.98925,     0.98925,     0.98925,     0.98925,     0.98925,\n",
       "            0.98925,     0.98925,     0.98925,     0.98925,     0.98925,     0.98925,     0.98925,     0.98925,     0.98925,     0.98925,     0.98925,     0.98925,     0.98925,     0.98925,     0.98925,     0.98925,     0.98925,     0.98925,     0.98925,     0.98925,     0.98925,     0.98925,     0.98925,\n",
       "            0.98925,     0.98925,     0.98925,     0.98925,     0.98925,     0.98925,     0.98925,     0.98925,     0.98925,     0.98925,     0.98925,     0.98925,     0.98925,     0.98925,     0.98925,     0.98925,     0.98925,     0.98925,     0.98925,     0.98925,     0.98925,     0.98925,     0.98925,\n",
       "            0.98925,     0.98925,     0.98925,     0.98925,     0.98925,     0.98925,     0.98925,     0.98925,     0.98925,     0.98925,     0.98925,     0.98925,     0.98925,     0.98925,     0.98925,     0.98925,     0.98925,     0.98925,     0.98925,     0.98925,     0.98925,     0.98925,     0.98925,\n",
       "            0.98925,     0.98925,     0.98925,     0.98925,     0.98925,     0.98925,     0.98925,     0.98925,     0.98925,     0.98925,     0.98925,     0.98925,     0.98925,     0.98925,     0.98925,     0.98925,     0.98925,     0.98925,     0.98925,     0.98925,     0.98925,     0.98925,     0.98925,\n",
       "            0.98925,     0.98925,     0.98925,     0.98925,     0.98925,     0.98925,     0.98925,     0.98925,     0.98925,     0.98925,     0.98925,     0.98925,     0.98925,     0.98925,     0.98925,     0.98925,     0.98925,     0.98925,     0.98925,     0.98925,     0.98925,     0.98925,     0.98925,\n",
       "            0.98925,     0.98925,     0.98925,     0.98925,     0.98925,     0.98925,     0.98925,     0.98925,     0.98925,     0.98925,     0.98925,     0.98925,     0.98925,     0.98925,     0.98925,     0.98925,     0.98925,     0.98925,     0.98925,     0.98925,     0.98925,     0.98925,     0.98925,\n",
       "            0.98925,     0.98925,     0.98925,     0.98925,     0.98925,     0.98925,     0.98925,     0.98925,     0.98925,     0.98925,     0.98925,     0.98925,     0.98925,     0.98925,     0.98925,     0.98925,     0.98925,     0.98925,     0.98925,     0.98925,     0.98925,     0.98925,     0.98925,\n",
       "            0.98925,     0.98925,     0.98925,     0.98925,     0.98925,     0.98925,     0.98925,     0.98925,     0.98925,     0.98925,     0.98925,     0.98925,     0.98925,     0.98925,     0.98925,     0.98925,     0.98925,     0.98925,     0.98925,     0.98925,     0.98925,     0.98925,     0.98925,\n",
       "            0.98925,     0.98925,     0.98925,     0.98925,     0.98925,     0.98925,     0.98925,     0.98925,     0.98925,     0.98925,     0.98925,     0.98925,     0.98925,     0.98925,     0.98925,     0.98925,     0.98925,     0.98925,     0.98925,     0.98925,     0.98925,     0.98925,     0.98925,\n",
       "            0.98925,     0.98925,     0.98925,     0.98925,     0.98925,     0.98925,     0.98925,     0.98925,     0.98925,     0.98925,     0.98925,     0.98925,     0.98925,     0.98925,     0.98925,     0.98925,     0.98925,     0.98925,     0.98925,     0.98925,     0.98925,     0.98925,     0.98925,\n",
       "            0.98925,     0.98924,     0.98919,     0.98914,     0.98909,     0.98904,     0.98899,     0.98894,     0.98889,     0.98884,     0.98879,     0.98874,     0.98869,     0.98864,     0.98859,     0.98854,     0.98849,     0.98844,     0.98839,     0.98834,     0.98829,     0.98824,     0.98819,\n",
       "            0.98813,     0.98808,     0.98803,     0.98798,     0.98793,     0.98788,     0.98783,     0.98778,     0.98773,     0.98768,     0.98763,     0.98758,     0.98753,     0.98748,     0.98743,     0.98738,     0.98733,     0.98728,     0.98723,     0.98718,     0.98713,     0.98708,     0.98702,\n",
       "            0.98697,     0.98692,     0.98687,     0.98682,     0.98677,     0.98672,     0.98667,     0.98662,     0.98657,     0.98652,     0.98647,     0.98642,     0.98637,     0.98632,     0.98627,     0.98622,     0.98617,     0.98612,     0.98607,     0.98602,     0.98597,     0.98592,     0.98586,\n",
       "            0.98581,     0.98576,     0.98571,     0.98566,     0.98561,     0.98556,     0.98551,     0.98546,     0.98541,     0.98536,     0.98531,     0.98526,     0.98521,     0.98516,     0.98511,     0.98506,     0.98501,     0.98496,     0.98491,     0.98486,     0.98481,     0.98475,      0.9847,\n",
       "            0.98465,      0.9846,     0.98455,      0.9845,     0.98445,      0.9844,     0.98435,      0.9843,     0.98425,      0.9842,     0.98415,      0.9841,     0.98405,       0.984,     0.98395,      0.9839,     0.98382,     0.98372,     0.98361,     0.98351,     0.98341,      0.9833,      0.9832,\n",
       "            0.98309,     0.98299,     0.98289,     0.98278,     0.98268,     0.98257,     0.98247,     0.98237,     0.98226,     0.98216,     0.98205,     0.98195,     0.98185,     0.98174,     0.98164,     0.98153,     0.98143,     0.98133,     0.98122,     0.98112,     0.98101,     0.98091,     0.98081,\n",
       "             0.9807,      0.9806,     0.98049,     0.98039,     0.98029,     0.98018,     0.98008,     0.97997,     0.97987,     0.97977,     0.97966,     0.97956,     0.97945,     0.97935,     0.97925,     0.97914,     0.97904,     0.97893,     0.97883,     0.97873,     0.97862,     0.97852,     0.97849,\n",
       "            0.97849,     0.97849,     0.97849,     0.97849,     0.97849,     0.97849,     0.97849,     0.97849,     0.97849,     0.97849,     0.97849,     0.97849,     0.97849,     0.97849,     0.97849,     0.97849,     0.97849,     0.97849,     0.97849,     0.97849,     0.97849,     0.97849,     0.97849,\n",
       "            0.97849,     0.97849,     0.97849,     0.97849,     0.97849,     0.97849,     0.97849,     0.97841,     0.97832,     0.97823,     0.97815,     0.97806,     0.97797,     0.97789,      0.9778,     0.97772,     0.97763,     0.97754,     0.97746,     0.97737,     0.97729,      0.9772,     0.97711,\n",
       "            0.97703,     0.97694,     0.97686,     0.97677,     0.97668,      0.9766,     0.97651,     0.97642,     0.97634,     0.97625,     0.97617,     0.97608,     0.97599,     0.97591,     0.97582,     0.97574,     0.97565,     0.97556,     0.97548,     0.97539,     0.97531,     0.97522,     0.97513,\n",
       "            0.97505,     0.97496,     0.97487,     0.97479,      0.9747,     0.97462,     0.97453,     0.97444,     0.97436,     0.97427,     0.97419,      0.9741,     0.97401,     0.97393,     0.97384,     0.97376,     0.97367,     0.97358,      0.9735,     0.97341,     0.97332,     0.97324,     0.97315,\n",
       "            0.97286,     0.97244,     0.97202,     0.97159,     0.97117,     0.97074,     0.97032,      0.9699,     0.96947,     0.96905,     0.96862,      0.9682,     0.96778,     0.96774,     0.96774,     0.96774,     0.96774,     0.96774,     0.96774,     0.96774,     0.96774,     0.96774,     0.96774,\n",
       "            0.96774,     0.96774,     0.96774,     0.96774,     0.96774,     0.96766,      0.9674,     0.96714,     0.96687,     0.96661,     0.96635,     0.96609,     0.96582,     0.96556,      0.9653,     0.96504,     0.96477,     0.96451,     0.96425,     0.96399,     0.96372,     0.96346,      0.9632,\n",
       "            0.96294,     0.96267,     0.96241,     0.96086,     0.95902,     0.95718,     0.95699,     0.95699,     0.95699,     0.95699,     0.95699,     0.95699,     0.95699,     0.95699,     0.95699,     0.95699,     0.95699,     0.95699,     0.95699,     0.95699,     0.95699,     0.95699,     0.95699,\n",
       "            0.95699,     0.95699,     0.95699,     0.95699,     0.95699,     0.95699,     0.95699,     0.95699,     0.95699,     0.95699,     0.95699,     0.95699,     0.95699,     0.95699,     0.95699,     0.95602,     0.95465,     0.95327,     0.95189,     0.94868,      0.9459,      0.9449,      0.9439,\n",
       "            0.94289,     0.94189,     0.94089,     0.93819,     0.93548,     0.93548,     0.93548,     0.93526,     0.93486,     0.93447,     0.93408,     0.93368,     0.93329,     0.93289,      0.9325,     0.93211,     0.93171,     0.93132,     0.93093,     0.93053,     0.93014,     0.92401,     0.92322,\n",
       "            0.92243,     0.92164,     0.92086,     0.92007,     0.91921,     0.91764,     0.91606,     0.91449,     0.91211,     0.90936,     0.90727,     0.90543,     0.90359,     0.90212,     0.90075,     0.89937,     0.89799,     0.89644,     0.89486,     0.89329,     0.89203,     0.89111,     0.89019,\n",
       "            0.88927,     0.88836,     0.88744,     0.88479,     0.88126,     0.87851,     0.87398,     0.86292,     0.85731,     0.85199,     0.84602,     0.84181,     0.83906,     0.83764,     0.83642,     0.83519,     0.83397,     0.82751,     0.82659,     0.82568,     0.82476,     0.82384,     0.82292,\n",
       "            0.82189,     0.82078,     0.81968,     0.81858,     0.81748,     0.80369,     0.79949,     0.79512,     0.79329,     0.79145,     0.78926,      0.7865,     0.78335,     0.77968,     0.77779,     0.77595,      0.7741,     0.77189,     0.76969,      0.7677,     0.76587,     0.76403,     0.76239,\n",
       "             0.7515,     0.74161,     0.74023,     0.73885,     0.73747,     0.73656,     0.73656,     0.73656,     0.73005,      0.7273,     0.72327,     0.71328,     0.70956,     0.70381,     0.69739,     0.69463,     0.68149,     0.67568,     0.67293,      0.6683,     0.65891,     0.64921,     0.64419,\n",
       "            0.64052,     0.62462,     0.61911,     0.61641,      0.6142,     0.60837,     0.60045,     0.59862,     0.59678,     0.59128,     0.58014,     0.56912,       0.557,     0.55246,     0.54249,     0.53881,     0.53226,     0.52629,     0.52353,     0.51858,     0.50969,     0.50601,     0.49814,\n",
       "            0.48525,     0.46632,     0.46265,     0.45459,     0.44992,     0.44625,     0.43268,     0.42448,     0.41935,     0.41935,     0.40693,     0.40417,     0.39155,     0.38498,     0.36977,     0.36471,     0.36103,     0.33551,     0.31911,     0.31493,     0.31217,     0.30861,     0.29653,\n",
       "            0.28551,     0.26911,     0.25987,     0.25257,      0.2468,     0.23348,     0.22904,     0.22515,      0.2199,     0.21623,     0.19892,     0.19892,     0.19087,     0.17986,     0.16884,     0.16224,      0.1468,     0.14047,     0.13334,     0.13058,     0.12422,     0.11842,      0.1147,\n",
       "             0.1019,    0.085935,    0.084098,    0.082261,     0.08038,    0.078176,    0.075972,    0.068827,    0.064249,    0.063025,      0.0618,    0.060576,    0.059351,    0.056859,    0.054104,    0.053073,    0.052286,    0.051499,    0.050712,    0.049924,    0.049137,     0.04275,    0.037437,\n",
       "           0.034681,    0.030929,    0.026184,    0.025082,     0.02398,    0.022878,    0.021776,    0.016016,    0.015592,    0.015168,    0.014744,     0.01432,    0.013896,    0.013472,    0.013048,    0.012624,    0.012201,    0.011777,    0.011353,    0.010929,    0.010257,   0.0094093,   0.0085615,\n",
       "          0.0077137,   0.0068658,    0.006018,           0,           0,           0,           0,           0,           0,           0,           0,           0,           0,           0,           0,           0,           0,           0,           0,           0,           0,           0,           0,\n",
       "                  0,           0,           0,           0,           0,           0,           0,           0,           0,           0,           0]]), 'Confidence', 'Recall']]\n",
       "fitness: np.float64(0.8950040287506559)\n",
       "keys: ['metrics/precision(B)', 'metrics/recall(B)', 'metrics/mAP50(B)', 'metrics/mAP50-95(B)']\n",
       "maps: array([    0.88683])\n",
       "names: {0: 'butterfly'}\n",
       "plot: True\n",
       "results_dict: {'metrics/precision(B)': np.float64(0.9246014764204492), 'metrics/recall(B)': np.float64(0.9889417110819143), 'metrics/mAP50(B)': np.float64(0.9685864289116164), 'metrics/mAP50-95(B)': np.float64(0.8868282065105492), 'fitness': np.float64(0.8950040287506559)}\n",
       "save_dir: WindowsPath('butterfly_detection/yolov8_butterfly')\n",
       "speed: {'preprocess': 0.4171654999936436, 'inference': 29.65110099996309, 'loss': 0.0005154999962542206, 'postprocess': 1.170548999998573}\n",
       "task: 'detect'"
      ]
     },
     "execution_count": 5,
     "metadata": {},
     "output_type": "execute_result"
    }
   ],
   "source": [
    "# Carga YOLO preentrenado\n",
    "model = YOLO(\"yolov8n.pt\")  \n",
    "\n",
    "model.train(\n",
    "    data=\"modificado_copy/data.yaml\",\n",
    "    epochs=50,              # Puede ser 50, pero con paciencia para detener antes si no mejora\n",
    "    imgsz=640,              # Resolución estándar de entrada\n",
    "    batch=8,                # Si la GPU lo soporta, aumenta para entrenar más rápido\n",
    "    project=\"butterfly_detection\", # Nombre del proyecto\n",
    "    name=\"yolov8_butterfly\", # Nombre del modelo guardado\n",
    "    device=0,               # Usar GPU\n",
    "    half=True,              # FP16 para acelerar en GPU\n",
    "    lr0=1e-4,               # Tasa de aprendizaje inicial baja (evita sobreajuste)\n",
    "    workers=8,              # Paralelización para cargar datos más rápido\n",
    "    augment=True,           # Data augmentation activado\n",
    "    freeze=10,              # Congela capas iniciales para mantener conocimiento base\n",
    "    cos_lr=True,            # Ajuste de la tasa de aprendizaje con coseno\n",
    "    patience=10,            # Early stopping si no mejora tras 10 épocas\n",
    "    val=True                # Asegura validación en cada época\n",
    ")"
   ]
  },
  {
   "cell_type": "markdown",
   "metadata": {},
   "source": [
    "Ya terminado el entrenamiento comprobamos que tal ha ido."
   ]
  },
  {
   "cell_type": "code",
   "execution_count": null,
   "metadata": {},
   "outputs": [
    {
     "name": "stdout",
     "output_type": "stream",
     "text": [
      "{0: 'butterfly'}\n",
      "Ultralytics 8.3.76  Python-3.11.0 torch-2.6.0+cu118 CUDA:0 (NVIDIA GeForce GTX 1050, 2048MiB)\n",
      "Model summary (fused): 72 layers, 3,005,843 parameters, 0 gradients, 8.1 GFLOPs\n"
     ]
    },
    {
     "name": "stderr",
     "output_type": "stream",
     "text": [
      "\u001b[34m\u001b[1mval: \u001b[0mScanning D:\\TFM\\Codigo\\modificado\\valid\\labels.cache... 200 images, 14 backgrounds, 0 corrupt: 100%|██████████| 200/200 [00:00<?, ?it/s]\n",
      "                 Class     Images  Instances      Box(P          R      mAP50  mAP50-95): 100%|██████████| 13/13 [00:03<00:00,  3.72it/s]\n"
     ]
    },
    {
     "name": "stdout",
     "output_type": "stream",
     "text": [
      "                   all        200        186      0.925      0.995       0.97      0.813\n",
      "Speed: 1.2ms preprocess, 11.1ms inference, 0.0ms loss, 1.0ms postprocess per image\n",
      "Results saved to \u001b[1mruns\\detect\\val3\u001b[0m\n",
      "ultralytics.utils.metrics.DetMetrics object with attributes:\n",
      "\n",
      "ap_class_index: array([0])\n",
      "box: ultralytics.utils.metrics.Metric object\n",
      "confusion_matrix: <ultralytics.utils.metrics.ConfusionMatrix object at 0x0000021867215990>\n",
      "curves: ['Precision-Recall(B)', 'F1-Confidence(B)', 'Precision-Confidence(B)', 'Recall-Confidence(B)']\n",
      "curves_results: [[array([          0,    0.001001,    0.002002,    0.003003,    0.004004,    0.005005,    0.006006,    0.007007,    0.008008,    0.009009,     0.01001,    0.011011,    0.012012,    0.013013,    0.014014,    0.015015,    0.016016,    0.017017,    0.018018,    0.019019,     0.02002,    0.021021,    0.022022,    0.023023,\n",
      "          0.024024,    0.025025,    0.026026,    0.027027,    0.028028,    0.029029,     0.03003,    0.031031,    0.032032,    0.033033,    0.034034,    0.035035,    0.036036,    0.037037,    0.038038,    0.039039,     0.04004,    0.041041,    0.042042,    0.043043,    0.044044,    0.045045,    0.046046,    0.047047,\n",
      "          0.048048,    0.049049,     0.05005,    0.051051,    0.052052,    0.053053,    0.054054,    0.055055,    0.056056,    0.057057,    0.058058,    0.059059,     0.06006,    0.061061,    0.062062,    0.063063,    0.064064,    0.065065,    0.066066,    0.067067,    0.068068,    0.069069,     0.07007,    0.071071,\n",
      "          0.072072,    0.073073,    0.074074,    0.075075,    0.076076,    0.077077,    0.078078,    0.079079,     0.08008,    0.081081,    0.082082,    0.083083,    0.084084,    0.085085,    0.086086,    0.087087,    0.088088,    0.089089,     0.09009,    0.091091,    0.092092,    0.093093,    0.094094,    0.095095,\n",
      "          0.096096,    0.097097,    0.098098,    0.099099,      0.1001,      0.1011,      0.1021,      0.1031,      0.1041,     0.10511,     0.10611,     0.10711,     0.10811,     0.10911,     0.11011,     0.11111,     0.11211,     0.11311,     0.11411,     0.11512,     0.11612,     0.11712,     0.11812,     0.11912,\n",
      "           0.12012,     0.12112,     0.12212,     0.12312,     0.12412,     0.12513,     0.12613,     0.12713,     0.12813,     0.12913,     0.13013,     0.13113,     0.13213,     0.13313,     0.13413,     0.13514,     0.13614,     0.13714,     0.13814,     0.13914,     0.14014,     0.14114,     0.14214,     0.14314,\n",
      "           0.14414,     0.14515,     0.14615,     0.14715,     0.14815,     0.14915,     0.15015,     0.15115,     0.15215,     0.15315,     0.15415,     0.15516,     0.15616,     0.15716,     0.15816,     0.15916,     0.16016,     0.16116,     0.16216,     0.16316,     0.16416,     0.16517,     0.16617,     0.16717,\n",
      "           0.16817,     0.16917,     0.17017,     0.17117,     0.17217,     0.17317,     0.17417,     0.17518,     0.17618,     0.17718,     0.17818,     0.17918,     0.18018,     0.18118,     0.18218,     0.18318,     0.18418,     0.18519,     0.18619,     0.18719,     0.18819,     0.18919,     0.19019,     0.19119,\n",
      "           0.19219,     0.19319,     0.19419,      0.1952,      0.1962,      0.1972,      0.1982,      0.1992,      0.2002,      0.2012,      0.2022,      0.2032,      0.2042,     0.20521,     0.20621,     0.20721,     0.20821,     0.20921,     0.21021,     0.21121,     0.21221,     0.21321,     0.21421,     0.21522,\n",
      "           0.21622,     0.21722,     0.21822,     0.21922,     0.22022,     0.22122,     0.22222,     0.22322,     0.22422,     0.22523,     0.22623,     0.22723,     0.22823,     0.22923,     0.23023,     0.23123,     0.23223,     0.23323,     0.23423,     0.23524,     0.23624,     0.23724,     0.23824,     0.23924,\n",
      "           0.24024,     0.24124,     0.24224,     0.24324,     0.24424,     0.24525,     0.24625,     0.24725,     0.24825,     0.24925,     0.25025,     0.25125,     0.25225,     0.25325,     0.25425,     0.25526,     0.25626,     0.25726,     0.25826,     0.25926,     0.26026,     0.26126,     0.26226,     0.26326,\n",
      "           0.26426,     0.26527,     0.26627,     0.26727,     0.26827,     0.26927,     0.27027,     0.27127,     0.27227,     0.27327,     0.27427,     0.27528,     0.27628,     0.27728,     0.27828,     0.27928,     0.28028,     0.28128,     0.28228,     0.28328,     0.28428,     0.28529,     0.28629,     0.28729,\n",
      "           0.28829,     0.28929,     0.29029,     0.29129,     0.29229,     0.29329,     0.29429,      0.2953,      0.2963,      0.2973,      0.2983,      0.2993,      0.3003,      0.3013,      0.3023,      0.3033,      0.3043,     0.30531,     0.30631,     0.30731,     0.30831,     0.30931,     0.31031,     0.31131,\n",
      "           0.31231,     0.31331,     0.31431,     0.31532,     0.31632,     0.31732,     0.31832,     0.31932,     0.32032,     0.32132,     0.32232,     0.32332,     0.32432,     0.32533,     0.32633,     0.32733,     0.32833,     0.32933,     0.33033,     0.33133,     0.33233,     0.33333,     0.33433,     0.33534,\n",
      "           0.33634,     0.33734,     0.33834,     0.33934,     0.34034,     0.34134,     0.34234,     0.34334,     0.34434,     0.34535,     0.34635,     0.34735,     0.34835,     0.34935,     0.35035,     0.35135,     0.35235,     0.35335,     0.35435,     0.35536,     0.35636,     0.35736,     0.35836,     0.35936,\n",
      "           0.36036,     0.36136,     0.36236,     0.36336,     0.36436,     0.36537,     0.36637,     0.36737,     0.36837,     0.36937,     0.37037,     0.37137,     0.37237,     0.37337,     0.37437,     0.37538,     0.37638,     0.37738,     0.37838,     0.37938,     0.38038,     0.38138,     0.38238,     0.38338,\n",
      "           0.38438,     0.38539,     0.38639,     0.38739,     0.38839,     0.38939,     0.39039,     0.39139,     0.39239,     0.39339,     0.39439,      0.3954,      0.3964,      0.3974,      0.3984,      0.3994,      0.4004,      0.4014,      0.4024,      0.4034,      0.4044,     0.40541,     0.40641,     0.40741,\n",
      "           0.40841,     0.40941,     0.41041,     0.41141,     0.41241,     0.41341,     0.41441,     0.41542,     0.41642,     0.41742,     0.41842,     0.41942,     0.42042,     0.42142,     0.42242,     0.42342,     0.42442,     0.42543,     0.42643,     0.42743,     0.42843,     0.42943,     0.43043,     0.43143,\n",
      "           0.43243,     0.43343,     0.43443,     0.43544,     0.43644,     0.43744,     0.43844,     0.43944,     0.44044,     0.44144,     0.44244,     0.44344,     0.44444,     0.44545,     0.44645,     0.44745,     0.44845,     0.44945,     0.45045,     0.45145,     0.45245,     0.45345,     0.45445,     0.45546,\n",
      "           0.45646,     0.45746,     0.45846,     0.45946,     0.46046,     0.46146,     0.46246,     0.46346,     0.46446,     0.46547,     0.46647,     0.46747,     0.46847,     0.46947,     0.47047,     0.47147,     0.47247,     0.47347,     0.47447,     0.47548,     0.47648,     0.47748,     0.47848,     0.47948,\n",
      "           0.48048,     0.48148,     0.48248,     0.48348,     0.48448,     0.48549,     0.48649,     0.48749,     0.48849,     0.48949,     0.49049,     0.49149,     0.49249,     0.49349,     0.49449,      0.4955,      0.4965,      0.4975,      0.4985,      0.4995,      0.5005,      0.5015,      0.5025,      0.5035,\n",
      "            0.5045,     0.50551,     0.50651,     0.50751,     0.50851,     0.50951,     0.51051,     0.51151,     0.51251,     0.51351,     0.51451,     0.51552,     0.51652,     0.51752,     0.51852,     0.51952,     0.52052,     0.52152,     0.52252,     0.52352,     0.52452,     0.52553,     0.52653,     0.52753,\n",
      "           0.52853,     0.52953,     0.53053,     0.53153,     0.53253,     0.53353,     0.53453,     0.53554,     0.53654,     0.53754,     0.53854,     0.53954,     0.54054,     0.54154,     0.54254,     0.54354,     0.54454,     0.54555,     0.54655,     0.54755,     0.54855,     0.54955,     0.55055,     0.55155,\n",
      "           0.55255,     0.55355,     0.55455,     0.55556,     0.55656,     0.55756,     0.55856,     0.55956,     0.56056,     0.56156,     0.56256,     0.56356,     0.56456,     0.56557,     0.56657,     0.56757,     0.56857,     0.56957,     0.57057,     0.57157,     0.57257,     0.57357,     0.57457,     0.57558,\n",
      "           0.57658,     0.57758,     0.57858,     0.57958,     0.58058,     0.58158,     0.58258,     0.58358,     0.58458,     0.58559,     0.58659,     0.58759,     0.58859,     0.58959,     0.59059,     0.59159,     0.59259,     0.59359,     0.59459,      0.5956,      0.5966,      0.5976,      0.5986,      0.5996,\n",
      "            0.6006,      0.6016,      0.6026,      0.6036,      0.6046,     0.60561,     0.60661,     0.60761,     0.60861,     0.60961,     0.61061,     0.61161,     0.61261,     0.61361,     0.61461,     0.61562,     0.61662,     0.61762,     0.61862,     0.61962,     0.62062,     0.62162,     0.62262,     0.62362,\n",
      "           0.62462,     0.62563,     0.62663,     0.62763,     0.62863,     0.62963,     0.63063,     0.63163,     0.63263,     0.63363,     0.63463,     0.63564,     0.63664,     0.63764,     0.63864,     0.63964,     0.64064,     0.64164,     0.64264,     0.64364,     0.64464,     0.64565,     0.64665,     0.64765,\n",
      "           0.64865,     0.64965,     0.65065,     0.65165,     0.65265,     0.65365,     0.65465,     0.65566,     0.65666,     0.65766,     0.65866,     0.65966,     0.66066,     0.66166,     0.66266,     0.66366,     0.66466,     0.66567,     0.66667,     0.66767,     0.66867,     0.66967,     0.67067,     0.67167,\n",
      "           0.67267,     0.67367,     0.67467,     0.67568,     0.67668,     0.67768,     0.67868,     0.67968,     0.68068,     0.68168,     0.68268,     0.68368,     0.68468,     0.68569,     0.68669,     0.68769,     0.68869,     0.68969,     0.69069,     0.69169,     0.69269,     0.69369,     0.69469,      0.6957,\n",
      "            0.6967,      0.6977,      0.6987,      0.6997,      0.7007,      0.7017,      0.7027,      0.7037,      0.7047,     0.70571,     0.70671,     0.70771,     0.70871,     0.70971,     0.71071,     0.71171,     0.71271,     0.71371,     0.71471,     0.71572,     0.71672,     0.71772,     0.71872,     0.71972,\n",
      "           0.72072,     0.72172,     0.72272,     0.72372,     0.72472,     0.72573,     0.72673,     0.72773,     0.72873,     0.72973,     0.73073,     0.73173,     0.73273,     0.73373,     0.73473,     0.73574,     0.73674,     0.73774,     0.73874,     0.73974,     0.74074,     0.74174,     0.74274,     0.74374,\n",
      "           0.74474,     0.74575,     0.74675,     0.74775,     0.74875,     0.74975,     0.75075,     0.75175,     0.75275,     0.75375,     0.75475,     0.75576,     0.75676,     0.75776,     0.75876,     0.75976,     0.76076,     0.76176,     0.76276,     0.76376,     0.76476,     0.76577,     0.76677,     0.76777,\n",
      "           0.76877,     0.76977,     0.77077,     0.77177,     0.77277,     0.77377,     0.77477,     0.77578,     0.77678,     0.77778,     0.77878,     0.77978,     0.78078,     0.78178,     0.78278,     0.78378,     0.78478,     0.78579,     0.78679,     0.78779,     0.78879,     0.78979,     0.79079,     0.79179,\n",
      "           0.79279,     0.79379,     0.79479,      0.7958,      0.7968,      0.7978,      0.7988,      0.7998,      0.8008,      0.8018,      0.8028,      0.8038,      0.8048,     0.80581,     0.80681,     0.80781,     0.80881,     0.80981,     0.81081,     0.81181,     0.81281,     0.81381,     0.81481,     0.81582,\n",
      "           0.81682,     0.81782,     0.81882,     0.81982,     0.82082,     0.82182,     0.82282,     0.82382,     0.82482,     0.82583,     0.82683,     0.82783,     0.82883,     0.82983,     0.83083,     0.83183,     0.83283,     0.83383,     0.83483,     0.83584,     0.83684,     0.83784,     0.83884,     0.83984,\n",
      "           0.84084,     0.84184,     0.84284,     0.84384,     0.84484,     0.84585,     0.84685,     0.84785,     0.84885,     0.84985,     0.85085,     0.85185,     0.85285,     0.85385,     0.85485,     0.85586,     0.85686,     0.85786,     0.85886,     0.85986,     0.86086,     0.86186,     0.86286,     0.86386,\n",
      "           0.86486,     0.86587,     0.86687,     0.86787,     0.86887,     0.86987,     0.87087,     0.87187,     0.87287,     0.87387,     0.87487,     0.87588,     0.87688,     0.87788,     0.87888,     0.87988,     0.88088,     0.88188,     0.88288,     0.88388,     0.88488,     0.88589,     0.88689,     0.88789,\n",
      "           0.88889,     0.88989,     0.89089,     0.89189,     0.89289,     0.89389,     0.89489,      0.8959,      0.8969,      0.8979,      0.8989,      0.8999,      0.9009,      0.9019,      0.9029,      0.9039,      0.9049,     0.90591,     0.90691,     0.90791,     0.90891,     0.90991,     0.91091,     0.91191,\n",
      "           0.91291,     0.91391,     0.91491,     0.91592,     0.91692,     0.91792,     0.91892,     0.91992,     0.92092,     0.92192,     0.92292,     0.92392,     0.92492,     0.92593,     0.92693,     0.92793,     0.92893,     0.92993,     0.93093,     0.93193,     0.93293,     0.93393,     0.93493,     0.93594,\n",
      "           0.93694,     0.93794,     0.93894,     0.93994,     0.94094,     0.94194,     0.94294,     0.94394,     0.94494,     0.94595,     0.94695,     0.94795,     0.94895,     0.94995,     0.95095,     0.95195,     0.95295,     0.95395,     0.95495,     0.95596,     0.95696,     0.95796,     0.95896,     0.95996,\n",
      "           0.96096,     0.96196,     0.96296,     0.96396,     0.96496,     0.96597,     0.96697,     0.96797,     0.96897,     0.96997,     0.97097,     0.97197,     0.97297,     0.97397,     0.97497,     0.97598,     0.97698,     0.97798,     0.97898,     0.97998,     0.98098,     0.98198,     0.98298,     0.98398,\n",
      "           0.98498,     0.98599,     0.98699,     0.98799,     0.98899,     0.98999,     0.99099,     0.99199,     0.99299,     0.99399,     0.99499,       0.996,       0.997,       0.998,       0.999,           1]), array([[          1,           1,           1,           1,           1,           1,           1,           1,           1,           1,           1,           1,           1,           1,           1,           1,           1,           1,           1,           1,           1,           1,           1,\n",
      "                  1,           1,           1,           1,           1,           1,           1,           1,           1,           1,           1,           1,           1,           1,           1,           1,           1,           1,           1,           1,           1,           1,           1,\n",
      "                  1,           1,           1,           1,           1,           1,           1,           1,           1,           1,           1,           1,           1,           1,           1,           1,           1,           1,           1,           1,           1,           1,           1,\n",
      "                  1,           1,           1,           1,           1,           1,           1,           1,           1,           1,           1,           1,           1,           1,           1,           1,           1,           1,           1,           1,           1,           1,           1,\n",
      "                  1,           1,           1,           1,           1,           1,           1,           1,           1,           1,           1,           1,           1,           1,           1,           1,           1,           1,           1,           1,           1,           1,           1,\n",
      "                  1,           1,           1,           1,           1,           1,           1,           1,           1,           1,           1,           1,           1,           1,           1,           1,           1,           1,           1,           1,           1,           1,           1,\n",
      "                  1,           1,           1,           1,           1,           1,           1,           1,           1,           1,           1,           1,           1,           1,           1,           1,           1,           1,           1,           1,           1,           1,           1,\n",
      "                  1,           1,           1,           1,           1,           1,           1,           1,           1,           1,           1,           1,           1,           1,           1,           1,           1,           1,           1,           1,           1,           1,           1,\n",
      "                  1,           1,           1,           1,           1,           1,           1,           1,           1,           1,           1,           1,           1,           1,           1,           1,           1,           1,           1,           1,           1,           1,           1,\n",
      "                  1,           1,           1,           1,           1,           1,           1,           1,           1,           1,           1,           1,           1,           1,           1,           1,           1,           1,           1,           1,           1,           1,           1,\n",
      "                  1,           1,           1,           1,           1,           1,           1,           1,           1,           1,           1,           1,           1,           1,           1,           1,           1,           1,           1,           1,           1,           1,           1,\n",
      "                  1,           1,           1,           1,           1,           1,           1,           1,           1,           1,           1,           1,           1,           1,           1,           1,           1,           1,           1,           1,           1,           1,           1,\n",
      "                  1,           1,           1,           1,           1,           1,           1,           1,           1,           1,           1,           1,           1,           1,           1,           1,           1,           1,           1,           1,           1,           1,           1,\n",
      "                  1,           1,           1,           1,           1,           1,           1,           1,           1,           1,           1,           1,           1,           1,           1,           1,           1,           1,           1,           1,           1,           1,           1,\n",
      "                  1,           1,           1,           1,           1,           1,           1,           1,           1,           1,           1,           1,           1,           1,           1,           1,           1,           1,           1,           1,           1,           1,           1,\n",
      "                  1,           1,           1,           1,           1,           1,           1,           1,           1,           1,           1,           1,           1,           1,           1,           1,           1,           1,           1,           1,           1,           1,           1,\n",
      "                  1,           1,           1,           1,           1,           1,           1,           1,           1,           1,           1,           1,           1,           1,           1,           1,           1,           1,           1,           1,           1,           1,           1,\n",
      "                  1,           1,           1,           1,           1,           1,           1,           1,           1,           1,           1,           1,           1,           1,           1,           1,           1,           1,           1,           1,           1,           1,           1,\n",
      "                  1,           1,           1,           1,           1,           1,           1,           1,           1,           1,           1,           1,           1,           1,           1,           1,           1,           1,           1,           1,           1,           1,           1,\n",
      "                  1,           1,           1,           1,           1,           1,           1,           1,           1,           1,           1,           1,           1,           1,           1,           1,           1,           1,           1,           1,           1,           1,           1,\n",
      "                  1,           1,           1,           1,           1,           1,           1,           1,           1,           1,           1,           1,           1,           1,           1,           1,           1,           1,           1,           1,           1,           1,           1,\n",
      "                  1,           1,           1,           1,           1,           1,           1,           1,           1,           1,           1,           1,           1,           1,           1,           1,           1,           1,           1,           1,           1,           1,           1,\n",
      "                  1,           1,           1,           1,           1,           1,           1,           1,           1,           1,           1,           1,           1,           1,           1,           1,           1,           1,           1,           1,           1,           1,           1,\n",
      "                  1,           1,           1,           1,           1,           1,           1,           1,           1,     0.99083,     0.99083,     0.99083,     0.99083,     0.99083,     0.99083,     0.99083,     0.99083,     0.99083,     0.99083,     0.99083,     0.99083,     0.99083,     0.99083,\n",
      "            0.99083,     0.99083,     0.99083,     0.99083,     0.99083,     0.99083,     0.99083,     0.99083,     0.99083,     0.99083,     0.99083,     0.99083,     0.99083,     0.99083,     0.99083,     0.99083,     0.99083,     0.99083,     0.99083,     0.99083,     0.99083,     0.99083,     0.99083,\n",
      "            0.99083,     0.99083,     0.99083,     0.99083,     0.99083,     0.99083,     0.98214,     0.98214,     0.98214,     0.98214,     0.98214,     0.98214,     0.98214,     0.98214,     0.98214,     0.98214,     0.97368,     0.97368,     0.97368,     0.97368,     0.97368,     0.97368,     0.96552,\n",
      "            0.96552,     0.96552,     0.96552,     0.96552,     0.95833,     0.95833,     0.95833,     0.95833,     0.95833,     0.95833,     0.95833,     0.95833,     0.95833,     0.95833,     0.95833,     0.95833,     0.95833,     0.95833,     0.95833,     0.95833,     0.94815,     0.94815,     0.94815,\n",
      "            0.94815,     0.94815,     0.94815,     0.94815,     0.94815,     0.94815,     0.94815,     0.94815,     0.94815,     0.94815,     0.94815,     0.94815,     0.94815,     0.94815,     0.94815,     0.94815,     0.94815,     0.94815,     0.94815,     0.94815,     0.94815,     0.94815,     0.94815,\n",
      "            0.94815,     0.94815,     0.94815,     0.94815,     0.94815,     0.94815,     0.94815,     0.94815,     0.94815,     0.94815,     0.94815,     0.94815,     0.94815,     0.94815,     0.94815,     0.94815,     0.94815,     0.94815,     0.94815,     0.94815,     0.94815,     0.94815,     0.94815,\n",
      "            0.94815,     0.94815,     0.94815,     0.94815,     0.94815,     0.94815,     0.94815,     0.94815,     0.94815,     0.94815,     0.94815,     0.94815,     0.94815,     0.94815,     0.94815,     0.94815,     0.94815,     0.94815,     0.94815,     0.94815,     0.94815,     0.94286,     0.94286,\n",
      "            0.94286,     0.94286,     0.94286,     0.94286,     0.94286,     0.94286,     0.94286,     0.94286,     0.94286,     0.94286,     0.94286,     0.94286,     0.94286,     0.94286,     0.94286,     0.94286,     0.94286,     0.94286,     0.94286,     0.94156,     0.94156,     0.94156,     0.94156,\n",
      "            0.94156,     0.94156,     0.94156,     0.94156,     0.94156,     0.94156,     0.94156,     0.94156,     0.94156,     0.94156,     0.94156,     0.94156,     0.94156,     0.94156,     0.94156,     0.94156,     0.94156,     0.94156,     0.94156,     0.94156,     0.94156,     0.94156,     0.94156,\n",
      "            0.94156,     0.94156,     0.94156,     0.94156,     0.94156,     0.94156,     0.94156,     0.94156,     0.94156,     0.94156,     0.94156,     0.94156,     0.94156,     0.94156,     0.94156,     0.94156,     0.94156,     0.94156,     0.94156,     0.94156,     0.94156,     0.94156,     0.94156,\n",
      "            0.94156,     0.94156,     0.94156,     0.94156,     0.94156,     0.94156,     0.94156,     0.94156,     0.94156,     0.94156,     0.94156,     0.94156,     0.94156,     0.94156,     0.94156,     0.94156,     0.94156,     0.94156,     0.94156,     0.94156,     0.93939,     0.93939,     0.93939,\n",
      "            0.93939,     0.93939,     0.93939,     0.93939,     0.93939,     0.93939,     0.93939,     0.93939,     0.93939,     0.93939,     0.93939,     0.93939,     0.93939,     0.93939,     0.93939,     0.93939,     0.93939,     0.93939,     0.93939,     0.93939,     0.93939,     0.93939,     0.93939,\n",
      "            0.93939,     0.93939,     0.93939,     0.93939,     0.93939,     0.93939,     0.93939,     0.93939,     0.93939,     0.93939,     0.93939,     0.93939,     0.93939,     0.93939,     0.93939,     0.93939,     0.93939,     0.93939,     0.93939,     0.93939,     0.93939,     0.93939,     0.93939,\n",
      "            0.93939,     0.93939,     0.93939,     0.93939,     0.93939,     0.93452,     0.93452,     0.93452,     0.93452,     0.93452,     0.93452,     0.93452,     0.93452,     0.93452,     0.93452,     0.93452,     0.93443,     0.93443,     0.93443,     0.93443,     0.93443,     0.93443,     0.93443,\n",
      "            0.93443,     0.93443,     0.93443,     0.93443,     0.93443,     0.93443,     0.93443,     0.93443,     0.93443,     0.93443,     0.93443,     0.93443,     0.93443,     0.93443,     0.93443,     0.93443,     0.93443,     0.93443,     0.93443,     0.93443,     0.93443,     0.93443,     0.93443,\n",
      "            0.93443,     0.93443,     0.93443,     0.93443,     0.93443,     0.93443,     0.93443,     0.93443,     0.93443,     0.93443,     0.93443,     0.93443,     0.93443,     0.93443,     0.93443,     0.93443,     0.93443,     0.93443,     0.93443,     0.93443,     0.93443,     0.93443,     0.93443,\n",
      "            0.93443,     0.93443,     0.93443,     0.93443,     0.93443,     0.93443,     0.93443,     0.93443,     0.93443,     0.93443,     0.93443,     0.93443,     0.93443,     0.93443,     0.93443,     0.93443,     0.93443,     0.93443,     0.93443,     0.93443,     0.93443,     0.93443,     0.93194,\n",
      "            0.93194,     0.93194,     0.93194,     0.93194,     0.93194,     0.93194,     0.93194,     0.93194,     0.93194,     0.93194,     0.93194,     0.93194,     0.93194,     0.93194,     0.93194,     0.93194,     0.93194,     0.93194,     0.93194,     0.93194,     0.93194,     0.93194,     0.93194,\n",
      "            0.93194,     0.93194,     0.93194,     0.93194,     0.93194,     0.93194,     0.93194,     0.93194,     0.93194,     0.93194,     0.93194,     0.93194,     0.93194,     0.93194,     0.92893,     0.92893,     0.92893,     0.92893,     0.92893,     0.92893,     0.92893,     0.92893,     0.92893,\n",
      "            0.92893,     0.92893,     0.92893,     0.92893,     0.92893,     0.92893,     0.92893,     0.92893,     0.92893,     0.92893,     0.92893,     0.92893,     0.92893,     0.92893,     0.92893,     0.92893,     0.92893,       0.925,       0.925,       0.925,       0.925,       0.925,       0.925,\n",
      "              0.925,       0.925,       0.925,       0.925,       0.925,       0.465,       0.465,       0.465,       0.465,       0.465,           0]]), 'Recall', 'Precision'], [array([          0,    0.001001,    0.002002,    0.003003,    0.004004,    0.005005,    0.006006,    0.007007,    0.008008,    0.009009,     0.01001,    0.011011,    0.012012,    0.013013,    0.014014,    0.015015,    0.016016,    0.017017,    0.018018,    0.019019,     0.02002,    0.021021,    0.022022,    0.023023,\n",
      "          0.024024,    0.025025,    0.026026,    0.027027,    0.028028,    0.029029,     0.03003,    0.031031,    0.032032,    0.033033,    0.034034,    0.035035,    0.036036,    0.037037,    0.038038,    0.039039,     0.04004,    0.041041,    0.042042,    0.043043,    0.044044,    0.045045,    0.046046,    0.047047,\n",
      "          0.048048,    0.049049,     0.05005,    0.051051,    0.052052,    0.053053,    0.054054,    0.055055,    0.056056,    0.057057,    0.058058,    0.059059,     0.06006,    0.061061,    0.062062,    0.063063,    0.064064,    0.065065,    0.066066,    0.067067,    0.068068,    0.069069,     0.07007,    0.071071,\n",
      "          0.072072,    0.073073,    0.074074,    0.075075,    0.076076,    0.077077,    0.078078,    0.079079,     0.08008,    0.081081,    0.082082,    0.083083,    0.084084,    0.085085,    0.086086,    0.087087,    0.088088,    0.089089,     0.09009,    0.091091,    0.092092,    0.093093,    0.094094,    0.095095,\n",
      "          0.096096,    0.097097,    0.098098,    0.099099,      0.1001,      0.1011,      0.1021,      0.1031,      0.1041,     0.10511,     0.10611,     0.10711,     0.10811,     0.10911,     0.11011,     0.11111,     0.11211,     0.11311,     0.11411,     0.11512,     0.11612,     0.11712,     0.11812,     0.11912,\n",
      "           0.12012,     0.12112,     0.12212,     0.12312,     0.12412,     0.12513,     0.12613,     0.12713,     0.12813,     0.12913,     0.13013,     0.13113,     0.13213,     0.13313,     0.13413,     0.13514,     0.13614,     0.13714,     0.13814,     0.13914,     0.14014,     0.14114,     0.14214,     0.14314,\n",
      "           0.14414,     0.14515,     0.14615,     0.14715,     0.14815,     0.14915,     0.15015,     0.15115,     0.15215,     0.15315,     0.15415,     0.15516,     0.15616,     0.15716,     0.15816,     0.15916,     0.16016,     0.16116,     0.16216,     0.16316,     0.16416,     0.16517,     0.16617,     0.16717,\n",
      "           0.16817,     0.16917,     0.17017,     0.17117,     0.17217,     0.17317,     0.17417,     0.17518,     0.17618,     0.17718,     0.17818,     0.17918,     0.18018,     0.18118,     0.18218,     0.18318,     0.18418,     0.18519,     0.18619,     0.18719,     0.18819,     0.18919,     0.19019,     0.19119,\n",
      "           0.19219,     0.19319,     0.19419,      0.1952,      0.1962,      0.1972,      0.1982,      0.1992,      0.2002,      0.2012,      0.2022,      0.2032,      0.2042,     0.20521,     0.20621,     0.20721,     0.20821,     0.20921,     0.21021,     0.21121,     0.21221,     0.21321,     0.21421,     0.21522,\n",
      "           0.21622,     0.21722,     0.21822,     0.21922,     0.22022,     0.22122,     0.22222,     0.22322,     0.22422,     0.22523,     0.22623,     0.22723,     0.22823,     0.22923,     0.23023,     0.23123,     0.23223,     0.23323,     0.23423,     0.23524,     0.23624,     0.23724,     0.23824,     0.23924,\n",
      "           0.24024,     0.24124,     0.24224,     0.24324,     0.24424,     0.24525,     0.24625,     0.24725,     0.24825,     0.24925,     0.25025,     0.25125,     0.25225,     0.25325,     0.25425,     0.25526,     0.25626,     0.25726,     0.25826,     0.25926,     0.26026,     0.26126,     0.26226,     0.26326,\n",
      "           0.26426,     0.26527,     0.26627,     0.26727,     0.26827,     0.26927,     0.27027,     0.27127,     0.27227,     0.27327,     0.27427,     0.27528,     0.27628,     0.27728,     0.27828,     0.27928,     0.28028,     0.28128,     0.28228,     0.28328,     0.28428,     0.28529,     0.28629,     0.28729,\n",
      "           0.28829,     0.28929,     0.29029,     0.29129,     0.29229,     0.29329,     0.29429,      0.2953,      0.2963,      0.2973,      0.2983,      0.2993,      0.3003,      0.3013,      0.3023,      0.3033,      0.3043,     0.30531,     0.30631,     0.30731,     0.30831,     0.30931,     0.31031,     0.31131,\n",
      "           0.31231,     0.31331,     0.31431,     0.31532,     0.31632,     0.31732,     0.31832,     0.31932,     0.32032,     0.32132,     0.32232,     0.32332,     0.32432,     0.32533,     0.32633,     0.32733,     0.32833,     0.32933,     0.33033,     0.33133,     0.33233,     0.33333,     0.33433,     0.33534,\n",
      "           0.33634,     0.33734,     0.33834,     0.33934,     0.34034,     0.34134,     0.34234,     0.34334,     0.34434,     0.34535,     0.34635,     0.34735,     0.34835,     0.34935,     0.35035,     0.35135,     0.35235,     0.35335,     0.35435,     0.35536,     0.35636,     0.35736,     0.35836,     0.35936,\n",
      "           0.36036,     0.36136,     0.36236,     0.36336,     0.36436,     0.36537,     0.36637,     0.36737,     0.36837,     0.36937,     0.37037,     0.37137,     0.37237,     0.37337,     0.37437,     0.37538,     0.37638,     0.37738,     0.37838,     0.37938,     0.38038,     0.38138,     0.38238,     0.38338,\n",
      "           0.38438,     0.38539,     0.38639,     0.38739,     0.38839,     0.38939,     0.39039,     0.39139,     0.39239,     0.39339,     0.39439,      0.3954,      0.3964,      0.3974,      0.3984,      0.3994,      0.4004,      0.4014,      0.4024,      0.4034,      0.4044,     0.40541,     0.40641,     0.40741,\n",
      "           0.40841,     0.40941,     0.41041,     0.41141,     0.41241,     0.41341,     0.41441,     0.41542,     0.41642,     0.41742,     0.41842,     0.41942,     0.42042,     0.42142,     0.42242,     0.42342,     0.42442,     0.42543,     0.42643,     0.42743,     0.42843,     0.42943,     0.43043,     0.43143,\n",
      "           0.43243,     0.43343,     0.43443,     0.43544,     0.43644,     0.43744,     0.43844,     0.43944,     0.44044,     0.44144,     0.44244,     0.44344,     0.44444,     0.44545,     0.44645,     0.44745,     0.44845,     0.44945,     0.45045,     0.45145,     0.45245,     0.45345,     0.45445,     0.45546,\n",
      "           0.45646,     0.45746,     0.45846,     0.45946,     0.46046,     0.46146,     0.46246,     0.46346,     0.46446,     0.46547,     0.46647,     0.46747,     0.46847,     0.46947,     0.47047,     0.47147,     0.47247,     0.47347,     0.47447,     0.47548,     0.47648,     0.47748,     0.47848,     0.47948,\n",
      "           0.48048,     0.48148,     0.48248,     0.48348,     0.48448,     0.48549,     0.48649,     0.48749,     0.48849,     0.48949,     0.49049,     0.49149,     0.49249,     0.49349,     0.49449,      0.4955,      0.4965,      0.4975,      0.4985,      0.4995,      0.5005,      0.5015,      0.5025,      0.5035,\n",
      "            0.5045,     0.50551,     0.50651,     0.50751,     0.50851,     0.50951,     0.51051,     0.51151,     0.51251,     0.51351,     0.51451,     0.51552,     0.51652,     0.51752,     0.51852,     0.51952,     0.52052,     0.52152,     0.52252,     0.52352,     0.52452,     0.52553,     0.52653,     0.52753,\n",
      "           0.52853,     0.52953,     0.53053,     0.53153,     0.53253,     0.53353,     0.53453,     0.53554,     0.53654,     0.53754,     0.53854,     0.53954,     0.54054,     0.54154,     0.54254,     0.54354,     0.54454,     0.54555,     0.54655,     0.54755,     0.54855,     0.54955,     0.55055,     0.55155,\n",
      "           0.55255,     0.55355,     0.55455,     0.55556,     0.55656,     0.55756,     0.55856,     0.55956,     0.56056,     0.56156,     0.56256,     0.56356,     0.56456,     0.56557,     0.56657,     0.56757,     0.56857,     0.56957,     0.57057,     0.57157,     0.57257,     0.57357,     0.57457,     0.57558,\n",
      "           0.57658,     0.57758,     0.57858,     0.57958,     0.58058,     0.58158,     0.58258,     0.58358,     0.58458,     0.58559,     0.58659,     0.58759,     0.58859,     0.58959,     0.59059,     0.59159,     0.59259,     0.59359,     0.59459,      0.5956,      0.5966,      0.5976,      0.5986,      0.5996,\n",
      "            0.6006,      0.6016,      0.6026,      0.6036,      0.6046,     0.60561,     0.60661,     0.60761,     0.60861,     0.60961,     0.61061,     0.61161,     0.61261,     0.61361,     0.61461,     0.61562,     0.61662,     0.61762,     0.61862,     0.61962,     0.62062,     0.62162,     0.62262,     0.62362,\n",
      "           0.62462,     0.62563,     0.62663,     0.62763,     0.62863,     0.62963,     0.63063,     0.63163,     0.63263,     0.63363,     0.63463,     0.63564,     0.63664,     0.63764,     0.63864,     0.63964,     0.64064,     0.64164,     0.64264,     0.64364,     0.64464,     0.64565,     0.64665,     0.64765,\n",
      "           0.64865,     0.64965,     0.65065,     0.65165,     0.65265,     0.65365,     0.65465,     0.65566,     0.65666,     0.65766,     0.65866,     0.65966,     0.66066,     0.66166,     0.66266,     0.66366,     0.66466,     0.66567,     0.66667,     0.66767,     0.66867,     0.66967,     0.67067,     0.67167,\n",
      "           0.67267,     0.67367,     0.67467,     0.67568,     0.67668,     0.67768,     0.67868,     0.67968,     0.68068,     0.68168,     0.68268,     0.68368,     0.68468,     0.68569,     0.68669,     0.68769,     0.68869,     0.68969,     0.69069,     0.69169,     0.69269,     0.69369,     0.69469,      0.6957,\n",
      "            0.6967,      0.6977,      0.6987,      0.6997,      0.7007,      0.7017,      0.7027,      0.7037,      0.7047,     0.70571,     0.70671,     0.70771,     0.70871,     0.70971,     0.71071,     0.71171,     0.71271,     0.71371,     0.71471,     0.71572,     0.71672,     0.71772,     0.71872,     0.71972,\n",
      "           0.72072,     0.72172,     0.72272,     0.72372,     0.72472,     0.72573,     0.72673,     0.72773,     0.72873,     0.72973,     0.73073,     0.73173,     0.73273,     0.73373,     0.73473,     0.73574,     0.73674,     0.73774,     0.73874,     0.73974,     0.74074,     0.74174,     0.74274,     0.74374,\n",
      "           0.74474,     0.74575,     0.74675,     0.74775,     0.74875,     0.74975,     0.75075,     0.75175,     0.75275,     0.75375,     0.75475,     0.75576,     0.75676,     0.75776,     0.75876,     0.75976,     0.76076,     0.76176,     0.76276,     0.76376,     0.76476,     0.76577,     0.76677,     0.76777,\n",
      "           0.76877,     0.76977,     0.77077,     0.77177,     0.77277,     0.77377,     0.77477,     0.77578,     0.77678,     0.77778,     0.77878,     0.77978,     0.78078,     0.78178,     0.78278,     0.78378,     0.78478,     0.78579,     0.78679,     0.78779,     0.78879,     0.78979,     0.79079,     0.79179,\n",
      "           0.79279,     0.79379,     0.79479,      0.7958,      0.7968,      0.7978,      0.7988,      0.7998,      0.8008,      0.8018,      0.8028,      0.8038,      0.8048,     0.80581,     0.80681,     0.80781,     0.80881,     0.80981,     0.81081,     0.81181,     0.81281,     0.81381,     0.81481,     0.81582,\n",
      "           0.81682,     0.81782,     0.81882,     0.81982,     0.82082,     0.82182,     0.82282,     0.82382,     0.82482,     0.82583,     0.82683,     0.82783,     0.82883,     0.82983,     0.83083,     0.83183,     0.83283,     0.83383,     0.83483,     0.83584,     0.83684,     0.83784,     0.83884,     0.83984,\n",
      "           0.84084,     0.84184,     0.84284,     0.84384,     0.84484,     0.84585,     0.84685,     0.84785,     0.84885,     0.84985,     0.85085,     0.85185,     0.85285,     0.85385,     0.85485,     0.85586,     0.85686,     0.85786,     0.85886,     0.85986,     0.86086,     0.86186,     0.86286,     0.86386,\n",
      "           0.86486,     0.86587,     0.86687,     0.86787,     0.86887,     0.86987,     0.87087,     0.87187,     0.87287,     0.87387,     0.87487,     0.87588,     0.87688,     0.87788,     0.87888,     0.87988,     0.88088,     0.88188,     0.88288,     0.88388,     0.88488,     0.88589,     0.88689,     0.88789,\n",
      "           0.88889,     0.88989,     0.89089,     0.89189,     0.89289,     0.89389,     0.89489,      0.8959,      0.8969,      0.8979,      0.8989,      0.8999,      0.9009,      0.9019,      0.9029,      0.9039,      0.9049,     0.90591,     0.90691,     0.90791,     0.90891,     0.90991,     0.91091,     0.91191,\n",
      "           0.91291,     0.91391,     0.91491,     0.91592,     0.91692,     0.91792,     0.91892,     0.91992,     0.92092,     0.92192,     0.92292,     0.92392,     0.92492,     0.92593,     0.92693,     0.92793,     0.92893,     0.92993,     0.93093,     0.93193,     0.93293,     0.93393,     0.93493,     0.93594,\n",
      "           0.93694,     0.93794,     0.93894,     0.93994,     0.94094,     0.94194,     0.94294,     0.94394,     0.94494,     0.94595,     0.94695,     0.94795,     0.94895,     0.94995,     0.95095,     0.95195,     0.95295,     0.95395,     0.95495,     0.95596,     0.95696,     0.95796,     0.95896,     0.95996,\n",
      "           0.96096,     0.96196,     0.96296,     0.96396,     0.96496,     0.96597,     0.96697,     0.96797,     0.96897,     0.96997,     0.97097,     0.97197,     0.97297,     0.97397,     0.97497,     0.97598,     0.97698,     0.97798,     0.97898,     0.97998,     0.98098,     0.98198,     0.98298,     0.98398,\n",
      "           0.98498,     0.98599,     0.98699,     0.98799,     0.98899,     0.98999,     0.99099,     0.99199,     0.99299,     0.99399,     0.99499,       0.996,       0.997,       0.998,       0.999,           1]), array([[    0.36578,     0.36601,     0.71873,     0.80912,     0.85267,     0.87549,      0.8917,     0.90626,     0.91621,     0.92066,     0.93063,     0.93281,     0.93416,     0.93605,      0.9384,     0.94001,     0.94127,     0.94294,     0.94398,      0.9442,     0.94441,     0.94463,     0.94485,\n",
      "            0.94507,     0.94528,      0.9455,     0.94572,     0.94594,     0.94615,     0.94666,     0.94769,     0.94872,      0.9513,     0.95145,     0.95159,     0.95174,     0.95189,     0.95204,     0.95218,     0.95233,     0.95248,     0.95263,     0.95277,     0.95292,     0.95307,     0.95322,\n",
      "            0.95336,     0.95351,     0.95368,      0.9539,     0.95412,     0.95435,     0.95457,     0.95479,     0.95501,     0.95523,     0.95545,     0.95567,     0.95589,     0.95608,      0.9561,     0.95612,     0.95615,     0.95617,     0.95619,     0.95622,     0.95624,     0.95626,     0.95629,\n",
      "            0.95631,     0.95633,     0.95636,     0.95638,      0.9564,     0.95643,     0.95645,     0.95648,      0.9565,     0.95652,     0.95655,     0.95657,     0.95659,     0.95662,     0.95664,     0.95666,     0.95669,     0.95671,     0.95673,     0.95676,     0.95678,      0.9568,     0.95683,\n",
      "            0.95685,     0.95687,      0.9569,     0.95692,     0.95694,     0.95697,     0.95699,     0.95701,     0.95704,     0.95706,     0.95708,     0.95711,     0.95713,     0.95715,     0.95718,      0.9572,     0.95722,     0.95725,     0.95727,     0.95729,     0.95732,     0.95734,     0.95736,\n",
      "            0.95739,     0.95741,     0.95743,     0.95746,     0.95748,      0.9575,     0.95753,     0.95755,     0.95757,      0.9576,     0.95762,     0.95765,     0.95767,     0.95769,     0.95772,     0.95774,     0.95776,     0.95779,     0.95781,     0.95783,     0.95786,     0.95788,      0.9579,\n",
      "            0.95793,     0.95795,     0.95797,       0.958,     0.95802,     0.95804,     0.95807,     0.95809,     0.95811,     0.95814,     0.95816,     0.95818,     0.95821,     0.95823,     0.95825,     0.95828,      0.9583,     0.95832,     0.95835,     0.95837,     0.95839,     0.95842,     0.95844,\n",
      "            0.95846,     0.95849,     0.95851,     0.95853,     0.95854,     0.95852,      0.9585,     0.95848,     0.95846,     0.95844,     0.95842,     0.95839,     0.95837,     0.95835,     0.95833,     0.95831,     0.95829,     0.95827,     0.95825,     0.95822,      0.9582,     0.95818,     0.95816,\n",
      "            0.95814,     0.95812,      0.9581,     0.95808,     0.95805,     0.95803,     0.95801,     0.95799,     0.95797,     0.95795,     0.95793,     0.95791,     0.95788,     0.95786,     0.95784,     0.95782,      0.9578,     0.95778,     0.95776,     0.95773,     0.95771,     0.95769,     0.95767,\n",
      "            0.95765,     0.95763,     0.95761,     0.95759,     0.95756,     0.95754,     0.95752,      0.9575,     0.95748,     0.95746,     0.95744,     0.95742,     0.95739,     0.95737,     0.95735,     0.95733,     0.95731,     0.95729,     0.95727,     0.95725,     0.95722,      0.9572,     0.95718,\n",
      "            0.95716,     0.95714,     0.95712,      0.9571,     0.95707,     0.95705,     0.95703,     0.95701,     0.95699,     0.95697,     0.95695,     0.95693,      0.9569,     0.95688,     0.95686,     0.95684,     0.95682,      0.9568,     0.95678,     0.95676,     0.95673,     0.95671,     0.95669,\n",
      "            0.95667,     0.95665,     0.95663,     0.95661,     0.95658,     0.95656,     0.95654,     0.95652,      0.9565,     0.95648,     0.95646,     0.95644,     0.95641,     0.95639,     0.95637,     0.95635,     0.95633,     0.95631,     0.95629,     0.95626,     0.95624,     0.95622,      0.9562,\n",
      "            0.95618,     0.95616,     0.95614,     0.95612,     0.95609,     0.95607,     0.95605,     0.95603,     0.95601,     0.95599,     0.95597,     0.95594,     0.95592,      0.9559,     0.95588,     0.95586,     0.95584,     0.95582,     0.95581,     0.95579,     0.95578,     0.95576,     0.95575,\n",
      "            0.95573,     0.95572,      0.9557,     0.95569,     0.95567,     0.95566,     0.95564,     0.95563,     0.95561,      0.9556,     0.95558,     0.95557,     0.95555,     0.95554,     0.95552,     0.95551,     0.95549,     0.95548,     0.95546,     0.95545,     0.95543,     0.95542,      0.9554,\n",
      "            0.95539,     0.95537,     0.95536,     0.95534,     0.95533,     0.95531,      0.9553,     0.95528,     0.95527,     0.95525,     0.95524,     0.95522,     0.95521,     0.95519,     0.95518,     0.95516,     0.95515,     0.95513,     0.95512,      0.9551,     0.95509,     0.95507,     0.95506,\n",
      "            0.95504,     0.95503,     0.95501,       0.955,     0.95498,     0.95497,     0.95495,     0.95494,     0.95492,     0.95491,     0.95489,     0.95488,     0.95486,     0.95485,     0.95483,     0.95482,      0.9548,     0.95479,     0.95477,     0.95476,     0.95474,     0.95473,     0.95471,\n",
      "             0.9547,     0.95468,     0.95467,     0.95465,     0.95464,     0.95462,     0.95461,     0.95459,     0.95458,     0.95456,     0.95455,     0.95453,     0.95452,      0.9545,     0.95449,     0.95447,     0.95446,     0.95444,     0.95443,     0.95441,      0.9544,     0.95438,     0.95437,\n",
      "            0.95435,     0.95434,     0.95432,     0.95431,     0.95429,     0.95428,     0.95426,     0.95425,     0.95423,     0.95422,      0.9542,     0.95419,     0.95417,     0.95416,     0.95414,     0.95413,     0.95411,      0.9541,     0.95408,     0.95407,     0.95405,     0.95404,     0.95402,\n",
      "            0.95401,     0.95399,     0.95398,     0.95396,     0.95395,     0.95393,     0.95392,      0.9539,     0.95389,     0.95387,     0.95386,     0.95384,     0.95383,     0.95381,      0.9538,     0.95378,     0.95377,     0.95375,     0.95374,     0.95372,     0.95371,     0.95369,     0.95368,\n",
      "            0.95366,     0.95365,     0.95363,     0.95362,      0.9536,     0.95359,     0.95357,     0.95356,     0.95354,     0.95353,     0.95351,      0.9535,     0.95348,     0.95347,     0.95345,     0.95344,     0.95342,     0.95341,     0.95339,     0.95338,     0.95336,     0.95335,     0.95333,\n",
      "            0.95332,      0.9533,     0.95329,     0.95327,     0.95326,     0.95324,     0.95323,     0.95321,      0.9532,     0.95318,     0.95317,     0.95315,     0.95314,     0.95314,      0.9532,     0.95326,     0.95332,     0.95338,     0.95344,     0.95351,     0.95357,     0.95363,     0.95369,\n",
      "            0.95375,     0.95381,     0.95387,     0.95393,     0.95399,     0.95406,     0.95412,     0.95418,     0.95424,      0.9543,     0.95436,     0.95442,     0.95448,     0.95454,      0.9546,     0.95467,     0.95473,     0.95479,     0.95485,     0.95491,     0.95497,     0.95503,     0.95509,\n",
      "            0.95515,     0.95521,     0.95528,     0.95534,      0.9554,     0.95546,     0.95552,     0.95558,     0.95558,      0.9555,     0.95542,     0.95534,     0.95527,     0.95519,     0.95511,     0.95503,     0.95495,     0.95488,      0.9548,     0.95472,     0.95464,     0.95456,     0.95449,\n",
      "            0.95441,     0.95433,     0.95425,     0.95417,     0.95409,     0.95402,     0.95394,     0.95386,     0.95378,      0.9537,     0.95363,     0.95355,     0.95347,     0.95339,     0.95331,     0.95323,     0.95316,     0.95308,       0.953,     0.95292,     0.95284,     0.95275,     0.95267,\n",
      "            0.95258,      0.9525,     0.95241,     0.95233,     0.95224,     0.95216,     0.95207,     0.95199,      0.9519,     0.95182,     0.95173,     0.95165,     0.95156,     0.95148,     0.95139,     0.95131,     0.95122,     0.95114,     0.95105,     0.95097,     0.95088,      0.9508,     0.95071,\n",
      "            0.95063,     0.95054,     0.95046,     0.95037,     0.95029,      0.9502,     0.95012,     0.95002,     0.94993,     0.94984,     0.94975,     0.94966,     0.94957,     0.94948,     0.94939,      0.9493,     0.94921,     0.94912,     0.94903,     0.94894,     0.94885,     0.94876,     0.94867,\n",
      "            0.94858,     0.94849,      0.9484,      0.9483,     0.94821,     0.94812,     0.94803,     0.94794,     0.94785,     0.94776,     0.94767,     0.94758,     0.94749,      0.9474,     0.94732,     0.94724,     0.94716,     0.94708,     0.94701,     0.94693,     0.94685,     0.94677,     0.94669,\n",
      "            0.94662,     0.94654,     0.94646,     0.94638,     0.94631,     0.94623,     0.94615,     0.94607,       0.946,     0.94592,     0.94584,     0.94576,     0.94569,     0.94561,     0.94553,     0.94545,     0.94537,      0.9453,     0.94522,     0.94514,     0.94506,     0.94499,     0.94491,\n",
      "            0.94483,     0.94475,     0.94467,      0.9446,     0.94443,     0.94426,      0.9441,     0.94393,     0.94376,     0.94359,     0.94342,     0.94325,     0.94308,     0.94291,     0.94274,     0.94258,     0.94241,     0.94224,     0.94207,      0.9419,     0.94208,     0.94278,     0.94347,\n",
      "            0.94417,     0.94414,     0.94394,     0.94374,     0.94354,     0.94334,     0.94314,     0.94294,     0.94274,     0.94254,     0.94234,     0.94214,     0.94194,     0.94174,     0.94154,     0.93944,     0.93849,     0.93825,     0.93801,     0.93776,     0.93752,     0.93728,     0.93704,\n",
      "            0.93679,     0.93655,     0.93631,     0.93606,     0.93579,     0.93465,      0.9335,     0.93088,     0.92978,     0.92938,     0.92898,     0.92857,     0.92817,     0.92776,     0.92736,     0.92692,     0.92647,     0.92601,     0.92556,     0.92511,     0.92465,     0.92445,     0.92488,\n",
      "            0.92532,     0.92575,     0.92619,     0.92662,     0.92647,     0.92579,     0.92511,     0.92442,     0.92326,     0.92092,     0.92049,     0.92005,     0.91961,     0.91917,     0.91873,     0.91829,     0.91748,     0.91612,       0.915,      0.9147,     0.91439,     0.91409,     0.91379,\n",
      "            0.91348,     0.91318,     0.91287,     0.91257,     0.91227,     0.91197,     0.91168,      0.9114,     0.91111,     0.91082,     0.91054,     0.91025,     0.90996,     0.90968,     0.90939,      0.9091,     0.90857,     0.90803,     0.90749,     0.90695,     0.90641,     0.90582,     0.90517,\n",
      "            0.90451,     0.90386,      0.9032,     0.89934,      0.8984,     0.89746,     0.89682,     0.89656,      0.8963,     0.89604,     0.89578,     0.89552,     0.89526,       0.895,     0.89474,     0.89448,     0.89421,     0.89395,     0.89075,     0.89047,     0.89019,      0.8899,     0.88962,\n",
      "            0.88934,     0.88905,     0.88877,     0.88849,      0.8882,     0.88792,      0.8876,     0.88558,     0.88534,     0.88693,     0.88563,     0.88434,     0.88247,      0.8809,     0.88205,     0.88318,     0.88165,     0.88013,     0.87636,      0.8717,     0.86866,     0.86661,     0.86517,\n",
      "            0.86372,     0.86159,     0.86008,     0.85925,     0.85843,      0.8576,     0.85458,     0.85277,     0.85158,     0.85075,     0.85091,     0.84905,     0.84812,     0.84719,     0.84626,     0.84522,     0.84417,     0.84312,     0.84044,     0.83468,     0.83288,     0.82991,     0.82824,\n",
      "            0.82737,     0.82651,     0.82565,     0.82332,     0.81795,     0.81314,     0.81078,     0.80999,      0.8092,      0.8084,     0.80761,     0.80797,     0.80892,     0.80815,     0.80157,     0.80051,     0.79946,     0.79784,     0.79514,      0.7857,     0.78095,     0.77767,     0.77031,\n",
      "            0.76783,     0.75851,      0.7563,     0.75203,     0.74775,     0.74744,     0.74642,      0.7454,     0.74438,     0.74285,     0.74055,     0.74078,     0.73852,     0.73769,     0.73457,     0.73147,     0.73034,     0.73172,     0.73051,     0.72789,     0.70391,     0.69754,     0.69213,\n",
      "            0.67309,     0.66668,     0.66367,     0.65588,      0.6525,     0.64654,     0.64211,     0.63334,     0.62446,     0.61927,      0.6108,     0.59616,     0.58703,     0.57232,      0.5467,     0.54321,     0.53838,     0.53017,     0.51481,     0.50666,     0.49498,     0.48632,       0.484,\n",
      "            0.48166,     0.46616,     0.44677,     0.43559,     0.42931,     0.42392,      0.4045,     0.38097,     0.36662,     0.35231,      0.3432,     0.33354,     0.32024,     0.30423,       0.289,     0.26834,     0.26039,     0.24617,     0.21856,     0.21247,     0.19557,     0.18123,      0.1735,\n",
      "            0.15785,     0.13893,     0.10951,     0.10185,    0.099128,    0.096401,    0.093665,    0.084846,    0.079613,    0.076198,     0.07277,    0.053265,    0.031413,    0.030227,     0.02904,    0.027851,     0.02666,    0.025469,    0.024275,    0.023081,    0.021885,     0.01931,    0.015301,\n",
      "           0.011277,           0,           0,           0,           0,           0,           0,           0,           0,           0,           0,           0,           0,           0,           0,           0,           0,           0,           0,           0,           0,           0,           0,\n",
      "                  0,           0,           0,           0,           0,           0,           0,           0,           0,           0,           0,           0,           0,           0,           0,           0,           0,           0,           0,           0,           0,           0,           0,\n",
      "                  0,           0,           0,           0,           0,           0,           0,           0,           0,           0,           0]]), 'Confidence', 'F1'], [array([          0,    0.001001,    0.002002,    0.003003,    0.004004,    0.005005,    0.006006,    0.007007,    0.008008,    0.009009,     0.01001,    0.011011,    0.012012,    0.013013,    0.014014,    0.015015,    0.016016,    0.017017,    0.018018,    0.019019,     0.02002,    0.021021,    0.022022,    0.023023,\n",
      "          0.024024,    0.025025,    0.026026,    0.027027,    0.028028,    0.029029,     0.03003,    0.031031,    0.032032,    0.033033,    0.034034,    0.035035,    0.036036,    0.037037,    0.038038,    0.039039,     0.04004,    0.041041,    0.042042,    0.043043,    0.044044,    0.045045,    0.046046,    0.047047,\n",
      "          0.048048,    0.049049,     0.05005,    0.051051,    0.052052,    0.053053,    0.054054,    0.055055,    0.056056,    0.057057,    0.058058,    0.059059,     0.06006,    0.061061,    0.062062,    0.063063,    0.064064,    0.065065,    0.066066,    0.067067,    0.068068,    0.069069,     0.07007,    0.071071,\n",
      "          0.072072,    0.073073,    0.074074,    0.075075,    0.076076,    0.077077,    0.078078,    0.079079,     0.08008,    0.081081,    0.082082,    0.083083,    0.084084,    0.085085,    0.086086,    0.087087,    0.088088,    0.089089,     0.09009,    0.091091,    0.092092,    0.093093,    0.094094,    0.095095,\n",
      "          0.096096,    0.097097,    0.098098,    0.099099,      0.1001,      0.1011,      0.1021,      0.1031,      0.1041,     0.10511,     0.10611,     0.10711,     0.10811,     0.10911,     0.11011,     0.11111,     0.11211,     0.11311,     0.11411,     0.11512,     0.11612,     0.11712,     0.11812,     0.11912,\n",
      "           0.12012,     0.12112,     0.12212,     0.12312,     0.12412,     0.12513,     0.12613,     0.12713,     0.12813,     0.12913,     0.13013,     0.13113,     0.13213,     0.13313,     0.13413,     0.13514,     0.13614,     0.13714,     0.13814,     0.13914,     0.14014,     0.14114,     0.14214,     0.14314,\n",
      "           0.14414,     0.14515,     0.14615,     0.14715,     0.14815,     0.14915,     0.15015,     0.15115,     0.15215,     0.15315,     0.15415,     0.15516,     0.15616,     0.15716,     0.15816,     0.15916,     0.16016,     0.16116,     0.16216,     0.16316,     0.16416,     0.16517,     0.16617,     0.16717,\n",
      "           0.16817,     0.16917,     0.17017,     0.17117,     0.17217,     0.17317,     0.17417,     0.17518,     0.17618,     0.17718,     0.17818,     0.17918,     0.18018,     0.18118,     0.18218,     0.18318,     0.18418,     0.18519,     0.18619,     0.18719,     0.18819,     0.18919,     0.19019,     0.19119,\n",
      "           0.19219,     0.19319,     0.19419,      0.1952,      0.1962,      0.1972,      0.1982,      0.1992,      0.2002,      0.2012,      0.2022,      0.2032,      0.2042,     0.20521,     0.20621,     0.20721,     0.20821,     0.20921,     0.21021,     0.21121,     0.21221,     0.21321,     0.21421,     0.21522,\n",
      "           0.21622,     0.21722,     0.21822,     0.21922,     0.22022,     0.22122,     0.22222,     0.22322,     0.22422,     0.22523,     0.22623,     0.22723,     0.22823,     0.22923,     0.23023,     0.23123,     0.23223,     0.23323,     0.23423,     0.23524,     0.23624,     0.23724,     0.23824,     0.23924,\n",
      "           0.24024,     0.24124,     0.24224,     0.24324,     0.24424,     0.24525,     0.24625,     0.24725,     0.24825,     0.24925,     0.25025,     0.25125,     0.25225,     0.25325,     0.25425,     0.25526,     0.25626,     0.25726,     0.25826,     0.25926,     0.26026,     0.26126,     0.26226,     0.26326,\n",
      "           0.26426,     0.26527,     0.26627,     0.26727,     0.26827,     0.26927,     0.27027,     0.27127,     0.27227,     0.27327,     0.27427,     0.27528,     0.27628,     0.27728,     0.27828,     0.27928,     0.28028,     0.28128,     0.28228,     0.28328,     0.28428,     0.28529,     0.28629,     0.28729,\n",
      "           0.28829,     0.28929,     0.29029,     0.29129,     0.29229,     0.29329,     0.29429,      0.2953,      0.2963,      0.2973,      0.2983,      0.2993,      0.3003,      0.3013,      0.3023,      0.3033,      0.3043,     0.30531,     0.30631,     0.30731,     0.30831,     0.30931,     0.31031,     0.31131,\n",
      "           0.31231,     0.31331,     0.31431,     0.31532,     0.31632,     0.31732,     0.31832,     0.31932,     0.32032,     0.32132,     0.32232,     0.32332,     0.32432,     0.32533,     0.32633,     0.32733,     0.32833,     0.32933,     0.33033,     0.33133,     0.33233,     0.33333,     0.33433,     0.33534,\n",
      "           0.33634,     0.33734,     0.33834,     0.33934,     0.34034,     0.34134,     0.34234,     0.34334,     0.34434,     0.34535,     0.34635,     0.34735,     0.34835,     0.34935,     0.35035,     0.35135,     0.35235,     0.35335,     0.35435,     0.35536,     0.35636,     0.35736,     0.35836,     0.35936,\n",
      "           0.36036,     0.36136,     0.36236,     0.36336,     0.36436,     0.36537,     0.36637,     0.36737,     0.36837,     0.36937,     0.37037,     0.37137,     0.37237,     0.37337,     0.37437,     0.37538,     0.37638,     0.37738,     0.37838,     0.37938,     0.38038,     0.38138,     0.38238,     0.38338,\n",
      "           0.38438,     0.38539,     0.38639,     0.38739,     0.38839,     0.38939,     0.39039,     0.39139,     0.39239,     0.39339,     0.39439,      0.3954,      0.3964,      0.3974,      0.3984,      0.3994,      0.4004,      0.4014,      0.4024,      0.4034,      0.4044,     0.40541,     0.40641,     0.40741,\n",
      "           0.40841,     0.40941,     0.41041,     0.41141,     0.41241,     0.41341,     0.41441,     0.41542,     0.41642,     0.41742,     0.41842,     0.41942,     0.42042,     0.42142,     0.42242,     0.42342,     0.42442,     0.42543,     0.42643,     0.42743,     0.42843,     0.42943,     0.43043,     0.43143,\n",
      "           0.43243,     0.43343,     0.43443,     0.43544,     0.43644,     0.43744,     0.43844,     0.43944,     0.44044,     0.44144,     0.44244,     0.44344,     0.44444,     0.44545,     0.44645,     0.44745,     0.44845,     0.44945,     0.45045,     0.45145,     0.45245,     0.45345,     0.45445,     0.45546,\n",
      "           0.45646,     0.45746,     0.45846,     0.45946,     0.46046,     0.46146,     0.46246,     0.46346,     0.46446,     0.46547,     0.46647,     0.46747,     0.46847,     0.46947,     0.47047,     0.47147,     0.47247,     0.47347,     0.47447,     0.47548,     0.47648,     0.47748,     0.47848,     0.47948,\n",
      "           0.48048,     0.48148,     0.48248,     0.48348,     0.48448,     0.48549,     0.48649,     0.48749,     0.48849,     0.48949,     0.49049,     0.49149,     0.49249,     0.49349,     0.49449,      0.4955,      0.4965,      0.4975,      0.4985,      0.4995,      0.5005,      0.5015,      0.5025,      0.5035,\n",
      "            0.5045,     0.50551,     0.50651,     0.50751,     0.50851,     0.50951,     0.51051,     0.51151,     0.51251,     0.51351,     0.51451,     0.51552,     0.51652,     0.51752,     0.51852,     0.51952,     0.52052,     0.52152,     0.52252,     0.52352,     0.52452,     0.52553,     0.52653,     0.52753,\n",
      "           0.52853,     0.52953,     0.53053,     0.53153,     0.53253,     0.53353,     0.53453,     0.53554,     0.53654,     0.53754,     0.53854,     0.53954,     0.54054,     0.54154,     0.54254,     0.54354,     0.54454,     0.54555,     0.54655,     0.54755,     0.54855,     0.54955,     0.55055,     0.55155,\n",
      "           0.55255,     0.55355,     0.55455,     0.55556,     0.55656,     0.55756,     0.55856,     0.55956,     0.56056,     0.56156,     0.56256,     0.56356,     0.56456,     0.56557,     0.56657,     0.56757,     0.56857,     0.56957,     0.57057,     0.57157,     0.57257,     0.57357,     0.57457,     0.57558,\n",
      "           0.57658,     0.57758,     0.57858,     0.57958,     0.58058,     0.58158,     0.58258,     0.58358,     0.58458,     0.58559,     0.58659,     0.58759,     0.58859,     0.58959,     0.59059,     0.59159,     0.59259,     0.59359,     0.59459,      0.5956,      0.5966,      0.5976,      0.5986,      0.5996,\n",
      "            0.6006,      0.6016,      0.6026,      0.6036,      0.6046,     0.60561,     0.60661,     0.60761,     0.60861,     0.60961,     0.61061,     0.61161,     0.61261,     0.61361,     0.61461,     0.61562,     0.61662,     0.61762,     0.61862,     0.61962,     0.62062,     0.62162,     0.62262,     0.62362,\n",
      "           0.62462,     0.62563,     0.62663,     0.62763,     0.62863,     0.62963,     0.63063,     0.63163,     0.63263,     0.63363,     0.63463,     0.63564,     0.63664,     0.63764,     0.63864,     0.63964,     0.64064,     0.64164,     0.64264,     0.64364,     0.64464,     0.64565,     0.64665,     0.64765,\n",
      "           0.64865,     0.64965,     0.65065,     0.65165,     0.65265,     0.65365,     0.65465,     0.65566,     0.65666,     0.65766,     0.65866,     0.65966,     0.66066,     0.66166,     0.66266,     0.66366,     0.66466,     0.66567,     0.66667,     0.66767,     0.66867,     0.66967,     0.67067,     0.67167,\n",
      "           0.67267,     0.67367,     0.67467,     0.67568,     0.67668,     0.67768,     0.67868,     0.67968,     0.68068,     0.68168,     0.68268,     0.68368,     0.68468,     0.68569,     0.68669,     0.68769,     0.68869,     0.68969,     0.69069,     0.69169,     0.69269,     0.69369,     0.69469,      0.6957,\n",
      "            0.6967,      0.6977,      0.6987,      0.6997,      0.7007,      0.7017,      0.7027,      0.7037,      0.7047,     0.70571,     0.70671,     0.70771,     0.70871,     0.70971,     0.71071,     0.71171,     0.71271,     0.71371,     0.71471,     0.71572,     0.71672,     0.71772,     0.71872,     0.71972,\n",
      "           0.72072,     0.72172,     0.72272,     0.72372,     0.72472,     0.72573,     0.72673,     0.72773,     0.72873,     0.72973,     0.73073,     0.73173,     0.73273,     0.73373,     0.73473,     0.73574,     0.73674,     0.73774,     0.73874,     0.73974,     0.74074,     0.74174,     0.74274,     0.74374,\n",
      "           0.74474,     0.74575,     0.74675,     0.74775,     0.74875,     0.74975,     0.75075,     0.75175,     0.75275,     0.75375,     0.75475,     0.75576,     0.75676,     0.75776,     0.75876,     0.75976,     0.76076,     0.76176,     0.76276,     0.76376,     0.76476,     0.76577,     0.76677,     0.76777,\n",
      "           0.76877,     0.76977,     0.77077,     0.77177,     0.77277,     0.77377,     0.77477,     0.77578,     0.77678,     0.77778,     0.77878,     0.77978,     0.78078,     0.78178,     0.78278,     0.78378,     0.78478,     0.78579,     0.78679,     0.78779,     0.78879,     0.78979,     0.79079,     0.79179,\n",
      "           0.79279,     0.79379,     0.79479,      0.7958,      0.7968,      0.7978,      0.7988,      0.7998,      0.8008,      0.8018,      0.8028,      0.8038,      0.8048,     0.80581,     0.80681,     0.80781,     0.80881,     0.80981,     0.81081,     0.81181,     0.81281,     0.81381,     0.81481,     0.81582,\n",
      "           0.81682,     0.81782,     0.81882,     0.81982,     0.82082,     0.82182,     0.82282,     0.82382,     0.82482,     0.82583,     0.82683,     0.82783,     0.82883,     0.82983,     0.83083,     0.83183,     0.83283,     0.83383,     0.83483,     0.83584,     0.83684,     0.83784,     0.83884,     0.83984,\n",
      "           0.84084,     0.84184,     0.84284,     0.84384,     0.84484,     0.84585,     0.84685,     0.84785,     0.84885,     0.84985,     0.85085,     0.85185,     0.85285,     0.85385,     0.85485,     0.85586,     0.85686,     0.85786,     0.85886,     0.85986,     0.86086,     0.86186,     0.86286,     0.86386,\n",
      "           0.86486,     0.86587,     0.86687,     0.86787,     0.86887,     0.86987,     0.87087,     0.87187,     0.87287,     0.87387,     0.87487,     0.87588,     0.87688,     0.87788,     0.87888,     0.87988,     0.88088,     0.88188,     0.88288,     0.88388,     0.88488,     0.88589,     0.88689,     0.88789,\n",
      "           0.88889,     0.88989,     0.89089,     0.89189,     0.89289,     0.89389,     0.89489,      0.8959,      0.8969,      0.8979,      0.8989,      0.8999,      0.9009,      0.9019,      0.9029,      0.9039,      0.9049,     0.90591,     0.90691,     0.90791,     0.90891,     0.90991,     0.91091,     0.91191,\n",
      "           0.91291,     0.91391,     0.91491,     0.91592,     0.91692,     0.91792,     0.91892,     0.91992,     0.92092,     0.92192,     0.92292,     0.92392,     0.92492,     0.92593,     0.92693,     0.92793,     0.92893,     0.92993,     0.93093,     0.93193,     0.93293,     0.93393,     0.93493,     0.93594,\n",
      "           0.93694,     0.93794,     0.93894,     0.93994,     0.94094,     0.94194,     0.94294,     0.94394,     0.94494,     0.94595,     0.94695,     0.94795,     0.94895,     0.94995,     0.95095,     0.95195,     0.95295,     0.95395,     0.95495,     0.95596,     0.95696,     0.95796,     0.95896,     0.95996,\n",
      "           0.96096,     0.96196,     0.96296,     0.96396,     0.96496,     0.96597,     0.96697,     0.96797,     0.96897,     0.96997,     0.97097,     0.97197,     0.97297,     0.97397,     0.97497,     0.97598,     0.97698,     0.97798,     0.97898,     0.97998,     0.98098,     0.98198,     0.98298,     0.98398,\n",
      "           0.98498,     0.98599,     0.98699,     0.98799,     0.98899,     0.98999,     0.99099,     0.99199,     0.99299,     0.99399,     0.99499,       0.996,       0.997,       0.998,       0.999,           1]), array([[    0.22383,       0.224,     0.56266,     0.68194,     0.74617,     0.78185,     0.80808,     0.83232,     0.84926,     0.85693,     0.87437,     0.87823,     0.88063,     0.88398,      0.8882,     0.89108,     0.89335,     0.89635,     0.89824,     0.89863,     0.89903,     0.89942,     0.89982,\n",
      "            0.90021,     0.90061,       0.901,      0.9014,     0.90179,     0.90219,     0.90312,     0.90499,     0.90686,     0.91159,     0.91186,     0.91213,      0.9124,     0.91268,     0.91295,     0.91322,     0.91349,     0.91376,     0.91403,      0.9143,     0.91457,     0.91485,     0.91512,\n",
      "            0.91539,     0.91566,     0.91598,     0.91639,     0.91679,      0.9172,     0.91761,     0.91802,     0.91843,     0.91884,     0.91925,     0.91966,     0.92006,     0.92041,     0.92045,     0.92049,     0.92054,     0.92058,     0.92062,     0.92067,     0.92071,     0.92075,      0.9208,\n",
      "            0.92084,     0.92088,     0.92093,     0.92097,     0.92101,     0.92106,      0.9211,     0.92114,     0.92119,     0.92123,     0.92128,     0.92132,     0.92136,     0.92141,     0.92145,     0.92149,     0.92154,     0.92158,     0.92162,     0.92167,     0.92171,     0.92175,      0.9218,\n",
      "            0.92184,     0.92188,     0.92193,     0.92197,     0.92201,     0.92206,      0.9221,     0.92214,     0.92219,     0.92223,     0.92227,     0.92232,     0.92236,      0.9224,     0.92245,     0.92249,     0.92254,     0.92258,     0.92262,     0.92267,     0.92271,     0.92275,      0.9228,\n",
      "            0.92284,     0.92288,     0.92293,     0.92297,     0.92301,     0.92306,      0.9231,     0.92314,     0.92319,     0.92323,     0.92327,     0.92332,     0.92336,      0.9234,     0.92345,     0.92349,     0.92353,     0.92358,     0.92362,     0.92367,     0.92371,     0.92375,      0.9238,\n",
      "            0.92384,     0.92388,     0.92393,     0.92397,     0.92401,     0.92406,      0.9241,     0.92414,     0.92419,     0.92423,     0.92427,     0.92432,     0.92436,      0.9244,     0.92445,     0.92449,     0.92453,     0.92458,     0.92462,     0.92466,     0.92471,     0.92475,     0.92479,\n",
      "            0.92484,     0.92488,     0.92493,     0.92497,       0.925,       0.925,     0.92499,     0.92499,     0.92499,     0.92498,     0.92498,     0.92498,     0.92498,     0.92497,     0.92497,     0.92497,     0.92496,     0.92496,     0.92496,     0.92495,     0.92495,     0.92495,     0.92495,\n",
      "            0.92494,     0.92494,     0.92494,     0.92493,     0.92493,     0.92493,     0.92492,     0.92492,     0.92492,     0.92492,     0.92491,     0.92491,     0.92491,      0.9249,      0.9249,      0.9249,      0.9249,     0.92489,     0.92489,     0.92489,     0.92488,     0.92488,     0.92488,\n",
      "            0.92487,     0.92487,     0.92487,     0.92487,     0.92486,     0.92486,     0.92486,     0.92485,     0.92485,     0.92485,     0.92484,     0.92484,     0.92484,     0.92484,     0.92483,     0.92483,     0.92483,     0.92482,     0.92482,     0.92482,     0.92482,     0.92481,     0.92481,\n",
      "            0.92481,      0.9248,      0.9248,      0.9248,     0.92479,     0.92479,     0.92479,     0.92479,     0.92478,     0.92478,     0.92478,     0.92477,     0.92477,     0.92477,     0.92476,     0.92476,     0.92476,     0.92476,     0.92475,     0.92475,     0.92475,     0.92474,     0.92474,\n",
      "            0.92474,     0.92474,     0.92473,     0.92473,     0.92473,     0.92472,     0.92472,     0.92472,     0.92471,     0.92471,     0.92471,     0.92471,      0.9247,      0.9247,      0.9247,     0.92469,     0.92469,     0.92469,     0.92468,     0.92468,     0.92468,     0.92468,     0.92467,\n",
      "            0.92467,     0.92467,     0.92466,     0.92466,     0.92466,     0.92465,     0.92465,     0.92465,     0.92465,     0.92464,     0.92464,     0.92464,     0.92463,     0.92463,     0.92463,     0.92463,     0.92462,     0.92462,     0.92462,     0.92462,     0.92461,     0.92461,     0.92461,\n",
      "            0.92461,     0.92461,      0.9246,      0.9246,      0.9246,      0.9246,      0.9246,     0.92459,     0.92459,     0.92459,     0.92459,     0.92458,     0.92458,     0.92458,     0.92458,     0.92458,     0.92457,     0.92457,     0.92457,     0.92457,     0.92457,     0.92456,     0.92456,\n",
      "            0.92456,     0.92456,     0.92456,     0.92455,     0.92455,     0.92455,     0.92455,     0.92454,     0.92454,     0.92454,     0.92454,     0.92454,     0.92453,     0.92453,     0.92453,     0.92453,     0.92453,     0.92452,     0.92452,     0.92452,     0.92452,     0.92452,     0.92451,\n",
      "            0.92451,     0.92451,     0.92451,      0.9245,      0.9245,      0.9245,      0.9245,      0.9245,     0.92449,     0.92449,     0.92449,     0.92449,     0.92449,     0.92448,     0.92448,     0.92448,     0.92448,     0.92448,     0.92447,     0.92447,     0.92447,     0.92447,     0.92446,\n",
      "            0.92446,     0.92446,     0.92446,     0.92446,     0.92445,     0.92445,     0.92445,     0.92445,     0.92445,     0.92444,     0.92444,     0.92444,     0.92444,     0.92444,     0.92443,     0.92443,     0.92443,     0.92443,     0.92442,     0.92442,     0.92442,     0.92442,     0.92442,\n",
      "            0.92441,     0.92441,     0.92441,     0.92441,     0.92441,      0.9244,      0.9244,      0.9244,      0.9244,      0.9244,     0.92439,     0.92439,     0.92439,     0.92439,     0.92438,     0.92438,     0.92438,     0.92438,     0.92438,     0.92437,     0.92437,     0.92437,     0.92437,\n",
      "            0.92437,     0.92436,     0.92436,     0.92436,     0.92436,     0.92436,     0.92435,     0.92435,     0.92435,     0.92435,     0.92434,     0.92434,     0.92434,     0.92434,     0.92434,     0.92433,     0.92433,     0.92433,     0.92433,     0.92433,     0.92432,     0.92432,     0.92432,\n",
      "            0.92432,     0.92432,     0.92431,     0.92431,     0.92431,     0.92431,     0.92431,      0.9243,      0.9243,      0.9243,      0.9243,     0.92429,     0.92429,     0.92429,     0.92429,     0.92429,     0.92428,     0.92428,     0.92428,     0.92428,     0.92428,     0.92427,     0.92427,\n",
      "            0.92427,     0.92427,     0.92427,     0.92426,     0.92426,     0.92426,     0.92426,     0.92425,     0.92425,     0.92425,     0.92425,     0.92425,     0.92424,     0.92427,     0.92438,      0.9245,     0.92461,     0.92473,     0.92484,     0.92496,     0.92507,     0.92519,      0.9253,\n",
      "            0.92542,     0.92553,     0.92565,     0.92576,     0.92588,     0.92599,     0.92611,     0.92622,     0.92634,     0.92645,     0.92657,     0.92668,      0.9268,     0.92691,     0.92703,     0.92714,     0.92726,     0.92737,     0.92749,      0.9276,     0.92772,     0.92783,     0.92795,\n",
      "            0.92807,     0.92818,      0.9283,     0.92841,     0.92853,     0.92864,     0.92876,     0.92887,     0.92893,     0.92892,     0.92891,      0.9289,     0.92889,     0.92888,     0.92887,     0.92886,     0.92885,     0.92884,     0.92883,     0.92882,      0.9288,     0.92879,     0.92878,\n",
      "            0.92877,     0.92876,     0.92875,     0.92874,     0.92873,     0.92872,     0.92871,      0.9287,     0.92869,     0.92868,     0.92867,     0.92866,     0.92865,     0.92864,     0.92863,     0.92862,     0.92861,      0.9286,     0.92859,     0.92858,     0.92857,     0.92855,     0.92854,\n",
      "            0.92853,     0.92852,     0.92851,      0.9285,     0.92849,     0.92848,     0.92846,     0.92845,     0.92844,     0.92843,     0.92842,     0.92841,      0.9284,     0.92838,     0.92837,     0.92836,     0.92835,     0.92834,     0.92833,     0.92832,     0.92831,     0.92829,     0.92828,\n",
      "            0.92827,     0.92826,     0.92825,     0.92824,     0.92823,     0.92821,      0.9282,     0.92819,     0.92818,     0.92817,     0.92815,     0.92814,     0.92813,     0.92812,     0.92811,     0.92809,     0.92808,     0.92807,     0.92806,     0.92805,     0.92803,     0.92802,     0.92801,\n",
      "              0.928,     0.92798,     0.92797,     0.92796,     0.92795,     0.92794,     0.92792,     0.92791,      0.9279,     0.92789,     0.92788,     0.92786,     0.92785,     0.92784,     0.92783,     0.92782,     0.92781,      0.9278,     0.92779,     0.92778,     0.92777,     0.92775,     0.92774,\n",
      "            0.92773,     0.92772,     0.92771,      0.9277,     0.92769,     0.92768,     0.92767,     0.92766,     0.92765,     0.92764,     0.92763,     0.92762,     0.92761,      0.9276,     0.92759,     0.92758,     0.92757,     0.92756,     0.92755,     0.92754,     0.92752,     0.92751,      0.9275,\n",
      "            0.92749,     0.92748,     0.92747,     0.92746,     0.92744,     0.92742,     0.92739,     0.92737,     0.92735,     0.92733,      0.9273,     0.92728,     0.92726,     0.92723,     0.92721,     0.92719,     0.92717,     0.92714,     0.92712,      0.9271,     0.92764,     0.92899,     0.93034,\n",
      "            0.93169,     0.93192,     0.93189,     0.93187,     0.93184,     0.93181,     0.93179,     0.93176,     0.93174,     0.93171,     0.93169,     0.93166,     0.93164,     0.93161,     0.93159,     0.93132,     0.93119,     0.93116,     0.93113,      0.9311,     0.93107,     0.93104,     0.93101,\n",
      "            0.93098,     0.93094,     0.93091,     0.93088,     0.93085,      0.9307,     0.93055,     0.93021,     0.93007,     0.93001,     0.92996,     0.92991,     0.92985,      0.9298,     0.92975,     0.92969,     0.92963,     0.92957,     0.92951,     0.92945,     0.92939,     0.92959,     0.93048,\n",
      "            0.93136,     0.93224,     0.93313,     0.93401,     0.93438,      0.9343,     0.93421,     0.93413,     0.93398,     0.93369,     0.93364,     0.93358,     0.93353,     0.93348,     0.93342,     0.93337,     0.93326,     0.93309,     0.93295,     0.93291,     0.93288,     0.93284,      0.9328,\n",
      "            0.93276,     0.93272,     0.93268,     0.93265,     0.93261,     0.93257,     0.93253,      0.9325,     0.93246,     0.93242,     0.93239,     0.93235,     0.93231,     0.93228,     0.93224,      0.9322,     0.93214,     0.93207,       0.932,     0.93193,     0.93186,     0.93179,      0.9317,\n",
      "            0.93162,     0.93153,     0.93145,     0.93095,     0.93083,      0.9307,     0.93062,     0.93059,     0.93055,     0.93052,     0.93048,     0.93045,     0.93042,     0.93038,     0.93035,     0.93031,     0.93028,     0.93025,     0.92982,     0.92979,     0.92975,     0.92971,     0.92967,\n",
      "            0.92964,      0.9296,     0.92956,     0.92952,     0.92949,     0.92945,     0.92941,     0.92914,     0.93083,     0.93451,     0.93435,     0.93419,     0.93396,     0.93423,     0.93682,     0.93939,     0.93922,     0.93904,      0.9386,     0.93805,     0.93769,     0.93745,     0.93727,\n",
      "             0.9371,     0.93684,     0.93666,     0.93656,     0.93646,     0.93636,     0.93599,     0.93577,     0.93562,     0.93622,     0.94133,     0.94112,     0.94101,     0.94091,      0.9408,     0.94068,     0.94056,     0.94044,     0.94013,     0.93946,     0.93925,      0.9389,      0.9387,\n",
      "             0.9386,      0.9385,      0.9384,     0.93812,     0.93747,     0.93689,      0.9366,      0.9365,      0.9364,      0.9363,      0.9362,     0.93786,     0.94043,     0.94267,     0.94193,     0.94181,     0.94168,      0.9415,     0.94119,     0.94692,     0.94642,     0.94607,     0.94527,\n",
      "              0.945,     0.94396,     0.94371,     0.94323,      0.9458,     0.95797,     0.95789,      0.9578,     0.95771,     0.95758,     0.96155,     0.96545,     0.96529,     0.98212,       0.982,     0.98188,     0.98402,     0.98905,     0.99079,     0.99074,     0.99025,     0.99282,           1,\n",
      "                  1,           1,           1,           1,           1,           1,           1,           1,           1,           1,           1,           1,           1,           1,           1,           1,           1,           1,           1,           1,           1,           1,           1,\n",
      "                  1,           1,           1,           1,           1,           1,           1,           1,           1,           1,           1,           1,           1,           1,           1,           1,           1,           1,           1,           1,           1,           1,           1,\n",
      "                  1,           1,           1,           1,           1,           1,           1,           1,           1,           1,           1,           1,           1,           1,           1,           1,           1,           1,           1,           1,           1,           1,           1,\n",
      "                  1,           1,           1,           1,           1,           1,           1,           1,           1,           1,           1,           1,           1,           1,           1,           1,           1,           1,           1,           1,           1,           1,           1,\n",
      "                  1,           1,           1,           1,           1,           1,           1,           1,           1,           1,           1,           1,           1,           1,           1,           1,           1,           1,           1,           1,           1,           1,           1,\n",
      "                  1,           1,           1,           1,           1,           1,           1,           1,           1,           1,           1]]), 'Confidence', 'Precision'], [array([          0,    0.001001,    0.002002,    0.003003,    0.004004,    0.005005,    0.006006,    0.007007,    0.008008,    0.009009,     0.01001,    0.011011,    0.012012,    0.013013,    0.014014,    0.015015,    0.016016,    0.017017,    0.018018,    0.019019,     0.02002,    0.021021,    0.022022,    0.023023,\n",
      "          0.024024,    0.025025,    0.026026,    0.027027,    0.028028,    0.029029,     0.03003,    0.031031,    0.032032,    0.033033,    0.034034,    0.035035,    0.036036,    0.037037,    0.038038,    0.039039,     0.04004,    0.041041,    0.042042,    0.043043,    0.044044,    0.045045,    0.046046,    0.047047,\n",
      "          0.048048,    0.049049,     0.05005,    0.051051,    0.052052,    0.053053,    0.054054,    0.055055,    0.056056,    0.057057,    0.058058,    0.059059,     0.06006,    0.061061,    0.062062,    0.063063,    0.064064,    0.065065,    0.066066,    0.067067,    0.068068,    0.069069,     0.07007,    0.071071,\n",
      "          0.072072,    0.073073,    0.074074,    0.075075,    0.076076,    0.077077,    0.078078,    0.079079,     0.08008,    0.081081,    0.082082,    0.083083,    0.084084,    0.085085,    0.086086,    0.087087,    0.088088,    0.089089,     0.09009,    0.091091,    0.092092,    0.093093,    0.094094,    0.095095,\n",
      "          0.096096,    0.097097,    0.098098,    0.099099,      0.1001,      0.1011,      0.1021,      0.1031,      0.1041,     0.10511,     0.10611,     0.10711,     0.10811,     0.10911,     0.11011,     0.11111,     0.11211,     0.11311,     0.11411,     0.11512,     0.11612,     0.11712,     0.11812,     0.11912,\n",
      "           0.12012,     0.12112,     0.12212,     0.12312,     0.12412,     0.12513,     0.12613,     0.12713,     0.12813,     0.12913,     0.13013,     0.13113,     0.13213,     0.13313,     0.13413,     0.13514,     0.13614,     0.13714,     0.13814,     0.13914,     0.14014,     0.14114,     0.14214,     0.14314,\n",
      "           0.14414,     0.14515,     0.14615,     0.14715,     0.14815,     0.14915,     0.15015,     0.15115,     0.15215,     0.15315,     0.15415,     0.15516,     0.15616,     0.15716,     0.15816,     0.15916,     0.16016,     0.16116,     0.16216,     0.16316,     0.16416,     0.16517,     0.16617,     0.16717,\n",
      "           0.16817,     0.16917,     0.17017,     0.17117,     0.17217,     0.17317,     0.17417,     0.17518,     0.17618,     0.17718,     0.17818,     0.17918,     0.18018,     0.18118,     0.18218,     0.18318,     0.18418,     0.18519,     0.18619,     0.18719,     0.18819,     0.18919,     0.19019,     0.19119,\n",
      "           0.19219,     0.19319,     0.19419,      0.1952,      0.1962,      0.1972,      0.1982,      0.1992,      0.2002,      0.2012,      0.2022,      0.2032,      0.2042,     0.20521,     0.20621,     0.20721,     0.20821,     0.20921,     0.21021,     0.21121,     0.21221,     0.21321,     0.21421,     0.21522,\n",
      "           0.21622,     0.21722,     0.21822,     0.21922,     0.22022,     0.22122,     0.22222,     0.22322,     0.22422,     0.22523,     0.22623,     0.22723,     0.22823,     0.22923,     0.23023,     0.23123,     0.23223,     0.23323,     0.23423,     0.23524,     0.23624,     0.23724,     0.23824,     0.23924,\n",
      "           0.24024,     0.24124,     0.24224,     0.24324,     0.24424,     0.24525,     0.24625,     0.24725,     0.24825,     0.24925,     0.25025,     0.25125,     0.25225,     0.25325,     0.25425,     0.25526,     0.25626,     0.25726,     0.25826,     0.25926,     0.26026,     0.26126,     0.26226,     0.26326,\n",
      "           0.26426,     0.26527,     0.26627,     0.26727,     0.26827,     0.26927,     0.27027,     0.27127,     0.27227,     0.27327,     0.27427,     0.27528,     0.27628,     0.27728,     0.27828,     0.27928,     0.28028,     0.28128,     0.28228,     0.28328,     0.28428,     0.28529,     0.28629,     0.28729,\n",
      "           0.28829,     0.28929,     0.29029,     0.29129,     0.29229,     0.29329,     0.29429,      0.2953,      0.2963,      0.2973,      0.2983,      0.2993,      0.3003,      0.3013,      0.3023,      0.3033,      0.3043,     0.30531,     0.30631,     0.30731,     0.30831,     0.30931,     0.31031,     0.31131,\n",
      "           0.31231,     0.31331,     0.31431,     0.31532,     0.31632,     0.31732,     0.31832,     0.31932,     0.32032,     0.32132,     0.32232,     0.32332,     0.32432,     0.32533,     0.32633,     0.32733,     0.32833,     0.32933,     0.33033,     0.33133,     0.33233,     0.33333,     0.33433,     0.33534,\n",
      "           0.33634,     0.33734,     0.33834,     0.33934,     0.34034,     0.34134,     0.34234,     0.34334,     0.34434,     0.34535,     0.34635,     0.34735,     0.34835,     0.34935,     0.35035,     0.35135,     0.35235,     0.35335,     0.35435,     0.35536,     0.35636,     0.35736,     0.35836,     0.35936,\n",
      "           0.36036,     0.36136,     0.36236,     0.36336,     0.36436,     0.36537,     0.36637,     0.36737,     0.36837,     0.36937,     0.37037,     0.37137,     0.37237,     0.37337,     0.37437,     0.37538,     0.37638,     0.37738,     0.37838,     0.37938,     0.38038,     0.38138,     0.38238,     0.38338,\n",
      "           0.38438,     0.38539,     0.38639,     0.38739,     0.38839,     0.38939,     0.39039,     0.39139,     0.39239,     0.39339,     0.39439,      0.3954,      0.3964,      0.3974,      0.3984,      0.3994,      0.4004,      0.4014,      0.4024,      0.4034,      0.4044,     0.40541,     0.40641,     0.40741,\n",
      "           0.40841,     0.40941,     0.41041,     0.41141,     0.41241,     0.41341,     0.41441,     0.41542,     0.41642,     0.41742,     0.41842,     0.41942,     0.42042,     0.42142,     0.42242,     0.42342,     0.42442,     0.42543,     0.42643,     0.42743,     0.42843,     0.42943,     0.43043,     0.43143,\n",
      "           0.43243,     0.43343,     0.43443,     0.43544,     0.43644,     0.43744,     0.43844,     0.43944,     0.44044,     0.44144,     0.44244,     0.44344,     0.44444,     0.44545,     0.44645,     0.44745,     0.44845,     0.44945,     0.45045,     0.45145,     0.45245,     0.45345,     0.45445,     0.45546,\n",
      "           0.45646,     0.45746,     0.45846,     0.45946,     0.46046,     0.46146,     0.46246,     0.46346,     0.46446,     0.46547,     0.46647,     0.46747,     0.46847,     0.46947,     0.47047,     0.47147,     0.47247,     0.47347,     0.47447,     0.47548,     0.47648,     0.47748,     0.47848,     0.47948,\n",
      "           0.48048,     0.48148,     0.48248,     0.48348,     0.48448,     0.48549,     0.48649,     0.48749,     0.48849,     0.48949,     0.49049,     0.49149,     0.49249,     0.49349,     0.49449,      0.4955,      0.4965,      0.4975,      0.4985,      0.4995,      0.5005,      0.5015,      0.5025,      0.5035,\n",
      "            0.5045,     0.50551,     0.50651,     0.50751,     0.50851,     0.50951,     0.51051,     0.51151,     0.51251,     0.51351,     0.51451,     0.51552,     0.51652,     0.51752,     0.51852,     0.51952,     0.52052,     0.52152,     0.52252,     0.52352,     0.52452,     0.52553,     0.52653,     0.52753,\n",
      "           0.52853,     0.52953,     0.53053,     0.53153,     0.53253,     0.53353,     0.53453,     0.53554,     0.53654,     0.53754,     0.53854,     0.53954,     0.54054,     0.54154,     0.54254,     0.54354,     0.54454,     0.54555,     0.54655,     0.54755,     0.54855,     0.54955,     0.55055,     0.55155,\n",
      "           0.55255,     0.55355,     0.55455,     0.55556,     0.55656,     0.55756,     0.55856,     0.55956,     0.56056,     0.56156,     0.56256,     0.56356,     0.56456,     0.56557,     0.56657,     0.56757,     0.56857,     0.56957,     0.57057,     0.57157,     0.57257,     0.57357,     0.57457,     0.57558,\n",
      "           0.57658,     0.57758,     0.57858,     0.57958,     0.58058,     0.58158,     0.58258,     0.58358,     0.58458,     0.58559,     0.58659,     0.58759,     0.58859,     0.58959,     0.59059,     0.59159,     0.59259,     0.59359,     0.59459,      0.5956,      0.5966,      0.5976,      0.5986,      0.5996,\n",
      "            0.6006,      0.6016,      0.6026,      0.6036,      0.6046,     0.60561,     0.60661,     0.60761,     0.60861,     0.60961,     0.61061,     0.61161,     0.61261,     0.61361,     0.61461,     0.61562,     0.61662,     0.61762,     0.61862,     0.61962,     0.62062,     0.62162,     0.62262,     0.62362,\n",
      "           0.62462,     0.62563,     0.62663,     0.62763,     0.62863,     0.62963,     0.63063,     0.63163,     0.63263,     0.63363,     0.63463,     0.63564,     0.63664,     0.63764,     0.63864,     0.63964,     0.64064,     0.64164,     0.64264,     0.64364,     0.64464,     0.64565,     0.64665,     0.64765,\n",
      "           0.64865,     0.64965,     0.65065,     0.65165,     0.65265,     0.65365,     0.65465,     0.65566,     0.65666,     0.65766,     0.65866,     0.65966,     0.66066,     0.66166,     0.66266,     0.66366,     0.66466,     0.66567,     0.66667,     0.66767,     0.66867,     0.66967,     0.67067,     0.67167,\n",
      "           0.67267,     0.67367,     0.67467,     0.67568,     0.67668,     0.67768,     0.67868,     0.67968,     0.68068,     0.68168,     0.68268,     0.68368,     0.68468,     0.68569,     0.68669,     0.68769,     0.68869,     0.68969,     0.69069,     0.69169,     0.69269,     0.69369,     0.69469,      0.6957,\n",
      "            0.6967,      0.6977,      0.6987,      0.6997,      0.7007,      0.7017,      0.7027,      0.7037,      0.7047,     0.70571,     0.70671,     0.70771,     0.70871,     0.70971,     0.71071,     0.71171,     0.71271,     0.71371,     0.71471,     0.71572,     0.71672,     0.71772,     0.71872,     0.71972,\n",
      "           0.72072,     0.72172,     0.72272,     0.72372,     0.72472,     0.72573,     0.72673,     0.72773,     0.72873,     0.72973,     0.73073,     0.73173,     0.73273,     0.73373,     0.73473,     0.73574,     0.73674,     0.73774,     0.73874,     0.73974,     0.74074,     0.74174,     0.74274,     0.74374,\n",
      "           0.74474,     0.74575,     0.74675,     0.74775,     0.74875,     0.74975,     0.75075,     0.75175,     0.75275,     0.75375,     0.75475,     0.75576,     0.75676,     0.75776,     0.75876,     0.75976,     0.76076,     0.76176,     0.76276,     0.76376,     0.76476,     0.76577,     0.76677,     0.76777,\n",
      "           0.76877,     0.76977,     0.77077,     0.77177,     0.77277,     0.77377,     0.77477,     0.77578,     0.77678,     0.77778,     0.77878,     0.77978,     0.78078,     0.78178,     0.78278,     0.78378,     0.78478,     0.78579,     0.78679,     0.78779,     0.78879,     0.78979,     0.79079,     0.79179,\n",
      "           0.79279,     0.79379,     0.79479,      0.7958,      0.7968,      0.7978,      0.7988,      0.7998,      0.8008,      0.8018,      0.8028,      0.8038,      0.8048,     0.80581,     0.80681,     0.80781,     0.80881,     0.80981,     0.81081,     0.81181,     0.81281,     0.81381,     0.81481,     0.81582,\n",
      "           0.81682,     0.81782,     0.81882,     0.81982,     0.82082,     0.82182,     0.82282,     0.82382,     0.82482,     0.82583,     0.82683,     0.82783,     0.82883,     0.82983,     0.83083,     0.83183,     0.83283,     0.83383,     0.83483,     0.83584,     0.83684,     0.83784,     0.83884,     0.83984,\n",
      "           0.84084,     0.84184,     0.84284,     0.84384,     0.84484,     0.84585,     0.84685,     0.84785,     0.84885,     0.84985,     0.85085,     0.85185,     0.85285,     0.85385,     0.85485,     0.85586,     0.85686,     0.85786,     0.85886,     0.85986,     0.86086,     0.86186,     0.86286,     0.86386,\n",
      "           0.86486,     0.86587,     0.86687,     0.86787,     0.86887,     0.86987,     0.87087,     0.87187,     0.87287,     0.87387,     0.87487,     0.87588,     0.87688,     0.87788,     0.87888,     0.87988,     0.88088,     0.88188,     0.88288,     0.88388,     0.88488,     0.88589,     0.88689,     0.88789,\n",
      "           0.88889,     0.88989,     0.89089,     0.89189,     0.89289,     0.89389,     0.89489,      0.8959,      0.8969,      0.8979,      0.8989,      0.8999,      0.9009,      0.9019,      0.9029,      0.9039,      0.9049,     0.90591,     0.90691,     0.90791,     0.90891,     0.90991,     0.91091,     0.91191,\n",
      "           0.91291,     0.91391,     0.91491,     0.91592,     0.91692,     0.91792,     0.91892,     0.91992,     0.92092,     0.92192,     0.92292,     0.92392,     0.92492,     0.92593,     0.92693,     0.92793,     0.92893,     0.92993,     0.93093,     0.93193,     0.93293,     0.93393,     0.93493,     0.93594,\n",
      "           0.93694,     0.93794,     0.93894,     0.93994,     0.94094,     0.94194,     0.94294,     0.94394,     0.94494,     0.94595,     0.94695,     0.94795,     0.94895,     0.94995,     0.95095,     0.95195,     0.95295,     0.95395,     0.95495,     0.95596,     0.95696,     0.95796,     0.95896,     0.95996,\n",
      "           0.96096,     0.96196,     0.96296,     0.96396,     0.96496,     0.96597,     0.96697,     0.96797,     0.96897,     0.96997,     0.97097,     0.97197,     0.97297,     0.97397,     0.97497,     0.97598,     0.97698,     0.97798,     0.97898,     0.97998,     0.98098,     0.98198,     0.98298,     0.98398,\n",
      "           0.98498,     0.98599,     0.98699,     0.98799,     0.98899,     0.98999,     0.99099,     0.99199,     0.99299,     0.99399,     0.99499,       0.996,       0.997,       0.998,       0.999,           1]), array([[          1,           1,     0.99462,     0.99462,     0.99462,     0.99462,     0.99462,     0.99462,     0.99462,     0.99462,     0.99462,     0.99462,     0.99462,     0.99462,     0.99462,     0.99462,     0.99462,     0.99462,     0.99462,     0.99462,     0.99462,     0.99462,     0.99462,\n",
      "            0.99462,     0.99462,     0.99462,     0.99462,     0.99462,     0.99462,     0.99462,     0.99462,     0.99462,     0.99462,     0.99462,     0.99462,     0.99462,     0.99462,     0.99462,     0.99462,     0.99462,     0.99462,     0.99462,     0.99462,     0.99462,     0.99462,     0.99462,\n",
      "            0.99462,     0.99462,     0.99462,     0.99462,     0.99462,     0.99462,     0.99462,     0.99462,     0.99462,     0.99462,     0.99462,     0.99462,     0.99462,     0.99462,     0.99462,     0.99462,     0.99462,     0.99462,     0.99462,     0.99462,     0.99462,     0.99462,     0.99462,\n",
      "            0.99462,     0.99462,     0.99462,     0.99462,     0.99462,     0.99462,     0.99462,     0.99462,     0.99462,     0.99462,     0.99462,     0.99462,     0.99462,     0.99462,     0.99462,     0.99462,     0.99462,     0.99462,     0.99462,     0.99462,     0.99462,     0.99462,     0.99462,\n",
      "            0.99462,     0.99462,     0.99462,     0.99462,     0.99462,     0.99462,     0.99462,     0.99462,     0.99462,     0.99462,     0.99462,     0.99462,     0.99462,     0.99462,     0.99462,     0.99462,     0.99462,     0.99462,     0.99462,     0.99462,     0.99462,     0.99462,     0.99462,\n",
      "            0.99462,     0.99462,     0.99462,     0.99462,     0.99462,     0.99462,     0.99462,     0.99462,     0.99462,     0.99462,     0.99462,     0.99462,     0.99462,     0.99462,     0.99462,     0.99462,     0.99462,     0.99462,     0.99462,     0.99462,     0.99462,     0.99462,     0.99462,\n",
      "            0.99462,     0.99462,     0.99462,     0.99462,     0.99462,     0.99462,     0.99462,     0.99462,     0.99462,     0.99462,     0.99462,     0.99462,     0.99462,     0.99462,     0.99462,     0.99462,     0.99462,     0.99462,     0.99462,     0.99462,     0.99462,     0.99462,     0.99462,\n",
      "            0.99462,     0.99462,     0.99462,     0.99462,     0.99461,     0.99457,     0.99453,     0.99448,     0.99444,      0.9944,     0.99436,     0.99432,     0.99427,     0.99423,     0.99419,     0.99415,      0.9941,     0.99406,     0.99402,     0.99398,     0.99393,     0.99389,     0.99385,\n",
      "            0.99381,     0.99376,     0.99372,     0.99368,     0.99364,      0.9936,     0.99355,     0.99351,     0.99347,     0.99343,     0.99338,     0.99334,      0.9933,     0.99326,     0.99321,     0.99317,     0.99313,     0.99309,     0.99305,       0.993,     0.99296,     0.99292,     0.99288,\n",
      "            0.99283,     0.99279,     0.99275,     0.99271,     0.99266,     0.99262,     0.99258,     0.99254,     0.99249,     0.99245,     0.99241,     0.99237,     0.99233,     0.99228,     0.99224,      0.9922,     0.99216,     0.99211,     0.99207,     0.99203,     0.99199,     0.99194,      0.9919,\n",
      "            0.99186,     0.99182,     0.99177,     0.99173,     0.99169,     0.99165,     0.99161,     0.99156,     0.99152,     0.99148,     0.99144,     0.99139,     0.99135,     0.99131,     0.99127,     0.99122,     0.99118,     0.99114,      0.9911,     0.99106,     0.99101,     0.99097,     0.99093,\n",
      "            0.99089,     0.99084,      0.9908,     0.99076,     0.99072,     0.99067,     0.99063,     0.99059,     0.99055,      0.9905,     0.99046,     0.99042,     0.99038,     0.99034,     0.99029,     0.99025,     0.99021,     0.99017,     0.99012,     0.99008,     0.99004,        0.99,     0.98995,\n",
      "            0.98991,     0.98987,     0.98983,     0.98978,     0.98974,      0.9897,     0.98966,     0.98962,     0.98957,     0.98953,     0.98949,     0.98945,      0.9894,     0.98936,     0.98932,     0.98928,     0.98924,     0.98921,     0.98918,     0.98915,     0.98912,     0.98909,     0.98906,\n",
      "            0.98903,       0.989,     0.98897,     0.98894,     0.98891,     0.98888,     0.98885,     0.98882,     0.98879,     0.98876,     0.98873,      0.9887,     0.98867,     0.98864,     0.98861,     0.98859,     0.98856,     0.98853,      0.9885,     0.98847,     0.98844,     0.98841,     0.98838,\n",
      "            0.98835,     0.98832,     0.98829,     0.98826,     0.98823,      0.9882,     0.98817,     0.98814,     0.98811,     0.98808,     0.98805,     0.98802,     0.98799,     0.98796,     0.98793,      0.9879,     0.98787,     0.98784,     0.98781,     0.98778,     0.98775,     0.98772,     0.98769,\n",
      "            0.98766,     0.98763,     0.98761,     0.98758,     0.98755,     0.98752,     0.98749,     0.98746,     0.98743,      0.9874,     0.98737,     0.98734,     0.98731,     0.98728,     0.98725,     0.98722,     0.98719,     0.98716,     0.98713,      0.9871,     0.98707,     0.98704,     0.98701,\n",
      "            0.98698,     0.98695,     0.98692,     0.98689,     0.98686,     0.98683,      0.9868,     0.98677,     0.98674,     0.98671,     0.98668,     0.98666,     0.98663,      0.9866,     0.98657,     0.98654,     0.98651,     0.98648,     0.98645,     0.98642,     0.98639,     0.98636,     0.98633,\n",
      "             0.9863,     0.98627,     0.98624,     0.98621,     0.98618,     0.98615,     0.98612,     0.98609,     0.98606,     0.98603,       0.986,     0.98597,     0.98594,     0.98591,     0.98588,     0.98585,     0.98582,     0.98579,     0.98576,     0.98573,     0.98571,     0.98568,     0.98565,\n",
      "            0.98562,     0.98559,     0.98556,     0.98553,      0.9855,     0.98547,     0.98544,     0.98541,     0.98538,     0.98535,     0.98532,     0.98529,     0.98526,     0.98523,      0.9852,     0.98517,     0.98514,     0.98511,     0.98508,     0.98505,     0.98502,     0.98499,     0.98496,\n",
      "            0.98493,      0.9849,     0.98487,     0.98484,     0.98481,     0.98478,     0.98476,     0.98473,      0.9847,     0.98467,     0.98464,     0.98461,     0.98458,     0.98455,     0.98452,     0.98449,     0.98446,     0.98443,      0.9844,     0.98437,     0.98434,     0.98431,     0.98428,\n",
      "            0.98425,     0.98422,     0.98419,     0.98416,     0.98413,      0.9841,     0.98407,     0.98404,     0.98401,     0.98398,     0.98395,     0.98392,     0.98389,     0.98387,     0.98387,     0.98387,     0.98387,     0.98387,     0.98387,     0.98387,     0.98387,     0.98387,     0.98387,\n",
      "            0.98387,     0.98387,     0.98387,     0.98387,     0.98387,     0.98387,     0.98387,     0.98387,     0.98387,     0.98387,     0.98387,     0.98387,     0.98387,     0.98387,     0.98387,     0.98387,     0.98387,     0.98387,     0.98387,     0.98387,     0.98387,     0.98387,     0.98387,\n",
      "            0.98387,     0.98387,     0.98387,     0.98387,     0.98387,     0.98387,     0.98387,     0.98387,      0.9838,     0.98365,     0.98349,     0.98334,     0.98319,     0.98303,     0.98288,     0.98273,     0.98257,     0.98242,     0.98226,     0.98211,     0.98196,      0.9818,     0.98165,\n",
      "             0.9815,     0.98134,     0.98119,     0.98103,     0.98088,     0.98073,     0.98057,     0.98042,     0.98027,     0.98011,     0.97996,      0.9798,     0.97965,      0.9795,     0.97934,     0.97919,     0.97904,     0.97888,     0.97873,     0.97857,     0.97841,     0.97825,     0.97808,\n",
      "            0.97792,     0.97775,     0.97758,     0.97742,     0.97725,     0.97708,     0.97692,     0.97675,     0.97658,     0.97642,     0.97625,     0.97608,     0.97592,     0.97575,     0.97559,     0.97542,     0.97525,     0.97509,     0.97492,     0.97475,     0.97459,     0.97442,     0.97425,\n",
      "            0.97409,     0.97392,     0.97375,     0.97359,     0.97342,     0.97326,     0.97309,     0.97291,     0.97273,     0.97256,     0.97238,     0.97221,     0.97203,     0.97185,     0.97168,      0.9715,     0.97132,     0.97115,     0.97097,      0.9708,     0.97062,     0.97044,     0.97027,\n",
      "            0.97009,     0.96991,     0.96974,     0.96956,     0.96938,     0.96921,     0.96903,     0.96886,     0.96868,      0.9685,     0.96833,     0.96815,     0.96797,      0.9678,     0.96764,     0.96749,     0.96734,     0.96719,     0.96704,     0.96689,     0.96674,     0.96659,     0.96644,\n",
      "            0.96629,     0.96613,     0.96598,     0.96583,     0.96568,     0.96553,     0.96538,     0.96523,     0.96508,     0.96493,     0.96478,     0.96463,     0.96448,     0.96433,     0.96418,     0.96403,     0.96388,     0.96373,     0.96358,     0.96343,     0.96328,     0.96313,     0.96298,\n",
      "            0.96283,     0.96268,     0.96253,     0.96238,     0.96206,     0.96174,     0.96141,     0.96109,     0.96076,     0.96043,     0.96011,     0.95978,     0.95946,     0.95913,     0.95881,     0.95848,     0.95816,     0.95783,     0.95751,     0.95718,     0.95699,     0.95699,     0.95699,\n",
      "            0.95699,     0.95668,      0.9563,     0.95592,     0.95553,     0.95515,     0.95477,     0.95439,     0.95401,     0.95363,     0.95324,     0.95286,     0.95248,      0.9521,     0.95172,     0.94771,      0.9459,     0.94544,     0.94498,     0.94452,     0.94406,      0.9436,     0.94314,\n",
      "            0.94268,     0.94222,     0.94176,      0.9413,     0.94078,     0.93863,     0.93647,     0.93155,      0.9295,     0.92875,       0.928,     0.92724,     0.92649,     0.92573,     0.92498,     0.92417,     0.92333,     0.92249,     0.92164,      0.9208,     0.91996,     0.91935,     0.91935,\n",
      "            0.91935,     0.91935,     0.91935,     0.91935,     0.91869,     0.91743,     0.91618,     0.91492,     0.91277,      0.9085,      0.9077,      0.9069,      0.9061,      0.9053,      0.9045,      0.9037,     0.90222,     0.89976,     0.89773,     0.89718,     0.89663,     0.89608,     0.89553,\n",
      "            0.89498,     0.89444,     0.89389,     0.89334,     0.89279,     0.89226,     0.89174,     0.89123,     0.89072,      0.8902,     0.88969,     0.88917,     0.88866,     0.88814,     0.88763,     0.88711,     0.88616,      0.8852,     0.88423,     0.88327,     0.88231,     0.88126,      0.8801,\n",
      "            0.87894,     0.87778,     0.87661,      0.8698,     0.86816,     0.86651,     0.86539,     0.86494,     0.86448,     0.86403,     0.86357,     0.86312,     0.86266,     0.86221,     0.86175,      0.8613,     0.86084,     0.86039,     0.85483,     0.85434,     0.85385,     0.85337,     0.85288,\n",
      "            0.85239,      0.8519,     0.85141,     0.85092,     0.85043,     0.84994,     0.84939,     0.84593,     0.84409,     0.84395,     0.84174,     0.83953,     0.83636,     0.83333,     0.83333,     0.83331,     0.83074,     0.82817,     0.82185,     0.81412,     0.80909,     0.80572,     0.80337,\n",
      "              0.801,     0.79753,     0.79507,     0.79373,     0.79239,     0.79106,      0.7862,      0.7833,     0.78139,     0.77957,     0.77635,     0.77339,     0.77192,     0.77045,     0.76899,     0.76736,     0.76571,     0.76405,     0.75987,     0.75092,     0.74815,     0.74359,     0.74103,\n",
      "            0.73971,      0.7384,     0.73709,     0.73356,     0.72546,     0.71828,     0.71477,     0.71359,     0.71242,     0.71125,     0.71008,     0.70968,     0.70968,     0.70723,     0.69761,     0.69608,     0.69455,     0.69221,     0.68833,     0.67139,     0.66473,     0.66016,        0.65,\n",
      "             0.6466,     0.63397,     0.63099,     0.62528,     0.61828,     0.61278,     0.61144,     0.61011,     0.60878,     0.60679,     0.60215,     0.60093,     0.59804,     0.59068,     0.58674,     0.58283,     0.58065,     0.58065,     0.57853,     0.57527,     0.54602,     0.53763,     0.52921,\n",
      "            0.50726,     0.50002,     0.49664,     0.48797,     0.48423,     0.47769,     0.47287,     0.46342,     0.45397,     0.44851,     0.43968,     0.42467,     0.41546,     0.40088,     0.37618,     0.37289,     0.36835,      0.3607,     0.34663,     0.33928,     0.32889,     0.32129,     0.31926,\n",
      "            0.31723,     0.30391,     0.28764,     0.27844,     0.27332,     0.26897,     0.25352,     0.23531,     0.22446,     0.21382,     0.20714,     0.20015,     0.19065,     0.17941,     0.16891,     0.15496,     0.14968,     0.14036,     0.12269,     0.11886,     0.10838,    0.099645,     0.09499,\n",
      "           0.085688,     0.07465,    0.057926,    0.053656,    0.052149,    0.050641,    0.049134,    0.044302,    0.041457,    0.039608,    0.037759,    0.027361,    0.015957,    0.015345,    0.014734,    0.014122,     0.01351,    0.012899,    0.012287,    0.011675,    0.011063,   0.0097489,   0.0077096,\n",
      "          0.0056703,           0,           0,           0,           0,           0,           0,           0,           0,           0,           0,           0,           0,           0,           0,           0,           0,           0,           0,           0,           0,           0,           0,\n",
      "                  0,           0,           0,           0,           0,           0,           0,           0,           0,           0,           0,           0,           0,           0,           0,           0,           0,           0,           0,           0,           0,           0,           0,\n",
      "                  0,           0,           0,           0,           0,           0,           0,           0,           0,           0,           0]]), 'Confidence', 'Recall']]\n",
      "fitness: np.float64(0.8290121183720207)\n",
      "keys: ['metrics/precision(B)', 'metrics/recall(B)', 'metrics/mAP50(B)', 'metrics/mAP50-95(B)']\n",
      "maps: array([    0.81332])\n",
      "names: {0: 'butterfly'}\n",
      "plot: True\n",
      "results_dict: {'metrics/precision(B)': np.float64(0.9249932273075362), 'metrics/recall(B)': np.float64(0.9945270418781136), 'metrics/mAP50(B)': np.float64(0.9702520405988403), 'metrics/mAP50-95(B)': np.float64(0.8133187936801519), 'fitness': np.float64(0.8290121183720207)}\n",
      "save_dir: WindowsPath('runs/detect/val3')\n",
      "speed: {'preprocess': 1.1715095000181464, 'inference': 11.106414500009123, 'loss': 0.000730500005374779, 'postprocess': 0.9878035000019736}\n",
      "task: 'detect'\n"
     ]
    }
   ],
   "source": [
    "model = YOLO(\"D:/TFM/Codigo/runs/detect/train/weights/best.pt\") \n",
    "print(model.names)\n",
    "\n",
    "metrics = model.val(data=\"modificado/data.yaml\")\n",
    "print(metrics)"
   ]
  },
  {
   "cell_type": "markdown",
   "metadata": {},
   "source": [
    "## Prueba\n",
    "\n",
    "Ahora cargamos el modelo que se ha creado con el *fine-tunning* hecho y probamos con una imagen a ver si devuelve la imagen con el cuadrado alrededor"
   ]
  },
  {
   "cell_type": "code",
   "execution_count": 4,
   "metadata": {},
   "outputs": [
    {
     "name": "stdout",
     "output_type": "stream",
     "text": [
      "\n",
      "image 1/1 d:\\TFM\\Codigo\\mariposa.jpg: 480x640 1 butterfly, 88.1ms\n",
      "Speed: 112.1ms preprocess, 88.1ms inference, 940.8ms postprocess per image at shape (1, 3, 480, 640)\n"
     ]
    }
   ],
   "source": [
    "# Cargar el modelo entrenado\n",
    "model = YOLO(\"D:/TFM/Codigo/butterfly_detection/yolov8_butterfly/weights/best.pt\")  # Reemplaza con la ruta al archivo de pesos guardado\n",
    "\n",
    "# Probar el modelo con una imagen de prueba\n",
    "resultados = model.predict(\"mariposa.jpg\", conf=0.7)  # Reemplaza con la ruta a tu imagen de prueba\n",
    "\n",
    "# Mostrar los resultados\n",
    "for resultado in resultados:\n",
    "    resultado.show()"
   ]
  },
  {
   "cell_type": "markdown",
   "metadata": {},
   "source": [
    "## Exportación del modelo\n",
    "\n",
    "Ahora tenemos que exportar el modelo desde `.pt` -> `.onnx` -> `.tflite`, ya que el modelo en la API va bien con `.pt` pero para el movil es mucho mas optimo utilizar `.tflite`."
   ]
  },
  {
   "cell_type": "code",
   "execution_count": null,
   "metadata": {},
   "outputs": [
    {
     "name": "stdout",
     "output_type": "stream",
     "text": [
      "Ultralytics 8.3.76  Python-3.11.0 torch-2.6.0+cu118 CPU (Intel Core(TM) i7-7700 3.60GHz)\n",
      "\n",
      "\u001b[34m\u001b[1mPyTorch:\u001b[0m starting from 'D:\\TFM\\Codigo\\butterfly_detection\\yolov8_butterfly\\weights\\best.pt' with input shape (1, 3, 640, 640) BCHW and output shape(s) (1, 5, 8400) (6.0 MB)\n",
      "\u001b[31m\u001b[1mrequirements:\u001b[0m Ultralytics requirements ['onnx>=1.12.0', 'onnxslim', 'onnxruntime-gpu'] not found, attempting AutoUpdate...\n",
      "Retry 1/2 failed: Command 'pip install --no-cache-dir \"onnx>=1.12.0\" \"onnxslim\" \"onnxruntime-gpu\" ' returned non-zero exit status 1.\n",
      "Retry 2/2 failed: Command 'pip install --no-cache-dir \"onnx>=1.12.0\" \"onnxslim\" \"onnxruntime-gpu\" ' returned non-zero exit status 1.\n",
      "\u001b[31m\u001b[1mrequirements:\u001b[0m  Command 'pip install --no-cache-dir \"onnx>=1.12.0\" \"onnxslim\" \"onnxruntime-gpu\" ' returned non-zero exit status 1.\n",
      "\u001b[34m\u001b[1mONNX:\u001b[0m export failure  2.1s: No module named 'onnx'\n",
      "Ocurrió un error durante la exportación del modelo:\n",
      "No module named 'onnx'\n"
     ]
    }
   ],
   "source": [
    "try:\n",
    "    model.export(format=\"onnx\", half=False, dynamic=False)\n",
    "    print(\"Exportación a ONNX completada. El archivo exportado estará optimizado para inferencia en CPU.\")\n",
    "except Exception as e:\n",
    "    print(\"Ocurrió un error durante la exportación del modelo:\")\n",
    "    print(e)"
   ]
  }
 ],
 "metadata": {
  "kernelspec": {
   "display_name": "env_yolo",
   "language": "python",
   "name": "python3"
  },
  "language_info": {
   "codemirror_mode": {
    "name": "ipython",
    "version": 3
   },
   "file_extension": ".py",
   "mimetype": "text/x-python",
   "name": "python",
   "nbconvert_exporter": "python",
   "pygments_lexer": "ipython3",
   "version": "3.9.0"
  }
 },
 "nbformat": 4,
 "nbformat_minor": 2
}
